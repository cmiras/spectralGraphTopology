{
 "cells": [
  {
   "cell_type": "code",
   "execution_count": 2,
   "id": "bc76352b",
   "metadata": {},
   "outputs": [],
   "source": [
    "from learnGraphTopology import *\n",
    "import numpy as np"
   ]
  },
  {
   "cell_type": "code",
   "execution_count": null,
   "id": "fbab5cc6",
   "metadata": {},
   "outputs": [],
   "source": [
    "l=np.ones(2,2)\n",
    "learn_k_component_graph(l)"
   ]
  }
 ],
 "metadata": {
  "kernelspec": {
   "display_name": "Python 3 (ipykernel)",
   "language": "python",
   "name": "python3"
  },
  "language_info": {
   "codemirror_mode": {
    "name": "ipython",
    "version": 3
   },
   "file_extension": ".py",
   "mimetype": "text/x-python",
   "name": "python",
   "nbconvert_exporter": "python",
   "pygments_lexer": "ipython3",
   "version": "3.9.7"
  }
 },
 "nbformat": 4,
 "nbformat_minor": 5
}
