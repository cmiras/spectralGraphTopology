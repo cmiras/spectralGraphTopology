{
 "cells": [
  {
   "cell_type": "markdown",
   "id": "e46380b4",
   "metadata": {},
   "source": [
    "# ML for Time Series\n",
    "\n",
    "## A Unified Framework for Structured Graph Learning via Spectral Constraints\n",
    "\n",
    "Baptiste Collet - Cyril Miras\n",
    "\n",
    "## Experiments"
   ]
  },
  {
   "cell_type": "markdown",
   "id": "49252c5d",
   "metadata": {},
   "source": [
    "### Setup"
   ]
  },
  {
   "cell_type": "code",
   "execution_count": 1,
   "id": "b6284b40",
   "metadata": {},
   "outputs": [],
   "source": [
    "import numpy as np\n",
    "import pandas as pd\n",
    "import matplotlib.pyplot as plt\n",
    "import sklearn.datasets as skd\n",
    "import sklearn.metrics as skm\n",
    "from learnGraphTopology import *"
   ]
  },
  {
   "cell_type": "code",
   "execution_count": 2,
   "id": "64833613",
   "metadata": {},
   "outputs": [],
   "source": [
    "def A_to_L(A):\n",
    "    D=np.diag(np.sum(A,axis=0))\n",
    "    return D-A"
   ]
  },
  {
   "cell_type": "markdown",
   "id": "d7cddf5e",
   "metadata": {},
   "source": [
    "## Denoising a multi-component graph"
   ]
  },
  {
   "cell_type": "markdown",
   "id": "f217c5c6",
   "metadata": {},
   "source": [
    "First, we use the spectralGraphTopology to denoise laplacian matrices polluted with noise. We generate a 4 components adjacency matrix."
   ]
  },
  {
   "cell_type": "code",
   "execution_count": 3,
   "id": "068bdccf",
   "metadata": {},
   "outputs": [],
   "source": [
    "n_class_feats = 5\n",
    "n_classes = 4\n",
    "n_feats = n_classes * n_class_feats\n",
    "prob_intra = 1\n",
    "prob_extra = 0.3\n",
    "max_weight_intra = 1\n",
    "max_weight_extra = 0.3"
   ]
  },
  {
   "cell_type": "code",
   "execution_count": 4,
   "id": "ea6cf134",
   "metadata": {},
   "outputs": [
    {
     "data": {
      "image/png": "[encoded data removed]",
      "text/plain": [
       "<Figure size 288x288 with 1 Axes>"
      ]
     },
     "metadata": {
      "needs_background": "light"
     },
     "output_type": "display_data"
    }
   ],
   "source": [
    "adj = np.zeros((n_feats, n_feats))\n",
    "for i in range(n_classes):\n",
    "    i_start = i * n_class_feats\n",
    "    i_end = i_start + n_class_feats\n",
    "    for ii in range(i_start, i_end):\n",
    "        for jj in range(ii+1, i_end):\n",
    "            adj[ii, jj] = np.random.binomial(n=1, p=prob_intra) * np.random.uniform(high=max_weight_intra)\n",
    "plt.matshow(adj+adj.T)\n",
    "plt.title(\"Original matrix\")\n",
    "plt.show()"
   ]
  },
  {
   "cell_type": "markdown",
   "id": "4410af3c",
   "metadata": {},
   "source": [
    "We add noise to the matrix"
   ]
  },
  {
   "cell_type": "code",
   "execution_count": 5,
   "id": "79bfce60",
   "metadata": {},
   "outputs": [
    {
     "data": {
      "image/png": "[encoded data removed]",
      "text/plain": [
       "<Figure size 288x288 with 1 Axes>"
      ]
     },
     "metadata": {
      "needs_background": "light"
     },
     "output_type": "display_data"
    }
   ],
   "source": [
    "for i in range(n_feats):\n",
    "    for j in range(i+1, n_feats):\n",
    "        adj[i, j] += np.random.binomial(n=1, p=prob_extra) * np.random.uniform(high=max_weight_extra)\n",
    "adj = adj + adj.T\n",
    "plt.matshow(adj)\n",
    "plt.title(\"Noisy matrix\")\n",
    "plt.show()"
   ]
  },
  {
   "cell_type": "markdown",
   "id": "70ea5466",
   "metadata": {},
   "source": [
    "We generate the data according to the noisy laplacian and learn a denoise laplacian corresponding to a 4 components matrix"
   ]
  },
  {
   "cell_type": "code",
   "execution_count": 6,
   "id": "79741356",
   "metadata": {},
   "outputs": [],
   "source": [
    "n_samples = 100 * n_feats\n",
    "# compute the laplacian and correlation matrices\n",
    "lap = np.diag(adj.sum(axis=0)) - adj\n",
    "theta = np.linalg.pinv(lap)\n",
    "# generate samples\n",
    "x = np.random.multivariate_normal(np.zeros(n_feats), theta, size=n_samples).T"
   ]
  },
  {
   "cell_type": "code",
   "execution_count": 7,
   "id": "236c06d2",
   "metadata": {},
   "outputs": [
    {
     "name": "stderr",
     "output_type": "stream",
     "text": [
      "  1%|█▋                                                                                                                                                               | 105/10000 [00:00<00:33, 298.73it/s]"
     ]
    },
    {
     "name": "stdout",
     "output_type": "stream",
     "text": [
      "The optimization converged!\n"
     ]
    },
    {
     "name": "stderr",
     "output_type": "stream",
     "text": [
      "\n"
     ]
    }
   ],
   "source": [
    "# learn the laplacian and adjacency matrices\n",
    "res_denoising = learn_k_component_graph(x, k=4, maxiter=10000)\n",
    "if res_denoising['convergence']: print(\"The optimization converged!\")"
   ]
  },
  {
   "cell_type": "code",
   "execution_count": 8,
   "id": "d5f394a8",
   "metadata": {},
   "outputs": [
    {
     "data": {
      "image/png": "[encoded data removed]",
      "text/plain": [
       "<Figure size 288x288 with 1 Axes>"
      ]
     },
     "metadata": {
      "needs_background": "light"
     },
     "output_type": "display_data"
    },
    {
     "name": "stdout",
     "output_type": "stream",
     "text": [
      "relative error:  0.6511894671427373\n",
      "naive relative error:  0.09260376587545334\n"
     ]
    }
   ],
   "source": [
    "plt.matshow(res_denoising[\"Adjacency\"])\n",
    "plt.title(\"recovered adjacency matrix\")\n",
    "plt.show()\n",
    "print('relative error: ', np.linalg.norm(res_denoising[\"Laplacian\"] - lap)/np.linalg.norm(lap))\n",
    "print('naive relative error: ', np.linalg.norm(np.linalg.pinv(np.cov(x)) - lap)/np.linalg.norm(lap))"
   ]
  },
  {
   "cell_type": "markdown",
   "id": "c8f67412",
   "metadata": {},
   "source": [
    "We show the computed laplacian: the components are well retrieved, but the coefficients have been modified during the process."
   ]
  },
  {
   "cell_type": "markdown",
   "id": "eb8f4cca",
   "metadata": {},
   "source": [
    "# Denoising a bipartite graph"
   ]
  },
  {
   "cell_type": "markdown",
   "id": "ba032741",
   "metadata": {},
   "source": [
    "Now, we test it on a bipartite graph structure."
   ]
  },
  {
   "cell_type": "code",
   "execution_count": 9,
   "id": "e006d1f8",
   "metadata": {},
   "outputs": [
    {
     "data": {
      "image/png": "[encoded data removed]",
      "text/plain": [
       "<Figure size 288x288 with 1 Axes>"
      ]
     },
     "metadata": {
      "needs_background": "light"
     },
     "output_type": "display_data"
    },
    {
     "data": {
      "text/plain": [
       "Text(0.5, 1.0, 'noisy')"
      ]
     },
     "execution_count": 9,
     "metadata": {},
     "output_type": "execute_result"
    },
    {
     "data": {
      "image/png": "[encoded data removed]",
      "text/plain": [
       "<Figure size 288x288 with 1 Axes>"
      ]
     },
     "metadata": {
      "needs_background": "light"
     },
     "output_type": "display_data"
    }
   ],
   "source": [
    "halfnodes=20\n",
    "nodes=2*halfnodes\n",
    "A = np.zeros([halfnodes*2,halfnodes*2])\n",
    "\n",
    "A[halfnodes:,:halfnodes] = 1\n",
    "plt.matshow(A+A.T)\n",
    "plt.title(\"original\")\n",
    "plt.show()\n",
    "A+=np.random.rand(nodes,nodes)*0.1\n",
    "for k in range(nodes):\n",
    "    A[k][k]=0\n",
    "A+=A.T\n",
    "L=A_to_L(A)\n",
    "plt.matshow(A)\n",
    "plt.title(\"noisy\")"
   ]
  },
  {
   "cell_type": "code",
   "execution_count": 10,
   "id": "ce6373dc",
   "metadata": {},
   "outputs": [
    {
     "name": "stderr",
     "output_type": "stream",
     "text": [
      "  0%|                                                                                                                                                                    | 1/10000 [00:00<24:31,  6.80it/s]/home/bcollet/Documents/spectralGraphTopology/ObjectiveFunction.py:18: RuntimeWarning: invalid value encountered in log\n",
      "  return np.sum(-np.log(np.linalg.eigh(Lw+J)[0]+eps)+np.diagonal(K@Lw))\n",
      "/home/bcollet/Documents/spectralGraphTopology/ObjectiveFunction.py:18: RuntimeWarning: invalid value encountered in log\n",
      "  return np.sum(-np.log(np.linalg.eigh(Lw+J)[0]+eps)+np.diagonal(K@Lw))\n",
      "/home/bcollet/Documents/spectralGraphTopology/ObjectiveFunction.py:18: RuntimeWarning: invalid value encountered in log\n",
      "  return np.sum(-np.log(np.linalg.eigh(Lw+J)[0]+eps)+np.diagonal(K@Lw))\n",
      "/home/bcollet/Documents/spectralGraphTopology/ObjectiveFunction.py:18: RuntimeWarning: invalid value encountered in log\n",
      "  return np.sum(-np.log(np.linalg.eigh(Lw+J)[0]+eps)+np.diagonal(K@Lw))\n",
      "/home/bcollet/Documents/spectralGraphTopology/ObjectiveFunction.py:18: RuntimeWarning: invalid value encountered in log\n",
      "  return np.sum(-np.log(np.linalg.eigh(Lw+J)[0]+eps)+np.diagonal(K@Lw))\n",
      "/home/bcollet/Documents/spectralGraphTopology/ObjectiveFunction.py:18: RuntimeWarning: divide by zero encountered in log\n",
      "  return np.sum(-np.log(np.linalg.eigh(Lw+J)[0]+eps)+np.diagonal(K@Lw))\n",
      "/home/bcollet/Documents/spectralGraphTopology/ObjectiveFunction.py:18: RuntimeWarning: invalid value encountered in log\n",
      "  return np.sum(-np.log(np.linalg.eigh(Lw+J)[0]+eps)+np.diagonal(K@Lw))\n",
      "/home/bcollet/Documents/spectralGraphTopology/ObjectiveFunction.py:18: RuntimeWarning: invalid value encountered in log\n",
      "  return np.sum(-np.log(np.linalg.eigh(Lw+J)[0]+eps)+np.diagonal(K@Lw))\n",
      "/home/bcollet/Documents/spectralGraphTopology/ObjectiveFunction.py:18: RuntimeWarning: invalid value encountered in log\n",
      "  return np.sum(-np.log(np.linalg.eigh(Lw+J)[0]+eps)+np.diagonal(K@Lw))\n",
      "/home/bcollet/Documents/spectralGraphTopology/ObjectiveFunction.py:18: RuntimeWarning: invalid value encountered in log\n",
      "  return np.sum(-np.log(np.linalg.eigh(Lw+J)[0]+eps)+np.diagonal(K@Lw))\n",
      "/home/bcollet/Documents/spectralGraphTopology/ObjectiveFunction.py:18: RuntimeWarning: invalid value encountered in log\n",
      "  return np.sum(-np.log(np.linalg.eigh(Lw+J)[0]+eps)+np.diagonal(K@Lw))\n",
      "/home/bcollet/Documents/spectralGraphTopology/ObjectiveFunction.py:18: RuntimeWarning: invalid value encountered in log\n",
      "  return np.sum(-np.log(np.linalg.eigh(Lw+J)[0]+eps)+np.diagonal(K@Lw))\n",
      "/home/bcollet/Documents/spectralGraphTopology/ObjectiveFunction.py:18: RuntimeWarning: invalid value encountered in log\n",
      "  return np.sum(-np.log(np.linalg.eigh(Lw+J)[0]+eps)+np.diagonal(K@Lw))\n",
      "/home/bcollet/Documents/spectralGraphTopology/ObjectiveFunction.py:18: RuntimeWarning: invalid value encountered in log\n",
      "  return np.sum(-np.log(np.linalg.eigh(Lw+J)[0]+eps)+np.diagonal(K@Lw))\n",
      "/home/bcollet/Documents/spectralGraphTopology/ObjectiveFunction.py:18: RuntimeWarning: divide by zero encountered in log\n",
      "  return np.sum(-np.log(np.linalg.eigh(Lw+J)[0]+eps)+np.diagonal(K@Lw))\n",
      "/home/bcollet/Documents/spectralGraphTopology/ObjectiveFunction.py:18: RuntimeWarning: invalid value encountered in log\n",
      "  return np.sum(-np.log(np.linalg.eigh(Lw+J)[0]+eps)+np.diagonal(K@Lw))\n",
      "/home/bcollet/Documents/spectralGraphTopology/ObjectiveFunction.py:18: RuntimeWarning: invalid value encountered in log\n",
      "  return np.sum(-np.log(np.linalg.eigh(Lw+J)[0]+eps)+np.diagonal(K@Lw))\n",
      "/home/bcollet/Documents/spectralGraphTopology/ObjectiveFunction.py:18: RuntimeWarning: invalid value encountered in log\n",
      "  return np.sum(-np.log(np.linalg.eigh(Lw+J)[0]+eps)+np.diagonal(K@Lw))\n",
      "/home/bcollet/Documents/spectralGraphTopology/ObjectiveFunction.py:18: RuntimeWarning: invalid value encountered in log\n",
      "  return np.sum(-np.log(np.linalg.eigh(Lw+J)[0]+eps)+np.diagonal(K@Lw))\n",
      "/home/bcollet/Documents/spectralGraphTopology/ObjectiveFunction.py:18: RuntimeWarning: invalid value encountered in log\n",
      "  return np.sum(-np.log(np.linalg.eigh(Lw+J)[0]+eps)+np.diagonal(K@Lw))\n",
      "/home/bcollet/Documents/spectralGraphTopology/ObjectiveFunction.py:18: RuntimeWarning: invalid value encountered in log\n",
      "  return np.sum(-np.log(np.linalg.eigh(Lw+J)[0]+eps)+np.diagonal(K@Lw))\n",
      "/home/bcollet/Documents/spectralGraphTopology/ObjectiveFunction.py:18: RuntimeWarning: invalid value encountered in log\n",
      "  return np.sum(-np.log(np.linalg.eigh(Lw+J)[0]+eps)+np.diagonal(K@Lw))\n",
      "/home/bcollet/Documents/spectralGraphTopology/ObjectiveFunction.py:18: RuntimeWarning: divide by zero encountered in log\n",
      "  return np.sum(-np.log(np.linalg.eigh(Lw+J)[0]+eps)+np.diagonal(K@Lw))\n",
      "/home/bcollet/Documents/spectralGraphTopology/ObjectiveFunction.py:18: RuntimeWarning: invalid value encountered in log\n",
      "  return np.sum(-np.log(np.linalg.eigh(Lw+J)[0]+eps)+np.diagonal(K@Lw))\n",
      "/home/bcollet/Documents/spectralGraphTopology/ObjectiveFunction.py:18: RuntimeWarning: invalid value encountered in log\n",
      "  return np.sum(-np.log(np.linalg.eigh(Lw+J)[0]+eps)+np.diagonal(K@Lw))\n",
      "/home/bcollet/Documents/spectralGraphTopology/ObjectiveFunction.py:18: RuntimeWarning: invalid value encountered in log\n",
      "  return np.sum(-np.log(np.linalg.eigh(Lw+J)[0]+eps)+np.diagonal(K@Lw))\n",
      "/home/bcollet/Documents/spectralGraphTopology/ObjectiveFunction.py:18: RuntimeWarning: invalid value encountered in log\n",
      "  return np.sum(-np.log(np.linalg.eigh(Lw+J)[0]+eps)+np.diagonal(K@Lw))\n",
      "/home/bcollet/Documents/spectralGraphTopology/ObjectiveFunction.py:18: RuntimeWarning: invalid value encountered in log\n",
      "  return np.sum(-np.log(np.linalg.eigh(Lw+J)[0]+eps)+np.diagonal(K@Lw))\n",
      "/home/bcollet/Documents/spectralGraphTopology/ObjectiveFunction.py:18: RuntimeWarning: invalid value encountered in log\n",
      "  return np.sum(-np.log(np.linalg.eigh(Lw+J)[0]+eps)+np.diagonal(K@Lw))\n",
      "/home/bcollet/Documents/spectralGraphTopology/ObjectiveFunction.py:18: RuntimeWarning: invalid value encountered in log\n",
      "  return np.sum(-np.log(np.linalg.eigh(Lw+J)[0]+eps)+np.diagonal(K@Lw))\n",
      "/home/bcollet/Documents/spectralGraphTopology/ObjectiveFunction.py:18: RuntimeWarning: invalid value encountered in log\n",
      "  return np.sum(-np.log(np.linalg.eigh(Lw+J)[0]+eps)+np.diagonal(K@Lw))\n",
      "/home/bcollet/Documents/spectralGraphTopology/ObjectiveFunction.py:18: RuntimeWarning: invalid value encountered in log\n",
      "  return np.sum(-np.log(np.linalg.eigh(Lw+J)[0]+eps)+np.diagonal(K@Lw))\n",
      "/home/bcollet/Documents/spectralGraphTopology/ObjectiveFunction.py:18: RuntimeWarning: invalid value encountered in log\n",
      "  return np.sum(-np.log(np.linalg.eigh(Lw+J)[0]+eps)+np.diagonal(K@Lw))\n",
      "/home/bcollet/Documents/spectralGraphTopology/ObjectiveFunction.py:18: RuntimeWarning: invalid value encountered in log\n",
      "  return np.sum(-np.log(np.linalg.eigh(Lw+J)[0]+eps)+np.diagonal(K@Lw))\n",
      "/home/bcollet/Documents/spectralGraphTopology/ObjectiveFunction.py:18: RuntimeWarning: invalid value encountered in log\n",
      "  return np.sum(-np.log(np.linalg.eigh(Lw+J)[0]+eps)+np.diagonal(K@Lw))\n",
      "/home/bcollet/Documents/spectralGraphTopology/ObjectiveFunction.py:18: RuntimeWarning: invalid value encountered in log\n",
      "  return np.sum(-np.log(np.linalg.eigh(Lw+J)[0]+eps)+np.diagonal(K@Lw))\n",
      "/home/bcollet/Documents/spectralGraphTopology/ObjectiveFunction.py:18: RuntimeWarning: invalid value encountered in log\n",
      "  return np.sum(-np.log(np.linalg.eigh(Lw+J)[0]+eps)+np.diagonal(K@Lw))\n",
      "/home/bcollet/Documents/spectralGraphTopology/ObjectiveFunction.py:18: RuntimeWarning: invalid value encountered in log\n",
      "  return np.sum(-np.log(np.linalg.eigh(Lw+J)[0]+eps)+np.diagonal(K@Lw))\n",
      "/home/bcollet/Documents/spectralGraphTopology/ObjectiveFunction.py:18: RuntimeWarning: invalid value encountered in log\n",
      "  return np.sum(-np.log(np.linalg.eigh(Lw+J)[0]+eps)+np.diagonal(K@Lw))\n",
      "/home/bcollet/Documents/spectralGraphTopology/ObjectiveFunction.py:18: RuntimeWarning: invalid value encountered in log\n",
      "  return np.sum(-np.log(np.linalg.eigh(Lw+J)[0]+eps)+np.diagonal(K@Lw))\n",
      "/home/bcollet/Documents/spectralGraphTopology/ObjectiveFunction.py:18: RuntimeWarning: invalid value encountered in log\n",
      "  return np.sum(-np.log(np.linalg.eigh(Lw+J)[0]+eps)+np.diagonal(K@Lw))\n",
      "/home/bcollet/Documents/spectralGraphTopology/ObjectiveFunction.py:18: RuntimeWarning: divide by zero encountered in log\n",
      "  return np.sum(-np.log(np.linalg.eigh(Lw+J)[0]+eps)+np.diagonal(K@Lw))\n",
      "/home/bcollet/Documents/spectralGraphTopology/ObjectiveFunction.py:18: RuntimeWarning: invalid value encountered in log\n",
      "  return np.sum(-np.log(np.linalg.eigh(Lw+J)[0]+eps)+np.diagonal(K@Lw))\n",
      "/home/bcollet/Documents/spectralGraphTopology/ObjectiveFunction.py:18: RuntimeWarning: invalid value encountered in log\n",
      "  return np.sum(-np.log(np.linalg.eigh(Lw+J)[0]+eps)+np.diagonal(K@Lw))\n",
      "/home/bcollet/Documents/spectralGraphTopology/ObjectiveFunction.py:18: RuntimeWarning: invalid value encountered in log\n",
      "  return np.sum(-np.log(np.linalg.eigh(Lw+J)[0]+eps)+np.diagonal(K@Lw))\n",
      "/home/bcollet/Documents/spectralGraphTopology/ObjectiveFunction.py:18: RuntimeWarning: invalid value encountered in log\n",
      "  return np.sum(-np.log(np.linalg.eigh(Lw+J)[0]+eps)+np.diagonal(K@Lw))\n",
      "/home/bcollet/Documents/spectralGraphTopology/ObjectiveFunction.py:18: RuntimeWarning: invalid value encountered in log\n",
      "  return np.sum(-np.log(np.linalg.eigh(Lw+J)[0]+eps)+np.diagonal(K@Lw))\n",
      "/home/bcollet/Documents/spectralGraphTopology/ObjectiveFunction.py:18: RuntimeWarning: invalid value encountered in log\n",
      "  return np.sum(-np.log(np.linalg.eigh(Lw+J)[0]+eps)+np.diagonal(K@Lw))\n",
      "/home/bcollet/Documents/spectralGraphTopology/ObjectiveFunction.py:18: RuntimeWarning: invalid value encountered in log\n",
      "  return np.sum(-np.log(np.linalg.eigh(Lw+J)[0]+eps)+np.diagonal(K@Lw))\n",
      "/home/bcollet/Documents/spectralGraphTopology/ObjectiveFunction.py:18: RuntimeWarning: invalid value encountered in log\n",
      "  return np.sum(-np.log(np.linalg.eigh(Lw+J)[0]+eps)+np.diagonal(K@Lw))\n",
      "/home/bcollet/Documents/spectralGraphTopology/ObjectiveFunction.py:18: RuntimeWarning: invalid value encountered in log\n",
      "  return np.sum(-np.log(np.linalg.eigh(Lw+J)[0]+eps)+np.diagonal(K@Lw))\n",
      "/home/bcollet/Documents/spectralGraphTopology/ObjectiveFunction.py:18: RuntimeWarning: invalid value encountered in log\n",
      "  return np.sum(-np.log(np.linalg.eigh(Lw+J)[0]+eps)+np.diagonal(K@Lw))\n"
     ]
    },
    {
     "name": "stderr",
     "output_type": "stream",
     "text": [
      "  0%|▊                                                                                                                                                                 | 50/10000 [00:00<00:40, 243.50it/s]/home/bcollet/Documents/spectralGraphTopology/ObjectiveFunction.py:18: RuntimeWarning: invalid value encountered in log\n",
      "  return np.sum(-np.log(np.linalg.eigh(Lw+J)[0]+eps)+np.diagonal(K@Lw))\n",
      "/home/bcollet/Documents/spectralGraphTopology/ObjectiveFunction.py:18: RuntimeWarning: divide by zero encountered in log\n",
      "  return np.sum(-np.log(np.linalg.eigh(Lw+J)[0]+eps)+np.diagonal(K@Lw))\n",
      "/home/bcollet/Documents/spectralGraphTopology/ObjectiveFunction.py:18: RuntimeWarning: invalid value encountered in log\n",
      "  return np.sum(-np.log(np.linalg.eigh(Lw+J)[0]+eps)+np.diagonal(K@Lw))\n",
      "/home/bcollet/Documents/spectralGraphTopology/ObjectiveFunction.py:18: RuntimeWarning: invalid value encountered in log\n",
      "  return np.sum(-np.log(np.linalg.eigh(Lw+J)[0]+eps)+np.diagonal(K@Lw))\n",
      "/home/bcollet/Documents/spectralGraphTopology/ObjectiveFunction.py:18: RuntimeWarning: invalid value encountered in log\n",
      "  return np.sum(-np.log(np.linalg.eigh(Lw+J)[0]+eps)+np.diagonal(K@Lw))\n",
      "/home/bcollet/Documents/spectralGraphTopology/ObjectiveFunction.py:18: RuntimeWarning: invalid value encountered in log\n",
      "  return np.sum(-np.log(np.linalg.eigh(Lw+J)[0]+eps)+np.diagonal(K@Lw))\n",
      "/home/bcollet/Documents/spectralGraphTopology/ObjectiveFunction.py:18: RuntimeWarning: invalid value encountered in log\n",
      "  return np.sum(-np.log(np.linalg.eigh(Lw+J)[0]+eps)+np.diagonal(K@Lw))\n",
      "/home/bcollet/Documents/spectralGraphTopology/ObjectiveFunction.py:18: RuntimeWarning: invalid value encountered in log\n",
      "  return np.sum(-np.log(np.linalg.eigh(Lw+J)[0]+eps)+np.diagonal(K@Lw))\n",
      "/home/bcollet/Documents/spectralGraphTopology/ObjectiveFunction.py:18: RuntimeWarning: invalid value encountered in log\n",
      "  return np.sum(-np.log(np.linalg.eigh(Lw+J)[0]+eps)+np.diagonal(K@Lw))\n",
      "/home/bcollet/Documents/spectralGraphTopology/ObjectiveFunction.py:18: RuntimeWarning: invalid value encountered in log\n",
      "  return np.sum(-np.log(np.linalg.eigh(Lw+J)[0]+eps)+np.diagonal(K@Lw))\n",
      "/home/bcollet/Documents/spectralGraphTopology/ObjectiveFunction.py:18: RuntimeWarning: invalid value encountered in log\n",
      "  return np.sum(-np.log(np.linalg.eigh(Lw+J)[0]+eps)+np.diagonal(K@Lw))\n",
      "/home/bcollet/Documents/spectralGraphTopology/ObjectiveFunction.py:18: RuntimeWarning: invalid value encountered in log\n",
      "  return np.sum(-np.log(np.linalg.eigh(Lw+J)[0]+eps)+np.diagonal(K@Lw))\n",
      "/home/bcollet/Documents/spectralGraphTopology/ObjectiveFunction.py:18: RuntimeWarning: invalid value encountered in log\n",
      "  return np.sum(-np.log(np.linalg.eigh(Lw+J)[0]+eps)+np.diagonal(K@Lw))\n",
      "/home/bcollet/Documents/spectralGraphTopology/ObjectiveFunction.py:18: RuntimeWarning: invalid value encountered in log\n",
      "  return np.sum(-np.log(np.linalg.eigh(Lw+J)[0]+eps)+np.diagonal(K@Lw))\n",
      "/home/bcollet/Documents/spectralGraphTopology/ObjectiveFunction.py:18: RuntimeWarning: invalid value encountered in log\n",
      "  return np.sum(-np.log(np.linalg.eigh(Lw+J)[0]+eps)+np.diagonal(K@Lw))\n",
      "/home/bcollet/Documents/spectralGraphTopology/ObjectiveFunction.py:18: RuntimeWarning: invalid value encountered in log\n",
      "  return np.sum(-np.log(np.linalg.eigh(Lw+J)[0]+eps)+np.diagonal(K@Lw))\n",
      "/home/bcollet/Documents/spectralGraphTopology/ObjectiveFunction.py:18: RuntimeWarning: invalid value encountered in log\n",
      "  return np.sum(-np.log(np.linalg.eigh(Lw+J)[0]+eps)+np.diagonal(K@Lw))\n",
      "/home/bcollet/Documents/spectralGraphTopology/ObjectiveFunction.py:18: RuntimeWarning: invalid value encountered in log\n",
      "  return np.sum(-np.log(np.linalg.eigh(Lw+J)[0]+eps)+np.diagonal(K@Lw))\n",
      "/home/bcollet/Documents/spectralGraphTopology/ObjectiveFunction.py:18: RuntimeWarning: invalid value encountered in log\n",
      "  return np.sum(-np.log(np.linalg.eigh(Lw+J)[0]+eps)+np.diagonal(K@Lw))\n",
      "/home/bcollet/Documents/spectralGraphTopology/ObjectiveFunction.py:18: RuntimeWarning: invalid value encountered in log\n",
      "  return np.sum(-np.log(np.linalg.eigh(Lw+J)[0]+eps)+np.diagonal(K@Lw))\n",
      "/home/bcollet/Documents/spectralGraphTopology/ObjectiveFunction.py:18: RuntimeWarning: invalid value encountered in log\n",
      "  return np.sum(-np.log(np.linalg.eigh(Lw+J)[0]+eps)+np.diagonal(K@Lw))\n",
      "/home/bcollet/Documents/spectralGraphTopology/ObjectiveFunction.py:18: RuntimeWarning: invalid value encountered in log\n",
      "  return np.sum(-np.log(np.linalg.eigh(Lw+J)[0]+eps)+np.diagonal(K@Lw))\n",
      "/home/bcollet/Documents/spectralGraphTopology/ObjectiveFunction.py:18: RuntimeWarning: invalid value encountered in log\n",
      "  return np.sum(-np.log(np.linalg.eigh(Lw+J)[0]+eps)+np.diagonal(K@Lw))\n",
      "/home/bcollet/Documents/spectralGraphTopology/ObjectiveFunction.py:18: RuntimeWarning: invalid value encountered in log\n",
      "  return np.sum(-np.log(np.linalg.eigh(Lw+J)[0]+eps)+np.diagonal(K@Lw))\n",
      "/home/bcollet/Documents/spectralGraphTopology/ObjectiveFunction.py:18: RuntimeWarning: invalid value encountered in log\n",
      "  return np.sum(-np.log(np.linalg.eigh(Lw+J)[0]+eps)+np.diagonal(K@Lw))\n",
      "/home/bcollet/Documents/spectralGraphTopology/ObjectiveFunction.py:18: RuntimeWarning: invalid value encountered in log\n",
      "  return np.sum(-np.log(np.linalg.eigh(Lw+J)[0]+eps)+np.diagonal(K@Lw))\n",
      "/home/bcollet/Documents/spectralGraphTopology/ObjectiveFunction.py:18: RuntimeWarning: invalid value encountered in log\n",
      "  return np.sum(-np.log(np.linalg.eigh(Lw+J)[0]+eps)+np.diagonal(K@Lw))\n",
      "/home/bcollet/Documents/spectralGraphTopology/ObjectiveFunction.py:18: RuntimeWarning: invalid value encountered in log\n",
      "  return np.sum(-np.log(np.linalg.eigh(Lw+J)[0]+eps)+np.diagonal(K@Lw))\n",
      "/home/bcollet/Documents/spectralGraphTopology/ObjectiveFunction.py:18: RuntimeWarning: invalid value encountered in log\n",
      "  return np.sum(-np.log(np.linalg.eigh(Lw+J)[0]+eps)+np.diagonal(K@Lw))\n",
      "/home/bcollet/Documents/spectralGraphTopology/ObjectiveFunction.py:18: RuntimeWarning: invalid value encountered in log\n",
      "  return np.sum(-np.log(np.linalg.eigh(Lw+J)[0]+eps)+np.diagonal(K@Lw))\n",
      "/home/bcollet/Documents/spectralGraphTopology/ObjectiveFunction.py:18: RuntimeWarning: invalid value encountered in log\n",
      "  return np.sum(-np.log(np.linalg.eigh(Lw+J)[0]+eps)+np.diagonal(K@Lw))\n",
      "/home/bcollet/Documents/spectralGraphTopology/ObjectiveFunction.py:18: RuntimeWarning: invalid value encountered in log\n",
      "  return np.sum(-np.log(np.linalg.eigh(Lw+J)[0]+eps)+np.diagonal(K@Lw))\n",
      "/home/bcollet/Documents/spectralGraphTopology/ObjectiveFunction.py:18: RuntimeWarning: invalid value encountered in log\n",
      "  return np.sum(-np.log(np.linalg.eigh(Lw+J)[0]+eps)+np.diagonal(K@Lw))\n",
      "/home/bcollet/Documents/spectralGraphTopology/ObjectiveFunction.py:18: RuntimeWarning: invalid value encountered in log\n",
      "  return np.sum(-np.log(np.linalg.eigh(Lw+J)[0]+eps)+np.diagonal(K@Lw))\n",
      "/home/bcollet/Documents/spectralGraphTopology/ObjectiveFunction.py:18: RuntimeWarning: invalid value encountered in log\n",
      "  return np.sum(-np.log(np.linalg.eigh(Lw+J)[0]+eps)+np.diagonal(K@Lw))\n",
      "/home/bcollet/Documents/spectralGraphTopology/ObjectiveFunction.py:18: RuntimeWarning: invalid value encountered in log\n",
      "  return np.sum(-np.log(np.linalg.eigh(Lw+J)[0]+eps)+np.diagonal(K@Lw))\n",
      "/home/bcollet/Documents/spectralGraphTopology/ObjectiveFunction.py:18: RuntimeWarning: invalid value encountered in log\n",
      "  return np.sum(-np.log(np.linalg.eigh(Lw+J)[0]+eps)+np.diagonal(K@Lw))\n",
      "/home/bcollet/Documents/spectralGraphTopology/ObjectiveFunction.py:18: RuntimeWarning: invalid value encountered in log\n",
      "  return np.sum(-np.log(np.linalg.eigh(Lw+J)[0]+eps)+np.diagonal(K@Lw))\n",
      "/home/bcollet/Documents/spectralGraphTopology/ObjectiveFunction.py:18: RuntimeWarning: invalid value encountered in log\n",
      "  return np.sum(-np.log(np.linalg.eigh(Lw+J)[0]+eps)+np.diagonal(K@Lw))\n",
      "/home/bcollet/Documents/spectralGraphTopology/ObjectiveFunction.py:18: RuntimeWarning: divide by zero encountered in log\n",
      "  return np.sum(-np.log(np.linalg.eigh(Lw+J)[0]+eps)+np.diagonal(K@Lw))\n",
      "/home/bcollet/Documents/spectralGraphTopology/ObjectiveFunction.py:18: RuntimeWarning: invalid value encountered in log\n",
      "  return np.sum(-np.log(np.linalg.eigh(Lw+J)[0]+eps)+np.diagonal(K@Lw))\n",
      "/home/bcollet/Documents/spectralGraphTopology/ObjectiveFunction.py:18: RuntimeWarning: invalid value encountered in log\n",
      "  return np.sum(-np.log(np.linalg.eigh(Lw+J)[0]+eps)+np.diagonal(K@Lw))\n",
      "/home/bcollet/Documents/spectralGraphTopology/ObjectiveFunction.py:18: RuntimeWarning: invalid value encountered in log\n",
      "  return np.sum(-np.log(np.linalg.eigh(Lw+J)[0]+eps)+np.diagonal(K@Lw))\n",
      "/home/bcollet/Documents/spectralGraphTopology/ObjectiveFunction.py:18: RuntimeWarning: invalid value encountered in log\n",
      "  return np.sum(-np.log(np.linalg.eigh(Lw+J)[0]+eps)+np.diagonal(K@Lw))\n",
      "/home/bcollet/Documents/spectralGraphTopology/ObjectiveFunction.py:18: RuntimeWarning: invalid value encountered in log\n",
      "  return np.sum(-np.log(np.linalg.eigh(Lw+J)[0]+eps)+np.diagonal(K@Lw))\n"
     ]
    },
    {
     "name": "stderr",
     "output_type": "stream",
     "text": [
      "/home/bcollet/Documents/spectralGraphTopology/ObjectiveFunction.py:18: RuntimeWarning: invalid value encountered in log\n",
      "  return np.sum(-np.log(np.linalg.eigh(Lw+J)[0]+eps)+np.diagonal(K@Lw))\n",
      "  1%|█▌                                                                                                                                                                | 94/10000 [00:00<00:30, 322.11it/s]/home/bcollet/Documents/spectralGraphTopology/ObjectiveFunction.py:18: RuntimeWarning: invalid value encountered in log\n",
      "  return np.sum(-np.log(np.linalg.eigh(Lw+J)[0]+eps)+np.diagonal(K@Lw))\n",
      "/home/bcollet/Documents/spectralGraphTopology/ObjectiveFunction.py:18: RuntimeWarning: invalid value encountered in log\n",
      "  return np.sum(-np.log(np.linalg.eigh(Lw+J)[0]+eps)+np.diagonal(K@Lw))\n",
      "/home/bcollet/Documents/spectralGraphTopology/ObjectiveFunction.py:18: RuntimeWarning: invalid value encountered in log\n",
      "  return np.sum(-np.log(np.linalg.eigh(Lw+J)[0]+eps)+np.diagonal(K@Lw))\n",
      "/home/bcollet/Documents/spectralGraphTopology/ObjectiveFunction.py:18: RuntimeWarning: invalid value encountered in log\n",
      "  return np.sum(-np.log(np.linalg.eigh(Lw+J)[0]+eps)+np.diagonal(K@Lw))\n",
      "/home/bcollet/Documents/spectralGraphTopology/ObjectiveFunction.py:18: RuntimeWarning: divide by zero encountered in log\n",
      "  return np.sum(-np.log(np.linalg.eigh(Lw+J)[0]+eps)+np.diagonal(K@Lw))\n",
      "/home/bcollet/Documents/spectralGraphTopology/ObjectiveFunction.py:18: RuntimeWarning: invalid value encountered in log\n",
      "  return np.sum(-np.log(np.linalg.eigh(Lw+J)[0]+eps)+np.diagonal(K@Lw))\n",
      "/home/bcollet/Documents/spectralGraphTopology/ObjectiveFunction.py:18: RuntimeWarning: invalid value encountered in log\n",
      "  return np.sum(-np.log(np.linalg.eigh(Lw+J)[0]+eps)+np.diagonal(K@Lw))\n",
      "/home/bcollet/Documents/spectralGraphTopology/ObjectiveFunction.py:18: RuntimeWarning: invalid value encountered in log\n",
      "  return np.sum(-np.log(np.linalg.eigh(Lw+J)[0]+eps)+np.diagonal(K@Lw))\n",
      "/home/bcollet/Documents/spectralGraphTopology/ObjectiveFunction.py:18: RuntimeWarning: invalid value encountered in log\n",
      "  return np.sum(-np.log(np.linalg.eigh(Lw+J)[0]+eps)+np.diagonal(K@Lw))\n",
      "/home/bcollet/Documents/spectralGraphTopology/ObjectiveFunction.py:18: RuntimeWarning: invalid value encountered in log\n",
      "  return np.sum(-np.log(np.linalg.eigh(Lw+J)[0]+eps)+np.diagonal(K@Lw))\n",
      "/home/bcollet/Documents/spectralGraphTopology/ObjectiveFunction.py:18: RuntimeWarning: invalid value encountered in log\n",
      "  return np.sum(-np.log(np.linalg.eigh(Lw+J)[0]+eps)+np.diagonal(K@Lw))\n",
      "/home/bcollet/Documents/spectralGraphTopology/ObjectiveFunction.py:18: RuntimeWarning: invalid value encountered in log\n",
      "  return np.sum(-np.log(np.linalg.eigh(Lw+J)[0]+eps)+np.diagonal(K@Lw))\n",
      "/home/bcollet/Documents/spectralGraphTopology/ObjectiveFunction.py:18: RuntimeWarning: invalid value encountered in log\n",
      "  return np.sum(-np.log(np.linalg.eigh(Lw+J)[0]+eps)+np.diagonal(K@Lw))\n",
      "/home/bcollet/Documents/spectralGraphTopology/ObjectiveFunction.py:18: RuntimeWarning: invalid value encountered in log\n",
      "  return np.sum(-np.log(np.linalg.eigh(Lw+J)[0]+eps)+np.diagonal(K@Lw))\n",
      "/home/bcollet/Documents/spectralGraphTopology/ObjectiveFunction.py:18: RuntimeWarning: invalid value encountered in log\n",
      "  return np.sum(-np.log(np.linalg.eigh(Lw+J)[0]+eps)+np.diagonal(K@Lw))\n",
      "/home/bcollet/Documents/spectralGraphTopology/ObjectiveFunction.py:18: RuntimeWarning: invalid value encountered in log\n",
      "  return np.sum(-np.log(np.linalg.eigh(Lw+J)[0]+eps)+np.diagonal(K@Lw))\n",
      "/home/bcollet/Documents/spectralGraphTopology/ObjectiveFunction.py:18: RuntimeWarning: invalid value encountered in log\n",
      "  return np.sum(-np.log(np.linalg.eigh(Lw+J)[0]+eps)+np.diagonal(K@Lw))\n",
      "/home/bcollet/Documents/spectralGraphTopology/ObjectiveFunction.py:18: RuntimeWarning: invalid value encountered in log\n",
      "  return np.sum(-np.log(np.linalg.eigh(Lw+J)[0]+eps)+np.diagonal(K@Lw))\n",
      "/home/bcollet/Documents/spectralGraphTopology/ObjectiveFunction.py:18: RuntimeWarning: invalid value encountered in log\n",
      "  return np.sum(-np.log(np.linalg.eigh(Lw+J)[0]+eps)+np.diagonal(K@Lw))\n",
      "/home/bcollet/Documents/spectralGraphTopology/ObjectiveFunction.py:18: RuntimeWarning: divide by zero encountered in log\n",
      "  return np.sum(-np.log(np.linalg.eigh(Lw+J)[0]+eps)+np.diagonal(K@Lw))\n",
      "/home/bcollet/Documents/spectralGraphTopology/ObjectiveFunction.py:18: RuntimeWarning: invalid value encountered in log\n",
      "  return np.sum(-np.log(np.linalg.eigh(Lw+J)[0]+eps)+np.diagonal(K@Lw))\n",
      "/home/bcollet/Documents/spectralGraphTopology/ObjectiveFunction.py:18: RuntimeWarning: invalid value encountered in log\n",
      "  return np.sum(-np.log(np.linalg.eigh(Lw+J)[0]+eps)+np.diagonal(K@Lw))\n",
      "/home/bcollet/Documents/spectralGraphTopology/ObjectiveFunction.py:18: RuntimeWarning: invalid value encountered in log\n",
      "  return np.sum(-np.log(np.linalg.eigh(Lw+J)[0]+eps)+np.diagonal(K@Lw))\n",
      "/home/bcollet/Documents/spectralGraphTopology/ObjectiveFunction.py:18: RuntimeWarning: invalid value encountered in log\n",
      "  return np.sum(-np.log(np.linalg.eigh(Lw+J)[0]+eps)+np.diagonal(K@Lw))\n",
      "/home/bcollet/Documents/spectralGraphTopology/ObjectiveFunction.py:18: RuntimeWarning: invalid value encountered in log\n",
      "  return np.sum(-np.log(np.linalg.eigh(Lw+J)[0]+eps)+np.diagonal(K@Lw))\n",
      "/home/bcollet/Documents/spectralGraphTopology/ObjectiveFunction.py:18: RuntimeWarning: invalid value encountered in log\n",
      "  return np.sum(-np.log(np.linalg.eigh(Lw+J)[0]+eps)+np.diagonal(K@Lw))\n",
      "/home/bcollet/Documents/spectralGraphTopology/ObjectiveFunction.py:18: RuntimeWarning: invalid value encountered in log\n",
      "  return np.sum(-np.log(np.linalg.eigh(Lw+J)[0]+eps)+np.diagonal(K@Lw))\n",
      "/home/bcollet/Documents/spectralGraphTopology/ObjectiveFunction.py:18: RuntimeWarning: invalid value encountered in log\n",
      "  return np.sum(-np.log(np.linalg.eigh(Lw+J)[0]+eps)+np.diagonal(K@Lw))\n",
      "/home/bcollet/Documents/spectralGraphTopology/ObjectiveFunction.py:18: RuntimeWarning: invalid value encountered in log\n",
      "  return np.sum(-np.log(np.linalg.eigh(Lw+J)[0]+eps)+np.diagonal(K@Lw))\n",
      "/home/bcollet/Documents/spectralGraphTopology/ObjectiveFunction.py:18: RuntimeWarning: invalid value encountered in log\n",
      "  return np.sum(-np.log(np.linalg.eigh(Lw+J)[0]+eps)+np.diagonal(K@Lw))\n",
      "/home/bcollet/Documents/spectralGraphTopology/ObjectiveFunction.py:18: RuntimeWarning: invalid value encountered in log\n",
      "  return np.sum(-np.log(np.linalg.eigh(Lw+J)[0]+eps)+np.diagonal(K@Lw))\n",
      "/home/bcollet/Documents/spectralGraphTopology/ObjectiveFunction.py:18: RuntimeWarning: invalid value encountered in log\n",
      "  return np.sum(-np.log(np.linalg.eigh(Lw+J)[0]+eps)+np.diagonal(K@Lw))\n",
      "/home/bcollet/Documents/spectralGraphTopology/ObjectiveFunction.py:18: RuntimeWarning: invalid value encountered in log\n",
      "  return np.sum(-np.log(np.linalg.eigh(Lw+J)[0]+eps)+np.diagonal(K@Lw))\n",
      "/home/bcollet/Documents/spectralGraphTopology/ObjectiveFunction.py:18: RuntimeWarning: invalid value encountered in log\n",
      "  return np.sum(-np.log(np.linalg.eigh(Lw+J)[0]+eps)+np.diagonal(K@Lw))\n",
      "/home/bcollet/Documents/spectralGraphTopology/ObjectiveFunction.py:18: RuntimeWarning: invalid value encountered in log\n",
      "  return np.sum(-np.log(np.linalg.eigh(Lw+J)[0]+eps)+np.diagonal(K@Lw))\n",
      "/home/bcollet/Documents/spectralGraphTopology/ObjectiveFunction.py:18: RuntimeWarning: invalid value encountered in log\n",
      "  return np.sum(-np.log(np.linalg.eigh(Lw+J)[0]+eps)+np.diagonal(K@Lw))\n",
      "/home/bcollet/Documents/spectralGraphTopology/ObjectiveFunction.py:18: RuntimeWarning: invalid value encountered in log\n",
      "  return np.sum(-np.log(np.linalg.eigh(Lw+J)[0]+eps)+np.diagonal(K@Lw))\n",
      "/home/bcollet/Documents/spectralGraphTopology/ObjectiveFunction.py:18: RuntimeWarning: invalid value encountered in log\n",
      "  return np.sum(-np.log(np.linalg.eigh(Lw+J)[0]+eps)+np.diagonal(K@Lw))\n",
      "/home/bcollet/Documents/spectralGraphTopology/ObjectiveFunction.py:18: RuntimeWarning: invalid value encountered in log\n",
      "  return np.sum(-np.log(np.linalg.eigh(Lw+J)[0]+eps)+np.diagonal(K@Lw))\n",
      "/home/bcollet/Documents/spectralGraphTopology/ObjectiveFunction.py:18: RuntimeWarning: invalid value encountered in log\n",
      "  return np.sum(-np.log(np.linalg.eigh(Lw+J)[0]+eps)+np.diagonal(K@Lw))\n",
      "/home/bcollet/Documents/spectralGraphTopology/ObjectiveFunction.py:18: RuntimeWarning: invalid value encountered in log\n",
      "  return np.sum(-np.log(np.linalg.eigh(Lw+J)[0]+eps)+np.diagonal(K@Lw))\n",
      "/home/bcollet/Documents/spectralGraphTopology/ObjectiveFunction.py:18: RuntimeWarning: invalid value encountered in log\n",
      "  return np.sum(-np.log(np.linalg.eigh(Lw+J)[0]+eps)+np.diagonal(K@Lw))\n",
      "/home/bcollet/Documents/spectralGraphTopology/ObjectiveFunction.py:18: RuntimeWarning: invalid value encountered in log\n",
      "  return np.sum(-np.log(np.linalg.eigh(Lw+J)[0]+eps)+np.diagonal(K@Lw))\n",
      "/home/bcollet/Documents/spectralGraphTopology/ObjectiveFunction.py:18: RuntimeWarning: invalid value encountered in log\n",
      "  return np.sum(-np.log(np.linalg.eigh(Lw+J)[0]+eps)+np.diagonal(K@Lw))\n"
     ]
    },
    {
     "name": "stderr",
     "output_type": "stream",
     "text": [
      "  1%|██▏                                                                                                                                                              | 135/10000 [00:00<00:32, 305.07it/s]\n"
     ]
    },
    {
     "data": {
      "image/png": "[encoded data removed]",
      "text/plain": [
       "<Figure size 288x288 with 1 Axes>"
      ]
     },
     "metadata": {
      "needs_background": "light"
     },
     "output_type": "display_data"
    },
    {
     "name": "stdout",
     "output_type": "stream",
     "text": [
      "[[0.         0.         0.         ... 1.08736198 1.06524905 1.10090916]\n",
      " [0.         0.         0.         ... 1.14141356 1.10750795 1.13928003]\n",
      " [0.         0.         0.         ... 1.16401517 1.13326391 1.01405287]\n",
      " ...\n",
      " [1.08736198 1.14141356 1.16401517 ... 0.         0.         0.        ]\n",
      " [1.06524905 1.10750795 1.13326391 ... 0.         0.         0.        ]\n",
      " [1.10090916 1.13928003 1.01405287 ... 0.         0.         0.        ]]\n"
     ]
    }
   ],
   "source": [
    "di=learn_bipartite_graph(np.linalg.pinv(L),maxiter=10000)\n",
    "plt.matshow(di[\"Adjacency\"])\n",
    "plt.title(\"recovered adjacency matrix\")\n",
    "plt.show()\n",
    "print(di[\"Adjacency\"])"
   ]
  },
  {
   "cell_type": "markdown",
   "id": "7ff02bc3",
   "metadata": {},
   "source": [
    "This time, not only the learned matrix has the desired structure, but it also has similar coefficients to the original one."
   ]
  },
  {
   "cell_type": "markdown",
   "id": "51971216",
   "metadata": {},
   "source": [
    "## Popular synthetic datasets"
   ]
  },
  {
   "cell_type": "code",
   "execution_count": 11,
   "id": "092d6099",
   "metadata": {},
   "outputs": [],
   "source": [
    "def dist_mat_exp_kernel(x, sigma=1, eps=1, k=None):\n",
    "    n, d = x.shape\n",
    "    dist_mat = np.zeros((n, n))\n",
    "    for i in range(n):\n",
    "        dist_mat[i] = np.exp(-np.linalg.norm(x[i] - x, axis=1)/eps)\n",
    "    if not k is None:\n",
    "        for i in range(n):\n",
    "            k_th_nearest_dist = np.sort(dist_mat[i])[-k]\n",
    "            dist_mat[i][dist_mat[i] < k_th_nearest_dist] = 0\n",
    "        dist_mat = 0.5*(dist_mat + dist_mat.T)\n",
    "    else:\n",
    "        dist_mat[dist_mat<eps] = 0\n",
    "    return dist_mat"
   ]
  },
  {
   "cell_type": "markdown",
   "id": "1f975941",
   "metadata": {},
   "source": [
    "We load the \"two moons\" dataset"
   ]
  },
  {
   "cell_type": "code",
   "execution_count": 12,
   "id": "1facb309",
   "metadata": {},
   "outputs": [
    {
     "data": {
      "image/png": "[encoded data removed]",
      "text/plain": [
       "<Figure size 432x288 with 1 Axes>"
      ]
     },
     "metadata": {
      "needs_background": "light"
     },
     "output_type": "display_data"
    }
   ],
   "source": [
    "n_samples = 100\n",
    "moons_data, moons_labels = skd.make_moons(n_samples=n_samples)\n",
    "plt.scatter(moons_data.T[0], moons_data.T[1], c=moons_labels)\n",
    "plt.show()"
   ]
  },
  {
   "cell_type": "code",
   "execution_count": 13,
   "id": "cb6f845d",
   "metadata": {},
   "outputs": [],
   "source": [
    "C_moons = dist_mat_exp_kernel(moons_data, sigma=1, eps=0.1)"
   ]
  },
  {
   "cell_type": "markdown",
   "id": "039e9206",
   "metadata": {},
   "source": [
    "We learn the graph with two components in order to find the clusters."
   ]
  },
  {
   "cell_type": "code",
   "execution_count": 14,
   "id": "db730f26",
   "metadata": {},
   "outputs": [
    {
     "name": "stderr",
     "output_type": "stream",
     "text": [
      "100%|█████████████████████████████████████████████████████████████████████████████████████████████████████████████████████████████████████████████████████████████████| 2000/2000 [00:02<00:00, 712.52it/s]\n"
     ]
    }
   ],
   "source": [
    "res_moons = learn_k_component_graph(C_moons, k=2, maxiter=2000) #2000 or more in reality"
   ]
  },
  {
   "cell_type": "markdown",
   "id": "1b867bd7",
   "metadata": {},
   "source": [
    "Then, we use the first eigenvalue as hte classying metric and compute the AUC score."
   ]
  },
  {
   "cell_type": "code",
   "execution_count": 15,
   "id": "8ba0027b",
   "metadata": {},
   "outputs": [
    {
     "name": "stdout",
     "output_type": "stream",
     "text": [
      "AUC score of the spectral classifier 0.5224\n"
     ]
    }
   ],
   "source": [
    "score_moons = np.linalg.eigh(res_moons[\"Laplacian\"])[1][:, 1]\n",
    "print(\"AUC score of the spectral classifier\", skm.roc_auc_score(moons_labels, score_moons))"
   ]
  },
  {
   "cell_type": "markdown",
   "id": "aa3ac27c",
   "metadata": {},
   "source": [
    "We display the adjacency matrix, which is block diagonal and contains the two expected components."
   ]
  },
  {
   "cell_type": "code",
   "execution_count": 16,
   "id": "b8710790",
   "metadata": {},
   "outputs": [
    {
     "data": {
      "image/png": "[encoded data removed]",
      "text/plain": [
       "<Figure size 1440x1440 with 1 Axes>"
      ]
     },
     "metadata": {
      "needs_background": "light"
     },
     "output_type": "display_data"
    }
   ],
   "source": [
    "id_moons = np.argsort(moons_labels)\n",
    "fig = plt.figure(figsize=(20, 20))\n",
    "plt.matshow(res_moons[\"Adjacency\"][id_moons][:, id_moons], fignum=0)\n",
    "plt.show()"
   ]
  },
  {
   "cell_type": "markdown",
   "id": "06b10f4d",
   "metadata": {},
   "source": [
    "Then, we load the \"two circles\" dataset:"
   ]
  },
  {
   "cell_type": "code",
   "execution_count": 17,
   "id": "2654f411",
   "metadata": {},
   "outputs": [],
   "source": [
    "def at_least_k_component(L,k):\n",
    "    la,M=np.linalg.eigh(L)\n",
    "    la[:k] = 0\n",
    "    return M@np.diag(la)@M.T"
   ]
  },
  {
   "cell_type": "code",
   "execution_count": 44,
   "id": "247c87c1",
   "metadata": {},
   "outputs": [
    {
     "data": {
      "image/png": "[encoded data removed]",
      "text/plain": [
       "<Figure size 432x288 with 1 Axes>"
      ]
     },
     "metadata": {
      "needs_background": "light"
     },
     "output_type": "display_data"
    }
   ],
   "source": [
    "n_samples = 100\n",
    "circles_data, circles_labels = skd.make_circles(n_samples=n_samples,noise=0.05,factor=0.5)\n",
    "plt.scatter(circles_data.T[0], circles_data.T[1], c=circles_labels)\n",
    "plt.show()"
   ]
  },
  {
   "cell_type": "markdown",
   "id": "f382ab46",
   "metadata": {},
   "source": [
    "We learn the clusters with the spectralGraphTopology package"
   ]
  },
  {
   "cell_type": "code",
   "execution_count": 45,
   "id": "c5bcfce4",
   "metadata": {},
   "outputs": [
    {
     "name": "stderr",
     "output_type": "stream",
     "text": [
      "100%|███████████████████████████████████████████████████████████████████████████████████████████████████████████████████████████████████████████████████████████████| 10000/10000 [00:14<00:00, 673.90it/s]\n"
     ]
    }
   ],
   "source": [
    "C_circles = dist_mat_exp_kernel(circles_data, k=7,sigma=0.1)\n",
    "res_circles = learn_k_component_graph(C_circles, k=2, maxiter=10000) #2000 or more in reality"
   ]
  },
  {
   "cell_type": "code",
   "execution_count": 20,
   "id": "f4cb6c6c",
   "metadata": {},
   "outputs": [
    {
     "name": "stdout",
     "output_type": "stream",
     "text": [
      "False\n"
     ]
    }
   ],
   "source": [
    "print(res_circles[\"convergence\"])"
   ]
  },
  {
   "cell_type": "code",
   "execution_count": 21,
   "id": "3886e6e5",
   "metadata": {},
   "outputs": [],
   "source": [
    "#res_circles[\"Laplacian\"]=at_least_k_component(res_circles[\"Laplacian\"],k=2)"
   ]
  },
  {
   "cell_type": "code",
   "execution_count": 46,
   "id": "f4fe36e5",
   "metadata": {},
   "outputs": [
    {
     "name": "stdout",
     "output_type": "stream",
     "text": [
      "2\n"
     ]
    }
   ],
   "source": [
    "print(nb_connected_component(res_circles[\"Laplacian\"]))"
   ]
  },
  {
   "cell_type": "code",
   "execution_count": 47,
   "id": "605c2827",
   "metadata": {},
   "outputs": [
    {
     "name": "stdout",
     "output_type": "stream",
     "text": [
      "[[0.3 0. ]\n",
      " [0.  0.3]]\n"
     ]
    },
    {
     "data": {
      "text/plain": [
       "1.0583339246881292e-15"
      ]
     },
     "execution_count": 47,
     "metadata": {},
     "output_type": "execute_result"
    }
   ],
   "source": [
    "print(np.array([[0.3,0.02],[0.02,0.3]]).round(1))\n",
    "np.linalg.eigh(res_circles[\"Laplacian\"])[0][1]"
   ]
  },
  {
   "cell_type": "markdown",
   "id": "b6679266",
   "metadata": {},
   "source": [
    "We display the AUC of the second eigenvalue classifier and the distribution of the corresponding scores according to the true label."
   ]
  },
  {
   "cell_type": "code",
   "execution_count": 48,
   "id": "1b2ee70f",
   "metadata": {},
   "outputs": [
    {
     "name": "stdout",
     "output_type": "stream",
     "text": [
      "AUC score of the spectral classifier 1.0\n"
     ]
    }
   ],
   "source": [
    "score_circles = np.linalg.eigh(res_circles[\"Laplacian\"])[1][:, 1]\n",
    "print(\"AUC score of the spectral classifier\", skm.roc_auc_score(circles_labels, score_circles))"
   ]
  },
  {
   "cell_type": "code",
   "execution_count": 49,
   "id": "2dc8bdee",
   "metadata": {},
   "outputs": [
    {
     "data": {
      "text/plain": [
       "<matplotlib.collections.PathCollection at 0x7fe3bc70a970>"
      ]
     },
     "execution_count": 49,
     "metadata": {},
     "output_type": "execute_result"
    },
    {
     "data": {
      "image/png": "[encoded data removed]",
      "text/plain": [
       "<Figure size 432x288 with 1 Axes>"
      ]
     },
     "metadata": {
      "needs_background": "light"
     },
     "output_type": "display_data"
    }
   ],
   "source": [
    "plt.scatter(score_circles, circles_labels)"
   ]
  },
  {
   "cell_type": "markdown",
   "id": "761965e8",
   "metadata": {},
   "source": [
    "And here is the learned adjacency matrix:"
   ]
  },
  {
   "cell_type": "code",
   "execution_count": 26,
   "id": "976f33f9",
   "metadata": {},
   "outputs": [
    {
     "data": {
      "image/png": "[encoded data removed]",
      "text/plain": [
       "<Figure size 1440x1440 with 1 Axes>"
      ]
     },
     "metadata": {
      "needs_background": "light"
     },
     "output_type": "display_data"
    }
   ],
   "source": [
    "id_circles = np.argsort(circles_labels)\n",
    "fig = plt.figure(figsize=(20, 20))\n",
    "plt.matshow(res_circles[\"Adjacency\"][id_circles][:, id_circles], fignum=0)\n",
    "plt.show()"
   ]
  },
  {
   "cell_type": "code",
   "execution_count": 27,
   "id": "e4dea2b0",
   "metadata": {},
   "outputs": [
    {
     "name": "stdout",
     "output_type": "stream",
     "text": [
      "0.02830183350622168 0.02830183350622168\n",
      "63.57896549250009\n"
     ]
    }
   ],
   "source": [
    "A=res_circles[\"Adjacency\"][id_circles][:, id_circles]\n",
    "print(np.max(A[60:,:40]),np.max(A[:40,60:]))\n",
    "print(np.max(A))"
   ]
  },
  {
   "cell_type": "markdown",
   "id": "568944ed",
   "metadata": {},
   "source": [
    "Here are unused functions to generate the helix_3D and the three_circles datasets:"
   ]
  },
  {
   "cell_type": "code",
   "execution_count": 28,
   "id": "1c12b329",
   "metadata": {},
   "outputs": [],
   "source": [
    "def helix_3D(n_samples, h=20, angle=np.pi/2):\n",
    "    labels=np.array([0]*(n_samples//2)+[1]*((n_samples+1)//2))\n",
    "    np.random.shuffle(labels)\n",
    "    ha = np.random.rand(n_samples)*h\n",
    "    return np.array([[np.cos(a+b),np.sin(a+b),a] for a,b in zip(ha,labels)]),labels"
   ]
  },
  {
   "cell_type": "code",
   "execution_count": 29,
   "id": "7cfc9eed",
   "metadata": {},
   "outputs": [],
   "source": [
    "def three_circles(n_samples,factor=0.5):\n",
    "    labels=np.zeros([n_samples])\n",
    "    labels[-n_samples//3:]=2\n",
    "    labels[n_samples//3:-n_samples//3]=1\n",
    "    np.random.shuffle(labels)\n",
    "    angles= np.random.rand(n_samples)*2*np.pi\n",
    "    print(angles,labels)\n",
    "    return np.array([[np.cos(a)*factor**b,np.sin(a)*factor**b] for a,b in zip(angles,labels)]),labels"
   ]
  },
  {
   "cell_type": "code",
   "execution_count": 30,
   "id": "680f59ca",
   "metadata": {},
   "outputs": [
    {
     "name": "stdout",
     "output_type": "stream",
     "text": [
      "[4.90922958 1.21742831 0.86699066 6.277438   0.69506555 1.39813885] [0. 1. 2. 1. 0. 2.]\n",
      "(array([[ 0.19557192, -0.98068936],\n",
      "       [ 0.17302984,  0.46910625],\n",
      "       [ 0.16178094,  0.19059624],\n",
      "       [ 0.49999174, -0.00287364],\n",
      "       [ 0.76801172,  0.64043579],\n",
      "       [ 0.04295023,  0.24628292]]), array([0., 1., 2., 1., 0., 2.]))\n"
     ]
    }
   ],
   "source": [
    "print(three_circles(6))"
   ]
  },
  {
   "cell_type": "markdown",
   "id": "0257b2d9",
   "metadata": {},
   "source": [
    "## RNA-Seq dataset\n",
    "\n",
    "This dataset come from https://archive.ics.uci.edu/ml/datasets/gene+expression+cancer+RNA-Seq#\n",
    "\n",
    "It represents 801 patients suffering from cancers of 5 different types.\n",
    "\n",
    "The features of the data are RNA-Seq gene expression levels, and the label is the tumor type.\n",
    "\n",
    "To make the code work, download the dataset, extract it and save data and labels in the folder ./data/genes/"
   ]
  },
  {
   "cell_type": "code",
   "execution_count": 31,
   "id": "16c20f9d",
   "metadata": {},
   "outputs": [
    {
     "data": {
      "text/html": [
       "<div>\n",
       "<style scoped>\n",
       "    .dataframe tbody tr th:only-of-type {\n",
       "        vertical-align: middle;\n",
       "    }\n",
       "\n",
       "    .dataframe tbody tr th {\n",
       "        vertical-align: top;\n",
       "    }\n",
       "\n",
       "    .dataframe thead th {\n",
       "        text-align: right;\n",
       "    }\n",
       "</style>\n",
       "<table border=\"1\" class=\"dataframe\">\n",
       "  <thead>\n",
       "    <tr style=\"text-align: right;\">\n",
       "      <th></th>\n",
       "      <th>gene_0</th>\n",
       "      <th>gene_1</th>\n",
       "      <th>gene_2</th>\n",
       "      <th>gene_3</th>\n",
       "      <th>gene_4</th>\n",
       "      <th>gene_5</th>\n",
       "      <th>gene_6</th>\n",
       "      <th>gene_7</th>\n",
       "      <th>gene_8</th>\n",
       "      <th>gene_9</th>\n",
       "      <th>...</th>\n",
       "      <th>gene_20521</th>\n",
       "      <th>gene_20522</th>\n",
       "      <th>gene_20523</th>\n",
       "      <th>gene_20524</th>\n",
       "      <th>gene_20525</th>\n",
       "      <th>gene_20526</th>\n",
       "      <th>gene_20527</th>\n",
       "      <th>gene_20528</th>\n",
       "      <th>gene_20529</th>\n",
       "      <th>gene_20530</th>\n",
       "    </tr>\n",
       "  </thead>\n",
       "  <tbody>\n",
       "    <tr>\n",
       "      <th>0</th>\n",
       "      <td>0.0</td>\n",
       "      <td>2.017209</td>\n",
       "      <td>3.265527</td>\n",
       "      <td>5.478487</td>\n",
       "      <td>10.431999</td>\n",
       "      <td>0.0</td>\n",
       "      <td>7.175175</td>\n",
       "      <td>0.591871</td>\n",
       "      <td>0.0</td>\n",
       "      <td>0.0</td>\n",
       "      <td>...</td>\n",
       "      <td>4.926711</td>\n",
       "      <td>8.210257</td>\n",
       "      <td>9.723516</td>\n",
       "      <td>7.220030</td>\n",
       "      <td>9.119813</td>\n",
       "      <td>12.003135</td>\n",
       "      <td>9.650743</td>\n",
       "      <td>8.921326</td>\n",
       "      <td>5.286759</td>\n",
       "      <td>0.000000</td>\n",
       "    </tr>\n",
       "    <tr>\n",
       "      <th>1</th>\n",
       "      <td>0.0</td>\n",
       "      <td>0.592732</td>\n",
       "      <td>1.588421</td>\n",
       "      <td>7.586157</td>\n",
       "      <td>9.623011</td>\n",
       "      <td>0.0</td>\n",
       "      <td>6.816049</td>\n",
       "      <td>0.000000</td>\n",
       "      <td>0.0</td>\n",
       "      <td>0.0</td>\n",
       "      <td>...</td>\n",
       "      <td>4.593372</td>\n",
       "      <td>7.323865</td>\n",
       "      <td>9.740931</td>\n",
       "      <td>6.256586</td>\n",
       "      <td>8.381612</td>\n",
       "      <td>12.674552</td>\n",
       "      <td>10.517059</td>\n",
       "      <td>9.397854</td>\n",
       "      <td>2.094168</td>\n",
       "      <td>0.000000</td>\n",
       "    </tr>\n",
       "    <tr>\n",
       "      <th>2</th>\n",
       "      <td>0.0</td>\n",
       "      <td>3.511759</td>\n",
       "      <td>4.327199</td>\n",
       "      <td>6.881787</td>\n",
       "      <td>9.870730</td>\n",
       "      <td>0.0</td>\n",
       "      <td>6.972130</td>\n",
       "      <td>0.452595</td>\n",
       "      <td>0.0</td>\n",
       "      <td>0.0</td>\n",
       "      <td>...</td>\n",
       "      <td>5.125213</td>\n",
       "      <td>8.127123</td>\n",
       "      <td>10.908640</td>\n",
       "      <td>5.401607</td>\n",
       "      <td>9.911597</td>\n",
       "      <td>9.045255</td>\n",
       "      <td>9.788359</td>\n",
       "      <td>10.090470</td>\n",
       "      <td>1.683023</td>\n",
       "      <td>0.000000</td>\n",
       "    </tr>\n",
       "    <tr>\n",
       "      <th>3</th>\n",
       "      <td>0.0</td>\n",
       "      <td>3.663618</td>\n",
       "      <td>4.507649</td>\n",
       "      <td>6.659068</td>\n",
       "      <td>10.196184</td>\n",
       "      <td>0.0</td>\n",
       "      <td>7.843375</td>\n",
       "      <td>0.434882</td>\n",
       "      <td>0.0</td>\n",
       "      <td>0.0</td>\n",
       "      <td>...</td>\n",
       "      <td>6.076566</td>\n",
       "      <td>8.792959</td>\n",
       "      <td>10.141520</td>\n",
       "      <td>8.942805</td>\n",
       "      <td>9.601208</td>\n",
       "      <td>11.392682</td>\n",
       "      <td>9.694814</td>\n",
       "      <td>9.684365</td>\n",
       "      <td>3.292001</td>\n",
       "      <td>0.000000</td>\n",
       "    </tr>\n",
       "    <tr>\n",
       "      <th>4</th>\n",
       "      <td>0.0</td>\n",
       "      <td>2.655741</td>\n",
       "      <td>2.821547</td>\n",
       "      <td>6.539454</td>\n",
       "      <td>9.738265</td>\n",
       "      <td>0.0</td>\n",
       "      <td>6.566967</td>\n",
       "      <td>0.360982</td>\n",
       "      <td>0.0</td>\n",
       "      <td>0.0</td>\n",
       "      <td>...</td>\n",
       "      <td>5.996032</td>\n",
       "      <td>8.891425</td>\n",
       "      <td>10.373790</td>\n",
       "      <td>7.181162</td>\n",
       "      <td>9.846910</td>\n",
       "      <td>11.922439</td>\n",
       "      <td>9.217749</td>\n",
       "      <td>9.461191</td>\n",
       "      <td>5.110372</td>\n",
       "      <td>0.000000</td>\n",
       "    </tr>\n",
       "    <tr>\n",
       "      <th>...</th>\n",
       "      <td>...</td>\n",
       "      <td>...</td>\n",
       "      <td>...</td>\n",
       "      <td>...</td>\n",
       "      <td>...</td>\n",
       "      <td>...</td>\n",
       "      <td>...</td>\n",
       "      <td>...</td>\n",
       "      <td>...</td>\n",
       "      <td>...</td>\n",
       "      <td>...</td>\n",
       "      <td>...</td>\n",
       "      <td>...</td>\n",
       "      <td>...</td>\n",
       "      <td>...</td>\n",
       "      <td>...</td>\n",
       "      <td>...</td>\n",
       "      <td>...</td>\n",
       "      <td>...</td>\n",
       "      <td>...</td>\n",
       "      <td>...</td>\n",
       "    </tr>\n",
       "    <tr>\n",
       "      <th>796</th>\n",
       "      <td>0.0</td>\n",
       "      <td>1.865642</td>\n",
       "      <td>2.718197</td>\n",
       "      <td>7.350099</td>\n",
       "      <td>10.006003</td>\n",
       "      <td>0.0</td>\n",
       "      <td>6.764792</td>\n",
       "      <td>0.496922</td>\n",
       "      <td>0.0</td>\n",
       "      <td>0.0</td>\n",
       "      <td>...</td>\n",
       "      <td>6.088133</td>\n",
       "      <td>9.118313</td>\n",
       "      <td>10.004852</td>\n",
       "      <td>4.484415</td>\n",
       "      <td>9.614701</td>\n",
       "      <td>12.031267</td>\n",
       "      <td>9.813063</td>\n",
       "      <td>10.092770</td>\n",
       "      <td>8.819269</td>\n",
       "      <td>0.000000</td>\n",
       "    </tr>\n",
       "    <tr>\n",
       "      <th>797</th>\n",
       "      <td>0.0</td>\n",
       "      <td>3.942955</td>\n",
       "      <td>4.453807</td>\n",
       "      <td>6.346597</td>\n",
       "      <td>10.056868</td>\n",
       "      <td>0.0</td>\n",
       "      <td>7.320331</td>\n",
       "      <td>0.000000</td>\n",
       "      <td>0.0</td>\n",
       "      <td>0.0</td>\n",
       "      <td>...</td>\n",
       "      <td>6.371876</td>\n",
       "      <td>9.623335</td>\n",
       "      <td>9.823921</td>\n",
       "      <td>6.555327</td>\n",
       "      <td>9.064002</td>\n",
       "      <td>11.633422</td>\n",
       "      <td>10.317266</td>\n",
       "      <td>8.745983</td>\n",
       "      <td>9.659081</td>\n",
       "      <td>0.000000</td>\n",
       "    </tr>\n",
       "    <tr>\n",
       "      <th>798</th>\n",
       "      <td>0.0</td>\n",
       "      <td>3.249582</td>\n",
       "      <td>3.707492</td>\n",
       "      <td>8.185901</td>\n",
       "      <td>9.504082</td>\n",
       "      <td>0.0</td>\n",
       "      <td>7.536589</td>\n",
       "      <td>1.811101</td>\n",
       "      <td>0.0</td>\n",
       "      <td>0.0</td>\n",
       "      <td>...</td>\n",
       "      <td>5.719386</td>\n",
       "      <td>8.610704</td>\n",
       "      <td>10.485517</td>\n",
       "      <td>3.589763</td>\n",
       "      <td>9.350636</td>\n",
       "      <td>12.180944</td>\n",
       "      <td>10.681194</td>\n",
       "      <td>9.466711</td>\n",
       "      <td>4.677458</td>\n",
       "      <td>0.586693</td>\n",
       "    </tr>\n",
       "    <tr>\n",
       "      <th>799</th>\n",
       "      <td>0.0</td>\n",
       "      <td>2.590339</td>\n",
       "      <td>2.787976</td>\n",
       "      <td>7.318624</td>\n",
       "      <td>9.987136</td>\n",
       "      <td>0.0</td>\n",
       "      <td>9.213464</td>\n",
       "      <td>0.000000</td>\n",
       "      <td>0.0</td>\n",
       "      <td>0.0</td>\n",
       "      <td>...</td>\n",
       "      <td>5.785237</td>\n",
       "      <td>8.605387</td>\n",
       "      <td>11.004677</td>\n",
       "      <td>4.745888</td>\n",
       "      <td>9.626383</td>\n",
       "      <td>11.198279</td>\n",
       "      <td>10.335513</td>\n",
       "      <td>10.400581</td>\n",
       "      <td>5.718751</td>\n",
       "      <td>0.000000</td>\n",
       "    </tr>\n",
       "    <tr>\n",
       "      <th>800</th>\n",
       "      <td>0.0</td>\n",
       "      <td>2.325242</td>\n",
       "      <td>3.805932</td>\n",
       "      <td>6.530246</td>\n",
       "      <td>9.560367</td>\n",
       "      <td>0.0</td>\n",
       "      <td>7.957027</td>\n",
       "      <td>0.000000</td>\n",
       "      <td>0.0</td>\n",
       "      <td>0.0</td>\n",
       "      <td>...</td>\n",
       "      <td>6.403075</td>\n",
       "      <td>8.594354</td>\n",
       "      <td>10.243079</td>\n",
       "      <td>9.139459</td>\n",
       "      <td>10.102934</td>\n",
       "      <td>11.641081</td>\n",
       "      <td>10.607358</td>\n",
       "      <td>9.844794</td>\n",
       "      <td>4.550716</td>\n",
       "      <td>0.000000</td>\n",
       "    </tr>\n",
       "  </tbody>\n",
       "</table>\n",
       "<p>801 rows × 20531 columns</p>\n",
       "</div>"
      ],
      "text/plain": [
       "     gene_0    gene_1    gene_2    gene_3     gene_4  gene_5    gene_6  \\\n",
       "0       0.0  2.017209  3.265527  5.478487  10.431999     0.0  7.175175   \n",
       "1       0.0  0.592732  1.588421  7.586157   9.623011     0.0  6.816049   \n",
       "2       0.0  3.511759  4.327199  6.881787   9.870730     0.0  6.972130   \n",
       "3       0.0  3.663618  4.507649  6.659068  10.196184     0.0  7.843375   \n",
       "4       0.0  2.655741  2.821547  6.539454   9.738265     0.0  6.566967   \n",
       "..      ...       ...       ...       ...        ...     ...       ...   \n",
       "796     0.0  1.865642  2.718197  7.350099  10.006003     0.0  6.764792   \n",
       "797     0.0  3.942955  4.453807  6.346597  10.056868     0.0  7.320331   \n",
       "798     0.0  3.249582  3.707492  8.185901   9.504082     0.0  7.536589   \n",
       "799     0.0  2.590339  2.787976  7.318624   9.987136     0.0  9.213464   \n",
       "800     0.0  2.325242  3.805932  6.530246   9.560367     0.0  7.957027   \n",
       "\n",
       "       gene_7  gene_8  gene_9  ...  gene_20521  gene_20522  gene_20523  \\\n",
       "0    0.591871     0.0     0.0  ...    4.926711    8.210257    9.723516   \n",
       "1    0.000000     0.0     0.0  ...    4.593372    7.323865    9.740931   \n",
       "2    0.452595     0.0     0.0  ...    5.125213    8.127123   10.908640   \n",
       "3    0.434882     0.0     0.0  ...    6.076566    8.792959   10.141520   \n",
       "4    0.360982     0.0     0.0  ...    5.996032    8.891425   10.373790   \n",
       "..        ...     ...     ...  ...         ...         ...         ...   \n",
       "796  0.496922     0.0     0.0  ...    6.088133    9.118313   10.004852   \n",
       "797  0.000000     0.0     0.0  ...    6.371876    9.623335    9.823921   \n",
       "798  1.811101     0.0     0.0  ...    5.719386    8.610704   10.485517   \n",
       "799  0.000000     0.0     0.0  ...    5.785237    8.605387   11.004677   \n",
       "800  0.000000     0.0     0.0  ...    6.403075    8.594354   10.243079   \n",
       "\n",
       "     gene_20524  gene_20525  gene_20526  gene_20527  gene_20528  gene_20529  \\\n",
       "0      7.220030    9.119813   12.003135    9.650743    8.921326    5.286759   \n",
       "1      6.256586    8.381612   12.674552   10.517059    9.397854    2.094168   \n",
       "2      5.401607    9.911597    9.045255    9.788359   10.090470    1.683023   \n",
       "3      8.942805    9.601208   11.392682    9.694814    9.684365    3.292001   \n",
       "4      7.181162    9.846910   11.922439    9.217749    9.461191    5.110372   \n",
       "..          ...         ...         ...         ...         ...         ...   \n",
       "796    4.484415    9.614701   12.031267    9.813063   10.092770    8.819269   \n",
       "797    6.555327    9.064002   11.633422   10.317266    8.745983    9.659081   \n",
       "798    3.589763    9.350636   12.180944   10.681194    9.466711    4.677458   \n",
       "799    4.745888    9.626383   11.198279   10.335513   10.400581    5.718751   \n",
       "800    9.139459   10.102934   11.641081   10.607358    9.844794    4.550716   \n",
       "\n",
       "     gene_20530  \n",
       "0      0.000000  \n",
       "1      0.000000  \n",
       "2      0.000000  \n",
       "3      0.000000  \n",
       "4      0.000000  \n",
       "..          ...  \n",
       "796    0.000000  \n",
       "797    0.000000  \n",
       "798    0.586693  \n",
       "799    0.000000  \n",
       "800    0.000000  \n",
       "\n",
       "[801 rows x 20531 columns]"
      ]
     },
     "execution_count": 31,
     "metadata": {},
     "output_type": "execute_result"
    }
   ],
   "source": [
    "gene_df = pd.read_csv(\"data/genes/data.csv\")\n",
    "gene_df = gene_df[gene_df.columns[1:]]\n",
    "gene_df"
   ]
  },
  {
   "cell_type": "code",
   "execution_count": 35,
   "id": "2201887c",
   "metadata": {},
   "outputs": [
    {
     "data": {
      "text/html": [
       "<div>\n",
       "<style scoped>\n",
       "    .dataframe tbody tr th:only-of-type {\n",
       "        vertical-align: middle;\n",
       "    }\n",
       "\n",
       "    .dataframe tbody tr th {\n",
       "        vertical-align: top;\n",
       "    }\n",
       "\n",
       "    .dataframe thead th {\n",
       "        text-align: right;\n",
       "    }\n",
       "</style>\n",
       "<table border=\"1\" class=\"dataframe\">\n",
       "  <thead>\n",
       "    <tr style=\"text-align: right;\">\n",
       "      <th></th>\n",
       "      <th>Class</th>\n",
       "    </tr>\n",
       "  </thead>\n",
       "  <tbody>\n",
       "    <tr>\n",
       "      <th>0</th>\n",
       "      <td>PRAD</td>\n",
       "    </tr>\n",
       "    <tr>\n",
       "      <th>1</th>\n",
       "      <td>LUAD</td>\n",
       "    </tr>\n",
       "    <tr>\n",
       "      <th>2</th>\n",
       "      <td>PRAD</td>\n",
       "    </tr>\n",
       "    <tr>\n",
       "      <th>3</th>\n",
       "      <td>PRAD</td>\n",
       "    </tr>\n",
       "    <tr>\n",
       "      <th>4</th>\n",
       "      <td>BRCA</td>\n",
       "    </tr>\n",
       "    <tr>\n",
       "      <th>...</th>\n",
       "      <td>...</td>\n",
       "    </tr>\n",
       "    <tr>\n",
       "      <th>796</th>\n",
       "      <td>BRCA</td>\n",
       "    </tr>\n",
       "    <tr>\n",
       "      <th>797</th>\n",
       "      <td>LUAD</td>\n",
       "    </tr>\n",
       "    <tr>\n",
       "      <th>798</th>\n",
       "      <td>COAD</td>\n",
       "    </tr>\n",
       "    <tr>\n",
       "      <th>799</th>\n",
       "      <td>PRAD</td>\n",
       "    </tr>\n",
       "    <tr>\n",
       "      <th>800</th>\n",
       "      <td>PRAD</td>\n",
       "    </tr>\n",
       "  </tbody>\n",
       "</table>\n",
       "<p>801 rows × 1 columns</p>\n",
       "</div>"
      ],
      "text/plain": [
       "    Class\n",
       "0    PRAD\n",
       "1    LUAD\n",
       "2    PRAD\n",
       "3    PRAD\n",
       "4    BRCA\n",
       "..    ...\n",
       "796  BRCA\n",
       "797  LUAD\n",
       "798  COAD\n",
       "799  PRAD\n",
       "800  PRAD\n",
       "\n",
       "[801 rows x 1 columns]"
      ]
     },
     "execution_count": 35,
     "metadata": {},
     "output_type": "execute_result"
    }
   ],
   "source": [
    "gene_labels = pd.read_csv(\"data/genes/labels.csv\")\n",
    "gene_labels = gene_labels[gene_labels.columns[1:]]\n",
    "gene_labels"
   ]
  },
  {
   "cell_type": "markdown",
   "id": "3603375c",
   "metadata": {},
   "source": [
    "The goal is to model the distribution with a $k$ component graph, in order to cluster the data into $k$ classes. As there are $k=5$ classes in reality, we try the algorithm with this value.\n",
    "\n",
    "We also normalize the expression of the genes before computing the covariance matrix."
   ]
  },
  {
   "cell_type": "code",
   "execution_count": 36,
   "id": "c8f7d3e5",
   "metadata": {},
   "outputs": [
    {
     "name": "stdout",
     "output_type": "stream",
     "text": [
      "28.284271146464874\n",
      "28.28427121917764\n"
     ]
    }
   ],
   "source": [
    "l=gene_df.values\n",
    "print(np.max(l))\n",
    "\n",
    "l-=np.expand_dims(np.mean(l,axis=0),axis=0)\n",
    "l/=np.expand_dims(np.std(l,axis=0)+10**-9,axis=0)\n",
    "C = np.cov(l)\n",
    "print(np.max(l))"
   ]
  },
  {
   "cell_type": "code",
   "execution_count": 37,
   "id": "311a10bb",
   "metadata": {},
   "outputs": [
    {
     "name": "stderr",
     "output_type": "stream",
     "text": [
      "100%|██████████████████████████████████████████████████████████████████████████████████████████████████████████████████████████████████████████████████████████████████| 2000/2000 [01:41<00:00, 19.64it/s]\n"
     ]
    }
   ],
   "source": [
    "res_genes = learn_k_component_graph(C, k=9, maxiter=2000) #2000 or more in reality"
   ]
  },
  {
   "cell_type": "markdown",
   "id": "3dda434c",
   "metadata": {},
   "source": [
    "Then, we reorganise the matrix according to their labels to see visually if the components that should be connected are effectively connected."
   ]
  },
  {
   "cell_type": "code",
   "execution_count": null,
   "id": "11df2fbb",
   "metadata": {},
   "outputs": [],
   "source": [
    "id_genes = np.argsort(gene_labels.values.squeeze())"
   ]
  },
  {
   "cell_type": "code",
   "execution_count": null,
   "id": "149a1164",
   "metadata": {},
   "outputs": [],
   "source": [
    "fig = plt.figure(figsize=(20, 20))\n",
    "l=(res_genes[\"Adjacency\"]>10**-3)\n",
    "plt.matshow(l[id_genes][:, id_genes], fignum=0)\n",
    "plt.show()"
   ]
  },
  {
   "cell_type": "markdown",
   "id": "4c5b3ef0",
   "metadata": {},
   "source": [
    "On this representation of the matrix $\\mathbb{1}_{A_{ij}>\\epsilon}$ with $A$ the adjacency matrix and $\\epsilon=10^{-3}$ reorganised according to the true labels, we see that the algorithm learns somehow the main components."
   ]
  },
  {
   "cell_type": "code",
   "execution_count": null,
   "id": "c256eb15",
   "metadata": {},
   "outputs": [],
   "source": [
    "print(np.sort(np.linalg.eigh(res_genes[\"Laplacian\"])[0]))"
   ]
  },
  {
   "cell_type": "code",
   "execution_count": null,
   "id": "84ddfcc1",
   "metadata": {},
   "outputs": [],
   "source": [
    "def connected_component(A):\n",
    "    n=A.shape[0]\n",
    "    cc=[-1]*n\n",
    "    nbcc=0\n",
    "    def parc(u,i,n):\n",
    "        cc[u]=i\n",
    "        for v in range(n):\n",
    "            if A[u][v]>10**-7 and cc[v]==-1:\n",
    "                parc(v,i,n)\n",
    "    for u in range(n):\n",
    "        if cc[u]==-1:\n",
    "            parc(u,nbcc,n)\n",
    "            nbcc+=1\n",
    "    return cc        "
   ]
  },
  {
   "cell_type": "code",
   "execution_count": null,
   "id": "635f18f6",
   "metadata": {},
   "outputs": [],
   "source": [
    "cc=connected_component(l)"
   ]
  },
  {
   "cell_type": "code",
   "execution_count": null,
   "id": "6fd582b1",
   "metadata": {},
   "outputs": [],
   "source": [
    "print(np.array(cc))\n",
    "D=np.diagonal(res_genes[\"Laplacian\"])\n",
    "print(np.sort(D))"
   ]
  },
  {
   "cell_type": "markdown",
   "id": "b429c539",
   "metadata": {},
   "source": [
    "Unfortunately, as the sorted values of the laplacian diagonal show, these components correspond to single nodes, connected to no other node in the dataset."
   ]
  },
  {
   "cell_type": "markdown",
   "id": "a96a140f",
   "metadata": {},
   "source": [
    "## Realistic sensor displacement benchmark dataset"
   ]
  },
  {
   "cell_type": "markdown",
   "id": "efe7d4be",
   "metadata": {},
   "source": [
    "This part contains the experiments about the multivariate times series measuring body movements.\n",
    "\n",
    "The data is available at https://archive.ics.uci.edu/ml/machine-learning-databases/00305/\n",
    "\n",
    "To make the code work, download the dataset, extract it and save data and labels in the folder ./data/realistic_sensor_displacement/"
   ]
  },
  {
   "cell_type": "code",
   "execution_count": null,
   "id": "c9960873",
   "metadata": {},
   "outputs": [],
   "source": [
    "from os import listdir\n",
    "location = \"data/realistic_sensor_displacement\"\n",
    "for filename in listdir(location)[:1]:\n",
    "    file=(pd.read_csv(location+'/'+filename, skiprows=0, sep='\\s+'))"
   ]
  },
  {
   "cell_type": "code",
   "execution_count": null,
   "id": "1a0c4a55",
   "metadata": {},
   "outputs": [],
   "source": [
    "l=file.values\n",
    "\n",
    "print(l.shape)"
   ]
  },
  {
   "cell_type": "code",
   "execution_count": null,
   "id": "d0aecd3c",
   "metadata": {},
   "outputs": [],
   "source": [
    "l=l[:,2:-1]"
   ]
  },
  {
   "cell_type": "markdown",
   "id": "7e2daf2a",
   "metadata": {},
   "source": [
    "We try to learn a laplacian while enforcing a $k$ components structure for its associated graph."
   ]
  },
  {
   "cell_type": "code",
   "execution_count": null,
   "id": "acd629e5",
   "metadata": {},
   "outputs": [],
   "source": [
    "di=learn_k_component_graph(l.T,k=5,maxiter=1000)"
   ]
  },
  {
   "cell_type": "markdown",
   "id": "a8702c5a",
   "metadata": {},
   "source": [
    "Then, we plot the adjecency matrix, reorganised according to the coefficients of the second eigenvector of the laplacian, which could give a (very) rough estimation of the learned classes, according to spectral graph theory."
   ]
  },
  {
   "cell_type": "code",
   "execution_count": null,
   "id": "ed72c834",
   "metadata": {},
   "outputs": [],
   "source": [
    "V=np.linalg.eigh(di[\"Laplacian\"])[1]"
   ]
  },
  {
   "cell_type": "code",
   "execution_count": null,
   "id": "b3cd7f27",
   "metadata": {},
   "outputs": [],
   "source": [
    "ordre=np.argsort(V.T[1,:])"
   ]
  },
  {
   "cell_type": "code",
   "execution_count": null,
   "id": "26df1275",
   "metadata": {},
   "outputs": [],
   "source": [
    "fig = plt.figure(figsize=(20, 20))\n",
    "plt.matshow(di[\"Adjacency\"][ordre][:,ordre], fignum=0)\n",
    "plt.show()"
   ]
  },
  {
   "cell_type": "markdown",
   "id": "76cdfce4",
   "metadata": {},
   "source": [
    "We do not see any meaningful pattern in the matrix, showing that the graph learning has probably failed."
   ]
  },
  {
   "cell_type": "code",
   "execution_count": null,
   "id": "b6bc1274",
   "metadata": {},
   "outputs": [],
   "source": [
    "print(di[\"convergence\"])"
   ]
  },
  {
   "cell_type": "code",
   "execution_count": null,
   "id": "ba79f941",
   "metadata": {},
   "outputs": [],
   "source": [
    "print(np.sort(np.linalg.eigh(di[\"Laplacian\"])[0])[:10])"
   ]
  },
  {
   "cell_type": "markdown",
   "id": "ebf95329",
   "metadata": {},
   "source": [
    "We see that indeed, the algorithm didn't converge and the laplacian has only one zero eigenvalue.\n",
    "\n",
    "Then, we try to use thresholding to enforce the smalest coefficients to go to zero and increase the number of components of the graph."
   ]
  },
  {
   "cell_type": "code",
   "execution_count": null,
   "id": "4df7dfe9",
   "metadata": {},
   "outputs": [],
   "source": [
    "A=(di[\"Adjacency\"])*(abs(di[\"Adjacency\"])>10**-3)"
   ]
  },
  {
   "cell_type": "code",
   "execution_count": null,
   "id": "dca29875",
   "metadata": {},
   "outputs": [],
   "source": [
    "L=A_to_L(A)"
   ]
  },
  {
   "cell_type": "code",
   "execution_count": null,
   "id": "8ee9ea10",
   "metadata": {},
   "outputs": [],
   "source": [
    "print(np.sort(np.linalg.eigh(L)[0])[:10])"
   ]
  },
  {
   "cell_type": "markdown",
   "id": "0ab4202c",
   "metadata": {},
   "source": [
    "Unfortunately, the trick didn't work. We think that one explanation of this is because the data was not adapted to $k$-components graph learning "
   ]
  }
 ],
 "metadata": {
  "kernelspec": {
   "display_name": "Python 3 (ipykernel)",
   "language": "python",
   "name": "python3"
  },
  "language_info": {
   "codemirror_mode": {
    "name": "ipython",
    "version": 3
   },
   "file_extension": ".py",
   "mimetype": "text/x-python",
   "name": "python",
   "nbconvert_exporter": "python",
   "pygments_lexer": "ipython3",
   "version": "3.9.7"
  }
 },
 "nbformat": 4,
 "nbformat_minor": 5
}
