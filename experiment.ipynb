{
 "cells": [
  {
   "cell_type": "markdown",
   "id": "e46380b4",
   "metadata": {},
   "source": [
    "# ML for Time Series\n",
    "\n",
    "## A Unified Framework for Structured Graph Learning via Spectral Constraints\n",
    "\n",
    "Baptiste Collet - Cyril Miras\n",
    "\n",
    "## Experiments"
   ]
  },
  {
   "cell_type": "markdown",
   "id": "49252c5d",
   "metadata": {},
   "source": [
    "### Setup"
   ]
  },
  {
   "cell_type": "code",
   "execution_count": 1,
   "id": "b6284b40",
   "metadata": {},
   "outputs": [],
   "source": [
    "import numpy as np\n",
    "import pandas as pd\n",
    "import matplotlib.pyplot as plt\n",
    "import sklearn.datasets as skd\n",
    "import sklearn.metrics as skm\n",
    "from learnGraphTopology import *"
   ]
  },
  {
   "cell_type": "code",
   "execution_count": 2,
   "id": "a98b3c4e",
   "metadata": {},
   "outputs": [],
   "source": [
    "def A_to_L(A):\n",
    "    D=np.diag(np.sum(A,axis=0))\n",
    "    return D-A"
   ]
  },
  {
   "cell_type": "markdown",
   "id": "d7cddf5e",
   "metadata": {},
   "source": [
    "## Denoising a multi-component graph"
   ]
  },
  {
   "cell_type": "markdown",
   "id": "f217c5c6",
   "metadata": {},
   "source": [
    "First, we use the spectralGraphTopology to denoise laplacian matrices polluted with noise. We generate a 4 components adjacency matrix."
   ]
  },
  {
   "cell_type": "code",
   "execution_count": 3,
   "id": "068bdccf",
   "metadata": {},
   "outputs": [],
   "source": [
    "n_class_feats = 5\n",
    "n_classes = 4\n",
    "n_feats = n_classes * n_class_feats\n",
    "prob_intra = 1\n",
    "prob_extra = 0.3\n",
    "max_weight_intra = 1\n",
    "max_weight_extra = 0.3"
   ]
  },
  {
   "cell_type": "code",
   "execution_count": 4,
   "id": "ea6cf134",
   "metadata": {},
   "outputs": [
    {
     "data": {
      "image/png": "[encoded data removed]",
      "text/plain": [
       "<Figure size 288x288 with 1 Axes>"
      ]
     },
     "metadata": {
      "needs_background": "light"
     },
     "output_type": "display_data"
    }
   ],
   "source": [
    "adj = np.zeros((n_feats, n_feats))\n",
    "for i in range(n_classes):\n",
    "    i_start = i * n_class_feats\n",
    "    i_end = i_start + n_class_feats\n",
    "    for ii in range(i_start, i_end):\n",
    "        for jj in range(ii+1, i_end):\n",
    "            adj[ii, jj] = np.random.binomial(n=1, p=prob_intra) * np.random.uniform(high=max_weight_intra)\n",
    "plt.matshow(adj+adj.T)\n",
    "plt.title(\"Original matrix\")\n",
    "plt.show()"
   ]
  },
  {
   "cell_type": "markdown",
   "id": "4410af3c",
   "metadata": {},
   "source": [
    "We add noise to the matrix"
   ]
  },
  {
   "cell_type": "code",
   "execution_count": 5,
   "id": "79bfce60",
   "metadata": {},
   "outputs": [
    {
     "data": {
      "image/png": "[encoded data removed]",
      "text/plain": [
       "<Figure size 288x288 with 1 Axes>"
      ]
     },
     "metadata": {
      "needs_background": "light"
     },
     "output_type": "display_data"
    }
   ],
   "source": [
    "for i in range(n_feats):\n",
    "    for j in range(i+1, n_feats):\n",
    "        adj[i, j] += np.random.binomial(n=1, p=prob_extra) * np.random.uniform(high=max_weight_extra)\n",
    "adj = adj + adj.T\n",
    "plt.matshow(adj)\n",
    "plt.title(\"Noisy matrix\")\n",
    "plt.show()"
   ]
  },
  {
   "cell_type": "markdown",
   "id": "70ea5466",
   "metadata": {},
   "source": [
    "We generate the data according to the noisy laplacian and learn a denoise laplacian corresponding to a 4 components matrix"
   ]
  },
  {
   "cell_type": "code",
   "execution_count": 6,
   "id": "79741356",
   "metadata": {},
   "outputs": [],
   "source": [
    "n_samples = 100 * n_feats\n",
    "# compute the laplacian and correlation matrices\n",
    "lap = np.diag(adj.sum(axis=0)) - adj\n",
    "theta = np.linalg.pinv(lap)\n",
    "# generate samples\n",
    "x = np.random.multivariate_normal(np.zeros(n_feats), theta, size=n_samples).T"
   ]
  },
  {
   "cell_type": "code",
   "execution_count": 7,
   "id": "236c06d2",
   "metadata": {},
   "outputs": [
    {
     "name": "stderr",
     "output_type": "stream",
     "text": [
      "  1%|█▋                                                                                                                                                               | 105/10000 [00:00<00:33, 298.73it/s]"
     ]
    },
    {
     "name": "stdout",
     "output_type": "stream",
     "text": [
      "The optimization converged!\n"
     ]
    },
    {
     "name": "stderr",
     "output_type": "stream",
     "text": [
      "\n"
     ]
    }
   ],
   "source": [
    "# learn the laplacian and adjacency matrices\n",
    "res_denoising = learn_k_component_graph(x, k=4, maxiter=10000)\n",
    "if res_denoising['convergence']: print(\"The optimization converged!\")"
   ]
  },
  {
   "cell_type": "code",
   "execution_count": 8,
   "id": "d5f394a8",
   "metadata": {},
   "outputs": [
    {
     "data": {
      "image/png": "[encoded data removed]",
      "text/plain": [
       "<Figure size 288x288 with 1 Axes>"
      ]
     },
     "metadata": {
      "needs_background": "light"
     },
     "output_type": "display_data"
    },
    {
     "name": "stdout",
     "output_type": "stream",
     "text": [
      "relative error:  0.6511894671427373\n",
      "naive relative error:  0.09260376587545334\n"
     ]
    }
   ],
   "source": [
    "plt.matshow(res_denoising[\"Adjacency\"])\n",
    "plt.title(\"recovered adjacency matrix\")\n",
    "plt.show()\n",
    "print('relative error: ', np.linalg.norm(res_denoising[\"Laplacian\"] - lap)/np.linalg.norm(lap))\n",
    "print('naive relative error: ', np.linalg.norm(np.linalg.pinv(np.cov(x)) - lap)/np.linalg.norm(lap))"
   ]
  },
  {
   "cell_type": "markdown",
   "id": "c8f67412",
   "metadata": {},
   "source": [
    "We show the computed laplacian: the components are well retrieved, but the coefficients have been modified during the process."
   ]
  },
  {
   "cell_type": "markdown",
   "id": "eb8f4cca",
   "metadata": {},
   "source": [
    "# Denoising a bipartite graph"
   ]
  },
  {
   "cell_type": "markdown",
   "id": "ba032741",
   "metadata": {},
   "source": [
    "Now, we test it on a bipartite graph structure."
   ]
  },
  {
   "cell_type": "code",
   "execution_count": 9,
   "id": "e006d1f8",
   "metadata": {},
   "outputs": [
    {
     "data": {
      "image/png": "[encoded data removed]",
      "text/plain": [
       "<Figure size 288x288 with 1 Axes>"
      ]
     },
     "metadata": {
      "needs_background": "light"
     },
     "output_type": "display_data"
    },
    {
     "data": {
      "text/plain": [
       "Text(0.5, 1.0, 'noisy')"
      ]
     },
     "execution_count": 9,
     "metadata": {},
     "output_type": "execute_result"
    },
    {
     "data": {
      "image/png": "[encoded data removed]",
      "text/plain": [
       "<Figure size 288x288 with 1 Axes>"
      ]
     },
     "metadata": {
      "needs_background": "light"
     },
     "output_type": "display_data"
    }
   ],
   "source": [
    "halfnodes=20\n",
    "nodes=2*halfnodes\n",
    "A = np.zeros([halfnodes*2,halfnodes*2])\n",
    "\n",
    "A[halfnodes:,:halfnodes] = 1\n",
    "plt.matshow(A+A.T)\n",
    "plt.title(\"original\")\n",
    "plt.show()\n",
    "A+=np.random.rand(nodes,nodes)*0.1\n",
    "for k in range(nodes):\n",
    "    A[k][k]=0\n",
    "A+=A.T\n",
    "L=A_to_L(A)\n",
    "plt.matshow(A)\n",
    "plt.title(\"noisy\")"
   ]
  },
  {
   "cell_type": "code",
   "execution_count": 10,
   "id": "ce6373dc",
   "metadata": {},
   "outputs": [
    {
     "name": "stderr",
     "output_type": "stream",
     "text": [
      "  0%|                                                                                                                                                                    | 1/10000 [00:00<24:31,  6.80it/s]/home/bcollet/Documents/spectralGraphTopology/ObjectiveFunction.py:18: RuntimeWarning: invalid value encountered in log\n",
      "  return np.sum(-np.log(np.linalg.eigh(Lw+J)[0]+eps)+np.diagonal(K@Lw))\n",
      "/home/bcollet/Documents/spectralGraphTopology/ObjectiveFunction.py:18: RuntimeWarning: invalid value encountered in log\n",
      "  return np.sum(-np.log(np.linalg.eigh(Lw+J)[0]+eps)+np.diagonal(K@Lw))\n",
      "/home/bcollet/Documents/spectralGraphTopology/ObjectiveFunction.py:18: RuntimeWarning: invalid value encountered in log\n",
      "  return np.sum(-np.log(np.linalg.eigh(Lw+J)[0]+eps)+np.diagonal(K@Lw))\n",
      "/home/bcollet/Documents/spectralGraphTopology/ObjectiveFunction.py:18: RuntimeWarning: invalid value encountered in log\n",
      "  return np.sum(-np.log(np.linalg.eigh(Lw+J)[0]+eps)+np.diagonal(K@Lw))\n",
      "/home/bcollet/Documents/spectralGraphTopology/ObjectiveFunction.py:18: RuntimeWarning: invalid value encountered in log\n",
      "  return np.sum(-np.log(np.linalg.eigh(Lw+J)[0]+eps)+np.diagonal(K@Lw))\n",
      "/home/bcollet/Documents/spectralGraphTopology/ObjectiveFunction.py:18: RuntimeWarning: divide by zero encountered in log\n",
      "  return np.sum(-np.log(np.linalg.eigh(Lw+J)[0]+eps)+np.diagonal(K@Lw))\n",
      "/home/bcollet/Documents/spectralGraphTopology/ObjectiveFunction.py:18: RuntimeWarning: invalid value encountered in log\n",
      "  return np.sum(-np.log(np.linalg.eigh(Lw+J)[0]+eps)+np.diagonal(K@Lw))\n",
      "/home/bcollet/Documents/spectralGraphTopology/ObjectiveFunction.py:18: RuntimeWarning: invalid value encountered in log\n",
      "  return np.sum(-np.log(np.linalg.eigh(Lw+J)[0]+eps)+np.diagonal(K@Lw))\n",
      "/home/bcollet/Documents/spectralGraphTopology/ObjectiveFunction.py:18: RuntimeWarning: invalid value encountered in log\n",
      "  return np.sum(-np.log(np.linalg.eigh(Lw+J)[0]+eps)+np.diagonal(K@Lw))\n",
      "/home/bcollet/Documents/spectralGraphTopology/ObjectiveFunction.py:18: RuntimeWarning: invalid value encountered in log\n",
      "  return np.sum(-np.log(np.linalg.eigh(Lw+J)[0]+eps)+np.diagonal(K@Lw))\n",
      "/home/bcollet/Documents/spectralGraphTopology/ObjectiveFunction.py:18: RuntimeWarning: invalid value encountered in log\n",
      "  return np.sum(-np.log(np.linalg.eigh(Lw+J)[0]+eps)+np.diagonal(K@Lw))\n",
      "/home/bcollet/Documents/spectralGraphTopology/ObjectiveFunction.py:18: RuntimeWarning: invalid value encountered in log\n",
      "  return np.sum(-np.log(np.linalg.eigh(Lw+J)[0]+eps)+np.diagonal(K@Lw))\n",
      "/home/bcollet/Documents/spectralGraphTopology/ObjectiveFunction.py:18: RuntimeWarning: invalid value encountered in log\n",
      "  return np.sum(-np.log(np.linalg.eigh(Lw+J)[0]+eps)+np.diagonal(K@Lw))\n",
      "/home/bcollet/Documents/spectralGraphTopology/ObjectiveFunction.py:18: RuntimeWarning: invalid value encountered in log\n",
      "  return np.sum(-np.log(np.linalg.eigh(Lw+J)[0]+eps)+np.diagonal(K@Lw))\n",
      "/home/bcollet/Documents/spectralGraphTopology/ObjectiveFunction.py:18: RuntimeWarning: divide by zero encountered in log\n",
      "  return np.sum(-np.log(np.linalg.eigh(Lw+J)[0]+eps)+np.diagonal(K@Lw))\n",
      "/home/bcollet/Documents/spectralGraphTopology/ObjectiveFunction.py:18: RuntimeWarning: invalid value encountered in log\n",
      "  return np.sum(-np.log(np.linalg.eigh(Lw+J)[0]+eps)+np.diagonal(K@Lw))\n",
      "/home/bcollet/Documents/spectralGraphTopology/ObjectiveFunction.py:18: RuntimeWarning: invalid value encountered in log\n",
      "  return np.sum(-np.log(np.linalg.eigh(Lw+J)[0]+eps)+np.diagonal(K@Lw))\n",
      "/home/bcollet/Documents/spectralGraphTopology/ObjectiveFunction.py:18: RuntimeWarning: invalid value encountered in log\n",
      "  return np.sum(-np.log(np.linalg.eigh(Lw+J)[0]+eps)+np.diagonal(K@Lw))\n",
      "/home/bcollet/Documents/spectralGraphTopology/ObjectiveFunction.py:18: RuntimeWarning: invalid value encountered in log\n",
      "  return np.sum(-np.log(np.linalg.eigh(Lw+J)[0]+eps)+np.diagonal(K@Lw))\n",
      "/home/bcollet/Documents/spectralGraphTopology/ObjectiveFunction.py:18: RuntimeWarning: invalid value encountered in log\n",
      "  return np.sum(-np.log(np.linalg.eigh(Lw+J)[0]+eps)+np.diagonal(K@Lw))\n",
      "/home/bcollet/Documents/spectralGraphTopology/ObjectiveFunction.py:18: RuntimeWarning: invalid value encountered in log\n",
      "  return np.sum(-np.log(np.linalg.eigh(Lw+J)[0]+eps)+np.diagonal(K@Lw))\n",
      "/home/bcollet/Documents/spectralGraphTopology/ObjectiveFunction.py:18: RuntimeWarning: invalid value encountered in log\n",
      "  return np.sum(-np.log(np.linalg.eigh(Lw+J)[0]+eps)+np.diagonal(K@Lw))\n",
      "/home/bcollet/Documents/spectralGraphTopology/ObjectiveFunction.py:18: RuntimeWarning: divide by zero encountered in log\n",
      "  return np.sum(-np.log(np.linalg.eigh(Lw+J)[0]+eps)+np.diagonal(K@Lw))\n",
      "/home/bcollet/Documents/spectralGraphTopology/ObjectiveFunction.py:18: RuntimeWarning: invalid value encountered in log\n",
      "  return np.sum(-np.log(np.linalg.eigh(Lw+J)[0]+eps)+np.diagonal(K@Lw))\n",
      "/home/bcollet/Documents/spectralGraphTopology/ObjectiveFunction.py:18: RuntimeWarning: invalid value encountered in log\n",
      "  return np.sum(-np.log(np.linalg.eigh(Lw+J)[0]+eps)+np.diagonal(K@Lw))\n",
      "/home/bcollet/Documents/spectralGraphTopology/ObjectiveFunction.py:18: RuntimeWarning: invalid value encountered in log\n",
      "  return np.sum(-np.log(np.linalg.eigh(Lw+J)[0]+eps)+np.diagonal(K@Lw))\n",
      "/home/bcollet/Documents/spectralGraphTopology/ObjectiveFunction.py:18: RuntimeWarning: invalid value encountered in log\n",
      "  return np.sum(-np.log(np.linalg.eigh(Lw+J)[0]+eps)+np.diagonal(K@Lw))\n",
      "/home/bcollet/Documents/spectralGraphTopology/ObjectiveFunction.py:18: RuntimeWarning: invalid value encountered in log\n",
      "  return np.sum(-np.log(np.linalg.eigh(Lw+J)[0]+eps)+np.diagonal(K@Lw))\n",
      "/home/bcollet/Documents/spectralGraphTopology/ObjectiveFunction.py:18: RuntimeWarning: invalid value encountered in log\n",
      "  return np.sum(-np.log(np.linalg.eigh(Lw+J)[0]+eps)+np.diagonal(K@Lw))\n",
      "/home/bcollet/Documents/spectralGraphTopology/ObjectiveFunction.py:18: RuntimeWarning: invalid value encountered in log\n",
      "  return np.sum(-np.log(np.linalg.eigh(Lw+J)[0]+eps)+np.diagonal(K@Lw))\n",
      "/home/bcollet/Documents/spectralGraphTopology/ObjectiveFunction.py:18: RuntimeWarning: invalid value encountered in log\n",
      "  return np.sum(-np.log(np.linalg.eigh(Lw+J)[0]+eps)+np.diagonal(K@Lw))\n",
      "/home/bcollet/Documents/spectralGraphTopology/ObjectiveFunction.py:18: RuntimeWarning: invalid value encountered in log\n",
      "  return np.sum(-np.log(np.linalg.eigh(Lw+J)[0]+eps)+np.diagonal(K@Lw))\n",
      "/home/bcollet/Documents/spectralGraphTopology/ObjectiveFunction.py:18: RuntimeWarning: invalid value encountered in log\n",
      "  return np.sum(-np.log(np.linalg.eigh(Lw+J)[0]+eps)+np.diagonal(K@Lw))\n",
      "/home/bcollet/Documents/spectralGraphTopology/ObjectiveFunction.py:18: RuntimeWarning: invalid value encountered in log\n",
      "  return np.sum(-np.log(np.linalg.eigh(Lw+J)[0]+eps)+np.diagonal(K@Lw))\n",
      "/home/bcollet/Documents/spectralGraphTopology/ObjectiveFunction.py:18: RuntimeWarning: invalid value encountered in log\n",
      "  return np.sum(-np.log(np.linalg.eigh(Lw+J)[0]+eps)+np.diagonal(K@Lw))\n",
      "/home/bcollet/Documents/spectralGraphTopology/ObjectiveFunction.py:18: RuntimeWarning: invalid value encountered in log\n",
      "  return np.sum(-np.log(np.linalg.eigh(Lw+J)[0]+eps)+np.diagonal(K@Lw))\n",
      "/home/bcollet/Documents/spectralGraphTopology/ObjectiveFunction.py:18: RuntimeWarning: invalid value encountered in log\n",
      "  return np.sum(-np.log(np.linalg.eigh(Lw+J)[0]+eps)+np.diagonal(K@Lw))\n",
      "/home/bcollet/Documents/spectralGraphTopology/ObjectiveFunction.py:18: RuntimeWarning: invalid value encountered in log\n",
      "  return np.sum(-np.log(np.linalg.eigh(Lw+J)[0]+eps)+np.diagonal(K@Lw))\n",
      "/home/bcollet/Documents/spectralGraphTopology/ObjectiveFunction.py:18: RuntimeWarning: invalid value encountered in log\n",
      "  return np.sum(-np.log(np.linalg.eigh(Lw+J)[0]+eps)+np.diagonal(K@Lw))\n",
      "/home/bcollet/Documents/spectralGraphTopology/ObjectiveFunction.py:18: RuntimeWarning: invalid value encountered in log\n",
      "  return np.sum(-np.log(np.linalg.eigh(Lw+J)[0]+eps)+np.diagonal(K@Lw))\n",
      "/home/bcollet/Documents/spectralGraphTopology/ObjectiveFunction.py:18: RuntimeWarning: invalid value encountered in log\n",
      "  return np.sum(-np.log(np.linalg.eigh(Lw+J)[0]+eps)+np.diagonal(K@Lw))\n",
      "/home/bcollet/Documents/spectralGraphTopology/ObjectiveFunction.py:18: RuntimeWarning: divide by zero encountered in log\n",
      "  return np.sum(-np.log(np.linalg.eigh(Lw+J)[0]+eps)+np.diagonal(K@Lw))\n",
      "/home/bcollet/Documents/spectralGraphTopology/ObjectiveFunction.py:18: RuntimeWarning: invalid value encountered in log\n",
      "  return np.sum(-np.log(np.linalg.eigh(Lw+J)[0]+eps)+np.diagonal(K@Lw))\n",
      "/home/bcollet/Documents/spectralGraphTopology/ObjectiveFunction.py:18: RuntimeWarning: invalid value encountered in log\n",
      "  return np.sum(-np.log(np.linalg.eigh(Lw+J)[0]+eps)+np.diagonal(K@Lw))\n",
      "/home/bcollet/Documents/spectralGraphTopology/ObjectiveFunction.py:18: RuntimeWarning: invalid value encountered in log\n",
      "  return np.sum(-np.log(np.linalg.eigh(Lw+J)[0]+eps)+np.diagonal(K@Lw))\n",
      "/home/bcollet/Documents/spectralGraphTopology/ObjectiveFunction.py:18: RuntimeWarning: invalid value encountered in log\n",
      "  return np.sum(-np.log(np.linalg.eigh(Lw+J)[0]+eps)+np.diagonal(K@Lw))\n",
      "/home/bcollet/Documents/spectralGraphTopology/ObjectiveFunction.py:18: RuntimeWarning: invalid value encountered in log\n",
      "  return np.sum(-np.log(np.linalg.eigh(Lw+J)[0]+eps)+np.diagonal(K@Lw))\n",
      "/home/bcollet/Documents/spectralGraphTopology/ObjectiveFunction.py:18: RuntimeWarning: invalid value encountered in log\n",
      "  return np.sum(-np.log(np.linalg.eigh(Lw+J)[0]+eps)+np.diagonal(K@Lw))\n",
      "/home/bcollet/Documents/spectralGraphTopology/ObjectiveFunction.py:18: RuntimeWarning: invalid value encountered in log\n",
      "  return np.sum(-np.log(np.linalg.eigh(Lw+J)[0]+eps)+np.diagonal(K@Lw))\n",
      "/home/bcollet/Documents/spectralGraphTopology/ObjectiveFunction.py:18: RuntimeWarning: invalid value encountered in log\n",
      "  return np.sum(-np.log(np.linalg.eigh(Lw+J)[0]+eps)+np.diagonal(K@Lw))\n",
      "/home/bcollet/Documents/spectralGraphTopology/ObjectiveFunction.py:18: RuntimeWarning: invalid value encountered in log\n",
      "  return np.sum(-np.log(np.linalg.eigh(Lw+J)[0]+eps)+np.diagonal(K@Lw))\n",
      "/home/bcollet/Documents/spectralGraphTopology/ObjectiveFunction.py:18: RuntimeWarning: invalid value encountered in log\n",
      "  return np.sum(-np.log(np.linalg.eigh(Lw+J)[0]+eps)+np.diagonal(K@Lw))\n"
     ]
    },
    {
     "name": "stderr",
     "output_type": "stream",
     "text": [
      "  0%|▊                                                                                                                                                                 | 50/10000 [00:00<00:40, 243.50it/s]/home/bcollet/Documents/spectralGraphTopology/ObjectiveFunction.py:18: RuntimeWarning: invalid value encountered in log\n",
      "  return np.sum(-np.log(np.linalg.eigh(Lw+J)[0]+eps)+np.diagonal(K@Lw))\n",
      "/home/bcollet/Documents/spectralGraphTopology/ObjectiveFunction.py:18: RuntimeWarning: divide by zero encountered in log\n",
      "  return np.sum(-np.log(np.linalg.eigh(Lw+J)[0]+eps)+np.diagonal(K@Lw))\n",
      "/home/bcollet/Documents/spectralGraphTopology/ObjectiveFunction.py:18: RuntimeWarning: invalid value encountered in log\n",
      "  return np.sum(-np.log(np.linalg.eigh(Lw+J)[0]+eps)+np.diagonal(K@Lw))\n",
      "/home/bcollet/Documents/spectralGraphTopology/ObjectiveFunction.py:18: RuntimeWarning: invalid value encountered in log\n",
      "  return np.sum(-np.log(np.linalg.eigh(Lw+J)[0]+eps)+np.diagonal(K@Lw))\n",
      "/home/bcollet/Documents/spectralGraphTopology/ObjectiveFunction.py:18: RuntimeWarning: invalid value encountered in log\n",
      "  return np.sum(-np.log(np.linalg.eigh(Lw+J)[0]+eps)+np.diagonal(K@Lw))\n",
      "/home/bcollet/Documents/spectralGraphTopology/ObjectiveFunction.py:18: RuntimeWarning: invalid value encountered in log\n",
      "  return np.sum(-np.log(np.linalg.eigh(Lw+J)[0]+eps)+np.diagonal(K@Lw))\n",
      "/home/bcollet/Documents/spectralGraphTopology/ObjectiveFunction.py:18: RuntimeWarning: invalid value encountered in log\n",
      "  return np.sum(-np.log(np.linalg.eigh(Lw+J)[0]+eps)+np.diagonal(K@Lw))\n",
      "/home/bcollet/Documents/spectralGraphTopology/ObjectiveFunction.py:18: RuntimeWarning: invalid value encountered in log\n",
      "  return np.sum(-np.log(np.linalg.eigh(Lw+J)[0]+eps)+np.diagonal(K@Lw))\n",
      "/home/bcollet/Documents/spectralGraphTopology/ObjectiveFunction.py:18: RuntimeWarning: invalid value encountered in log\n",
      "  return np.sum(-np.log(np.linalg.eigh(Lw+J)[0]+eps)+np.diagonal(K@Lw))\n",
      "/home/bcollet/Documents/spectralGraphTopology/ObjectiveFunction.py:18: RuntimeWarning: invalid value encountered in log\n",
      "  return np.sum(-np.log(np.linalg.eigh(Lw+J)[0]+eps)+np.diagonal(K@Lw))\n",
      "/home/bcollet/Documents/spectralGraphTopology/ObjectiveFunction.py:18: RuntimeWarning: invalid value encountered in log\n",
      "  return np.sum(-np.log(np.linalg.eigh(Lw+J)[0]+eps)+np.diagonal(K@Lw))\n",
      "/home/bcollet/Documents/spectralGraphTopology/ObjectiveFunction.py:18: RuntimeWarning: invalid value encountered in log\n",
      "  return np.sum(-np.log(np.linalg.eigh(Lw+J)[0]+eps)+np.diagonal(K@Lw))\n",
      "/home/bcollet/Documents/spectralGraphTopology/ObjectiveFunction.py:18: RuntimeWarning: invalid value encountered in log\n",
      "  return np.sum(-np.log(np.linalg.eigh(Lw+J)[0]+eps)+np.diagonal(K@Lw))\n",
      "/home/bcollet/Documents/spectralGraphTopology/ObjectiveFunction.py:18: RuntimeWarning: invalid value encountered in log\n",
      "  return np.sum(-np.log(np.linalg.eigh(Lw+J)[0]+eps)+np.diagonal(K@Lw))\n",
      "/home/bcollet/Documents/spectralGraphTopology/ObjectiveFunction.py:18: RuntimeWarning: invalid value encountered in log\n",
      "  return np.sum(-np.log(np.linalg.eigh(Lw+J)[0]+eps)+np.diagonal(K@Lw))\n",
      "/home/bcollet/Documents/spectralGraphTopology/ObjectiveFunction.py:18: RuntimeWarning: invalid value encountered in log\n",
      "  return np.sum(-np.log(np.linalg.eigh(Lw+J)[0]+eps)+np.diagonal(K@Lw))\n",
      "/home/bcollet/Documents/spectralGraphTopology/ObjectiveFunction.py:18: RuntimeWarning: invalid value encountered in log\n",
      "  return np.sum(-np.log(np.linalg.eigh(Lw+J)[0]+eps)+np.diagonal(K@Lw))\n",
      "/home/bcollet/Documents/spectralGraphTopology/ObjectiveFunction.py:18: RuntimeWarning: invalid value encountered in log\n",
      "  return np.sum(-np.log(np.linalg.eigh(Lw+J)[0]+eps)+np.diagonal(K@Lw))\n",
      "/home/bcollet/Documents/spectralGraphTopology/ObjectiveFunction.py:18: RuntimeWarning: invalid value encountered in log\n",
      "  return np.sum(-np.log(np.linalg.eigh(Lw+J)[0]+eps)+np.diagonal(K@Lw))\n",
      "/home/bcollet/Documents/spectralGraphTopology/ObjectiveFunction.py:18: RuntimeWarning: invalid value encountered in log\n",
      "  return np.sum(-np.log(np.linalg.eigh(Lw+J)[0]+eps)+np.diagonal(K@Lw))\n",
      "/home/bcollet/Documents/spectralGraphTopology/ObjectiveFunction.py:18: RuntimeWarning: invalid value encountered in log\n",
      "  return np.sum(-np.log(np.linalg.eigh(Lw+J)[0]+eps)+np.diagonal(K@Lw))\n",
      "/home/bcollet/Documents/spectralGraphTopology/ObjectiveFunction.py:18: RuntimeWarning: invalid value encountered in log\n",
      "  return np.sum(-np.log(np.linalg.eigh(Lw+J)[0]+eps)+np.diagonal(K@Lw))\n",
      "/home/bcollet/Documents/spectralGraphTopology/ObjectiveFunction.py:18: RuntimeWarning: invalid value encountered in log\n",
      "  return np.sum(-np.log(np.linalg.eigh(Lw+J)[0]+eps)+np.diagonal(K@Lw))\n",
      "/home/bcollet/Documents/spectralGraphTopology/ObjectiveFunction.py:18: RuntimeWarning: invalid value encountered in log\n",
      "  return np.sum(-np.log(np.linalg.eigh(Lw+J)[0]+eps)+np.diagonal(K@Lw))\n",
      "/home/bcollet/Documents/spectralGraphTopology/ObjectiveFunction.py:18: RuntimeWarning: invalid value encountered in log\n",
      "  return np.sum(-np.log(np.linalg.eigh(Lw+J)[0]+eps)+np.diagonal(K@Lw))\n",
      "/home/bcollet/Documents/spectralGraphTopology/ObjectiveFunction.py:18: RuntimeWarning: invalid value encountered in log\n",
      "  return np.sum(-np.log(np.linalg.eigh(Lw+J)[0]+eps)+np.diagonal(K@Lw))\n",
      "/home/bcollet/Documents/spectralGraphTopology/ObjectiveFunction.py:18: RuntimeWarning: invalid value encountered in log\n",
      "  return np.sum(-np.log(np.linalg.eigh(Lw+J)[0]+eps)+np.diagonal(K@Lw))\n",
      "/home/bcollet/Documents/spectralGraphTopology/ObjectiveFunction.py:18: RuntimeWarning: invalid value encountered in log\n",
      "  return np.sum(-np.log(np.linalg.eigh(Lw+J)[0]+eps)+np.diagonal(K@Lw))\n",
      "/home/bcollet/Documents/spectralGraphTopology/ObjectiveFunction.py:18: RuntimeWarning: invalid value encountered in log\n",
      "  return np.sum(-np.log(np.linalg.eigh(Lw+J)[0]+eps)+np.diagonal(K@Lw))\n",
      "/home/bcollet/Documents/spectralGraphTopology/ObjectiveFunction.py:18: RuntimeWarning: invalid value encountered in log\n",
      "  return np.sum(-np.log(np.linalg.eigh(Lw+J)[0]+eps)+np.diagonal(K@Lw))\n",
      "/home/bcollet/Documents/spectralGraphTopology/ObjectiveFunction.py:18: RuntimeWarning: invalid value encountered in log\n",
      "  return np.sum(-np.log(np.linalg.eigh(Lw+J)[0]+eps)+np.diagonal(K@Lw))\n",
      "/home/bcollet/Documents/spectralGraphTopology/ObjectiveFunction.py:18: RuntimeWarning: invalid value encountered in log\n",
      "  return np.sum(-np.log(np.linalg.eigh(Lw+J)[0]+eps)+np.diagonal(K@Lw))\n",
      "/home/bcollet/Documents/spectralGraphTopology/ObjectiveFunction.py:18: RuntimeWarning: invalid value encountered in log\n",
      "  return np.sum(-np.log(np.linalg.eigh(Lw+J)[0]+eps)+np.diagonal(K@Lw))\n",
      "/home/bcollet/Documents/spectralGraphTopology/ObjectiveFunction.py:18: RuntimeWarning: invalid value encountered in log\n",
      "  return np.sum(-np.log(np.linalg.eigh(Lw+J)[0]+eps)+np.diagonal(K@Lw))\n",
      "/home/bcollet/Documents/spectralGraphTopology/ObjectiveFunction.py:18: RuntimeWarning: invalid value encountered in log\n",
      "  return np.sum(-np.log(np.linalg.eigh(Lw+J)[0]+eps)+np.diagonal(K@Lw))\n",
      "/home/bcollet/Documents/spectralGraphTopology/ObjectiveFunction.py:18: RuntimeWarning: invalid value encountered in log\n",
      "  return np.sum(-np.log(np.linalg.eigh(Lw+J)[0]+eps)+np.diagonal(K@Lw))\n",
      "/home/bcollet/Documents/spectralGraphTopology/ObjectiveFunction.py:18: RuntimeWarning: invalid value encountered in log\n",
      "  return np.sum(-np.log(np.linalg.eigh(Lw+J)[0]+eps)+np.diagonal(K@Lw))\n",
      "/home/bcollet/Documents/spectralGraphTopology/ObjectiveFunction.py:18: RuntimeWarning: invalid value encountered in log\n",
      "  return np.sum(-np.log(np.linalg.eigh(Lw+J)[0]+eps)+np.diagonal(K@Lw))\n",
      "/home/bcollet/Documents/spectralGraphTopology/ObjectiveFunction.py:18: RuntimeWarning: invalid value encountered in log\n",
      "  return np.sum(-np.log(np.linalg.eigh(Lw+J)[0]+eps)+np.diagonal(K@Lw))\n",
      "/home/bcollet/Documents/spectralGraphTopology/ObjectiveFunction.py:18: RuntimeWarning: divide by zero encountered in log\n",
      "  return np.sum(-np.log(np.linalg.eigh(Lw+J)[0]+eps)+np.diagonal(K@Lw))\n",
      "/home/bcollet/Documents/spectralGraphTopology/ObjectiveFunction.py:18: RuntimeWarning: invalid value encountered in log\n",
      "  return np.sum(-np.log(np.linalg.eigh(Lw+J)[0]+eps)+np.diagonal(K@Lw))\n",
      "/home/bcollet/Documents/spectralGraphTopology/ObjectiveFunction.py:18: RuntimeWarning: invalid value encountered in log\n",
      "  return np.sum(-np.log(np.linalg.eigh(Lw+J)[0]+eps)+np.diagonal(K@Lw))\n",
      "/home/bcollet/Documents/spectralGraphTopology/ObjectiveFunction.py:18: RuntimeWarning: invalid value encountered in log\n",
      "  return np.sum(-np.log(np.linalg.eigh(Lw+J)[0]+eps)+np.diagonal(K@Lw))\n",
      "/home/bcollet/Documents/spectralGraphTopology/ObjectiveFunction.py:18: RuntimeWarning: invalid value encountered in log\n",
      "  return np.sum(-np.log(np.linalg.eigh(Lw+J)[0]+eps)+np.diagonal(K@Lw))\n",
      "/home/bcollet/Documents/spectralGraphTopology/ObjectiveFunction.py:18: RuntimeWarning: invalid value encountered in log\n",
      "  return np.sum(-np.log(np.linalg.eigh(Lw+J)[0]+eps)+np.diagonal(K@Lw))\n"
     ]
    },
    {
     "name": "stderr",
     "output_type": "stream",
     "text": [
      "/home/bcollet/Documents/spectralGraphTopology/ObjectiveFunction.py:18: RuntimeWarning: invalid value encountered in log\n",
      "  return np.sum(-np.log(np.linalg.eigh(Lw+J)[0]+eps)+np.diagonal(K@Lw))\n",
      "  1%|█▌                                                                                                                                                                | 94/10000 [00:00<00:30, 322.11it/s]/home/bcollet/Documents/spectralGraphTopology/ObjectiveFunction.py:18: RuntimeWarning: invalid value encountered in log\n",
      "  return np.sum(-np.log(np.linalg.eigh(Lw+J)[0]+eps)+np.diagonal(K@Lw))\n",
      "/home/bcollet/Documents/spectralGraphTopology/ObjectiveFunction.py:18: RuntimeWarning: invalid value encountered in log\n",
      "  return np.sum(-np.log(np.linalg.eigh(Lw+J)[0]+eps)+np.diagonal(K@Lw))\n",
      "/home/bcollet/Documents/spectralGraphTopology/ObjectiveFunction.py:18: RuntimeWarning: invalid value encountered in log\n",
      "  return np.sum(-np.log(np.linalg.eigh(Lw+J)[0]+eps)+np.diagonal(K@Lw))\n",
      "/home/bcollet/Documents/spectralGraphTopology/ObjectiveFunction.py:18: RuntimeWarning: invalid value encountered in log\n",
      "  return np.sum(-np.log(np.linalg.eigh(Lw+J)[0]+eps)+np.diagonal(K@Lw))\n",
      "/home/bcollet/Documents/spectralGraphTopology/ObjectiveFunction.py:18: RuntimeWarning: divide by zero encountered in log\n",
      "  return np.sum(-np.log(np.linalg.eigh(Lw+J)[0]+eps)+np.diagonal(K@Lw))\n",
      "/home/bcollet/Documents/spectralGraphTopology/ObjectiveFunction.py:18: RuntimeWarning: invalid value encountered in log\n",
      "  return np.sum(-np.log(np.linalg.eigh(Lw+J)[0]+eps)+np.diagonal(K@Lw))\n",
      "/home/bcollet/Documents/spectralGraphTopology/ObjectiveFunction.py:18: RuntimeWarning: invalid value encountered in log\n",
      "  return np.sum(-np.log(np.linalg.eigh(Lw+J)[0]+eps)+np.diagonal(K@Lw))\n",
      "/home/bcollet/Documents/spectralGraphTopology/ObjectiveFunction.py:18: RuntimeWarning: invalid value encountered in log\n",
      "  return np.sum(-np.log(np.linalg.eigh(Lw+J)[0]+eps)+np.diagonal(K@Lw))\n",
      "/home/bcollet/Documents/spectralGraphTopology/ObjectiveFunction.py:18: RuntimeWarning: invalid value encountered in log\n",
      "  return np.sum(-np.log(np.linalg.eigh(Lw+J)[0]+eps)+np.diagonal(K@Lw))\n",
      "/home/bcollet/Documents/spectralGraphTopology/ObjectiveFunction.py:18: RuntimeWarning: invalid value encountered in log\n",
      "  return np.sum(-np.log(np.linalg.eigh(Lw+J)[0]+eps)+np.diagonal(K@Lw))\n",
      "/home/bcollet/Documents/spectralGraphTopology/ObjectiveFunction.py:18: RuntimeWarning: invalid value encountered in log\n",
      "  return np.sum(-np.log(np.linalg.eigh(Lw+J)[0]+eps)+np.diagonal(K@Lw))\n",
      "/home/bcollet/Documents/spectralGraphTopology/ObjectiveFunction.py:18: RuntimeWarning: invalid value encountered in log\n",
      "  return np.sum(-np.log(np.linalg.eigh(Lw+J)[0]+eps)+np.diagonal(K@Lw))\n",
      "/home/bcollet/Documents/spectralGraphTopology/ObjectiveFunction.py:18: RuntimeWarning: invalid value encountered in log\n",
      "  return np.sum(-np.log(np.linalg.eigh(Lw+J)[0]+eps)+np.diagonal(K@Lw))\n",
      "/home/bcollet/Documents/spectralGraphTopology/ObjectiveFunction.py:18: RuntimeWarning: invalid value encountered in log\n",
      "  return np.sum(-np.log(np.linalg.eigh(Lw+J)[0]+eps)+np.diagonal(K@Lw))\n",
      "/home/bcollet/Documents/spectralGraphTopology/ObjectiveFunction.py:18: RuntimeWarning: invalid value encountered in log\n",
      "  return np.sum(-np.log(np.linalg.eigh(Lw+J)[0]+eps)+np.diagonal(K@Lw))\n",
      "/home/bcollet/Documents/spectralGraphTopology/ObjectiveFunction.py:18: RuntimeWarning: invalid value encountered in log\n",
      "  return np.sum(-np.log(np.linalg.eigh(Lw+J)[0]+eps)+np.diagonal(K@Lw))\n",
      "/home/bcollet/Documents/spectralGraphTopology/ObjectiveFunction.py:18: RuntimeWarning: invalid value encountered in log\n",
      "  return np.sum(-np.log(np.linalg.eigh(Lw+J)[0]+eps)+np.diagonal(K@Lw))\n",
      "/home/bcollet/Documents/spectralGraphTopology/ObjectiveFunction.py:18: RuntimeWarning: invalid value encountered in log\n",
      "  return np.sum(-np.log(np.linalg.eigh(Lw+J)[0]+eps)+np.diagonal(K@Lw))\n",
      "/home/bcollet/Documents/spectralGraphTopology/ObjectiveFunction.py:18: RuntimeWarning: invalid value encountered in log\n",
      "  return np.sum(-np.log(np.linalg.eigh(Lw+J)[0]+eps)+np.diagonal(K@Lw))\n",
      "/home/bcollet/Documents/spectralGraphTopology/ObjectiveFunction.py:18: RuntimeWarning: divide by zero encountered in log\n",
      "  return np.sum(-np.log(np.linalg.eigh(Lw+J)[0]+eps)+np.diagonal(K@Lw))\n",
      "/home/bcollet/Documents/spectralGraphTopology/ObjectiveFunction.py:18: RuntimeWarning: invalid value encountered in log\n",
      "  return np.sum(-np.log(np.linalg.eigh(Lw+J)[0]+eps)+np.diagonal(K@Lw))\n",
      "/home/bcollet/Documents/spectralGraphTopology/ObjectiveFunction.py:18: RuntimeWarning: invalid value encountered in log\n",
      "  return np.sum(-np.log(np.linalg.eigh(Lw+J)[0]+eps)+np.diagonal(K@Lw))\n",
      "/home/bcollet/Documents/spectralGraphTopology/ObjectiveFunction.py:18: RuntimeWarning: invalid value encountered in log\n",
      "  return np.sum(-np.log(np.linalg.eigh(Lw+J)[0]+eps)+np.diagonal(K@Lw))\n",
      "/home/bcollet/Documents/spectralGraphTopology/ObjectiveFunction.py:18: RuntimeWarning: invalid value encountered in log\n",
      "  return np.sum(-np.log(np.linalg.eigh(Lw+J)[0]+eps)+np.diagonal(K@Lw))\n",
      "/home/bcollet/Documents/spectralGraphTopology/ObjectiveFunction.py:18: RuntimeWarning: invalid value encountered in log\n",
      "  return np.sum(-np.log(np.linalg.eigh(Lw+J)[0]+eps)+np.diagonal(K@Lw))\n",
      "/home/bcollet/Documents/spectralGraphTopology/ObjectiveFunction.py:18: RuntimeWarning: invalid value encountered in log\n",
      "  return np.sum(-np.log(np.linalg.eigh(Lw+J)[0]+eps)+np.diagonal(K@Lw))\n",
      "/home/bcollet/Documents/spectralGraphTopology/ObjectiveFunction.py:18: RuntimeWarning: invalid value encountered in log\n",
      "  return np.sum(-np.log(np.linalg.eigh(Lw+J)[0]+eps)+np.diagonal(K@Lw))\n",
      "/home/bcollet/Documents/spectralGraphTopology/ObjectiveFunction.py:18: RuntimeWarning: invalid value encountered in log\n",
      "  return np.sum(-np.log(np.linalg.eigh(Lw+J)[0]+eps)+np.diagonal(K@Lw))\n",
      "/home/bcollet/Documents/spectralGraphTopology/ObjectiveFunction.py:18: RuntimeWarning: invalid value encountered in log\n",
      "  return np.sum(-np.log(np.linalg.eigh(Lw+J)[0]+eps)+np.diagonal(K@Lw))\n",
      "/home/bcollet/Documents/spectralGraphTopology/ObjectiveFunction.py:18: RuntimeWarning: invalid value encountered in log\n",
      "  return np.sum(-np.log(np.linalg.eigh(Lw+J)[0]+eps)+np.diagonal(K@Lw))\n",
      "/home/bcollet/Documents/spectralGraphTopology/ObjectiveFunction.py:18: RuntimeWarning: invalid value encountered in log\n",
      "  return np.sum(-np.log(np.linalg.eigh(Lw+J)[0]+eps)+np.diagonal(K@Lw))\n",
      "/home/bcollet/Documents/spectralGraphTopology/ObjectiveFunction.py:18: RuntimeWarning: invalid value encountered in log\n",
      "  return np.sum(-np.log(np.linalg.eigh(Lw+J)[0]+eps)+np.diagonal(K@Lw))\n",
      "/home/bcollet/Documents/spectralGraphTopology/ObjectiveFunction.py:18: RuntimeWarning: invalid value encountered in log\n",
      "  return np.sum(-np.log(np.linalg.eigh(Lw+J)[0]+eps)+np.diagonal(K@Lw))\n",
      "/home/bcollet/Documents/spectralGraphTopology/ObjectiveFunction.py:18: RuntimeWarning: invalid value encountered in log\n",
      "  return np.sum(-np.log(np.linalg.eigh(Lw+J)[0]+eps)+np.diagonal(K@Lw))\n",
      "/home/bcollet/Documents/spectralGraphTopology/ObjectiveFunction.py:18: RuntimeWarning: invalid value encountered in log\n",
      "  return np.sum(-np.log(np.linalg.eigh(Lw+J)[0]+eps)+np.diagonal(K@Lw))\n",
      "/home/bcollet/Documents/spectralGraphTopology/ObjectiveFunction.py:18: RuntimeWarning: invalid value encountered in log\n",
      "  return np.sum(-np.log(np.linalg.eigh(Lw+J)[0]+eps)+np.diagonal(K@Lw))\n",
      "/home/bcollet/Documents/spectralGraphTopology/ObjectiveFunction.py:18: RuntimeWarning: invalid value encountered in log\n",
      "  return np.sum(-np.log(np.linalg.eigh(Lw+J)[0]+eps)+np.diagonal(K@Lw))\n",
      "/home/bcollet/Documents/spectralGraphTopology/ObjectiveFunction.py:18: RuntimeWarning: invalid value encountered in log\n",
      "  return np.sum(-np.log(np.linalg.eigh(Lw+J)[0]+eps)+np.diagonal(K@Lw))\n",
      "/home/bcollet/Documents/spectralGraphTopology/ObjectiveFunction.py:18: RuntimeWarning: invalid value encountered in log\n",
      "  return np.sum(-np.log(np.linalg.eigh(Lw+J)[0]+eps)+np.diagonal(K@Lw))\n",
      "/home/bcollet/Documents/spectralGraphTopology/ObjectiveFunction.py:18: RuntimeWarning: invalid value encountered in log\n",
      "  return np.sum(-np.log(np.linalg.eigh(Lw+J)[0]+eps)+np.diagonal(K@Lw))\n",
      "/home/bcollet/Documents/spectralGraphTopology/ObjectiveFunction.py:18: RuntimeWarning: invalid value encountered in log\n",
      "  return np.sum(-np.log(np.linalg.eigh(Lw+J)[0]+eps)+np.diagonal(K@Lw))\n",
      "/home/bcollet/Documents/spectralGraphTopology/ObjectiveFunction.py:18: RuntimeWarning: invalid value encountered in log\n",
      "  return np.sum(-np.log(np.linalg.eigh(Lw+J)[0]+eps)+np.diagonal(K@Lw))\n",
      "/home/bcollet/Documents/spectralGraphTopology/ObjectiveFunction.py:18: RuntimeWarning: invalid value encountered in log\n",
      "  return np.sum(-np.log(np.linalg.eigh(Lw+J)[0]+eps)+np.diagonal(K@Lw))\n",
      "/home/bcollet/Documents/spectralGraphTopology/ObjectiveFunction.py:18: RuntimeWarning: invalid value encountered in log\n",
      "  return np.sum(-np.log(np.linalg.eigh(Lw+J)[0]+eps)+np.diagonal(K@Lw))\n"
     ]
    },
    {
     "name": "stderr",
     "output_type": "stream",
     "text": [
      "  1%|██▏                                                                                                                                                              | 135/10000 [00:00<00:32, 305.07it/s]\n"
     ]
    },
    {
     "data": {
      "image/png": "[encoded data removed]",
      "text/plain": [
       "<Figure size 288x288 with 1 Axes>"
      ]
     },
     "metadata": {
      "needs_background": "light"
     },
     "output_type": "display_data"
    },
    {
     "name": "stdout",
     "output_type": "stream",
     "text": [
      "[[0.         0.         0.         ... 1.08736198 1.06524905 1.10090916]\n",
      " [0.         0.         0.         ... 1.14141356 1.10750795 1.13928003]\n",
      " [0.         0.         0.         ... 1.16401517 1.13326391 1.01405287]\n",
      " ...\n",
      " [1.08736198 1.14141356 1.16401517 ... 0.         0.         0.        ]\n",
      " [1.06524905 1.10750795 1.13326391 ... 0.         0.         0.        ]\n",
      " [1.10090916 1.13928003 1.01405287 ... 0.         0.         0.        ]]\n"
     ]
    }
   ],
   "source": [
    "di=learn_bipartite_graph(np.linalg.pinv(L),maxiter=10000)\n",
    "plt.matshow(di[\"Adjacency\"])\n",
    "plt.title(\"recovered adjacency matrix\")\n",
    "plt.show()\n",
    "print(di[\"Adjacency\"])"
   ]
  },
  {
   "cell_type": "markdown",
   "id": "7ff02bc3",
   "metadata": {},
   "source": [
    "This time, not only the learned matrix has the desired structure, but it also has similar coefficients to the original one."
   ]
  },
  {
   "cell_type": "markdown",
   "id": "51971216",
   "metadata": {},
   "source": [
    "## Popular synthetic datasets"
   ]
  },
  {
   "cell_type": "code",
   "execution_count": 11,
   "id": "092d6099",
   "metadata": {},
   "outputs": [],
   "source": [
    "def dist_mat_exp_kernel(x, sigma=1, eps=1, k=None):\n",
    "    n, d = x.shape\n",
    "    dist_mat = np.zeros((n, n))\n",
    "    for i in range(n):\n",
    "        dist_mat[i] = np.exp(-np.linalg.norm(x[i] - x, axis=1)/eps)\n",
    "    if not k is None:\n",
    "        for i in range(n):\n",
    "            k_th_nearest_dist = np.sort(dist_mat[i])[-k]\n",
    "            dist_mat[i][dist_mat[i] < k_th_nearest_dist] = 0\n",
    "        dist_mat = 0.5*(dist_mat + dist_mat.T)\n",
    "    else:\n",
    "        dist_mat[dist_mat<eps] = 0\n",
    "    return dist_mat"
   ]
  },
  {
   "cell_type": "markdown",
   "id": "1f975941",
   "metadata": {},
   "source": [
    "We load the \"two moons\" dataset"
   ]
  },
  {
   "cell_type": "code",
   "execution_count": 12,
   "id": "1facb309",
   "metadata": {},
   "outputs": [
    {
     "data": {
      "image/png": "[encoded data removed]",
      "text/plain": [
       "<Figure size 432x288 with 1 Axes>"
      ]
     },
     "metadata": {
      "needs_background": "light"
     },
     "output_type": "display_data"
    }
   ],
   "source": [
    "n_samples = 100\n",
    "moons_data, moons_labels = skd.make_moons(n_samples=n_samples)\n",
    "plt.scatter(moons_data.T[0], moons_data.T[1], c=moons_labels)\n",
    "plt.show()"
   ]
  },
  {
   "cell_type": "code",
   "execution_count": 13,
   "id": "cb6f845d",
   "metadata": {},
   "outputs": [],
   "source": [
    "C_moons = dist_mat_exp_kernel(moons_data, sigma=1, eps=0.1)"
   ]
  },
  {
   "cell_type": "markdown",
   "id": "039e9206",
   "metadata": {},
   "source": [
    "We learn the graph with two components in order to find the clusters."
   ]
  },
  {
   "cell_type": "code",
   "execution_count": 14,
   "id": "db730f26",
   "metadata": {},
   "outputs": [
    {
     "name": "stderr",
     "output_type": "stream",
     "text": [
      "100%|█████████████████████████████████████████████████████████████████████████████████████████████████████████████████████████████████████████████████████████████████| 2000/2000 [00:02<00:00, 712.52it/s]\n"
     ]
    }
   ],
   "source": [
    "res_moons = learn_k_component_graph(C_moons, k=2, maxiter=2000) #2000 or more in reality"
   ]
  },
  {
   "cell_type": "markdown",
   "id": "1b867bd7",
   "metadata": {},
   "source": [
    "Then, we use the first eigenvalue as hte classying metric and compute the AUC score."
   ]
  },
  {
   "cell_type": "code",
   "execution_count": 15,
   "id": "8ba0027b",
   "metadata": {},
   "outputs": [
    {
     "name": "stdout",
     "output_type": "stream",
     "text": [
      "AUC score of the spectral classifier 0.5224\n"
     ]
    }
   ],
   "source": [
    "score_moons = np.linalg.eigh(res_moons[\"Laplacian\"])[1][:, 1]\n",
    "print(\"AUC score of the spectral classifier\", skm.roc_auc_score(moons_labels, score_moons))"
   ]
  },
  {
   "cell_type": "markdown",
   "id": "aa3ac27c",
   "metadata": {},
   "source": [
    "We display the adjacency matrix, which is block diagonal and contains the two expected components."
   ]
  },
  {
   "cell_type": "code",
   "execution_count": 16,
   "id": "b8710790",
   "metadata": {},
   "outputs": [
    {
     "data": {
      "image/png": "[encoded data removed]",
      "text/plain": [
       "<Figure size 1440x1440 with 1 Axes>"
      ]
     },
     "metadata": {
      "needs_background": "light"
     },
     "output_type": "display_data"
    }
   ],
   "source": [
    "id_moons = np.argsort(moons_labels)\n",
    "fig = plt.figure(figsize=(20, 20))\n",
    "plt.matshow(res_moons[\"Adjacency\"][id_moons][:, id_moons], fignum=0)\n",
    "plt.show()"
   ]
  },
  {
   "cell_type": "markdown",
   "id": "06b10f4d",
   "metadata": {},
   "source": [
    "Then, we load the \"two circles\" dataset:"
   ]
  },
  {
   "cell_type": "code",
   "execution_count": 17,
   "id": "2654f411",
   "metadata": {},
   "outputs": [],
   "source": [
    "def at_least_k_component(L,k):\n",
    "    la,M=np.linalg.eigh(L)\n",
    "    la[:k] = 0\n",
    "    return M@np.diag(la)@M.T"
   ]
  },
  {
   "cell_type": "code",
   "execution_count": 44,
   "id": "247c87c1",
   "metadata": {},
   "outputs": [
    {
     "data": {
      "image/png": "[encoded data removed]",
      "text/plain": [
       "<Figure size 432x288 with 1 Axes>"
      ]
     },
     "metadata": {
      "needs_background": "light"
     },
     "output_type": "display_data"
    }
   ],
   "source": [
    "n_samples = 100\n",
    "circles_data, circles_labels = skd.make_circles(n_samples=n_samples,noise=0.05,factor=0.5)\n",
    "plt.scatter(circles_data.T[0], circles_data.T[1], c=circles_labels)\n",
    "plt.show()"
   ]
  },
  {
   "cell_type": "markdown",
   "id": "f382ab46",
   "metadata": {},
   "source": [
    "We learn the clusters with the spectralGraphTopology package, however it doesn't always work"
   ]
  },
  {
   "cell_type": "code",
   "execution_count": 45,
   "id": "c5bcfce4",
   "metadata": {},
   "outputs": [
    {
     "name": "stderr",
     "output_type": "stream",
     "text": [
      "100%|███████████████████████████████████████████████████████████████████████████████████████████████████████████████████████████████████████████████████████████████| 10000/10000 [00:14<00:00, 673.90it/s]\n"
     ]
    }
   ],
   "source": [
    "C_circles = dist_mat_exp_kernel(circles_data, k=7,sigma=0.1)\n",
    "res_circles = learn_k_component_graph(C_circles, k=2, maxiter=10000) #2000 or more in reality"
   ]
  },
  {
   "cell_type": "code",
   "execution_count": 20,
   "id": "f4cb6c6c",
   "metadata": {},
   "outputs": [
    {
     "name": "stdout",
     "output_type": "stream",
     "text": [
      "False\n"
     ]
    }
   ],
   "source": [
    "print(res_circles[\"convergence\"])"
   ]
  },
  {
   "cell_type": "code",
   "execution_count": 21,
   "id": "3886e6e5",
   "metadata": {},
   "outputs": [],
   "source": [
    "#res_circles[\"Laplacian\"]=at_least_k_component(res_circles[\"Laplacian\"],k=2)"
   ]
  },
  {
   "cell_type": "code",
   "execution_count": 46,
   "id": "f4fe36e5",
   "metadata": {},
   "outputs": [
    {
     "name": "stdout",
     "output_type": "stream",
     "text": [
      "2\n"
     ]
    }
   ],
   "source": [
    "print(nb_connected_component(res_circles[\"Laplacian\"]))"
   ]
  },
  {
   "cell_type": "code",
   "execution_count": 47,
   "id": "605c2827",
   "metadata": {},
   "outputs": [
    {
     "name": "stdout",
     "output_type": "stream",
     "text": [
      "[[0.3 0. ]\n",
      " [0.  0.3]]\n"
     ]
    },
    {
     "data": {
      "text/plain": [
       "1.0583339246881292e-15"
      ]
     },
     "execution_count": 47,
     "metadata": {},
     "output_type": "execute_result"
    }
   ],
   "source": [
    "print(np.array([[0.3,0.02],[0.02,0.3]]).round(1))\n",
    "np.linalg.eigh(res_circles[\"Laplacian\"])[0][1]"
   ]
  },
  {
   "cell_type": "markdown",
   "id": "b6679266",
   "metadata": {},
   "source": [
    "We display the AUC of the second eigenvalue classifier and the distribution of the corresponding scores according to the true label."
   ]
  },
  {
   "cell_type": "code",
   "execution_count": 48,
   "id": "1b2ee70f",
   "metadata": {},
   "outputs": [
    {
     "name": "stdout",
     "output_type": "stream",
     "text": [
      "AUC score of the spectral classifier 1.0\n"
     ]
    }
   ],
   "source": [
    "score_circles = np.linalg.eigh(res_circles[\"Laplacian\"])[1][:, 1]\n",
    "print(\"AUC score of the spectral classifier\", skm.roc_auc_score(circles_labels, score_circles))"
   ]
  },
  {
   "cell_type": "code",
   "execution_count": 49,
   "id": "2dc8bdee",
   "metadata": {},
   "outputs": [
    {
     "data": {
      "text/plain": [
       "<matplotlib.collections.PathCollection at 0x7fe3bc70a970>"
      ]
     },
     "execution_count": 49,
     "metadata": {},
     "output_type": "execute_result"
    },
    {
     "data": {
      "image/png": "[encoded data removed]",
      "text/plain": [
       "<Figure size 432x288 with 1 Axes>"
      ]
     },
     "metadata": {
      "needs_background": "light"
     },
     "output_type": "display_data"
    }
   ],
   "source": [
    "plt.scatter(score_circles, circles_labels)"
   ]
  },
  {
   "cell_type": "markdown",
   "id": "761965e8",
   "metadata": {},
   "source": [
    "And here is the learned adjacency matrix:"
   ]
  },
  {
   "cell_type": "code",
   "execution_count": 26,
   "id": "976f33f9",
   "metadata": {},
   "outputs": [
    {
     "data": {
      "image/png": "[encoded data removed]",
      "text/plain": [
       "<Figure size 1440x1440 with 1 Axes>"
      ]
     },
     "metadata": {
      "needs_background": "light"
     },
     "output_type": "display_data"
    }
   ],
   "source": [
    "id_circles = np.argsort(circles_labels)\n",
    "fig = plt.figure(figsize=(20, 20))\n",
    "plt.matshow(res_circles[\"Adjacency\"][id_circles][:, id_circles], fignum=0)\n",
    "plt.show()"
   ]
  },
  {
   "cell_type": "code",
   "execution_count": 27,
   "id": "e4dea2b0",
   "metadata": {},
   "outputs": [
    {
     "name": "stdout",
     "output_type": "stream",
     "text": [
      "0.02830183350622168 0.02830183350622168\n",
      "63.57896549250009\n"
     ]
    }
   ],
   "source": [
    "A=res_circles[\"Adjacency\"][id_circles][:, id_circles]\n",
    "print(np.max(A[60:,:40]),np.max(A[:40,60:]))\n",
    "print(np.max(A))"
   ]
  },
  {
   "cell_type": "markdown",
   "id": "568944ed",
   "metadata": {},
   "source": [
    "Here are unused functions to generate the helix_3D and the three_circles datasets:"
   ]
  },
  {
   "cell_type": "code",
   "execution_count": 28,
   "id": "1c12b329",
   "metadata": {},
   "outputs": [],
   "source": [
    "def helix_3D(n_samples, h=20, angle=np.pi/2):\n",
    "    labels=np.array([0]*(n_samples//2)+[1]*((n_samples+1)//2))\n",
    "    np.random.shuffle(labels)\n",
    "    ha = np.random.rand(n_samples)*h\n",
    "    return np.array([[np.cos(a+b),np.sin(a+b),a] for a,b in zip(ha,labels)]),labels"
   ]
  },
  {
   "cell_type": "code",
   "execution_count": 29,
   "id": "7cfc9eed",
   "metadata": {},
   "outputs": [],
   "source": [
    "def three_circles(n_samples,factor=0.5):\n",
    "    labels=np.zeros([n_samples])\n",
    "    labels[-n_samples//3:]=2\n",
    "    labels[n_samples//3:-n_samples//3]=1\n",
    "    np.random.shuffle(labels)\n",
    "    angles= np.random.rand(n_samples)*2*np.pi\n",
    "    print(angles,labels)\n",
    "    return np.array([[np.cos(a)*factor**b,np.sin(a)*factor**b] for a,b in zip(angles,labels)]),labels"
   ]
  },
  {
   "cell_type": "code",
   "execution_count": 30,
   "id": "680f59ca",
   "metadata": {},
   "outputs": [
    {
     "name": "stdout",
     "output_type": "stream",
     "text": [
      "[4.90922958 1.21742831 0.86699066 6.277438   0.69506555 1.39813885] [0. 1. 2. 1. 0. 2.]\n",
      "(array([[ 0.19557192, -0.98068936],\n",
      "       [ 0.17302984,  0.46910625],\n",
      "       [ 0.16178094,  0.19059624],\n",
      "       [ 0.49999174, -0.00287364],\n",
      "       [ 0.76801172,  0.64043579],\n",
      "       [ 0.04295023,  0.24628292]]), array([0., 1., 2., 1., 0., 2.]))\n"
     ]
    }
   ],
   "source": [
    "print(three_circles(6))"
   ]
  },
  {
   "cell_type": "markdown",
   "id": "0257b2d9",
   "metadata": {},
   "source": [
    "## RNA-Seq dataset\n",
    "\n",
    "This dataset come from https://archive.ics.uci.edu/ml/datasets/gene+expression+cancer+RNA-Seq#\n",
    "\n",
    "It represents 801 patients suffering from cancers of 5 different types.\n",
    "\n",
    "The features of the data are RNA-Seq gene expression levels, and the label is the tumor type.\n",
    "\n",
    "To make the code work, download the dataset, extract it and save data and labels in the folder ./data/genes/"
   ]
  },
  {
   "cell_type": "code",
   "execution_count": 31,
   "id": "16c20f9d",
   "metadata": {},
   "outputs": [
    {
     "data": {
      "text/html": [
       "<div>\n",
       "<style scoped>\n",
       "    .dataframe tbody tr th:only-of-type {\n",
       "        vertical-align: middle;\n",
       "    }\n",
       "\n",
       "    .dataframe tbody tr th {\n",
       "        vertical-align: top;\n",
       "    }\n",
       "\n",
       "    .dataframe thead th {\n",
       "        text-align: right;\n",
       "    }\n",
       "</style>\n",
       "<table border=\"1\" class=\"dataframe\">\n",
       "  <thead>\n",
       "    <tr style=\"text-align: right;\">\n",
       "      <th></th>\n",
       "      <th>gene_0</th>\n",
       "      <th>gene_1</th>\n",
       "      <th>gene_2</th>\n",
       "      <th>gene_3</th>\n",
       "      <th>gene_4</th>\n",
       "      <th>gene_5</th>\n",
       "      <th>gene_6</th>\n",
       "      <th>gene_7</th>\n",
       "      <th>gene_8</th>\n",
       "      <th>gene_9</th>\n",
       "      <th>...</th>\n",
       "      <th>gene_20521</th>\n",
       "      <th>gene_20522</th>\n",
       "      <th>gene_20523</th>\n",
       "      <th>gene_20524</th>\n",
       "      <th>gene_20525</th>\n",
       "      <th>gene_20526</th>\n",
       "      <th>gene_20527</th>\n",
       "      <th>gene_20528</th>\n",
       "      <th>gene_20529</th>\n",
       "      <th>gene_20530</th>\n",
       "    </tr>\n",
       "  </thead>\n",
       "  <tbody>\n",
       "    <tr>\n",
       "      <th>0</th>\n",
       "      <td>0.0</td>\n",
       "      <td>2.017209</td>\n",
       "      <td>3.265527</td>\n",
       "      <td>5.478487</td>\n",
       "      <td>10.431999</td>\n",
       "      <td>0.0</td>\n",
       "      <td>7.175175</td>\n",
       "      <td>0.591871</td>\n",
       "      <td>0.0</td>\n",
       "      <td>0.0</td>\n",
       "      <td>...</td>\n",
       "      <td>4.926711</td>\n",
       "      <td>8.210257</td>\n",
       "      <td>9.723516</td>\n",
       "      <td>7.220030</td>\n",
       "      <td>9.119813</td>\n",
       "      <td>12.003135</td>\n",
       "      <td>9.650743</td>\n",
       "      <td>8.921326</td>\n",
       "      <td>5.286759</td>\n",
       "      <td>0.000000</td>\n",
       "    </tr>\n",
       "    <tr>\n",
       "      <th>1</th>\n",
       "      <td>0.0</td>\n",
       "      <td>0.592732</td>\n",
       "      <td>1.588421</td>\n",
       "      <td>7.586157</td>\n",
       "      <td>9.623011</td>\n",
       "      <td>0.0</td>\n",
       "      <td>6.816049</td>\n",
       "      <td>0.000000</td>\n",
       "      <td>0.0</td>\n",
       "      <td>0.0</td>\n",
       "      <td>...</td>\n",
       "      <td>4.593372</td>\n",
       "      <td>7.323865</td>\n",
       "      <td>9.740931</td>\n",
       "      <td>6.256586</td>\n",
       "      <td>8.381612</td>\n",
       "      <td>12.674552</td>\n",
       "      <td>10.517059</td>\n",
       "      <td>9.397854</td>\n",
       "      <td>2.094168</td>\n",
       "      <td>0.000000</td>\n",
       "    </tr>\n",
       "    <tr>\n",
       "      <th>2</th>\n",
       "      <td>0.0</td>\n",
       "      <td>3.511759</td>\n",
       "      <td>4.327199</td>\n",
       "      <td>6.881787</td>\n",
       "      <td>9.870730</td>\n",
       "      <td>0.0</td>\n",
       "      <td>6.972130</td>\n",
       "      <td>0.452595</td>\n",
       "      <td>0.0</td>\n",
       "      <td>0.0</td>\n",
       "      <td>...</td>\n",
       "      <td>5.125213</td>\n",
       "      <td>8.127123</td>\n",
       "      <td>10.908640</td>\n",
       "      <td>5.401607</td>\n",
       "      <td>9.911597</td>\n",
       "      <td>9.045255</td>\n",
       "      <td>9.788359</td>\n",
       "      <td>10.090470</td>\n",
       "      <td>1.683023</td>\n",
       "      <td>0.000000</td>\n",
       "    </tr>\n",
       "    <tr>\n",
       "      <th>3</th>\n",
       "      <td>0.0</td>\n",
       "      <td>3.663618</td>\n",
       "      <td>4.507649</td>\n",
       "      <td>6.659068</td>\n",
       "      <td>10.196184</td>\n",
       "      <td>0.0</td>\n",
       "      <td>7.843375</td>\n",
       "      <td>0.434882</td>\n",
       "      <td>0.0</td>\n",
       "      <td>0.0</td>\n",
       "      <td>...</td>\n",
       "      <td>6.076566</td>\n",
       "      <td>8.792959</td>\n",
       "      <td>10.141520</td>\n",
       "      <td>8.942805</td>\n",
       "      <td>9.601208</td>\n",
       "      <td>11.392682</td>\n",
       "      <td>9.694814</td>\n",
       "      <td>9.684365</td>\n",
       "      <td>3.292001</td>\n",
       "      <td>0.000000</td>\n",
       "    </tr>\n",
       "    <tr>\n",
       "      <th>4</th>\n",
       "      <td>0.0</td>\n",
       "      <td>2.655741</td>\n",
       "      <td>2.821547</td>\n",
       "      <td>6.539454</td>\n",
       "      <td>9.738265</td>\n",
       "      <td>0.0</td>\n",
       "      <td>6.566967</td>\n",
       "      <td>0.360982</td>\n",
       "      <td>0.0</td>\n",
       "      <td>0.0</td>\n",
       "      <td>...</td>\n",
       "      <td>5.996032</td>\n",
       "      <td>8.891425</td>\n",
       "      <td>10.373790</td>\n",
       "      <td>7.181162</td>\n",
       "      <td>9.846910</td>\n",
       "      <td>11.922439</td>\n",
       "      <td>9.217749</td>\n",
       "      <td>9.461191</td>\n",
       "      <td>5.110372</td>\n",
       "      <td>0.000000</td>\n",
       "    </tr>\n",
       "    <tr>\n",
       "      <th>...</th>\n",
       "      <td>...</td>\n",
       "      <td>...</td>\n",
       "      <td>...</td>\n",
       "      <td>...</td>\n",
       "      <td>...</td>\n",
       "      <td>...</td>\n",
       "      <td>...</td>\n",
       "      <td>...</td>\n",
       "      <td>...</td>\n",
       "      <td>...</td>\n",
       "      <td>...</td>\n",
       "      <td>...</td>\n",
       "      <td>...</td>\n",
       "      <td>...</td>\n",
       "      <td>...</td>\n",
       "      <td>...</td>\n",
       "      <td>...</td>\n",
       "      <td>...</td>\n",
       "      <td>...</td>\n",
       "      <td>...</td>\n",
       "      <td>...</td>\n",
       "    </tr>\n",
       "    <tr>\n",
       "      <th>796</th>\n",
       "      <td>0.0</td>\n",
       "      <td>1.865642</td>\n",
       "      <td>2.718197</td>\n",
       "      <td>7.350099</td>\n",
       "      <td>10.006003</td>\n",
       "      <td>0.0</td>\n",
       "      <td>6.764792</td>\n",
       "      <td>0.496922</td>\n",
       "      <td>0.0</td>\n",
       "      <td>0.0</td>\n",
       "      <td>...</td>\n",
       "      <td>6.088133</td>\n",
       "      <td>9.118313</td>\n",
       "      <td>10.004852</td>\n",
       "      <td>4.484415</td>\n",
       "      <td>9.614701</td>\n",
       "      <td>12.031267</td>\n",
       "      <td>9.813063</td>\n",
       "      <td>10.092770</td>\n",
       "      <td>8.819269</td>\n",
       "      <td>0.000000</td>\n",
       "    </tr>\n",
       "    <tr>\n",
       "      <th>797</th>\n",
       "      <td>0.0</td>\n",
       "      <td>3.942955</td>\n",
       "      <td>4.453807</td>\n",
       "      <td>6.346597</td>\n",
       "      <td>10.056868</td>\n",
       "      <td>0.0</td>\n",
       "      <td>7.320331</td>\n",
       "      <td>0.000000</td>\n",
       "      <td>0.0</td>\n",
       "      <td>0.0</td>\n",
       "      <td>...</td>\n",
       "      <td>6.371876</td>\n",
       "      <td>9.623335</td>\n",
       "      <td>9.823921</td>\n",
       "      <td>6.555327</td>\n",
       "      <td>9.064002</td>\n",
       "      <td>11.633422</td>\n",
       "      <td>10.317266</td>\n",
       "      <td>8.745983</td>\n",
       "      <td>9.659081</td>\n",
       "      <td>0.000000</td>\n",
       "    </tr>\n",
       "    <tr>\n",
       "      <th>798</th>\n",
       "      <td>0.0</td>\n",
       "      <td>3.249582</td>\n",
       "      <td>3.707492</td>\n",
       "      <td>8.185901</td>\n",
       "      <td>9.504082</td>\n",
       "      <td>0.0</td>\n",
       "      <td>7.536589</td>\n",
       "      <td>1.811101</td>\n",
       "      <td>0.0</td>\n",
       "      <td>0.0</td>\n",
       "      <td>...</td>\n",
       "      <td>5.719386</td>\n",
       "      <td>8.610704</td>\n",
       "      <td>10.485517</td>\n",
       "      <td>3.589763</td>\n",
       "      <td>9.350636</td>\n",
       "      <td>12.180944</td>\n",
       "      <td>10.681194</td>\n",
       "      <td>9.466711</td>\n",
       "      <td>4.677458</td>\n",
       "      <td>0.586693</td>\n",
       "    </tr>\n",
       "    <tr>\n",
       "      <th>799</th>\n",
       "      <td>0.0</td>\n",
       "      <td>2.590339</td>\n",
       "      <td>2.787976</td>\n",
       "      <td>7.318624</td>\n",
       "      <td>9.987136</td>\n",
       "      <td>0.0</td>\n",
       "      <td>9.213464</td>\n",
       "      <td>0.000000</td>\n",
       "      <td>0.0</td>\n",
       "      <td>0.0</td>\n",
       "      <td>...</td>\n",
       "      <td>5.785237</td>\n",
       "      <td>8.605387</td>\n",
       "      <td>11.004677</td>\n",
       "      <td>4.745888</td>\n",
       "      <td>9.626383</td>\n",
       "      <td>11.198279</td>\n",
       "      <td>10.335513</td>\n",
       "      <td>10.400581</td>\n",
       "      <td>5.718751</td>\n",
       "      <td>0.000000</td>\n",
       "    </tr>\n",
       "    <tr>\n",
       "      <th>800</th>\n",
       "      <td>0.0</td>\n",
       "      <td>2.325242</td>\n",
       "      <td>3.805932</td>\n",
       "      <td>6.530246</td>\n",
       "      <td>9.560367</td>\n",
       "      <td>0.0</td>\n",
       "      <td>7.957027</td>\n",
       "      <td>0.000000</td>\n",
       "      <td>0.0</td>\n",
       "      <td>0.0</td>\n",
       "      <td>...</td>\n",
       "      <td>6.403075</td>\n",
       "      <td>8.594354</td>\n",
       "      <td>10.243079</td>\n",
       "      <td>9.139459</td>\n",
       "      <td>10.102934</td>\n",
       "      <td>11.641081</td>\n",
       "      <td>10.607358</td>\n",
       "      <td>9.844794</td>\n",
       "      <td>4.550716</td>\n",
       "      <td>0.000000</td>\n",
       "    </tr>\n",
       "  </tbody>\n",
       "</table>\n",
       "<p>801 rows × 20531 columns</p>\n",
       "</div>"
      ],
      "text/plain": [
       "     gene_0    gene_1    gene_2    gene_3     gene_4  gene_5    gene_6  \\\n",
       "0       0.0  2.017209  3.265527  5.478487  10.431999     0.0  7.175175   \n",
       "1       0.0  0.592732  1.588421  7.586157   9.623011     0.0  6.816049   \n",
       "2       0.0  3.511759  4.327199  6.881787   9.870730     0.0  6.972130   \n",
       "3       0.0  3.663618  4.507649  6.659068  10.196184     0.0  7.843375   \n",
       "4       0.0  2.655741  2.821547  6.539454   9.738265     0.0  6.566967   \n",
       "..      ...       ...       ...       ...        ...     ...       ...   \n",
       "796     0.0  1.865642  2.718197  7.350099  10.006003     0.0  6.764792   \n",
       "797     0.0  3.942955  4.453807  6.346597  10.056868     0.0  7.320331   \n",
       "798     0.0  3.249582  3.707492  8.185901   9.504082     0.0  7.536589   \n",
       "799     0.0  2.590339  2.787976  7.318624   9.987136     0.0  9.213464   \n",
       "800     0.0  2.325242  3.805932  6.530246   9.560367     0.0  7.957027   \n",
       "\n",
       "       gene_7  gene_8  gene_9  ...  gene_20521  gene_20522  gene_20523  \\\n",
       "0    0.591871     0.0     0.0  ...    4.926711    8.210257    9.723516   \n",
       "1    0.000000     0.0     0.0  ...    4.593372    7.323865    9.740931   \n",
       "2    0.452595     0.0     0.0  ...    5.125213    8.127123   10.908640   \n",
       "3    0.434882     0.0     0.0  ...    6.076566    8.792959   10.141520   \n",
       "4    0.360982     0.0     0.0  ...    5.996032    8.891425   10.373790   \n",
       "..        ...     ...     ...  ...         ...         ...         ...   \n",
       "796  0.496922     0.0     0.0  ...    6.088133    9.118313   10.004852   \n",
       "797  0.000000     0.0     0.0  ...    6.371876    9.623335    9.823921   \n",
       "798  1.811101     0.0     0.0  ...    5.719386    8.610704   10.485517   \n",
       "799  0.000000     0.0     0.0  ...    5.785237    8.605387   11.004677   \n",
       "800  0.000000     0.0     0.0  ...    6.403075    8.594354   10.243079   \n",
       "\n",
       "     gene_20524  gene_20525  gene_20526  gene_20527  gene_20528  gene_20529  \\\n",
       "0      7.220030    9.119813   12.003135    9.650743    8.921326    5.286759   \n",
       "1      6.256586    8.381612   12.674552   10.517059    9.397854    2.094168   \n",
       "2      5.401607    9.911597    9.045255    9.788359   10.090470    1.683023   \n",
       "3      8.942805    9.601208   11.392682    9.694814    9.684365    3.292001   \n",
       "4      7.181162    9.846910   11.922439    9.217749    9.461191    5.110372   \n",
       "..          ...         ...         ...         ...         ...         ...   \n",
       "796    4.484415    9.614701   12.031267    9.813063   10.092770    8.819269   \n",
       "797    6.555327    9.064002   11.633422   10.317266    8.745983    9.659081   \n",
       "798    3.589763    9.350636   12.180944   10.681194    9.466711    4.677458   \n",
       "799    4.745888    9.626383   11.198279   10.335513   10.400581    5.718751   \n",
       "800    9.139459   10.102934   11.641081   10.607358    9.844794    4.550716   \n",
       "\n",
       "     gene_20530  \n",
       "0      0.000000  \n",
       "1      0.000000  \n",
       "2      0.000000  \n",
       "3      0.000000  \n",
       "4      0.000000  \n",
       "..          ...  \n",
       "796    0.000000  \n",
       "797    0.000000  \n",
       "798    0.586693  \n",
       "799    0.000000  \n",
       "800    0.000000  \n",
       "\n",
       "[801 rows x 20531 columns]"
      ]
     },
     "execution_count": 31,
     "metadata": {},
     "output_type": "execute_result"
    }
   ],
   "source": [
    "gene_df = pd.read_csv(\"data/genes/data.csv\")\n",
    "gene_df = gene_df[gene_df.columns[1:]]\n",
    "gene_df"
   ]
  },
  {
   "cell_type": "code",
   "execution_count": 35,
   "id": "2201887c",
   "metadata": {},
   "outputs": [
    {
     "data": {
      "text/html": [
       "<div>\n",
       "<style scoped>\n",
       "    .dataframe tbody tr th:only-of-type {\n",
       "        vertical-align: middle;\n",
       "    }\n",
       "\n",
       "    .dataframe tbody tr th {\n",
       "        vertical-align: top;\n",
       "    }\n",
       "\n",
       "    .dataframe thead th {\n",
       "        text-align: right;\n",
       "    }\n",
       "</style>\n",
       "<table border=\"1\" class=\"dataframe\">\n",
       "  <thead>\n",
       "    <tr style=\"text-align: right;\">\n",
       "      <th></th>\n",
       "      <th>Class</th>\n",
       "    </tr>\n",
       "  </thead>\n",
       "  <tbody>\n",
       "    <tr>\n",
       "      <th>0</th>\n",
       "      <td>PRAD</td>\n",
       "    </tr>\n",
       "    <tr>\n",
       "      <th>1</th>\n",
       "      <td>LUAD</td>\n",
       "    </tr>\n",
       "    <tr>\n",
       "      <th>2</th>\n",
       "      <td>PRAD</td>\n",
       "    </tr>\n",
       "    <tr>\n",
       "      <th>3</th>\n",
       "      <td>PRAD</td>\n",
       "    </tr>\n",
       "    <tr>\n",
       "      <th>4</th>\n",
       "      <td>BRCA</td>\n",
       "    </tr>\n",
       "    <tr>\n",
       "      <th>...</th>\n",
       "      <td>...</td>\n",
       "    </tr>\n",
       "    <tr>\n",
       "      <th>796</th>\n",
       "      <td>BRCA</td>\n",
       "    </tr>\n",
       "    <tr>\n",
       "      <th>797</th>\n",
       "      <td>LUAD</td>\n",
       "    </tr>\n",
       "    <tr>\n",
       "      <th>798</th>\n",
       "      <td>COAD</td>\n",
       "    </tr>\n",
       "    <tr>\n",
       "      <th>799</th>\n",
       "      <td>PRAD</td>\n",
       "    </tr>\n",
       "    <tr>\n",
       "      <th>800</th>\n",
       "      <td>PRAD</td>\n",
       "    </tr>\n",
       "  </tbody>\n",
       "</table>\n",
       "<p>801 rows × 1 columns</p>\n",
       "</div>"
      ],
      "text/plain": [
       "    Class\n",
       "0    PRAD\n",
       "1    LUAD\n",
       "2    PRAD\n",
       "3    PRAD\n",
       "4    BRCA\n",
       "..    ...\n",
       "796  BRCA\n",
       "797  LUAD\n",
       "798  COAD\n",
       "799  PRAD\n",
       "800  PRAD\n",
       "\n",
       "[801 rows x 1 columns]"
      ]
     },
     "execution_count": 35,
     "metadata": {},
     "output_type": "execute_result"
    }
   ],
   "source": [
    "gene_labels = pd.read_csv(\"data/genes/labels.csv\")\n",
    "gene_labels = gene_labels[gene_labels.columns[1:]]\n",
    "gene_labels"
   ]
  },
  {
   "cell_type": "markdown",
   "id": "3603375c",
   "metadata": {},
   "source": [
    "The goal is to model the distribution with a $k$ component graph, in order to cluster the data into $k$ classes. As there are $k=5$ classes in reality, we try the algorithm with this value.\n",
    "\n",
    "We also normalize the expression of the genes before computing the covariance matrix."
   ]
  },
  {
   "cell_type": "code",
   "execution_count": 36,
   "id": "c8f7d3e5",
   "metadata": {},
   "outputs": [
    {
     "name": "stdout",
     "output_type": "stream",
     "text": [
      "28.284271146464874\n",
      "28.28427121917764\n"
     ]
    }
   ],
   "source": [
    "l=gene_df.values\n",
    "print(np.max(l))\n",
    "\n",
    "l-=np.expand_dims(np.mean(l,axis=0),axis=0)\n",
    "l/=np.expand_dims(np.std(l,axis=0)+10**-9,axis=0)\n",
    "C = np.cov(l)\n",
    "print(np.max(l))"
   ]
  },
  {
   "cell_type": "code",
   "execution_count": 37,
   "id": "311a10bb",
   "metadata": {},
   "outputs": [
    {
     "name": "stderr",
     "output_type": "stream",
     "text": [
      "100%|██████████████████████████████████████████████████████████████████████████████████████████████████████████████████████████████████████████████████████████████████| 2000/2000 [01:41<00:00, 19.64it/s]\n"
     ]
    }
   ],
   "source": [
    "res_genes = learn_k_component_graph(C, k=9, maxiter=2000) #2000 or more in reality"
   ]
  },
  {
   "cell_type": "markdown",
   "id": "3dda434c",
   "metadata": {},
   "source": [
    "Then, we reorganise the matrix according to their labels to see visually if the components that should be connected are effectively connected."
   ]
  },
  {
   "cell_type": "code",
   "execution_count": 50,
   "id": "11df2fbb",
   "metadata": {},
   "outputs": [],
   "source": [
    "id_genes = np.argsort(gene_labels.values.squeeze())"
   ]
  },
  {
   "cell_type": "code",
   "execution_count": 51,
   "id": "149a1164",
   "metadata": {},
   "outputs": [
    {
     "data": {
      "image/png": "[encoded data removed]",
      "text/plain": [
       "<Figure size 1440x1440 with 1 Axes>"
      ]
     },
     "metadata": {
      "needs_background": "light"
     },
     "output_type": "display_data"
    }
   ],
   "source": [
    "fig = plt.figure(figsize=(20, 20))\n",
    "l=(res_genes[\"Adjacency\"]>10**-3)\n",
    "plt.matshow(l[id_genes][:, id_genes], fignum=0)\n",
    "plt.show()"
   ]
  },
  {
   "cell_type": "markdown",
   "id": "4c5b3ef0",
   "metadata": {},
   "source": [
    "On this representation of the matrix $\\mathbb{1}_{A_{ij}>\\epsilon}$ with $A$ the adjacency matrix and $\\epsilon=10^{-3}$ reorganised according to the true labels, we see that the algorithm learns somehow the main components."
   ]
  },
  {
   "cell_type": "code",
   "execution_count": 52,
   "id": "c256eb15",
   "metadata": {},
   "outputs": [
    {
     "name": "stdout",
     "output_type": "stream",
     "text": [
      "[-1.16941070e-15 -7.45517627e-16 -2.42746341e-16 -1.00638333e-16\n",
      " -8.66481674e-17  5.49544217e-17  3.24997515e-16  4.34625439e-16\n",
      "  6.44807372e-16  2.81048468e-02  3.67832069e-02  4.70220991e-02\n",
      "  8.04089583e-02  1.49898127e-01  2.05908278e-01  2.30165665e-01\n",
      "  3.61334250e-01  3.63305090e-01  3.71854706e-01  3.91821124e-01\n",
      "  3.95479724e-01  4.17051267e-01  4.53532741e-01  4.58966923e-01\n",
      "  4.87030307e-01  4.88657148e-01  5.22137675e-01  5.35366597e-01\n",
      "  5.49536112e-01  5.55082961e-01  5.68544532e-01  5.73084454e-01\n",
      "  5.84358659e-01  6.03146787e-01  6.16057777e-01  6.21544739e-01\n",
      "  6.37159241e-01  6.40544925e-01  6.53499837e-01  6.56655797e-01\n",
      "  6.65437401e-01  6.68882844e-01  6.84579243e-01  6.90984018e-01\n",
      "  6.99203592e-01  7.01120311e-01  7.05621244e-01  7.10553150e-01\n",
      "  7.13366520e-01  7.33692300e-01  7.38939675e-01  7.41053231e-01\n",
      "  7.45809732e-01  7.56725413e-01  7.68474525e-01  7.73011636e-01\n",
      "  7.87802633e-01  7.95264096e-01  8.03631580e-01  8.06610773e-01\n",
      "  8.16272936e-01  8.26874817e-01  8.31497211e-01  8.34714533e-01\n",
      "  8.45011863e-01  8.50382499e-01  8.52292516e-01  8.58456480e-01\n",
      "  8.66493271e-01  8.76684089e-01  8.80404181e-01  8.83834898e-01\n",
      "  8.87128673e-01  8.91164494e-01  8.98838135e-01  9.04069704e-01\n",
      "  9.10801853e-01  9.13259327e-01  9.16530638e-01  9.26528444e-01\n",
      "  9.28770781e-01  9.35512635e-01  9.36124788e-01  9.41214090e-01\n",
      "  9.47110942e-01  9.50195983e-01  9.51630912e-01  9.54145517e-01\n",
      "  9.60763660e-01  9.71513486e-01  9.73507023e-01  9.81938362e-01\n",
      "  9.84914431e-01  9.87871287e-01  9.93041275e-01  1.00344226e+00\n",
      "  1.01170112e+00  1.01473669e+00  1.02079736e+00  1.02159379e+00\n",
      "  1.02912647e+00  1.03155267e+00  1.03606725e+00  1.04030146e+00\n",
      "  1.04216851e+00  1.04340154e+00  1.04844386e+00  1.04915338e+00\n",
      "  1.05205242e+00  1.05587819e+00  1.06532438e+00  1.06605343e+00\n",
      "  1.07224880e+00  1.07593486e+00  1.07878561e+00  1.08248075e+00\n",
      "  1.08823457e+00  1.09249970e+00  1.09870511e+00  1.09901016e+00\n",
      "  1.10524099e+00  1.10733305e+00  1.11229290e+00  1.11716174e+00\n",
      "  1.11846382e+00  1.12470286e+00  1.12683934e+00  1.13227996e+00\n",
      "  1.13395328e+00  1.14722858e+00  1.14814269e+00  1.15377143e+00\n",
      "  1.15662332e+00  1.15865275e+00  1.16094548e+00  1.16653953e+00\n",
      "  1.17070424e+00  1.17506455e+00  1.17680637e+00  1.17847225e+00\n",
      "  1.18760357e+00  1.19172759e+00  1.19530740e+00  1.19641925e+00\n",
      "  1.20611757e+00  1.20748206e+00  1.20915922e+00  1.21384859e+00\n",
      "  1.21698392e+00  1.21958944e+00  1.22082952e+00  1.22583206e+00\n",
      "  1.22873112e+00  1.23056728e+00  1.23476404e+00  1.23964204e+00\n",
      "  1.24147717e+00  1.24642080e+00  1.25178535e+00  1.25351307e+00\n",
      "  1.25769698e+00  1.26092254e+00  1.26270066e+00  1.26507357e+00\n",
      "  1.27032630e+00  1.27181427e+00  1.27745509e+00  1.27928675e+00\n",
      "  1.28058063e+00  1.28400783e+00  1.28907058e+00  1.29149751e+00\n",
      "  1.29619387e+00  1.30039435e+00  1.30111484e+00  1.30445160e+00\n",
      "  1.30919848e+00  1.31511720e+00  1.31724587e+00  1.32101124e+00\n",
      "  1.32572448e+00  1.33180817e+00  1.33505860e+00  1.34108047e+00\n",
      "  1.34833082e+00  1.35284126e+00  1.35502389e+00  1.36391142e+00\n",
      "  1.36546119e+00  1.36865718e+00  1.37061806e+00  1.37558278e+00\n",
      "  1.38377603e+00  1.38558558e+00  1.38924062e+00  1.39092609e+00\n",
      "  1.39636053e+00  1.40044263e+00  1.40219560e+00  1.40468332e+00\n",
      "  1.40542225e+00  1.41154884e+00  1.41454698e+00  1.41688702e+00\n",
      "  1.42457733e+00  1.42819518e+00  1.43355859e+00  1.43737381e+00\n",
      "  1.44190793e+00  1.44397564e+00  1.44573782e+00  1.45382646e+00\n",
      "  1.45726403e+00  1.46018753e+00  1.46241173e+00  1.46692178e+00\n",
      "  1.46863152e+00  1.47201586e+00  1.47617201e+00  1.47828818e+00\n",
      "  1.48076223e+00  1.48572254e+00  1.48840159e+00  1.49287441e+00\n",
      "  1.49445679e+00  1.49822580e+00  1.50066838e+00  1.50467752e+00\n",
      "  1.51277447e+00  1.51424822e+00  1.51703826e+00  1.52200008e+00\n",
      "  1.52428400e+00  1.52628058e+00  1.53186042e+00  1.53650503e+00\n",
      "  1.54098773e+00  1.54328335e+00  1.54536926e+00  1.55457256e+00\n",
      "  1.55851864e+00  1.56319429e+00  1.56516477e+00  1.56720682e+00\n",
      "  1.56784724e+00  1.57431666e+00  1.57933375e+00  1.58031040e+00\n",
      "  1.58339434e+00  1.58691347e+00  1.58876655e+00  1.59368976e+00\n",
      "  1.59478640e+00  1.59799150e+00  1.60295864e+00  1.60496161e+00\n",
      "  1.60689255e+00  1.60900310e+00  1.61505214e+00  1.61952765e+00\n",
      "  1.62130938e+00  1.62238480e+00  1.62609000e+00  1.63232957e+00\n",
      "  1.63412986e+00  1.63702015e+00  1.63751151e+00  1.64263518e+00\n",
      "  1.64727114e+00  1.65090570e+00  1.65146933e+00  1.65590114e+00\n",
      "  1.65909673e+00  1.66279586e+00  1.66617352e+00  1.66758052e+00\n",
      "  1.67122731e+00  1.67635343e+00  1.67944259e+00  1.68789035e+00\n",
      "  1.69165278e+00  1.69484567e+00  1.69661660e+00  1.70086316e+00\n",
      "  1.70208405e+00  1.70515815e+00  1.70696352e+00  1.70906512e+00\n",
      "  1.71149593e+00  1.71526278e+00  1.71894840e+00  1.72202728e+00\n",
      "  1.72489775e+00  1.73445196e+00  1.73821920e+00  1.74085210e+00\n",
      "  1.74535755e+00  1.74890256e+00  1.75047837e+00  1.75184169e+00\n",
      "  1.75582803e+00  1.75814311e+00  1.76214473e+00  1.76280685e+00\n",
      "  1.76522118e+00  1.76885766e+00  1.77340732e+00  1.77930218e+00\n",
      "  1.77989294e+00  1.78182483e+00  1.78325854e+00  1.78906705e+00\n",
      "  1.79032393e+00  1.79227764e+00  1.79537325e+00  1.79698502e+00\n",
      "  1.79982794e+00  1.80297313e+00  1.80774377e+00  1.81263727e+00\n",
      "  1.81547967e+00  1.81913806e+00  1.82176958e+00  1.82415761e+00\n",
      "  1.82701044e+00  1.83005504e+00  1.83196793e+00  1.83338642e+00\n",
      "  1.83534505e+00  1.83962185e+00  1.84052395e+00  1.84495863e+00\n",
      "  1.84909649e+00  1.85479729e+00  1.85579673e+00  1.86340432e+00\n",
      "  1.86795102e+00  1.86922610e+00  1.87231049e+00  1.87632171e+00\n",
      "  1.87767042e+00  1.88213748e+00  1.88421858e+00  1.89088212e+00\n",
      "  1.89590359e+00  1.89772931e+00  1.90205065e+00  1.90459465e+00\n",
      "  1.90898224e+00  1.91154282e+00  1.91798001e+00  1.92319426e+00\n",
      "  1.92521636e+00  1.93202448e+00  1.93721118e+00  1.93989745e+00\n",
      "  1.94379776e+00  1.94480527e+00  1.94736169e+00  1.94913437e+00\n",
      "  1.95201090e+00  1.95563573e+00  1.95840035e+00  1.96123948e+00\n",
      "  1.96620309e+00  1.97032429e+00  1.97538537e+00  1.97700822e+00\n",
      "  1.98101817e+00  1.98350422e+00  1.98499679e+00  1.99138502e+00\n",
      "  1.99161235e+00  1.99459750e+00  1.99944314e+00  2.00477586e+00\n",
      "  2.00900490e+00  2.01029882e+00  2.01202466e+00  2.02082263e+00\n",
      "  2.02355300e+00  2.03035294e+00  2.03389089e+00  2.03540917e+00\n",
      "  2.04084745e+00  2.04595059e+00  2.04980476e+00  2.05175069e+00\n",
      "  2.05564995e+00  2.05801600e+00  2.06570379e+00  2.07127121e+00\n",
      "  2.07357795e+00  2.07504443e+00  2.08084833e+00  2.08353032e+00\n",
      "  2.08418041e+00  2.08593263e+00  2.09169635e+00  2.09609405e+00\n",
      "  2.09991883e+00  2.10443143e+00  2.10885877e+00  2.11806608e+00\n",
      "  2.11937482e+00  2.12449975e+00  2.12790656e+00  2.13019646e+00\n",
      "  2.13931640e+00  2.14341487e+00  2.14569392e+00  2.14770069e+00\n",
      "  2.14912417e+00  2.16229002e+00  2.16841471e+00  2.16990874e+00\n",
      "  2.17174733e+00  2.17650504e+00  2.18120609e+00  2.18425083e+00\n",
      "  2.18985066e+00  2.19682427e+00  2.19855642e+00  2.20203770e+00\n",
      "  2.20858751e+00  2.21044677e+00  2.21326230e+00  2.21684987e+00\n",
      "  2.21778205e+00  2.22151769e+00  2.22596753e+00  2.22628649e+00\n",
      "  2.22843791e+00  2.22994027e+00  2.23968219e+00  2.24152911e+00\n",
      "  2.24768853e+00  2.25474814e+00  2.25841582e+00  2.26096065e+00\n",
      "  2.26269111e+00  2.26484782e+00  2.26709836e+00  2.27338971e+00\n",
      "  2.27439006e+00  2.27662009e+00  2.28212394e+00  2.28665697e+00\n",
      "  2.29164860e+00  2.29397900e+00  2.29995064e+00  2.30435450e+00\n",
      "  2.30891020e+00  2.31316827e+00  2.31591851e+00  2.31976355e+00\n",
      "  2.33118473e+00  2.33524896e+00  2.34164891e+00  2.34856273e+00\n",
      "  2.35544947e+00  2.35662473e+00  2.35947054e+00  2.36337646e+00\n",
      "  2.36507940e+00  2.37303582e+00  2.37851377e+00  2.38061349e+00\n",
      "  2.38871529e+00  2.39014048e+00  2.39096338e+00  2.39943286e+00\n",
      "  2.40459905e+00  2.41068977e+00  2.41224642e+00  2.41411963e+00\n",
      "  2.41459477e+00  2.42004382e+00  2.42070935e+00  2.43610978e+00\n",
      "  2.43936825e+00  2.44355804e+00  2.44698270e+00  2.44979198e+00\n",
      "  2.45180619e+00  2.45933495e+00  2.46077462e+00  2.46370983e+00\n",
      "  2.46741751e+00  2.47025793e+00  2.47375764e+00  2.48378170e+00\n",
      "  2.48908066e+00  2.49199604e+00  2.49444983e+00  2.49798744e+00\n",
      "  2.50780273e+00  2.52661315e+00  2.52967976e+00  2.53123738e+00\n",
      "  2.53308031e+00  2.53752964e+00  2.54068178e+00  2.54431538e+00\n",
      "  2.54776174e+00  2.54919559e+00  2.55946364e+00  2.56379520e+00\n",
      "  2.56883030e+00  2.57615807e+00  2.57993837e+00  2.58343486e+00\n",
      "  2.58680451e+00  2.58813148e+00  2.60007967e+00  2.60788995e+00\n",
      "  2.61083798e+00  2.61995410e+00  2.62488340e+00  2.62930100e+00\n",
      "  2.62993399e+00  2.63317743e+00  2.63720005e+00  2.63961258e+00\n",
      "  2.64291160e+00  2.64797530e+00  2.65934121e+00  2.65988001e+00\n",
      "  2.67951013e+00  2.68043826e+00  2.68320050e+00  2.68632339e+00\n",
      "  2.69240995e+00  2.69258177e+00  2.69867425e+00  2.70253789e+00\n",
      "  2.71027552e+00  2.71342371e+00  2.72064927e+00  2.73066502e+00\n",
      "  2.73526764e+00  2.73992494e+00  2.74059772e+00  2.74765240e+00\n",
      "  2.75054371e+00  2.75624411e+00  2.75798580e+00  2.76032643e+00\n",
      "  2.76469857e+00  2.77939325e+00  2.79291958e+00  2.79309212e+00\n",
      "  2.79620790e+00  2.79720412e+00  2.80200600e+00  2.80211809e+00\n",
      "  2.80379968e+00  2.81034062e+00  2.81322236e+00  2.82816712e+00\n",
      "  2.82908933e+00  2.84047470e+00  2.84537749e+00  2.84766180e+00\n",
      "  2.85103364e+00  2.85349908e+00  2.86905023e+00  2.87571347e+00\n",
      "  2.87879788e+00  2.88603680e+00  2.89074050e+00  2.89253485e+00\n",
      "  2.89856008e+00  2.91374900e+00  2.92478943e+00  2.92980815e+00\n",
      "  2.93384462e+00  2.93958693e+00  2.94249439e+00  2.94777639e+00\n",
      "  2.94945985e+00  2.95260771e+00  2.95682813e+00  2.96514595e+00\n",
      "  2.96754365e+00  2.98315363e+00  2.98610451e+00  2.99619955e+00\n",
      "  3.00719817e+00  3.01417897e+00  3.01912250e+00  3.02395177e+00\n",
      "  3.02485399e+00  3.02874086e+00  3.03182720e+00  3.03569662e+00\n",
      "  3.04486400e+00  3.04772924e+00  3.05621673e+00  3.05858480e+00\n",
      "  3.06587370e+00  3.06771973e+00  3.07965355e+00  3.08780847e+00\n",
      "  3.09036691e+00  3.09599717e+00  3.10142623e+00  3.11156594e+00\n",
      "  3.11632304e+00  3.13035346e+00  3.13457960e+00  3.13857223e+00\n",
      "  3.14899633e+00  3.15427919e+00  3.17267943e+00  3.18023400e+00\n",
      "  3.18174194e+00  3.18486758e+00  3.18619382e+00  3.19171001e+00\n",
      "  3.20845192e+00  3.22474224e+00  3.22977550e+00  3.23838203e+00\n",
      "  3.24067679e+00  3.24271635e+00  3.25496635e+00  3.25754035e+00\n",
      "  3.26437700e+00  3.26953899e+00  3.27598905e+00  3.28316466e+00\n",
      "  3.29245072e+00  3.29653544e+00  3.31318407e+00  3.31674032e+00\n",
      "  3.31931679e+00  3.32408548e+00  3.32840495e+00  3.33285150e+00\n",
      "  3.34184194e+00  3.34891148e+00  3.35752803e+00  3.36380956e+00\n",
      "  3.37198774e+00  3.38175679e+00  3.39497823e+00  3.39621285e+00\n",
      "  3.40054829e+00  3.40434986e+00  3.41318383e+00  3.42501524e+00\n",
      "  3.43551051e+00  3.44893783e+00  3.45021296e+00  3.46064210e+00\n",
      "  3.46546349e+00  3.46963047e+00  3.47815256e+00  3.48413320e+00\n",
      "  3.49313607e+00  3.49758170e+00  3.50331101e+00  3.50597750e+00\n",
      "  3.52732881e+00  3.53412041e+00  3.53874969e+00  3.54657831e+00\n",
      "  3.55399625e+00  3.56369639e+00  3.56981642e+00  3.57240810e+00\n",
      "  3.58226691e+00  3.59416807e+00  3.62206398e+00  3.62339621e+00\n",
      "  3.62687748e+00  3.63307972e+00  3.63887157e+00  3.64468995e+00\n",
      "  3.64775353e+00  3.65330609e+00  3.66363271e+00  3.66717233e+00\n",
      "  3.68013902e+00  3.69127635e+00  3.69206450e+00  3.70563309e+00\n",
      "  3.71091057e+00  3.71975493e+00  3.73531159e+00  3.74241079e+00\n",
      "  3.75693470e+00  3.76456694e+00  3.77916107e+00  3.78438254e+00\n",
      "  3.80738851e+00  3.81515388e+00  3.82816473e+00  3.83460770e+00\n",
      "  3.84515139e+00  3.85380283e+00  3.85780696e+00  3.87891657e+00\n",
      "  3.90153393e+00  3.90866332e+00  3.91112650e+00  3.92002292e+00\n",
      "  3.93697311e+00  3.93909755e+00  3.94424509e+00  3.96160858e+00\n",
      "  3.96391630e+00  3.96573357e+00  3.97528943e+00  3.98607466e+00\n",
      "  4.01317642e+00  4.02895963e+00  4.03434929e+00  4.05992979e+00\n",
      "  4.07815983e+00  4.10203678e+00  4.11569253e+00  4.12022530e+00\n",
      "  4.14626963e+00  4.15001660e+00  4.18832843e+00  4.19862751e+00\n",
      "  4.23379062e+00  4.23799343e+00  4.25181344e+00  4.25668587e+00\n",
      "  4.27753324e+00  4.28908923e+00  4.29567675e+00  4.30889408e+00\n",
      "  4.31641745e+00  4.33357768e+00  4.33817404e+00  4.37134738e+00\n",
      "  4.38870752e+00  4.38940346e+00  4.39518436e+00  4.42045728e+00\n",
      "  4.44112894e+00  4.45140578e+00  4.45826558e+00  4.47379746e+00\n",
      "  4.49251315e+00  4.51275710e+00  4.51710697e+00  4.54154413e+00\n",
      "  4.55396349e+00  4.59837446e+00  4.62279427e+00  4.62928815e+00\n",
      "  4.64866174e+00  4.68497395e+00  4.71891612e+00  4.73139998e+00\n",
      "  4.75112673e+00  4.75879311e+00  4.77211412e+00  4.79854227e+00\n",
      "  4.83664669e+00  4.85331714e+00  4.87111307e+00  4.88119164e+00\n",
      "  4.89292664e+00  4.96212174e+00  5.00094716e+00  5.03534820e+00\n",
      "  5.06840134e+00  5.10396821e+00  5.12059866e+00  5.14512379e+00\n",
      "  5.20762177e+00  5.25415409e+00  5.25909371e+00  5.29634205e+00\n",
      "  5.35017994e+00  5.35791039e+00  5.43346930e+00  5.57483256e+00\n",
      "  5.61835498e+00  5.65468545e+00  5.79567212e+00  5.83028705e+00\n",
      "  5.88181170e+00  5.94800781e+00  6.10042029e+00  6.11374042e+00\n",
      "  6.11726863e+00  6.31964469e+00  6.36839727e+00  6.45272264e+00\n",
      "  6.53599616e+00  6.80683260e+00  6.82460828e+00  6.84347012e+00\n",
      "  6.99118078e+00]\n"
     ]
    }
   ],
   "source": [
    "print(np.sort(np.linalg.eigh(res_genes[\"Laplacian\"])[0]))"
   ]
  },
  {
   "cell_type": "code",
   "execution_count": 53,
   "id": "84ddfcc1",
   "metadata": {},
   "outputs": [],
   "source": [
    "def connected_component(A):\n",
    "    n=A.shape[0]\n",
    "    cc=[-1]*n\n",
    "    nbcc=0\n",
    "    def parc(u,i,n):\n",
    "        cc[u]=i\n",
    "        for v in range(n):\n",
    "            if A[u][v]>10**-7 and cc[v]==-1:\n",
    "                parc(v,i,n)\n",
    "    for u in range(n):\n",
    "        if cc[u]==-1:\n",
    "            parc(u,nbcc,n)\n",
    "            nbcc+=1\n",
    "    return cc        "
   ]
  },
  {
   "cell_type": "code",
   "execution_count": 54,
   "id": "635f18f6",
   "metadata": {},
   "outputs": [],
   "source": [
    "cc=connected_component(l)"
   ]
  },
  {
   "cell_type": "code",
   "execution_count": 55,
   "id": "6fd582b1",
   "metadata": {},
   "outputs": [
    {
     "name": "stdout",
     "output_type": "stream",
     "text": [
      "[0 0 0 0 0 0 0 0 0 0 0 0 0 0 0 0 0 0 0 0 0 0 0 0 0 0 0 0 0 0 0 0 0 0 0 0 0\n",
      " 0 0 0 0 0 0 0 0 0 0 0 0 0 0 0 0 0 0 0 0 0 0 0 0 0 0 0 0 0 0 0 0 0 0 0 0 0\n",
      " 0 0 0 0 0 0 0 0 0 0 0 0 0 0 0 0 0 0 0 0 0 0 0 0 0 0 0 0 0 0 0 0 0 0 0 0 0\n",
      " 0 0 0 0 0 0 0 0 0 0 0 0 0 0 0 0 0 0 0 0 0 0 0 0 0 0 0 0 0 0 0 0 0 0 0 0 0\n",
      " 0 0 0 0 0 0 0 0 0 0 0 0 0 0 0 0 1 0 0 0 0 0 0 0 0 0 0 0 0 0 0 0 0 0 0 0 0\n",
      " 0 0 0 0 0 0 0 0 0 0 0 0 0 0 0 0 0 0 0 0 0 0 0 0 0 0 0 0 0 0 0 0 0 0 0 0 0\n",
      " 0 0 0 0 0 0 0 0 2 0 0 0 0 0 0 0 0 0 0 0 0 0 0 0 0 0 0 0 0 0 0 0 0 0 0 0 0\n",
      " 0 0 0 0 0 0 0 0 0 0 0 0 0 0 0 0 0 0 0 0 0 0 0 0 0 0 0 0 0 0 0 0 0 0 0 0 0\n",
      " 0 0 0 0 0 0 0 0 0 0 0 0 0 0 0 0 0 0 0 0 0 0 0 0 0 0 0 0 0 0 0 0 0 0 0 0 0\n",
      " 0 0 0 0 0 0 0 0 0 0 0 0 0 0 0 0 0 0 0 0 0 0 0 0 0 0 0 0 0 0 0 0 0 0 0 0 0\n",
      " 0 0 0 0 0 0 0 0 0 0 0 0 0 0 0 0 0 0 0 0 0 0 0 0 0 0 0 0 0 0 0 0 0 0 0 0 0\n",
      " 0 0 0 0 0 0 0 0 0 0 0 0 0 0 0 0 0 0 0 0 0 0 0 0 0 0 0 0 0 0 0 3 0 0 0 0 0\n",
      " 0 0 4 0 0 0 0 0 0 0 0 0 0 0 0 0 0 0 0 0 0 0 0 0 0 0 0 0 0 0 0 0 0 0 0 0 0\n",
      " 0 0 0 0 0 0 0 0 0 0 0 0 0 0 0 0 0 0 0 0 0 0 0 0 0 0 0 0 0 0 0 0 0 0 0 0 0\n",
      " 0 0 0 0 0 0 0 0 0 0 0 0 0 0 0 0 0 0 0 0 0 0 0 0 0 0 0 0 0 0 0 0 0 0 0 0 0\n",
      " 0 0 0 0 0 0 0 0 0 0 0 0 0 0 0 0 0 0 0 0 0 0 0 0 0 0 0 0 0 0 0 0 0 0 0 0 0\n",
      " 0 0 0 0 0 0 0 5 0 0 0 0 0 0 0 0 0 0 0 0 0 0 0 0 0 0 0 0 0 0 0 0 0 0 0 0 0\n",
      " 0 0 0 0 0 0 0 0 0 0 0 0 0 0 0 0 0 0 0 0 0 0 0 0 0 0 0 0 0 0 0 0 0 0 0 0 0\n",
      " 0 0 0 0 0 0 0 0 0 0 0 0 0 0 0 0 0 0 0 0 0 0 0 0 0 0 0 0 0 0 0 0 0 0 0 0 0\n",
      " 0 0 0 0 0 0 0 0 0 0 0 0 0 0 0 0 0 0 0 0 6 0 0 0 0 0 0 0 0 0 0 0 0 0 0 0 0\n",
      " 0 0 0 0 0 0 0 0 0 0 0 0 0 0 0 0 0 0 0 0 0 0 0 0 0 0 0 0 0 0 0 0 0 0 0 0 0\n",
      " 0 0 0 0 0 0 0 0 0 0 0 0 7 0 0 0 0 0 0 0 0 8 0 0]\n",
      "[-0.         -0.         -0.         -0.         -0.         -0.\n",
      " -0.         -0.          0.56008234  0.6612497   0.68258198  0.68296863\n",
      "  0.71509375  0.74188387  0.75110315  0.76437637  0.77228536  0.79171867\n",
      "  0.79650947  0.80407929  0.81078188  0.82000137  0.84636958  0.85660506\n",
      "  0.86828704  0.88217414  0.88366312  0.89893001  0.90543765  0.90742835\n",
      "  0.90832681  0.91320551  0.91681941  0.91814778  0.92293765  0.93380627\n",
      "  0.9418512   0.95839905  0.98166677  0.98530529  0.98910414  0.99469075\n",
      "  0.99530539  0.9987812   1.00334047  1.00372501  1.01103329  1.02308175\n",
      "  1.02737189  1.03329721  1.03533086  1.03767198  1.0627952   1.06854954\n",
      "  1.09904629  1.11099826  1.11315717  1.12035993  1.13302531  1.13449015\n",
      "  1.1355104   1.13930979  1.16138433  1.16388133  1.1707136   1.17084956\n",
      "  1.18213068  1.18688969  1.1947515   1.19510666  1.19975551  1.19975672\n",
      "  1.20336022  1.20447691  1.2072491   1.20810619  1.2141437   1.21758124\n",
      "  1.22908757  1.23014192  1.23058438  1.23744281  1.23789283  1.2403857\n",
      "  1.24435348  1.24698291  1.24834083  1.25254941  1.26040828  1.26418481\n",
      "  1.26428998  1.27112957  1.27554253  1.27958316  1.28404381  1.28567294\n",
      "  1.28617877  1.2866051   1.28686671  1.28775648  1.28816353  1.29191812\n",
      "  1.29242546  1.2940956   1.30018105  1.30190324  1.30218284  1.30552556\n",
      "  1.31060617  1.3109529   1.31484544  1.31725479  1.3217326   1.32367\n",
      "  1.32616166  1.32771532  1.3360132   1.33833432  1.34236655  1.34629028\n",
      "  1.35006733  1.35107118  1.35221963  1.35484353  1.35634829  1.35751526\n",
      "  1.36171985  1.36318827  1.36323237  1.3672993   1.37561664  1.37744192\n",
      "  1.38192771  1.38579456  1.38652202  1.39133036  1.39394628  1.40690107\n",
      "  1.40736286  1.40942953  1.40967852  1.41057158  1.41665249  1.41824718\n",
      "  1.4282134   1.43201166  1.43415963  1.43864562  1.44046991  1.44052768\n",
      "  1.44309728  1.44363574  1.44392967  1.44525076  1.44898984  1.45307071\n",
      "  1.4583761   1.46375698  1.46945493  1.47212643  1.47681957  1.47699315\n",
      "  1.47945247  1.48560428  1.48594848  1.48813911  1.49005951  1.49472159\n",
      "  1.50150606  1.50582257  1.50925254  1.51168887  1.51246153  1.51287696\n",
      "  1.51359366  1.51653482  1.52377722  1.52655189  1.52740109  1.53438386\n",
      "  1.53554833  1.53662272  1.53931483  1.54125352  1.54771407  1.55344229\n",
      "  1.55815083  1.55896083  1.5615361   1.56955815  1.57895649  1.58023177\n",
      "  1.58041724  1.5818712   1.58935311  1.59404643  1.59484599  1.61214509\n",
      "  1.61300981  1.61789724  1.62363815  1.62714726  1.62827033  1.63077392\n",
      "  1.64504773  1.64792478  1.64884554  1.65296259  1.65435259  1.65647663\n",
      "  1.65679098  1.65807593  1.66243511  1.66557794  1.6679557   1.66959311\n",
      "  1.67184009  1.68002228  1.68283848  1.68817029  1.6918822   1.69459806\n",
      "  1.69596049  1.69692189  1.6972735   1.69741569  1.69817469  1.70030157\n",
      "  1.70196905  1.70487556  1.7056157   1.71048964  1.71131623  1.71268527\n",
      "  1.71576162  1.71671966  1.71777976  1.7219569   1.72252573  1.72344926\n",
      "  1.7247073   1.72566776  1.73792405  1.73876689  1.74022489  1.74181515\n",
      "  1.74501769  1.74712777  1.7475151   1.75123301  1.75164321  1.75562375\n",
      "  1.76278641  1.76497938  1.77148718  1.7739401   1.77811995  1.78052861\n",
      "  1.78641781  1.79157598  1.79446523  1.79596317  1.79746406  1.79794787\n",
      "  1.80313218  1.80886753  1.80913396  1.81167161  1.81304549  1.8168488\n",
      "  1.81944111  1.82272272  1.82509247  1.82538626  1.82986576  1.83501255\n",
      "  1.83527418  1.83595221  1.83808972  1.84013963  1.85020897  1.85050903\n",
      "  1.85357485  1.85426509  1.86119157  1.86251926  1.86977276  1.87261296\n",
      "  1.87269102  1.87700337  1.87784672  1.88199682  1.88336155  1.88711633\n",
      "  1.88809949  1.88893151  1.8891386   1.89984155  1.9033933   1.91045214\n",
      "  1.91609214  1.91679564  1.91834889  1.92329993  1.92491955  1.92928405\n",
      "  1.93140801  1.93344605  1.9335592   1.93390622  1.93399903  1.9435932\n",
      "  1.94679062  1.94749151  1.94824787  1.9527927   1.95555253  1.95665217\n",
      "  1.96001939  1.96042578  1.96093101  1.96639466  1.96680378  1.96984209\n",
      "  1.97038487  1.97384139  1.97849734  1.97885116  1.98089574  1.98426771\n",
      "  1.98433149  1.9856276   1.98803932  1.98879713  1.98959541  1.9907448\n",
      "  1.99338658  1.99525627  1.99627784  1.99952923  2.0010479   2.00165135\n",
      "  2.01288578  2.0157216   2.01750833  2.02625236  2.02992659  2.03107082\n",
      "  2.03202392  2.03573193  2.04410102  2.04888694  2.04978334  2.06111623\n",
      "  2.06131091  2.06191752  2.06235011  2.0623618   2.06546115  2.06566769\n",
      "  2.07039923  2.07166668  2.0815659   2.08615189  2.08983669  2.09796783\n",
      "  2.10986138  2.11226804  2.11237589  2.11285184  2.11560988  2.12042078\n",
      "  2.12070273  2.12106325  2.12439213  2.12591534  2.12713729  2.1274132\n",
      "  2.12903687  2.13263592  2.14409611  2.14416556  2.14660836  2.14873605\n",
      "  2.15436669  2.15833232  2.16837361  2.17218587  2.1801653   2.18216001\n",
      "  2.18393264  2.18827498  2.19004902  2.19073332  2.19269253  2.19272091\n",
      "  2.19323899  2.19347602  2.19593002  2.19709963  2.19824629  2.19987047\n",
      "  2.20005867  2.20044903  2.20671052  2.2111589   2.21224857  2.21362254\n",
      "  2.21865821  2.23382541  2.2352053   2.23881213  2.24407158  2.24903929\n",
      "  2.24912637  2.25136203  2.2533819   2.25421283  2.26109479  2.26531532\n",
      "  2.26686894  2.26771381  2.26970058  2.27131805  2.27234028  2.27509664\n",
      "  2.27795643  2.27911455  2.27974408  2.28164634  2.28623537  2.28660753\n",
      "  2.28675564  2.28676676  2.287382    2.28796141  2.28803537  2.28854008\n",
      "  2.2908331   2.29323883  2.29795108  2.30453842  2.30522013  2.30603038\n",
      "  2.30770075  2.31391452  2.31572349  2.31717964  2.31763535  2.32394735\n",
      "  2.32442719  2.32620056  2.32985681  2.33086025  2.33967455  2.3429988\n",
      "  2.34471486  2.34934968  2.35629082  2.3590235   2.36100936  2.36203804\n",
      "  2.37040926  2.38337567  2.38615165  2.39285833  2.39489851  2.40887521\n",
      "  2.4113122   2.41614311  2.41734153  2.42103908  2.42373411  2.43086898\n",
      "  2.4339245   2.43829504  2.43964102  2.44600555  2.46181877  2.46517276\n",
      "  2.46588735  2.46806913  2.47279498  2.47727131  2.49100433  2.49267484\n",
      "  2.49949907  2.49993135  2.50825826  2.51694328  2.52639631  2.52675384\n",
      "  2.53084085  2.53158188  2.5342274   2.54004056  2.54062673  2.54253031\n",
      "  2.54674719  2.54818857  2.54880552  2.55074307  2.55754356  2.55988056\n",
      "  2.56625368  2.56651907  2.57275318  2.57309435  2.58195161  2.5882875\n",
      "  2.58885665  2.59265811  2.59366539  2.59599556  2.60112339  2.60728499\n",
      "  2.60809923  2.60985281  2.61012624  2.6138057   2.61570986  2.62654716\n",
      "  2.62806436  2.6285568   2.62974699  2.63395105  2.64294875  2.65160155\n",
      "  2.66279344  2.66480603  2.66979039  2.67714728  2.67751546  2.68360577\n",
      "  2.68677392  2.68874915  2.69650161  2.69660398  2.69678997  2.69775236\n",
      "  2.69883082  2.70085175  2.70194728  2.70252823  2.71494814  2.71844505\n",
      "  2.72286804  2.72406738  2.72785889  2.73084382  2.73126861  2.73484216\n",
      "  2.73576699  2.74098432  2.74113165  2.74169032  2.74253521  2.74596901\n",
      "  2.74660274  2.74904707  2.75340594  2.76495295  2.76789608  2.7705116\n",
      "  2.77186736  2.77235052  2.77573551  2.77590047  2.77700112  2.77969804\n",
      "  2.78338292  2.79088235  2.79523664  2.80579211  2.80918034  2.81756394\n",
      "  2.81836591  2.82156237  2.82337955  2.83002828  2.83034568  2.83658013\n",
      "  2.84598754  2.85594436  2.86147505  2.86578537  2.86642138  2.8689888\n",
      "  2.87867534  2.8810581   2.88319076  2.89451722  2.89870324  2.90044505\n",
      "  2.90690302  2.91051122  2.9137355   2.91623631  2.93069029  2.93296609\n",
      "  2.93503245  2.9419205   2.94700228  2.94903549  2.95345052  2.95505187\n",
      "  2.95591042  2.9599287   2.96564406  2.96745796  2.97237382  2.97280986\n",
      "  2.97634647  2.97750461  2.98326902  2.99493413  2.99775724  3.00991267\n",
      "  3.01017003  3.01957745  3.02285157  3.02798089  3.04118142  3.04525524\n",
      "  3.05087816  3.05456408  3.05831317  3.06234815  3.06444622  3.06993989\n",
      "  3.07284122  3.07686335  3.07697971  3.07743047  3.08294668  3.08439674\n",
      "  3.08556125  3.09742914  3.1062663   3.10738807  3.11048282  3.11209099\n",
      "  3.11748045  3.12440639  3.13290183  3.1483078   3.1617466   3.16845368\n",
      "  3.17394049  3.17900621  3.18104201  3.18224406  3.18788147  3.18990232\n",
      "  3.19256651  3.19939702  3.21068811  3.21193957  3.21943663  3.21989179\n",
      "  3.22427268  3.23862415  3.23905384  3.2516933   3.26041622  3.26597105\n",
      "  3.2736472   3.27418425  3.28165639  3.28508981  3.28893648  3.30248453\n",
      "  3.3297267   3.33756402  3.34150341  3.35657209  3.35729682  3.35819152\n",
      "  3.37090485  3.37275288  3.38360138  3.39664024  3.40653778  3.41525658\n",
      "  3.41817107  3.42219325  3.42434439  3.43167559  3.4318851   3.43782203\n",
      "  3.44066727  3.44392832  3.44420917  3.4462608   3.44982567  3.4576766\n",
      "  3.45957603  3.46387873  3.46489078  3.4779378   3.48035145  3.52690694\n",
      "  3.54573236  3.54609923  3.55329996  3.55378842  3.55381825  3.55926307\n",
      "  3.55968558  3.56046359  3.56195679  3.56909777  3.60186557  3.6094134\n",
      "  3.61350177  3.61643724  3.62804448  3.6508437   3.65846502  3.66135803\n",
      "  3.66602112  3.66685872  3.689428    3.69975915  3.70756671  3.70779134\n",
      "  3.71147974  3.71594612  3.74008015  3.74708275  3.76111876  3.78937075\n",
      "  3.79879094  3.80326599  3.81323903  3.81907827  3.82101357  3.82918469\n",
      "  3.84043086  3.86224841  3.89576252  3.91831012  3.92015286  3.93262707\n",
      "  3.9340691   3.96569311  3.96695916  3.96714448  3.96859785  3.98846639\n",
      "  4.00618185  4.03185019  4.04742112  4.05267645  4.05964576  4.06001546\n",
      "  4.08201895  4.09707097  4.11390682  4.16966642  4.17085554  4.18916405\n",
      "  4.19084952  4.20949773  4.21186356  4.24209144  4.2492839   4.29526902\n",
      "  4.29739185  4.32338875  4.33830916  4.34562238  4.38413144  4.38943174\n",
      "  4.40283789  4.46069382  4.5170447   4.55524386  4.60955169  4.63518974\n",
      "  4.64527062  4.67522303  4.71208692  4.73420431  4.76009059  4.78081125\n",
      "  4.82066411  4.84492292  4.85460472  4.96088719  4.99594862  5.11740244\n",
      "  5.1941599   5.3282388   5.37148877  5.38798254  5.39324645  5.61098303\n",
      "  5.64133428  5.65682985  5.76868098]\n"
     ]
    }
   ],
   "source": [
    "print(np.array(cc))\n",
    "D=np.diagonal(res_genes[\"Laplacian\"])\n",
    "print(np.sort(D))"
   ]
  },
  {
   "cell_type": "markdown",
   "id": "b429c539",
   "metadata": {},
   "source": [
    "Unfortunately, as the sorted values of the laplacian diagonal show, these components correspond to single nodes, connected to no other node in the dataset."
   ]
  },
  {
   "cell_type": "markdown",
   "id": "a96a140f",
   "metadata": {},
   "source": [
    "## Realistic sensor displacement benchmark dataset"
   ]
  },
  {
   "cell_type": "markdown",
   "id": "efe7d4be",
   "metadata": {},
   "source": [
    "This part contains the experiments about the multivariate times series measuring body movements.\n",
    "\n",
    "The data is available at https://archive.ics.uci.edu/ml/machine-learning-databases/00305/\n",
    "\n",
    "To make the code work, download the dataset, extract it and save data and labels in the folder ./data/realistic_sensor_displacement/"
   ]
  },
  {
   "cell_type": "code",
   "execution_count": 56,
   "id": "c9960873",
   "metadata": {},
   "outputs": [],
   "source": [
    "from os import listdir\n",
    "location = \"data/realistic_sensor_displacement\"\n",
    "for filename in listdir(location)[:1]:\n",
    "    file=(pd.read_csv(location+'/'+filename, skiprows=0, sep='\\s+'))"
   ]
  },
  {
   "cell_type": "code",
   "execution_count": 57,
   "id": "1a0c4a55",
   "metadata": {},
   "outputs": [
    {
     "name": "stdout",
     "output_type": "stream",
     "text": [
      "(179809, 120)\n"
     ]
    }
   ],
   "source": [
    "l=file.values\n",
    "\n",
    "print(l.shape)"
   ]
  },
  {
   "cell_type": "code",
   "execution_count": 58,
   "id": "d0aecd3c",
   "metadata": {},
   "outputs": [],
   "source": [
    "l=l[:,2:-1]"
   ]
  },
  {
   "cell_type": "markdown",
   "id": "7e2daf2a",
   "metadata": {},
   "source": [
    "We try to learn a laplacian while enforcing a $k$ components structure for its associated graph."
   ]
  },
  {
   "cell_type": "code",
   "execution_count": 59,
   "id": "acd629e5",
   "metadata": {},
   "outputs": [
    {
     "name": "stderr",
     "output_type": "stream",
     "text": [
      "100%|█████████████████████████████████████████████████████████████████████████████████████████████████████████████████████████████████████████████████████████████████| 1000/1000 [00:01<00:00, 575.84it/s]\n"
     ]
    }
   ],
   "source": [
    "di=learn_k_component_graph(l.T,k=5,maxiter=1000)"
   ]
  },
  {
   "cell_type": "markdown",
   "id": "a8702c5a",
   "metadata": {},
   "source": [
    "Then, we plot the adjecency matrix, reorganised according to the coefficients of the second eigenvector of the laplacian, which could give a (very) rough estimation of the learned classes, according to spectral graph theory."
   ]
  },
  {
   "cell_type": "code",
   "execution_count": 60,
   "id": "ed72c834",
   "metadata": {},
   "outputs": [],
   "source": [
    "V=np.linalg.eigh(di[\"Laplacian\"])[1]"
   ]
  },
  {
   "cell_type": "code",
   "execution_count": 61,
   "id": "b3cd7f27",
   "metadata": {},
   "outputs": [],
   "source": [
    "ordre=np.argsort(V.T[1,:])"
   ]
  },
  {
   "cell_type": "code",
   "execution_count": 62,
   "id": "26df1275",
   "metadata": {},
   "outputs": [
    {
     "data": {
      "image/png": "[encoded data removed]",
      "text/plain": [
       "<Figure size 1440x1440 with 1 Axes>"
      ]
     },
     "metadata": {
      "needs_background": "light"
     },
     "output_type": "display_data"
    }
   ],
   "source": [
    "fig = plt.figure(figsize=(20, 20))\n",
    "plt.matshow(di[\"Adjacency\"][ordre][:,ordre], fignum=0)\n",
    "plt.show()"
   ]
  },
  {
   "cell_type": "markdown",
   "id": "76cdfce4",
   "metadata": {},
   "source": [
    "We do not see any meaningful pattern in the matrix, showing that the graph learning has probably failed."
   ]
  },
  {
   "cell_type": "code",
   "execution_count": null,
   "id": "b6bc1274",
   "metadata": {},
   "outputs": [],
   "source": [
    "print(di[\"convergence\"])"
   ]
  },
  {
   "cell_type": "code",
   "execution_count": 63,
   "id": "ba79f941",
   "metadata": {},
   "outputs": [
    {
     "name": "stdout",
     "output_type": "stream",
     "text": [
      "[-1.41645225e-16 -9.25897903e-17  2.43494824e-16  2.50649522e-04\n",
      "  5.91280128e-03  6.90802355e-02  9.53645176e-02  1.75576450e-01\n",
      "  1.90560393e-01  2.12856344e-01]\n"
     ]
    }
   ],
   "source": [
    "print(np.sort(np.linalg.eigh(di[\"Laplacian\"])[0])[:10])"
   ]
  },
  {
   "cell_type": "markdown",
   "id": "ebf95329",
   "metadata": {},
   "source": [
    "We see that indeed, the algorithm didn't converge and the laplacian has only one zero eigenvalue.\n",
    "\n",
    "Then, we try to use thresholding to enforce the smalest coefficients to go to zero and increase the number of components of the graph."
   ]
  },
  {
   "cell_type": "code",
   "execution_count": 64,
   "id": "4df7dfe9",
   "metadata": {},
   "outputs": [],
   "source": [
    "A=(di[\"Adjacency\"])*(abs(di[\"Adjacency\"])>10**-3)"
   ]
  },
  {
   "cell_type": "code",
   "execution_count": 65,
   "id": "dca29875",
   "metadata": {},
   "outputs": [],
   "source": [
    "L=A_to_L(A)"
   ]
  },
  {
   "cell_type": "code",
   "execution_count": 66,
   "id": "8ee9ea10",
   "metadata": {},
   "outputs": [
    {
     "name": "stdout",
     "output_type": "stream",
     "text": [
      "[-6.84098919e-16 -1.65948263e-16 -6.78504511e-17  2.50647848e-04\n",
      "  5.90722336e-03  6.86954526e-02  9.35966865e-02  1.73232008e-01\n",
      "  1.89088793e-01  2.11772094e-01]\n"
     ]
    }
   ],
   "source": [
    "print(np.sort(np.linalg.eigh(L)[0])[:10])"
   ]
  },
  {
   "cell_type": "markdown",
   "id": "0ab4202c",
   "metadata": {},
   "source": [
    "Unfortunately, the trick didn't work. We think that one explanation of this is because the data was not adapted to $k$-components graph learning "
   ]
  }
 ],
 "metadata": {
  "kernelspec": {
   "display_name": "Python 3 (ipykernel)",
   "language": "python",
   "name": "python3"
  },
  "language_info": {
   "codemirror_mode": {
    "name": "ipython",
    "version": 3
   },
   "file_extension": ".py",
   "mimetype": "text/x-python",
   "name": "python",
   "nbconvert_exporter": "python",
   "pygments_lexer": "ipython3",
   "version": "3.9.7"
  }
 },
 "nbformat": 4,
 "nbformat_minor": 5
}
