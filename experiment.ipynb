{
 "cells": [
  {
   "cell_type": "markdown",
   "id": "e46380b4",
   "metadata": {},
   "source": [
    "# ML for Time Series\n",
    "\n",
    "## A Unified Framework for Structured Graph Learning via Spectral Constraints\n",
    "\n",
    "Baptiste Collet - Cyril Miras\n",
    "\n",
    "## Experiments"
   ]
  },
  {
   "cell_type": "markdown",
   "id": "49252c5d",
   "metadata": {},
   "source": [
    "### Setup"
   ]
  },
  {
   "cell_type": "code",
   "execution_count": 1,
   "id": "b6284b40",
   "metadata": {},
   "outputs": [],
   "source": [
    "import numpy as np\n",
    "import pandas as pd\n",
    "import matplotlib.pyplot as plt\n",
    "import sklearn.datasets as skd\n",
    "import sklearn.metrics as skm\n",
    "from learnGraphTopology import *"
   ]
  },
  {
   "cell_type": "markdown",
   "id": "d7cddf5e",
   "metadata": {},
   "source": [
    "## Denoising a multi-component graph"
   ]
  },
  {
   "cell_type": "markdown",
   "id": "f217c5c6",
   "metadata": {},
   "source": [
    "First, we use the spectralGraphTopology to denoise laplacian matrices polluted with noise. We generate a 4 components adjacency matrix."
   ]
  },
  {
   "cell_type": "code",
   "execution_count": 69,
   "id": "068bdccf",
   "metadata": {},
   "outputs": [],
   "source": [
    "n_class_feats = 5\n",
    "n_classes = 4\n",
    "n_feats = n_classes * n_class_feats\n",
    "prob_intra = 1\n",
    "prob_extra = 0.3\n",
    "max_weight_intra = 1\n",
    "max_weight_extra = 0.3"
   ]
  },
  {
   "cell_type": "code",
   "execution_count": 70,
   "id": "ea6cf134",
   "metadata": {},
   "outputs": [
    {
     "data": {
      "image/png": "[encoded data removed]",
      "text/plain": [
       "<Figure size 288x288 with 1 Axes>"
      ]
     },
     "metadata": {
      "needs_background": "light"
     },
     "output_type": "display_data"
    }
   ],
   "source": [
    "adj = np.zeros((n_feats, n_feats))\n",
    "for i in range(n_classes):\n",
    "    i_start = i * n_class_feats\n",
    "    i_end = i_start + n_class_feats\n",
    "    for ii in range(i_start, i_end):\n",
    "        for jj in range(ii+1, i_end):\n",
    "            adj[ii, jj] = np.random.binomial(n=1, p=prob_intra) * np.random.uniform(high=max_weight_intra)\n",
    "plt.matshow(adj+adj.T)\n",
    "plt.title(\"Original matrix\")\n",
    "plt.show()"
   ]
  },
  {
   "cell_type": "markdown",
   "id": "4410af3c",
   "metadata": {},
   "source": [
    "We add noise to the matrix"
   ]
  },
  {
   "cell_type": "code",
   "execution_count": 71,
   "id": "79bfce60",
   "metadata": {},
   "outputs": [
    {
     "data": {
      "image/png": "[encoded data removed]",
      "text/plain": [
       "<Figure size 288x288 with 1 Axes>"
      ]
     },
     "metadata": {
      "needs_background": "light"
     },
     "output_type": "display_data"
    }
   ],
   "source": [
    "for i in range(n_feats):\n",
    "    for j in range(i+1, n_feats):\n",
    "        adj[i, j] += np.random.binomial(n=1, p=prob_extra) * np.random.uniform(high=max_weight_extra)\n",
    "adj = adj + adj.T\n",
    "plt.matshow(adj)\n",
    "plt.title(\"Noisy matrix\")\n",
    "plt.show()"
   ]
  },
  {
   "cell_type": "markdown",
   "id": "70ea5466",
   "metadata": {},
   "source": [
    "We generate the data according to the noisy laplacian and learn a denoise laplacian corresponding to a 4 components matrix"
   ]
  },
  {
   "cell_type": "code",
   "execution_count": 72,
   "id": "79741356",
   "metadata": {},
   "outputs": [],
   "source": [
    "n_samples = 100 * n_feats\n",
    "# compute the laplacian and correlation matrices\n",
    "lap = np.diag(adj.sum(axis=0)) - adj\n",
    "theta = np.linalg.pinv(lap)\n",
    "# generate samples\n",
    "x = np.random.multivariate_normal(np.zeros(n_feats), theta, size=n_samples).T"
   ]
  },
  {
   "cell_type": "code",
   "execution_count": 73,
   "id": "236c06d2",
   "metadata": {},
   "outputs": [
    {
     "name": "stderr",
     "output_type": "stream",
     "text": [
      "  1%|█▉                                                                                                                                                              | 118/10000 [00:00<00:02, 4202.42it/s]"
     ]
    },
    {
     "name": "stdout",
     "output_type": "stream",
     "text": [
      "The optimization converged!\n"
     ]
    },
    {
     "name": "stderr",
     "output_type": "stream",
     "text": [
      "\n"
     ]
    }
   ],
   "source": [
    "# learn the laplacian and adjacency matrices\n",
    "res_denoising = learn_k_component_graph(x, k=4, maxiter=10000)\n",
    "if res_denoising['convergence']: print(\"The optimization converged!\")"
   ]
  },
  {
   "cell_type": "code",
   "execution_count": 74,
   "id": "d5f394a8",
   "metadata": {},
   "outputs": [
    {
     "data": {
      "image/png": "[encoded data removed]",
      "text/plain": [
       "<Figure size 288x288 with 1 Axes>"
      ]
     },
     "metadata": {
      "needs_background": "light"
     },
     "output_type": "display_data"
    },
    {
     "name": "stdout",
     "output_type": "stream",
     "text": [
      "relative error:  0.6614074867719996\n",
      "naive relative error:  0.09445289372865608\n"
     ]
    }
   ],
   "source": [
    "plt.matshow(res_denoising[\"Adjacency\"])\n",
    "plt.title(\"recovered adjacency matrix\")\n",
    "plt.show()\n",
    "print('relative error: ', np.linalg.norm(res_denoising[\"Laplacian\"] - lap)/np.linalg.norm(lap))\n",
    "print('naive relative error: ', np.linalg.norm(np.linalg.pinv(np.cov(x)) - lap)/np.linalg.norm(lap))"
   ]
  },
  {
   "cell_type": "markdown",
   "id": "c8f67412",
   "metadata": {},
   "source": [
    "We show the computed laplacian: the components are well retrieved, but the coefficients have been modified during the process."
   ]
  },
  {
   "cell_type": "markdown",
   "id": "eb8f4cca",
   "metadata": {},
   "source": [
    "# Denoising a bipartite graph"
   ]
  },
  {
   "cell_type": "markdown",
   "id": "ba032741",
   "metadata": {},
   "source": [
    "Now, we test it on a bipartite graph structure."
   ]
  },
  {
   "cell_type": "code",
   "execution_count": 77,
   "id": "e006d1f8",
   "metadata": {},
   "outputs": [
    {
     "data": {
      "image/png": "[encoded data removed]",
      "text/plain": [
       "<Figure size 288x288 with 1 Axes>"
      ]
     },
     "metadata": {
      "needs_background": "light"
     },
     "output_type": "display_data"
    },
    {
     "data": {
      "text/plain": [
       "Text(0.5, 1.0, 'noisy')"
      ]
     },
     "execution_count": 77,
     "metadata": {},
     "output_type": "execute_result"
    },
    {
     "data": {
      "image/png": "[encoded data removed]",
      "text/plain": [
       "<Figure size 288x288 with 1 Axes>"
      ]
     },
     "metadata": {
      "needs_background": "light"
     },
     "output_type": "display_data"
    }
   ],
   "source": [
    "halfnodes=20\n",
    "nodes=2*halfnodes\n",
    "A = np.zeros([halfnodes*2,halfnodes*2])\n",
    "\n",
    "A[halfnodes:,:halfnodes] = 1\n",
    "plt.matshow(A+A.T)\n",
    "plt.title(\"original\")\n",
    "plt.show()\n",
    "A+=np.random.rand(nodes,nodes)*0.1\n",
    "for k in range(nodes):\n",
    "    A[k][k]=0\n",
    "A+=A.T\n",
    "L=A_to_L(A)\n",
    "plt.matshow(A)\n",
    "plt.title(\"noisy\")"
   ]
  },
  {
   "cell_type": "code",
   "execution_count": 4,
   "id": "ce6373dc",
   "metadata": {},
   "outputs": [
    {
     "name": "stderr",
     "output_type": "stream",
     "text": [
      "  0%|                                                                                                                                                                            | 0/10000 [00:00<?, ?it/s]/home/bcollet/Documents/spectralGraphTopology/ObjectiveFunction.py:18: RuntimeWarning: invalid value encountered in log\n",
      "  return np.sum(-np.log(np.linalg.eigh(Lw+J)[0]+eps)+np.diagonal(K@Lw))\n",
      "  0%|                                                                                                                                                                  | 1/10000 [00:00<1:10:33,  2.36it/s]/home/bcollet/Documents/spectralGraphTopology/ObjectiveFunction.py:18: RuntimeWarning: invalid value encountered in log\n",
      "  return np.sum(-np.log(np.linalg.eigh(Lw+J)[0]+eps)+np.diagonal(K@Lw))\n",
      "/home/bcollet/Documents/spectralGraphTopology/ObjectiveFunction.py:18: RuntimeWarning: invalid value encountered in log\n",
      "  return np.sum(-np.log(np.linalg.eigh(Lw+J)[0]+eps)+np.diagonal(K@Lw))\n",
      "/home/bcollet/Documents/spectralGraphTopology/ObjectiveFunction.py:18: RuntimeWarning: divide by zero encountered in log\n",
      "  return np.sum(-np.log(np.linalg.eigh(Lw+J)[0]+eps)+np.diagonal(K@Lw))\n",
      "/home/bcollet/Documents/spectralGraphTopology/ObjectiveFunction.py:18: RuntimeWarning: invalid value encountered in log\n",
      "  return np.sum(-np.log(np.linalg.eigh(Lw+J)[0]+eps)+np.diagonal(K@Lw))\n",
      "/home/bcollet/Documents/spectralGraphTopology/ObjectiveFunction.py:18: RuntimeWarning: invalid value encountered in log\n",
      "  return np.sum(-np.log(np.linalg.eigh(Lw+J)[0]+eps)+np.diagonal(K@Lw))\n",
      "/home/bcollet/Documents/spectralGraphTopology/ObjectiveFunction.py:18: RuntimeWarning: invalid value encountered in log\n",
      "  return np.sum(-np.log(np.linalg.eigh(Lw+J)[0]+eps)+np.diagonal(K@Lw))\n",
      "/home/bcollet/Documents/spectralGraphTopology/ObjectiveFunction.py:18: RuntimeWarning: invalid value encountered in log\n",
      "  return np.sum(-np.log(np.linalg.eigh(Lw+J)[0]+eps)+np.diagonal(K@Lw))\n",
      "/home/bcollet/Documents/spectralGraphTopology/ObjectiveFunction.py:18: RuntimeWarning: invalid value encountered in log\n",
      "  return np.sum(-np.log(np.linalg.eigh(Lw+J)[0]+eps)+np.diagonal(K@Lw))\n",
      "/home/bcollet/Documents/spectralGraphTopology/ObjectiveFunction.py:18: RuntimeWarning: invalid value encountered in log\n",
      "  return np.sum(-np.log(np.linalg.eigh(Lw+J)[0]+eps)+np.diagonal(K@Lw))\n",
      "/home/bcollet/Documents/spectralGraphTopology/ObjectiveFunction.py:18: RuntimeWarning: invalid value encountered in log\n",
      "  return np.sum(-np.log(np.linalg.eigh(Lw+J)[0]+eps)+np.diagonal(K@Lw))\n",
      "/home/bcollet/Documents/spectralGraphTopology/ObjectiveFunction.py:18: RuntimeWarning: invalid value encountered in log\n",
      "  return np.sum(-np.log(np.linalg.eigh(Lw+J)[0]+eps)+np.diagonal(K@Lw))\n",
      "/home/bcollet/Documents/spectralGraphTopology/ObjectiveFunction.py:18: RuntimeWarning: invalid value encountered in log\n",
      "  return np.sum(-np.log(np.linalg.eigh(Lw+J)[0]+eps)+np.diagonal(K@Lw))\n",
      "/home/bcollet/Documents/spectralGraphTopology/ObjectiveFunction.py:18: RuntimeWarning: invalid value encountered in log\n",
      "  return np.sum(-np.log(np.linalg.eigh(Lw+J)[0]+eps)+np.diagonal(K@Lw))\n",
      "/home/bcollet/Documents/spectralGraphTopology/ObjectiveFunction.py:18: RuntimeWarning: invalid value encountered in log\n",
      "  return np.sum(-np.log(np.linalg.eigh(Lw+J)[0]+eps)+np.diagonal(K@Lw))\n",
      "/home/bcollet/Documents/spectralGraphTopology/ObjectiveFunction.py:18: RuntimeWarning: invalid value encountered in log\n",
      "  return np.sum(-np.log(np.linalg.eigh(Lw+J)[0]+eps)+np.diagonal(K@Lw))\n",
      "/home/bcollet/Documents/spectralGraphTopology/ObjectiveFunction.py:18: RuntimeWarning: invalid value encountered in log\n",
      "  return np.sum(-np.log(np.linalg.eigh(Lw+J)[0]+eps)+np.diagonal(K@Lw))\n",
      "/home/bcollet/Documents/spectralGraphTopology/ObjectiveFunction.py:18: RuntimeWarning: invalid value encountered in log\n",
      "  return np.sum(-np.log(np.linalg.eigh(Lw+J)[0]+eps)+np.diagonal(K@Lw))\n",
      "/home/bcollet/Documents/spectralGraphTopology/ObjectiveFunction.py:18: RuntimeWarning: invalid value encountered in log\n",
      "  return np.sum(-np.log(np.linalg.eigh(Lw+J)[0]+eps)+np.diagonal(K@Lw))\n",
      "/home/bcollet/Documents/spectralGraphTopology/ObjectiveFunction.py:18: RuntimeWarning: invalid value encountered in log\n",
      "  return np.sum(-np.log(np.linalg.eigh(Lw+J)[0]+eps)+np.diagonal(K@Lw))\n",
      "/home/bcollet/Documents/spectralGraphTopology/ObjectiveFunction.py:18: RuntimeWarning: invalid value encountered in log\n",
      "  return np.sum(-np.log(np.linalg.eigh(Lw+J)[0]+eps)+np.diagonal(K@Lw))\n",
      "/home/bcollet/Documents/spectralGraphTopology/ObjectiveFunction.py:18: RuntimeWarning: invalid value encountered in log\n",
      "  return np.sum(-np.log(np.linalg.eigh(Lw+J)[0]+eps)+np.diagonal(K@Lw))\n",
      "/home/bcollet/Documents/spectralGraphTopology/ObjectiveFunction.py:18: RuntimeWarning: invalid value encountered in log\n",
      "  return np.sum(-np.log(np.linalg.eigh(Lw+J)[0]+eps)+np.diagonal(K@Lw))\n",
      "/home/bcollet/Documents/spectralGraphTopology/ObjectiveFunction.py:18: RuntimeWarning: invalid value encountered in log\n",
      "  return np.sum(-np.log(np.linalg.eigh(Lw+J)[0]+eps)+np.diagonal(K@Lw))\n",
      "/home/bcollet/Documents/spectralGraphTopology/ObjectiveFunction.py:18: RuntimeWarning: invalid value encountered in log\n",
      "  return np.sum(-np.log(np.linalg.eigh(Lw+J)[0]+eps)+np.diagonal(K@Lw))\n",
      "/home/bcollet/Documents/spectralGraphTopology/ObjectiveFunction.py:18: RuntimeWarning: invalid value encountered in log\n",
      "  return np.sum(-np.log(np.linalg.eigh(Lw+J)[0]+eps)+np.diagonal(K@Lw))\n",
      "/home/bcollet/Documents/spectralGraphTopology/ObjectiveFunction.py:18: RuntimeWarning: invalid value encountered in log\n",
      "  return np.sum(-np.log(np.linalg.eigh(Lw+J)[0]+eps)+np.diagonal(K@Lw))\n",
      "/home/bcollet/Documents/spectralGraphTopology/ObjectiveFunction.py:18: RuntimeWarning: invalid value encountered in log\n",
      "  return np.sum(-np.log(np.linalg.eigh(Lw+J)[0]+eps)+np.diagonal(K@Lw))\n",
      "/home/bcollet/Documents/spectralGraphTopology/ObjectiveFunction.py:18: RuntimeWarning: invalid value encountered in log\n",
      "  return np.sum(-np.log(np.linalg.eigh(Lw+J)[0]+eps)+np.diagonal(K@Lw))\n",
      "/home/bcollet/Documents/spectralGraphTopology/ObjectiveFunction.py:18: RuntimeWarning: invalid value encountered in log\n",
      "  return np.sum(-np.log(np.linalg.eigh(Lw+J)[0]+eps)+np.diagonal(K@Lw))\n",
      "/home/bcollet/Documents/spectralGraphTopology/ObjectiveFunction.py:18: RuntimeWarning: invalid value encountered in log\n",
      "  return np.sum(-np.log(np.linalg.eigh(Lw+J)[0]+eps)+np.diagonal(K@Lw))\n",
      "/home/bcollet/Documents/spectralGraphTopology/ObjectiveFunction.py:18: RuntimeWarning: invalid value encountered in log\n",
      "  return np.sum(-np.log(np.linalg.eigh(Lw+J)[0]+eps)+np.diagonal(K@Lw))\n",
      "/home/bcollet/Documents/spectralGraphTopology/ObjectiveFunction.py:18: RuntimeWarning: invalid value encountered in log\n",
      "  return np.sum(-np.log(np.linalg.eigh(Lw+J)[0]+eps)+np.diagonal(K@Lw))\n",
      "/home/bcollet/Documents/spectralGraphTopology/ObjectiveFunction.py:18: RuntimeWarning: invalid value encountered in log\n",
      "  return np.sum(-np.log(np.linalg.eigh(Lw+J)[0]+eps)+np.diagonal(K@Lw))\n",
      "/home/bcollet/Documents/spectralGraphTopology/ObjectiveFunction.py:18: RuntimeWarning: invalid value encountered in log\n",
      "  return np.sum(-np.log(np.linalg.eigh(Lw+J)[0]+eps)+np.diagonal(K@Lw))\n",
      "/home/bcollet/Documents/spectralGraphTopology/ObjectiveFunction.py:18: RuntimeWarning: invalid value encountered in log\n",
      "  return np.sum(-np.log(np.linalg.eigh(Lw+J)[0]+eps)+np.diagonal(K@Lw))\n",
      "/home/bcollet/Documents/spectralGraphTopology/ObjectiveFunction.py:18: RuntimeWarning: invalid value encountered in log\n",
      "  return np.sum(-np.log(np.linalg.eigh(Lw+J)[0]+eps)+np.diagonal(K@Lw))\n",
      "/home/bcollet/Documents/spectralGraphTopology/ObjectiveFunction.py:18: RuntimeWarning: divide by zero encountered in log\n",
      "  return np.sum(-np.log(np.linalg.eigh(Lw+J)[0]+eps)+np.diagonal(K@Lw))\n",
      "/home/bcollet/Documents/spectralGraphTopology/ObjectiveFunction.py:18: RuntimeWarning: invalid value encountered in log\n",
      "  return np.sum(-np.log(np.linalg.eigh(Lw+J)[0]+eps)+np.diagonal(K@Lw))\n",
      "/home/bcollet/Documents/spectralGraphTopology/ObjectiveFunction.py:18: RuntimeWarning: invalid value encountered in log\n",
      "  return np.sum(-np.log(np.linalg.eigh(Lw+J)[0]+eps)+np.diagonal(K@Lw))\n",
      "/home/bcollet/Documents/spectralGraphTopology/ObjectiveFunction.py:18: RuntimeWarning: invalid value encountered in log\n",
      "  return np.sum(-np.log(np.linalg.eigh(Lw+J)[0]+eps)+np.diagonal(K@Lw))\n",
      "/home/bcollet/Documents/spectralGraphTopology/ObjectiveFunction.py:18: RuntimeWarning: invalid value encountered in log\n",
      "  return np.sum(-np.log(np.linalg.eigh(Lw+J)[0]+eps)+np.diagonal(K@Lw))\n",
      "/home/bcollet/Documents/spectralGraphTopology/ObjectiveFunction.py:18: RuntimeWarning: invalid value encountered in log\n",
      "  return np.sum(-np.log(np.linalg.eigh(Lw+J)[0]+eps)+np.diagonal(K@Lw))\n",
      "/home/bcollet/Documents/spectralGraphTopology/ObjectiveFunction.py:18: RuntimeWarning: invalid value encountered in log\n",
      "  return np.sum(-np.log(np.linalg.eigh(Lw+J)[0]+eps)+np.diagonal(K@Lw))\n",
      "/home/bcollet/Documents/spectralGraphTopology/ObjectiveFunction.py:18: RuntimeWarning: invalid value encountered in log\n",
      "  return np.sum(-np.log(np.linalg.eigh(Lw+J)[0]+eps)+np.diagonal(K@Lw))\n",
      "/home/bcollet/Documents/spectralGraphTopology/ObjectiveFunction.py:18: RuntimeWarning: invalid value encountered in log\n",
      "  return np.sum(-np.log(np.linalg.eigh(Lw+J)[0]+eps)+np.diagonal(K@Lw))\n",
      "/home/bcollet/Documents/spectralGraphTopology/ObjectiveFunction.py:18: RuntimeWarning: invalid value encountered in log\n",
      "  return np.sum(-np.log(np.linalg.eigh(Lw+J)[0]+eps)+np.diagonal(K@Lw))\n"
     ]
    },
    {
     "name": "stderr",
     "output_type": "stream",
     "text": [
      "  0%|▋                                                                                                                                                                 | 45/10000 [00:00<01:28, 112.64it/s]/home/bcollet/Documents/spectralGraphTopology/ObjectiveFunction.py:18: RuntimeWarning: invalid value encountered in log\n",
      "  return np.sum(-np.log(np.linalg.eigh(Lw+J)[0]+eps)+np.diagonal(K@Lw))\n",
      "/home/bcollet/Documents/spectralGraphTopology/ObjectiveFunction.py:18: RuntimeWarning: invalid value encountered in log\n",
      "  return np.sum(-np.log(np.linalg.eigh(Lw+J)[0]+eps)+np.diagonal(K@Lw))\n",
      "/home/bcollet/Documents/spectralGraphTopology/ObjectiveFunction.py:18: RuntimeWarning: invalid value encountered in log\n",
      "  return np.sum(-np.log(np.linalg.eigh(Lw+J)[0]+eps)+np.diagonal(K@Lw))\n",
      "/home/bcollet/Documents/spectralGraphTopology/ObjectiveFunction.py:18: RuntimeWarning: invalid value encountered in log\n",
      "  return np.sum(-np.log(np.linalg.eigh(Lw+J)[0]+eps)+np.diagonal(K@Lw))\n",
      "/home/bcollet/Documents/spectralGraphTopology/ObjectiveFunction.py:18: RuntimeWarning: invalid value encountered in log\n",
      "  return np.sum(-np.log(np.linalg.eigh(Lw+J)[0]+eps)+np.diagonal(K@Lw))\n",
      "/home/bcollet/Documents/spectralGraphTopology/ObjectiveFunction.py:18: RuntimeWarning: invalid value encountered in log\n",
      "  return np.sum(-np.log(np.linalg.eigh(Lw+J)[0]+eps)+np.diagonal(K@Lw))\n",
      "/home/bcollet/Documents/spectralGraphTopology/ObjectiveFunction.py:18: RuntimeWarning: invalid value encountered in log\n",
      "  return np.sum(-np.log(np.linalg.eigh(Lw+J)[0]+eps)+np.diagonal(K@Lw))\n",
      "/home/bcollet/Documents/spectralGraphTopology/ObjectiveFunction.py:18: RuntimeWarning: invalid value encountered in log\n",
      "  return np.sum(-np.log(np.linalg.eigh(Lw+J)[0]+eps)+np.diagonal(K@Lw))\n",
      "/home/bcollet/Documents/spectralGraphTopology/ObjectiveFunction.py:18: RuntimeWarning: invalid value encountered in log\n",
      "  return np.sum(-np.log(np.linalg.eigh(Lw+J)[0]+eps)+np.diagonal(K@Lw))\n",
      "/home/bcollet/Documents/spectralGraphTopology/ObjectiveFunction.py:18: RuntimeWarning: invalid value encountered in log\n",
      "  return np.sum(-np.log(np.linalg.eigh(Lw+J)[0]+eps)+np.diagonal(K@Lw))\n",
      "/home/bcollet/Documents/spectralGraphTopology/ObjectiveFunction.py:18: RuntimeWarning: invalid value encountered in log\n",
      "  return np.sum(-np.log(np.linalg.eigh(Lw+J)[0]+eps)+np.diagonal(K@Lw))\n",
      "/home/bcollet/Documents/spectralGraphTopology/ObjectiveFunction.py:18: RuntimeWarning: invalid value encountered in log\n",
      "  return np.sum(-np.log(np.linalg.eigh(Lw+J)[0]+eps)+np.diagonal(K@Lw))\n",
      "/home/bcollet/Documents/spectralGraphTopology/ObjectiveFunction.py:18: RuntimeWarning: invalid value encountered in log\n",
      "  return np.sum(-np.log(np.linalg.eigh(Lw+J)[0]+eps)+np.diagonal(K@Lw))\n",
      "/home/bcollet/Documents/spectralGraphTopology/ObjectiveFunction.py:18: RuntimeWarning: invalid value encountered in log\n",
      "  return np.sum(-np.log(np.linalg.eigh(Lw+J)[0]+eps)+np.diagonal(K@Lw))\n",
      "/home/bcollet/Documents/spectralGraphTopology/ObjectiveFunction.py:18: RuntimeWarning: invalid value encountered in log\n",
      "  return np.sum(-np.log(np.linalg.eigh(Lw+J)[0]+eps)+np.diagonal(K@Lw))\n",
      "/home/bcollet/Documents/spectralGraphTopology/ObjectiveFunction.py:18: RuntimeWarning: invalid value encountered in log\n",
      "  return np.sum(-np.log(np.linalg.eigh(Lw+J)[0]+eps)+np.diagonal(K@Lw))\n",
      "/home/bcollet/Documents/spectralGraphTopology/ObjectiveFunction.py:18: RuntimeWarning: invalid value encountered in log\n",
      "  return np.sum(-np.log(np.linalg.eigh(Lw+J)[0]+eps)+np.diagonal(K@Lw))\n",
      "/home/bcollet/Documents/spectralGraphTopology/ObjectiveFunction.py:18: RuntimeWarning: invalid value encountered in log\n",
      "  return np.sum(-np.log(np.linalg.eigh(Lw+J)[0]+eps)+np.diagonal(K@Lw))\n",
      "/home/bcollet/Documents/spectralGraphTopology/ObjectiveFunction.py:18: RuntimeWarning: divide by zero encountered in log\n",
      "  return np.sum(-np.log(np.linalg.eigh(Lw+J)[0]+eps)+np.diagonal(K@Lw))\n",
      "/home/bcollet/Documents/spectralGraphTopology/ObjectiveFunction.py:18: RuntimeWarning: invalid value encountered in log\n",
      "  return np.sum(-np.log(np.linalg.eigh(Lw+J)[0]+eps)+np.diagonal(K@Lw))\n",
      "/home/bcollet/Documents/spectralGraphTopology/ObjectiveFunction.py:18: RuntimeWarning: invalid value encountered in log\n",
      "  return np.sum(-np.log(np.linalg.eigh(Lw+J)[0]+eps)+np.diagonal(K@Lw))\n",
      "/home/bcollet/Documents/spectralGraphTopology/ObjectiveFunction.py:18: RuntimeWarning: invalid value encountered in log\n",
      "  return np.sum(-np.log(np.linalg.eigh(Lw+J)[0]+eps)+np.diagonal(K@Lw))\n",
      "/home/bcollet/Documents/spectralGraphTopology/ObjectiveFunction.py:18: RuntimeWarning: invalid value encountered in log\n",
      "  return np.sum(-np.log(np.linalg.eigh(Lw+J)[0]+eps)+np.diagonal(K@Lw))\n",
      "/home/bcollet/Documents/spectralGraphTopology/ObjectiveFunction.py:18: RuntimeWarning: invalid value encountered in log\n",
      "  return np.sum(-np.log(np.linalg.eigh(Lw+J)[0]+eps)+np.diagonal(K@Lw))\n",
      "/home/bcollet/Documents/spectralGraphTopology/ObjectiveFunction.py:18: RuntimeWarning: invalid value encountered in log\n",
      "  return np.sum(-np.log(np.linalg.eigh(Lw+J)[0]+eps)+np.diagonal(K@Lw))\n",
      "/home/bcollet/Documents/spectralGraphTopology/ObjectiveFunction.py:18: RuntimeWarning: divide by zero encountered in log\n",
      "  return np.sum(-np.log(np.linalg.eigh(Lw+J)[0]+eps)+np.diagonal(K@Lw))\n",
      "/home/bcollet/Documents/spectralGraphTopology/ObjectiveFunction.py:18: RuntimeWarning: invalid value encountered in log\n",
      "  return np.sum(-np.log(np.linalg.eigh(Lw+J)[0]+eps)+np.diagonal(K@Lw))\n",
      "/home/bcollet/Documents/spectralGraphTopology/ObjectiveFunction.py:18: RuntimeWarning: invalid value encountered in log\n",
      "  return np.sum(-np.log(np.linalg.eigh(Lw+J)[0]+eps)+np.diagonal(K@Lw))\n",
      "/home/bcollet/Documents/spectralGraphTopology/ObjectiveFunction.py:18: RuntimeWarning: invalid value encountered in log\n",
      "  return np.sum(-np.log(np.linalg.eigh(Lw+J)[0]+eps)+np.diagonal(K@Lw))\n",
      "/home/bcollet/Documents/spectralGraphTopology/ObjectiveFunction.py:18: RuntimeWarning: invalid value encountered in log\n",
      "  return np.sum(-np.log(np.linalg.eigh(Lw+J)[0]+eps)+np.diagonal(K@Lw))\n",
      "/home/bcollet/Documents/spectralGraphTopology/ObjectiveFunction.py:18: RuntimeWarning: invalid value encountered in log\n",
      "  return np.sum(-np.log(np.linalg.eigh(Lw+J)[0]+eps)+np.diagonal(K@Lw))\n",
      "/home/bcollet/Documents/spectralGraphTopology/ObjectiveFunction.py:18: RuntimeWarning: invalid value encountered in log\n",
      "  return np.sum(-np.log(np.linalg.eigh(Lw+J)[0]+eps)+np.diagonal(K@Lw))\n",
      "/home/bcollet/Documents/spectralGraphTopology/ObjectiveFunction.py:18: RuntimeWarning: invalid value encountered in log\n",
      "  return np.sum(-np.log(np.linalg.eigh(Lw+J)[0]+eps)+np.diagonal(K@Lw))\n",
      "/home/bcollet/Documents/spectralGraphTopology/ObjectiveFunction.py:18: RuntimeWarning: divide by zero encountered in log\n",
      "  return np.sum(-np.log(np.linalg.eigh(Lw+J)[0]+eps)+np.diagonal(K@Lw))\n",
      "/home/bcollet/Documents/spectralGraphTopology/ObjectiveFunction.py:18: RuntimeWarning: invalid value encountered in log\n",
      "  return np.sum(-np.log(np.linalg.eigh(Lw+J)[0]+eps)+np.diagonal(K@Lw))\n",
      "/home/bcollet/Documents/spectralGraphTopology/ObjectiveFunction.py:18: RuntimeWarning: invalid value encountered in log\n",
      "  return np.sum(-np.log(np.linalg.eigh(Lw+J)[0]+eps)+np.diagonal(K@Lw))\n",
      "/home/bcollet/Documents/spectralGraphTopology/ObjectiveFunction.py:18: RuntimeWarning: invalid value encountered in log\n",
      "  return np.sum(-np.log(np.linalg.eigh(Lw+J)[0]+eps)+np.diagonal(K@Lw))\n",
      "/home/bcollet/Documents/spectralGraphTopology/ObjectiveFunction.py:18: RuntimeWarning: invalid value encountered in log\n",
      "  return np.sum(-np.log(np.linalg.eigh(Lw+J)[0]+eps)+np.diagonal(K@Lw))\n",
      "/home/bcollet/Documents/spectralGraphTopology/ObjectiveFunction.py:18: RuntimeWarning: invalid value encountered in log\n",
      "  return np.sum(-np.log(np.linalg.eigh(Lw+J)[0]+eps)+np.diagonal(K@Lw))\n",
      "/home/bcollet/Documents/spectralGraphTopology/ObjectiveFunction.py:18: RuntimeWarning: invalid value encountered in log\n",
      "  return np.sum(-np.log(np.linalg.eigh(Lw+J)[0]+eps)+np.diagonal(K@Lw))\n",
      "/home/bcollet/Documents/spectralGraphTopology/ObjectiveFunction.py:18: RuntimeWarning: invalid value encountered in log\n",
      "  return np.sum(-np.log(np.linalg.eigh(Lw+J)[0]+eps)+np.diagonal(K@Lw))\n",
      "/home/bcollet/Documents/spectralGraphTopology/ObjectiveFunction.py:18: RuntimeWarning: invalid value encountered in log\n",
      "  return np.sum(-np.log(np.linalg.eigh(Lw+J)[0]+eps)+np.diagonal(K@Lw))\n",
      "/home/bcollet/Documents/spectralGraphTopology/ObjectiveFunction.py:18: RuntimeWarning: invalid value encountered in log\n",
      "  return np.sum(-np.log(np.linalg.eigh(Lw+J)[0]+eps)+np.diagonal(K@Lw))\n"
     ]
    },
    {
     "name": "stderr",
     "output_type": "stream",
     "text": [
      "/home/bcollet/Documents/spectralGraphTopology/ObjectiveFunction.py:18: RuntimeWarning: invalid value encountered in log\n",
      "  return np.sum(-np.log(np.linalg.eigh(Lw+J)[0]+eps)+np.diagonal(K@Lw))\n",
      "  1%|█▍                                                                                                                                                                | 86/10000 [00:00<00:51, 190.72it/s]/home/bcollet/Documents/spectralGraphTopology/ObjectiveFunction.py:18: RuntimeWarning: invalid value encountered in log\n",
      "  return np.sum(-np.log(np.linalg.eigh(Lw+J)[0]+eps)+np.diagonal(K@Lw))\n",
      "/home/bcollet/Documents/spectralGraphTopology/ObjectiveFunction.py:18: RuntimeWarning: invalid value encountered in log\n",
      "  return np.sum(-np.log(np.linalg.eigh(Lw+J)[0]+eps)+np.diagonal(K@Lw))\n",
      "/home/bcollet/Documents/spectralGraphTopology/ObjectiveFunction.py:18: RuntimeWarning: invalid value encountered in log\n",
      "  return np.sum(-np.log(np.linalg.eigh(Lw+J)[0]+eps)+np.diagonal(K@Lw))\n",
      "/home/bcollet/Documents/spectralGraphTopology/ObjectiveFunction.py:18: RuntimeWarning: divide by zero encountered in log\n",
      "  return np.sum(-np.log(np.linalg.eigh(Lw+J)[0]+eps)+np.diagonal(K@Lw))\n",
      "/home/bcollet/Documents/spectralGraphTopology/ObjectiveFunction.py:18: RuntimeWarning: invalid value encountered in log\n",
      "  return np.sum(-np.log(np.linalg.eigh(Lw+J)[0]+eps)+np.diagonal(K@Lw))\n",
      "/home/bcollet/Documents/spectralGraphTopology/ObjectiveFunction.py:18: RuntimeWarning: invalid value encountered in log\n",
      "  return np.sum(-np.log(np.linalg.eigh(Lw+J)[0]+eps)+np.diagonal(K@Lw))\n",
      "/home/bcollet/Documents/spectralGraphTopology/ObjectiveFunction.py:18: RuntimeWarning: invalid value encountered in log\n",
      "  return np.sum(-np.log(np.linalg.eigh(Lw+J)[0]+eps)+np.diagonal(K@Lw))\n",
      "/home/bcollet/Documents/spectralGraphTopology/ObjectiveFunction.py:18: RuntimeWarning: invalid value encountered in log\n",
      "  return np.sum(-np.log(np.linalg.eigh(Lw+J)[0]+eps)+np.diagonal(K@Lw))\n",
      "/home/bcollet/Documents/spectralGraphTopology/ObjectiveFunction.py:18: RuntimeWarning: invalid value encountered in log\n",
      "  return np.sum(-np.log(np.linalg.eigh(Lw+J)[0]+eps)+np.diagonal(K@Lw))\n",
      "/home/bcollet/Documents/spectralGraphTopology/ObjectiveFunction.py:18: RuntimeWarning: invalid value encountered in log\n",
      "  return np.sum(-np.log(np.linalg.eigh(Lw+J)[0]+eps)+np.diagonal(K@Lw))\n",
      "/home/bcollet/Documents/spectralGraphTopology/ObjectiveFunction.py:18: RuntimeWarning: invalid value encountered in log\n",
      "  return np.sum(-np.log(np.linalg.eigh(Lw+J)[0]+eps)+np.diagonal(K@Lw))\n",
      "/home/bcollet/Documents/spectralGraphTopology/ObjectiveFunction.py:18: RuntimeWarning: invalid value encountered in log\n",
      "  return np.sum(-np.log(np.linalg.eigh(Lw+J)[0]+eps)+np.diagonal(K@Lw))\n",
      "/home/bcollet/Documents/spectralGraphTopology/ObjectiveFunction.py:18: RuntimeWarning: divide by zero encountered in log\n",
      "  return np.sum(-np.log(np.linalg.eigh(Lw+J)[0]+eps)+np.diagonal(K@Lw))\n",
      "/home/bcollet/Documents/spectralGraphTopology/ObjectiveFunction.py:18: RuntimeWarning: invalid value encountered in log\n",
      "  return np.sum(-np.log(np.linalg.eigh(Lw+J)[0]+eps)+np.diagonal(K@Lw))\n",
      "/home/bcollet/Documents/spectralGraphTopology/ObjectiveFunction.py:18: RuntimeWarning: invalid value encountered in log\n",
      "  return np.sum(-np.log(np.linalg.eigh(Lw+J)[0]+eps)+np.diagonal(K@Lw))\n",
      "/home/bcollet/Documents/spectralGraphTopology/ObjectiveFunction.py:18: RuntimeWarning: invalid value encountered in log\n",
      "  return np.sum(-np.log(np.linalg.eigh(Lw+J)[0]+eps)+np.diagonal(K@Lw))\n",
      "/home/bcollet/Documents/spectralGraphTopology/ObjectiveFunction.py:18: RuntimeWarning: invalid value encountered in log\n",
      "  return np.sum(-np.log(np.linalg.eigh(Lw+J)[0]+eps)+np.diagonal(K@Lw))\n",
      "/home/bcollet/Documents/spectralGraphTopology/ObjectiveFunction.py:18: RuntimeWarning: invalid value encountered in log\n",
      "  return np.sum(-np.log(np.linalg.eigh(Lw+J)[0]+eps)+np.diagonal(K@Lw))\n",
      "/home/bcollet/Documents/spectralGraphTopology/ObjectiveFunction.py:18: RuntimeWarning: invalid value encountered in log\n",
      "  return np.sum(-np.log(np.linalg.eigh(Lw+J)[0]+eps)+np.diagonal(K@Lw))\n",
      "/home/bcollet/Documents/spectralGraphTopology/ObjectiveFunction.py:18: RuntimeWarning: invalid value encountered in log\n",
      "  return np.sum(-np.log(np.linalg.eigh(Lw+J)[0]+eps)+np.diagonal(K@Lw))\n",
      "/home/bcollet/Documents/spectralGraphTopology/ObjectiveFunction.py:18: RuntimeWarning: invalid value encountered in log\n",
      "  return np.sum(-np.log(np.linalg.eigh(Lw+J)[0]+eps)+np.diagonal(K@Lw))\n",
      "/home/bcollet/Documents/spectralGraphTopology/ObjectiveFunction.py:18: RuntimeWarning: invalid value encountered in log\n",
      "  return np.sum(-np.log(np.linalg.eigh(Lw+J)[0]+eps)+np.diagonal(K@Lw))\n",
      "/home/bcollet/Documents/spectralGraphTopology/ObjectiveFunction.py:18: RuntimeWarning: invalid value encountered in log\n",
      "  return np.sum(-np.log(np.linalg.eigh(Lw+J)[0]+eps)+np.diagonal(K@Lw))\n",
      "/home/bcollet/Documents/spectralGraphTopology/ObjectiveFunction.py:18: RuntimeWarning: invalid value encountered in log\n",
      "  return np.sum(-np.log(np.linalg.eigh(Lw+J)[0]+eps)+np.diagonal(K@Lw))\n",
      "/home/bcollet/Documents/spectralGraphTopology/ObjectiveFunction.py:18: RuntimeWarning: invalid value encountered in log\n",
      "  return np.sum(-np.log(np.linalg.eigh(Lw+J)[0]+eps)+np.diagonal(K@Lw))\n",
      "/home/bcollet/Documents/spectralGraphTopology/ObjectiveFunction.py:18: RuntimeWarning: divide by zero encountered in log\n",
      "  return np.sum(-np.log(np.linalg.eigh(Lw+J)[0]+eps)+np.diagonal(K@Lw))\n",
      "/home/bcollet/Documents/spectralGraphTopology/ObjectiveFunction.py:18: RuntimeWarning: invalid value encountered in log\n",
      "  return np.sum(-np.log(np.linalg.eigh(Lw+J)[0]+eps)+np.diagonal(K@Lw))\n",
      "/home/bcollet/Documents/spectralGraphTopology/ObjectiveFunction.py:18: RuntimeWarning: invalid value encountered in log\n",
      "  return np.sum(-np.log(np.linalg.eigh(Lw+J)[0]+eps)+np.diagonal(K@Lw))\n",
      "/home/bcollet/Documents/spectralGraphTopology/ObjectiveFunction.py:18: RuntimeWarning: invalid value encountered in log\n",
      "  return np.sum(-np.log(np.linalg.eigh(Lw+J)[0]+eps)+np.diagonal(K@Lw))\n",
      "/home/bcollet/Documents/spectralGraphTopology/ObjectiveFunction.py:18: RuntimeWarning: invalid value encountered in log\n",
      "  return np.sum(-np.log(np.linalg.eigh(Lw+J)[0]+eps)+np.diagonal(K@Lw))\n",
      "/home/bcollet/Documents/spectralGraphTopology/ObjectiveFunction.py:18: RuntimeWarning: invalid value encountered in log\n",
      "  return np.sum(-np.log(np.linalg.eigh(Lw+J)[0]+eps)+np.diagonal(K@Lw))\n",
      "/home/bcollet/Documents/spectralGraphTopology/ObjectiveFunction.py:18: RuntimeWarning: invalid value encountered in log\n",
      "  return np.sum(-np.log(np.linalg.eigh(Lw+J)[0]+eps)+np.diagonal(K@Lw))\n",
      "/home/bcollet/Documents/spectralGraphTopology/ObjectiveFunction.py:18: RuntimeWarning: invalid value encountered in log\n",
      "  return np.sum(-np.log(np.linalg.eigh(Lw+J)[0]+eps)+np.diagonal(K@Lw))\n",
      "/home/bcollet/Documents/spectralGraphTopology/ObjectiveFunction.py:18: RuntimeWarning: invalid value encountered in log\n",
      "  return np.sum(-np.log(np.linalg.eigh(Lw+J)[0]+eps)+np.diagonal(K@Lw))\n",
      "/home/bcollet/Documents/spectralGraphTopology/ObjectiveFunction.py:18: RuntimeWarning: divide by zero encountered in log\n",
      "  return np.sum(-np.log(np.linalg.eigh(Lw+J)[0]+eps)+np.diagonal(K@Lw))\n",
      "/home/bcollet/Documents/spectralGraphTopology/ObjectiveFunction.py:18: RuntimeWarning: invalid value encountered in log\n",
      "  return np.sum(-np.log(np.linalg.eigh(Lw+J)[0]+eps)+np.diagonal(K@Lw))\n",
      "/home/bcollet/Documents/spectralGraphTopology/ObjectiveFunction.py:18: RuntimeWarning: invalid value encountered in log\n",
      "  return np.sum(-np.log(np.linalg.eigh(Lw+J)[0]+eps)+np.diagonal(K@Lw))\n",
      "/home/bcollet/Documents/spectralGraphTopology/ObjectiveFunction.py:18: RuntimeWarning: invalid value encountered in log\n",
      "  return np.sum(-np.log(np.linalg.eigh(Lw+J)[0]+eps)+np.diagonal(K@Lw))\n",
      "/home/bcollet/Documents/spectralGraphTopology/ObjectiveFunction.py:18: RuntimeWarning: invalid value encountered in log\n",
      "  return np.sum(-np.log(np.linalg.eigh(Lw+J)[0]+eps)+np.diagonal(K@Lw))\n",
      "/home/bcollet/Documents/spectralGraphTopology/ObjectiveFunction.py:18: RuntimeWarning: invalid value encountered in log\n",
      "  return np.sum(-np.log(np.linalg.eigh(Lw+J)[0]+eps)+np.diagonal(K@Lw))\n",
      "/home/bcollet/Documents/spectralGraphTopology/ObjectiveFunction.py:18: RuntimeWarning: divide by zero encountered in log\n",
      "  return np.sum(-np.log(np.linalg.eigh(Lw+J)[0]+eps)+np.diagonal(K@Lw))\n",
      "/home/bcollet/Documents/spectralGraphTopology/ObjectiveFunction.py:18: RuntimeWarning: invalid value encountered in log\n",
      "  return np.sum(-np.log(np.linalg.eigh(Lw+J)[0]+eps)+np.diagonal(K@Lw))\n",
      "/home/bcollet/Documents/spectralGraphTopology/ObjectiveFunction.py:18: RuntimeWarning: invalid value encountered in log\n",
      "  return np.sum(-np.log(np.linalg.eigh(Lw+J)[0]+eps)+np.diagonal(K@Lw))\n",
      "/home/bcollet/Documents/spectralGraphTopology/ObjectiveFunction.py:18: RuntimeWarning: invalid value encountered in log\n",
      "  return np.sum(-np.log(np.linalg.eigh(Lw+J)[0]+eps)+np.diagonal(K@Lw))\n",
      "/home/bcollet/Documents/spectralGraphTopology/ObjectiveFunction.py:18: RuntimeWarning: invalid value encountered in log\n",
      "  return np.sum(-np.log(np.linalg.eigh(Lw+J)[0]+eps)+np.diagonal(K@Lw))\n",
      "/home/bcollet/Documents/spectralGraphTopology/ObjectiveFunction.py:18: RuntimeWarning: invalid value encountered in log\n",
      "  return np.sum(-np.log(np.linalg.eigh(Lw+J)[0]+eps)+np.diagonal(K@Lw))\n"
     ]
    },
    {
     "name": "stderr",
     "output_type": "stream",
     "text": [
      "  1%|██                                                                                                                                                               | 127/10000 [00:00<00:39, 250.28it/s]/home/bcollet/Documents/spectralGraphTopology/ObjectiveFunction.py:18: RuntimeWarning: divide by zero encountered in log\n",
      "  return np.sum(-np.log(np.linalg.eigh(Lw+J)[0]+eps)+np.diagonal(K@Lw))\n",
      "/home/bcollet/Documents/spectralGraphTopology/ObjectiveFunction.py:18: RuntimeWarning: invalid value encountered in log\n",
      "  return np.sum(-np.log(np.linalg.eigh(Lw+J)[0]+eps)+np.diagonal(K@Lw))\n",
      "/home/bcollet/Documents/spectralGraphTopology/ObjectiveFunction.py:18: RuntimeWarning: invalid value encountered in log\n",
      "  return np.sum(-np.log(np.linalg.eigh(Lw+J)[0]+eps)+np.diagonal(K@Lw))\n",
      "/home/bcollet/Documents/spectralGraphTopology/ObjectiveFunction.py:18: RuntimeWarning: invalid value encountered in log\n",
      "  return np.sum(-np.log(np.linalg.eigh(Lw+J)[0]+eps)+np.diagonal(K@Lw))\n",
      "/home/bcollet/Documents/spectralGraphTopology/ObjectiveFunction.py:18: RuntimeWarning: invalid value encountered in log\n",
      "  return np.sum(-np.log(np.linalg.eigh(Lw+J)[0]+eps)+np.diagonal(K@Lw))\n",
      "/home/bcollet/Documents/spectralGraphTopology/ObjectiveFunction.py:18: RuntimeWarning: invalid value encountered in log\n",
      "  return np.sum(-np.log(np.linalg.eigh(Lw+J)[0]+eps)+np.diagonal(K@Lw))\n",
      "/home/bcollet/Documents/spectralGraphTopology/ObjectiveFunction.py:18: RuntimeWarning: invalid value encountered in log\n",
      "  return np.sum(-np.log(np.linalg.eigh(Lw+J)[0]+eps)+np.diagonal(K@Lw))\n",
      "/home/bcollet/Documents/spectralGraphTopology/ObjectiveFunction.py:18: RuntimeWarning: invalid value encountered in log\n",
      "  return np.sum(-np.log(np.linalg.eigh(Lw+J)[0]+eps)+np.diagonal(K@Lw))\n",
      "/home/bcollet/Documents/spectralGraphTopology/ObjectiveFunction.py:18: RuntimeWarning: invalid value encountered in log\n",
      "  return np.sum(-np.log(np.linalg.eigh(Lw+J)[0]+eps)+np.diagonal(K@Lw))\n",
      "/home/bcollet/Documents/spectralGraphTopology/ObjectiveFunction.py:18: RuntimeWarning: invalid value encountered in log\n",
      "  return np.sum(-np.log(np.linalg.eigh(Lw+J)[0]+eps)+np.diagonal(K@Lw))\n",
      "/home/bcollet/Documents/spectralGraphTopology/ObjectiveFunction.py:18: RuntimeWarning: invalid value encountered in log\n",
      "  return np.sum(-np.log(np.linalg.eigh(Lw+J)[0]+eps)+np.diagonal(K@Lw))\n",
      "/home/bcollet/Documents/spectralGraphTopology/ObjectiveFunction.py:18: RuntimeWarning: invalid value encountered in log\n",
      "  return np.sum(-np.log(np.linalg.eigh(Lw+J)[0]+eps)+np.diagonal(K@Lw))\n",
      "/home/bcollet/Documents/spectralGraphTopology/ObjectiveFunction.py:18: RuntimeWarning: divide by zero encountered in log\n",
      "  return np.sum(-np.log(np.linalg.eigh(Lw+J)[0]+eps)+np.diagonal(K@Lw))\n",
      "/home/bcollet/Documents/spectralGraphTopology/ObjectiveFunction.py:18: RuntimeWarning: invalid value encountered in log\n",
      "  return np.sum(-np.log(np.linalg.eigh(Lw+J)[0]+eps)+np.diagonal(K@Lw))\n",
      "/home/bcollet/Documents/spectralGraphTopology/ObjectiveFunction.py:18: RuntimeWarning: invalid value encountered in log\n",
      "  return np.sum(-np.log(np.linalg.eigh(Lw+J)[0]+eps)+np.diagonal(K@Lw))\n",
      "/home/bcollet/Documents/spectralGraphTopology/ObjectiveFunction.py:18: RuntimeWarning: invalid value encountered in log\n",
      "  return np.sum(-np.log(np.linalg.eigh(Lw+J)[0]+eps)+np.diagonal(K@Lw))\n",
      "/home/bcollet/Documents/spectralGraphTopology/ObjectiveFunction.py:18: RuntimeWarning: invalid value encountered in log\n",
      "  return np.sum(-np.log(np.linalg.eigh(Lw+J)[0]+eps)+np.diagonal(K@Lw))\n",
      "/home/bcollet/Documents/spectralGraphTopology/ObjectiveFunction.py:18: RuntimeWarning: invalid value encountered in log\n",
      "  return np.sum(-np.log(np.linalg.eigh(Lw+J)[0]+eps)+np.diagonal(K@Lw))\n",
      "/home/bcollet/Documents/spectralGraphTopology/ObjectiveFunction.py:18: RuntimeWarning: invalid value encountered in log\n",
      "  return np.sum(-np.log(np.linalg.eigh(Lw+J)[0]+eps)+np.diagonal(K@Lw))\n",
      "/home/bcollet/Documents/spectralGraphTopology/ObjectiveFunction.py:18: RuntimeWarning: divide by zero encountered in log\n",
      "  return np.sum(-np.log(np.linalg.eigh(Lw+J)[0]+eps)+np.diagonal(K@Lw))\n",
      "/home/bcollet/Documents/spectralGraphTopology/ObjectiveFunction.py:18: RuntimeWarning: invalid value encountered in log\n",
      "  return np.sum(-np.log(np.linalg.eigh(Lw+J)[0]+eps)+np.diagonal(K@Lw))\n",
      "/home/bcollet/Documents/spectralGraphTopology/ObjectiveFunction.py:18: RuntimeWarning: invalid value encountered in log\n",
      "  return np.sum(-np.log(np.linalg.eigh(Lw+J)[0]+eps)+np.diagonal(K@Lw))\n",
      "/home/bcollet/Documents/spectralGraphTopology/ObjectiveFunction.py:18: RuntimeWarning: divide by zero encountered in log\n",
      "  return np.sum(-np.log(np.linalg.eigh(Lw+J)[0]+eps)+np.diagonal(K@Lw))\n",
      "/home/bcollet/Documents/spectralGraphTopology/ObjectiveFunction.py:18: RuntimeWarning: invalid value encountered in log\n",
      "  return np.sum(-np.log(np.linalg.eigh(Lw+J)[0]+eps)+np.diagonal(K@Lw))\n",
      "/home/bcollet/Documents/spectralGraphTopology/ObjectiveFunction.py:18: RuntimeWarning: invalid value encountered in log\n",
      "  return np.sum(-np.log(np.linalg.eigh(Lw+J)[0]+eps)+np.diagonal(K@Lw))\n",
      "/home/bcollet/Documents/spectralGraphTopology/ObjectiveFunction.py:18: RuntimeWarning: divide by zero encountered in log\n",
      "  return np.sum(-np.log(np.linalg.eigh(Lw+J)[0]+eps)+np.diagonal(K@Lw))\n",
      "/home/bcollet/Documents/spectralGraphTopology/ObjectiveFunction.py:18: RuntimeWarning: invalid value encountered in log\n",
      "  return np.sum(-np.log(np.linalg.eigh(Lw+J)[0]+eps)+np.diagonal(K@Lw))\n",
      "/home/bcollet/Documents/spectralGraphTopology/ObjectiveFunction.py:18: RuntimeWarning: invalid value encountered in log\n",
      "  return np.sum(-np.log(np.linalg.eigh(Lw+J)[0]+eps)+np.diagonal(K@Lw))\n",
      "/home/bcollet/Documents/spectralGraphTopology/ObjectiveFunction.py:18: RuntimeWarning: invalid value encountered in log\n",
      "  return np.sum(-np.log(np.linalg.eigh(Lw+J)[0]+eps)+np.diagonal(K@Lw))\n",
      "/home/bcollet/Documents/spectralGraphTopology/ObjectiveFunction.py:18: RuntimeWarning: invalid value encountered in log\n",
      "  return np.sum(-np.log(np.linalg.eigh(Lw+J)[0]+eps)+np.diagonal(K@Lw))\n",
      "/home/bcollet/Documents/spectralGraphTopology/ObjectiveFunction.py:18: RuntimeWarning: invalid value encountered in log\n",
      "  return np.sum(-np.log(np.linalg.eigh(Lw+J)[0]+eps)+np.diagonal(K@Lw))\n",
      "/home/bcollet/Documents/spectralGraphTopology/ObjectiveFunction.py:18: RuntimeWarning: divide by zero encountered in log\n",
      "  return np.sum(-np.log(np.linalg.eigh(Lw+J)[0]+eps)+np.diagonal(K@Lw))\n",
      "/home/bcollet/Documents/spectralGraphTopology/ObjectiveFunction.py:18: RuntimeWarning: invalid value encountered in log\n",
      "  return np.sum(-np.log(np.linalg.eigh(Lw+J)[0]+eps)+np.diagonal(K@Lw))\n",
      "/home/bcollet/Documents/spectralGraphTopology/ObjectiveFunction.py:18: RuntimeWarning: invalid value encountered in log\n",
      "  return np.sum(-np.log(np.linalg.eigh(Lw+J)[0]+eps)+np.diagonal(K@Lw))\n",
      "/home/bcollet/Documents/spectralGraphTopology/ObjectiveFunction.py:18: RuntimeWarning: invalid value encountered in log\n",
      "  return np.sum(-np.log(np.linalg.eigh(Lw+J)[0]+eps)+np.diagonal(K@Lw))\n",
      "  2%|██▍                                                                                                                                                              | 155/10000 [00:00<00:51, 192.38it/s]\n"
     ]
    },
    {
     "data": {
      "image/png": "[encoded data removed]",
      "text/plain": [
       "<Figure size 288x288 with 1 Axes>"
      ]
     },
     "metadata": {
      "needs_background": "light"
     },
     "output_type": "display_data"
    },
    {
     "name": "stdout",
     "output_type": "stream",
     "text": [
      "[[0.         0.         0.         ... 1.06340524 1.09761551 1.11031034]\n",
      " [0.         0.         0.         ... 1.13221688 1.15295102 1.04417919]\n",
      " [0.         0.         0.         ... 1.11655572 1.16056801 1.05876537]\n",
      " ...\n",
      " [1.06340524 1.13221688 1.11655572 ... 0.         0.         0.        ]\n",
      " [1.09761551 1.15295102 1.16056801 ... 0.         0.         0.        ]\n",
      " [1.11031034 1.04417919 1.05876537 ... 0.         0.         0.        ]]\n"
     ]
    }
   ],
   "source": [
    "di=learn_bipartite_graph(np.linalg.pinv(L),maxiter=10000)\n",
    "plt.matshow(di[\"Adjacency\"])\n",
    "plt.title(\"recovered adjacency matrix\")\n",
    "plt.show()\n",
    "print(di[\"Adjacency\"])"
   ]
  },
  {
   "cell_type": "markdown",
   "id": "7ff02bc3",
   "metadata": {},
   "source": [
    "This time, not only the learned matrix has the desired structure, but it also has similar coefficients to the original one."
   ]
  },
  {
   "cell_type": "markdown",
   "id": "51971216",
   "metadata": {},
   "source": [
    "## Popular synthetic datasets"
   ]
  },
  {
   "cell_type": "code",
   "execution_count": 121,
   "id": "092d6099",
   "metadata": {},
   "outputs": [],
   "source": [
    "def dist_mat_exp_kernel(x, sigma=1, eps=1, k=None):\n",
    "    n, d = x.shape\n",
    "    dist_mat = np.zeros((n, n))\n",
    "    for i in range(n):\n",
    "        dist_mat[i] = np.exp(-np.linalg.norm(x[i] - x, axis=1)/eps)\n",
    "    if not k is None:\n",
    "        for i in range(n):\n",
    "            k_th_nearest_dist = np.sort(dist_mat[i])[-k]\n",
    "            dist_mat[i][dist_mat[i] < k_th_nearest_dist] = 0\n",
    "        dist_mat = 0.5*(dist_mat + dist_mat.T)\n",
    "    else:\n",
    "        dist_mat[dist_mat<eps] = 0\n",
    "    return dist_mat"
   ]
  },
  {
   "cell_type": "markdown",
   "id": "1f975941",
   "metadata": {},
   "source": [
    "We load the \"two moons\" dataset"
   ]
  },
  {
   "cell_type": "code",
   "execution_count": 122,
   "id": "1facb309",
   "metadata": {},
   "outputs": [
    {
     "data": {
      "image/png": "[encoded data removed]",
      "text/plain": [
       "<Figure size 432x288 with 1 Axes>"
      ]
     },
     "metadata": {
      "needs_background": "light"
     },
     "output_type": "display_data"
    }
   ],
   "source": [
    "n_samples = 100\n",
    "moons_data, moons_labels = skd.make_moons(n_samples=n_samples)\n",
    "plt.scatter(moons_data.T[0], moons_data.T[1], c=moons_labels)\n",
    "plt.show()"
   ]
  },
  {
   "cell_type": "code",
   "execution_count": 123,
   "id": "cb6f845d",
   "metadata": {},
   "outputs": [],
   "source": [
    "C_moons = dist_mat_exp_kernel(moons_data, sigma=1, eps=0.1)"
   ]
  },
  {
   "cell_type": "markdown",
   "id": "039e9206",
   "metadata": {},
   "source": [
    "We learn the graph with two components in order to find the clusters."
   ]
  },
  {
   "cell_type": "code",
   "execution_count": 124,
   "id": "db730f26",
   "metadata": {},
   "outputs": [
    {
     "name": "stderr",
     "output_type": "stream",
     "text": [
      "100%|██████████████████████████████████████████████████████████████████████████████| 2000/2000 [00:20<00:00, 97.82it/s]\n"
     ]
    }
   ],
   "source": [
    "res_moons = learn_k_component_graph(C_moons, k=2, maxiter=2000) #2000 or more in reality"
   ]
  },
  {
   "cell_type": "markdown",
   "id": "1b867bd7",
   "metadata": {},
   "source": [
    "Then, we use the first eigenvalue as hte classying metric and compute the AUC score."
   ]
  },
  {
   "cell_type": "code",
   "execution_count": 125,
   "id": "8ba0027b",
   "metadata": {},
   "outputs": [
    {
     "name": "stdout",
     "output_type": "stream",
     "text": [
      "AUC score of the spectral classifier 1.0\n"
     ]
    }
   ],
   "source": [
    "score_moons = np.linalg.eigh(res_moons[\"Laplacian\"])[1][:, 1]\n",
    "print(\"AUC score of the spectral classifier\", skm.roc_auc_score(moons_labels, score_moons))"
   ]
  },
  {
   "cell_type": "markdown",
   "id": "aa3ac27c",
   "metadata": {},
   "source": [
    "We display the adjacency matrix, which is block diagonal and contains the two expected components."
   ]
  },
  {
   "cell_type": "code",
   "execution_count": 126,
   "id": "b8710790",
   "metadata": {},
   "outputs": [
    {
     "data": {
      "image/png": "[encoded data removed]",
      "text/plain": [
       "<Figure size 1440x1440 with 1 Axes>"
      ]
     },
     "metadata": {
      "needs_background": "light"
     },
     "output_type": "display_data"
    }
   ],
   "source": [
    "id_moons = np.argsort(moons_labels)\n",
    "fig = plt.figure(figsize=(20, 20))\n",
    "plt.matshow(res_moons[\"Adjacency\"][id_moons][:, id_moons], fignum=0)\n",
    "plt.show()"
   ]
  },
  {
   "cell_type": "markdown",
   "id": "06b10f4d",
   "metadata": {},
   "source": [
    "Then, we load the \"two circles\" dataset:"
   ]
  },
  {
   "cell_type": "code",
   "execution_count": 127,
   "id": "2654f411",
   "metadata": {},
   "outputs": [],
   "source": [
    "def at_least_k_component(L,k):\n",
    "    la,M=np.linalg.eigh(L)\n",
    "    la[:k] = 0\n",
    "    return M@np.diag(la)@M.T"
   ]
  },
  {
   "cell_type": "code",
   "execution_count": 128,
   "id": "247c87c1",
   "metadata": {},
   "outputs": [
    {
     "data": {
      "image/png": "[encoded data removed]",
      "text/plain": [
       "<Figure size 432x288 with 1 Axes>"
      ]
     },
     "metadata": {
      "needs_background": "light"
     },
     "output_type": "display_data"
    }
   ],
   "source": [
    "n_samples = 100\n",
    "circles_data, circles_labels = skd.make_circles(n_samples=n_samples,noise=0.05,factor=0.5)\n",
    "plt.scatter(circles_data.T[0], circles_data.T[1], c=circles_labels)\n",
    "plt.show()"
   ]
  },
  {
   "cell_type": "markdown",
   "id": "f382ab46",
   "metadata": {},
   "source": [
    "We learn the clusters with the spectralGraphTopology package"
   ]
  },
  {
   "cell_type": "code",
   "execution_count": 312,
   "id": "c5bcfce4",
   "metadata": {},
   "outputs": [
    {
     "name": "stderr",
     "output_type": "stream",
     "text": [
      " 19%|██████████████▌                                                              | 1886/10000 [00:26<01:55, 70.15it/s]\n"
     ]
    }
   ],
   "source": [
    "C_circles = dist_mat_exp_kernel(circles_data, k=7,sigma=0.1)\n",
    "res_circles = learn_k_component_graph(C_circles, k=2, maxiter=10000) #2000 or more in reality"
   ]
  },
  {
   "cell_type": "code",
   "execution_count": 313,
   "id": "f4cb6c6c",
   "metadata": {},
   "outputs": [
    {
     "name": "stdout",
     "output_type": "stream",
     "text": [
      "True\n"
     ]
    }
   ],
   "source": [
    "print(res_circles[\"convergence\"])"
   ]
  },
  {
   "cell_type": "code",
   "execution_count": 314,
   "id": "3886e6e5",
   "metadata": {},
   "outputs": [],
   "source": [
    "#res_circles[\"Laplacian\"]=at_least_k_component(res_circles[\"Laplacian\"],k=2)"
   ]
  },
  {
   "cell_type": "code",
   "execution_count": 315,
   "id": "f4fe36e5",
   "metadata": {},
   "outputs": [
    {
     "name": "stdout",
     "output_type": "stream",
     "text": [
      "1\n"
     ]
    }
   ],
   "source": [
    "print(nb_connected_component(res_circles[\"Laplacian\"]))"
   ]
  },
  {
   "cell_type": "code",
   "execution_count": 316,
   "id": "605c2827",
   "metadata": {},
   "outputs": [
    {
     "name": "stdout",
     "output_type": "stream",
     "text": [
      "[[0.3 0. ]\n",
      " [0.  0.3]]\n"
     ]
    },
    {
     "data": {
      "text/plain": [
       "8.502951702882746e-07"
      ]
     },
     "execution_count": 316,
     "metadata": {},
     "output_type": "execute_result"
    }
   ],
   "source": [
    "print(np.array([[0.3,0.02],[0.02,0.3]]).round(1))\n",
    "np.linalg.eigh(res_circles[\"Laplacian\"])[0][1]"
   ]
  },
  {
   "cell_type": "markdown",
   "id": "b6679266",
   "metadata": {},
   "source": [
    "We display the AUC of the second eigenvalue classifier and the distribution of the corresponding scores according to the true label."
   ]
  },
  {
   "cell_type": "code",
   "execution_count": 317,
   "id": "1b2ee70f",
   "metadata": {},
   "outputs": [
    {
     "name": "stdout",
     "output_type": "stream",
     "text": [
      "AUC score of the spectral classifier 0.4884\n"
     ]
    }
   ],
   "source": [
    "score_circles = np.linalg.eigh(res_circles[\"Laplacian\"])[1][:, 1]\n",
    "print(\"AUC score of the spectral classifier\", skm.roc_auc_score(circles_labels, score_circles))"
   ]
  },
  {
   "cell_type": "code",
   "execution_count": 318,
   "id": "2dc8bdee",
   "metadata": {},
   "outputs": [
    {
     "data": {
      "text/plain": [
       "<matplotlib.collections.PathCollection at 0x232805d9070>"
      ]
     },
     "execution_count": 318,
     "metadata": {},
     "output_type": "execute_result"
    },
    {
     "data": {
      "image/png": "[encoded data removed]",
      "text/plain": [
       "<Figure size 432x288 with 1 Axes>"
      ]
     },
     "metadata": {
      "needs_background": "light"
     },
     "output_type": "display_data"
    }
   ],
   "source": [
    "plt.scatter(score_circles, circles_labels)"
   ]
  },
  {
   "cell_type": "markdown",
   "id": "761965e8",
   "metadata": {},
   "source": [
    "And here is the learned adjacency matrix:"
   ]
  },
  {
   "cell_type": "code",
   "execution_count": 319,
   "id": "976f33f9",
   "metadata": {},
   "outputs": [
    {
     "data": {
      "image/png": "[encoded data removed]",
      "text/plain": [
       "<Figure size 1440x1440 with 1 Axes>"
      ]
     },
     "metadata": {
      "needs_background": "light"
     },
     "output_type": "display_data"
    }
   ],
   "source": [
    "id_circles = np.argsort(circles_labels)\n",
    "fig = plt.figure(figsize=(20, 20))\n",
    "plt.matshow(res_circles[\"Adjacency\"][id_circles][:, id_circles], fignum=0)\n",
    "plt.show()"
   ]
  },
  {
   "cell_type": "code",
   "execution_count": 137,
   "id": "e4dea2b0",
   "metadata": {},
   "outputs": [
    {
     "name": "stdout",
     "output_type": "stream",
     "text": [
      "11.482179668074943 11.482179668074943\n",
      "77.27946943541146\n"
     ]
    }
   ],
   "source": [
    "A=res_circles[\"Adjacency\"][id_circles][:, id_circles]\n",
    "print(np.max(A[60:,:40]),np.max(A[:40,60:]))\n",
    "print(np.max(A))"
   ]
  },
  {
   "cell_type": "markdown",
   "id": "568944ed",
   "metadata": {},
   "source": [
    "Here are unused functions to generate the helix_3D and the three_circles datasets:"
   ]
  },
  {
   "cell_type": "code",
   "execution_count": 138,
   "id": "1c12b329",
   "metadata": {},
   "outputs": [],
   "source": [
    "def helix_3D(n_samples, h=20, angle=np.pi/2):\n",
    "    labels=np.array([0]*(n_samples//2)+[1]*((n_samples+1)//2))\n",
    "    np.random.shuffle(labels)\n",
    "    ha = np.random.rand(n_samples)*h\n",
    "    return np.array([[np.cos(a+b),np.sin(a+b),a] for a,b in zip(ha,labels)]),labels"
   ]
  },
  {
   "cell_type": "code",
   "execution_count": 139,
   "id": "7cfc9eed",
   "metadata": {},
   "outputs": [],
   "source": [
    "def three_circles(n_samples,factor=0.5):\n",
    "    labels=np.zeros([n_samples])\n",
    "    labels[-n_samples//3:]=2\n",
    "    labels[n_samples//3:-n_samples//3]=1\n",
    "    np.random.shuffle(labels)\n",
    "    angles= np.random.rand(n_samples)*2*np.pi\n",
    "    print(angles,labels)\n",
    "    return np.array([[np.cos(a)*factor**b,np.sin(a)*factor**b] for a,b in zip(angles,labels)]),labels"
   ]
  },
  {
   "cell_type": "code",
   "execution_count": 140,
   "id": "680f59ca",
   "metadata": {},
   "outputs": [
    {
     "name": "stdout",
     "output_type": "stream",
     "text": [
      "[5.20253152 0.87298452 5.20277821 1.39174284 2.67058582 3.23010984] [0. 1. 2. 1. 0. 2.]\n",
      "(array([[ 0.47075165, -0.88226577],\n",
      "       [ 0.32127126,  0.38312501],\n",
      "       [ 0.11774232, -0.2205374 ],\n",
      "       [ 0.08904913,  0.49200635],\n",
      "       [-0.89111185,  0.45378372],\n",
      "       [-0.24902123, -0.02210041]]), array([0., 1., 2., 1., 0., 2.]))\n"
     ]
    }
   ],
   "source": [
    "print(three_circles(6))"
   ]
  },
  {
   "cell_type": "markdown",
   "id": "0257b2d9",
   "metadata": {},
   "source": [
    "## RNA-Seq dataset\n",
    "\n",
    "This dataset come from https://archive.ics.uci.edu/ml/datasets/gene+expression+cancer+RNA-Seq#\n",
    "\n",
    "It represents 801 patients suffering from cancers of 5 different types.\n",
    "\n",
    "The features of the data are RNA-Seq gene expression levels, and the label is the tumor type.\n",
    "\n",
    "To make the code work, download the dataset, extract it and save data and labels in the folder ./data/genes/"
   ]
  },
  {
   "cell_type": "code",
   "execution_count": 58,
   "id": "16c20f9d",
   "metadata": {},
   "outputs": [
    {
     "data": {
      "text/html": [
       "<div>\n",
       "<style scoped>\n",
       "    .dataframe tbody tr th:only-of-type {\n",
       "        vertical-align: middle;\n",
       "    }\n",
       "\n",
       "    .dataframe tbody tr th {\n",
       "        vertical-align: top;\n",
       "    }\n",
       "\n",
       "    .dataframe thead th {\n",
       "        text-align: right;\n",
       "    }\n",
       "</style>\n",
       "<table border=\"1\" class=\"dataframe\">\n",
       "  <thead>\n",
       "    <tr style=\"text-align: right;\">\n",
       "      <th></th>\n",
       "      <th>gene_0</th>\n",
       "      <th>gene_1</th>\n",
       "      <th>gene_2</th>\n",
       "      <th>gene_3</th>\n",
       "      <th>gene_4</th>\n",
       "      <th>gene_5</th>\n",
       "      <th>gene_6</th>\n",
       "      <th>gene_7</th>\n",
       "      <th>gene_8</th>\n",
       "      <th>gene_9</th>\n",
       "      <th>...</th>\n",
       "      <th>gene_20521</th>\n",
       "      <th>gene_20522</th>\n",
       "      <th>gene_20523</th>\n",
       "      <th>gene_20524</th>\n",
       "      <th>gene_20525</th>\n",
       "      <th>gene_20526</th>\n",
       "      <th>gene_20527</th>\n",
       "      <th>gene_20528</th>\n",
       "      <th>gene_20529</th>\n",
       "      <th>gene_20530</th>\n",
       "    </tr>\n",
       "  </thead>\n",
       "  <tbody>\n",
       "    <tr>\n",
       "      <th>0</th>\n",
       "      <td>0.0</td>\n",
       "      <td>2.017209</td>\n",
       "      <td>3.265527</td>\n",
       "      <td>5.478487</td>\n",
       "      <td>10.431999</td>\n",
       "      <td>0.0</td>\n",
       "      <td>7.175175</td>\n",
       "      <td>0.591871</td>\n",
       "      <td>0.0</td>\n",
       "      <td>0.0</td>\n",
       "      <td>...</td>\n",
       "      <td>4.926711</td>\n",
       "      <td>8.210257</td>\n",
       "      <td>9.723516</td>\n",
       "      <td>7.220030</td>\n",
       "      <td>9.119813</td>\n",
       "      <td>12.003135</td>\n",
       "      <td>9.650743</td>\n",
       "      <td>8.921326</td>\n",
       "      <td>5.286759</td>\n",
       "      <td>0.000000</td>\n",
       "    </tr>\n",
       "    <tr>\n",
       "      <th>1</th>\n",
       "      <td>0.0</td>\n",
       "      <td>0.592732</td>\n",
       "      <td>1.588421</td>\n",
       "      <td>7.586157</td>\n",
       "      <td>9.623011</td>\n",
       "      <td>0.0</td>\n",
       "      <td>6.816049</td>\n",
       "      <td>0.000000</td>\n",
       "      <td>0.0</td>\n",
       "      <td>0.0</td>\n",
       "      <td>...</td>\n",
       "      <td>4.593372</td>\n",
       "      <td>7.323865</td>\n",
       "      <td>9.740931</td>\n",
       "      <td>6.256586</td>\n",
       "      <td>8.381612</td>\n",
       "      <td>12.674552</td>\n",
       "      <td>10.517059</td>\n",
       "      <td>9.397854</td>\n",
       "      <td>2.094168</td>\n",
       "      <td>0.000000</td>\n",
       "    </tr>\n",
       "    <tr>\n",
       "      <th>2</th>\n",
       "      <td>0.0</td>\n",
       "      <td>3.511759</td>\n",
       "      <td>4.327199</td>\n",
       "      <td>6.881787</td>\n",
       "      <td>9.870730</td>\n",
       "      <td>0.0</td>\n",
       "      <td>6.972130</td>\n",
       "      <td>0.452595</td>\n",
       "      <td>0.0</td>\n",
       "      <td>0.0</td>\n",
       "      <td>...</td>\n",
       "      <td>5.125213</td>\n",
       "      <td>8.127123</td>\n",
       "      <td>10.908640</td>\n",
       "      <td>5.401607</td>\n",
       "      <td>9.911597</td>\n",
       "      <td>9.045255</td>\n",
       "      <td>9.788359</td>\n",
       "      <td>10.090470</td>\n",
       "      <td>1.683023</td>\n",
       "      <td>0.000000</td>\n",
       "    </tr>\n",
       "    <tr>\n",
       "      <th>3</th>\n",
       "      <td>0.0</td>\n",
       "      <td>3.663618</td>\n",
       "      <td>4.507649</td>\n",
       "      <td>6.659068</td>\n",
       "      <td>10.196184</td>\n",
       "      <td>0.0</td>\n",
       "      <td>7.843375</td>\n",
       "      <td>0.434882</td>\n",
       "      <td>0.0</td>\n",
       "      <td>0.0</td>\n",
       "      <td>...</td>\n",
       "      <td>6.076566</td>\n",
       "      <td>8.792959</td>\n",
       "      <td>10.141520</td>\n",
       "      <td>8.942805</td>\n",
       "      <td>9.601208</td>\n",
       "      <td>11.392682</td>\n",
       "      <td>9.694814</td>\n",
       "      <td>9.684365</td>\n",
       "      <td>3.292001</td>\n",
       "      <td>0.000000</td>\n",
       "    </tr>\n",
       "    <tr>\n",
       "      <th>4</th>\n",
       "      <td>0.0</td>\n",
       "      <td>2.655741</td>\n",
       "      <td>2.821547</td>\n",
       "      <td>6.539454</td>\n",
       "      <td>9.738265</td>\n",
       "      <td>0.0</td>\n",
       "      <td>6.566967</td>\n",
       "      <td>0.360982</td>\n",
       "      <td>0.0</td>\n",
       "      <td>0.0</td>\n",
       "      <td>...</td>\n",
       "      <td>5.996032</td>\n",
       "      <td>8.891425</td>\n",
       "      <td>10.373790</td>\n",
       "      <td>7.181162</td>\n",
       "      <td>9.846910</td>\n",
       "      <td>11.922439</td>\n",
       "      <td>9.217749</td>\n",
       "      <td>9.461191</td>\n",
       "      <td>5.110372</td>\n",
       "      <td>0.000000</td>\n",
       "    </tr>\n",
       "    <tr>\n",
       "      <th>...</th>\n",
       "      <td>...</td>\n",
       "      <td>...</td>\n",
       "      <td>...</td>\n",
       "      <td>...</td>\n",
       "      <td>...</td>\n",
       "      <td>...</td>\n",
       "      <td>...</td>\n",
       "      <td>...</td>\n",
       "      <td>...</td>\n",
       "      <td>...</td>\n",
       "      <td>...</td>\n",
       "      <td>...</td>\n",
       "      <td>...</td>\n",
       "      <td>...</td>\n",
       "      <td>...</td>\n",
       "      <td>...</td>\n",
       "      <td>...</td>\n",
       "      <td>...</td>\n",
       "      <td>...</td>\n",
       "      <td>...</td>\n",
       "      <td>...</td>\n",
       "    </tr>\n",
       "    <tr>\n",
       "      <th>796</th>\n",
       "      <td>0.0</td>\n",
       "      <td>1.865642</td>\n",
       "      <td>2.718197</td>\n",
       "      <td>7.350099</td>\n",
       "      <td>10.006003</td>\n",
       "      <td>0.0</td>\n",
       "      <td>6.764792</td>\n",
       "      <td>0.496922</td>\n",
       "      <td>0.0</td>\n",
       "      <td>0.0</td>\n",
       "      <td>...</td>\n",
       "      <td>6.088133</td>\n",
       "      <td>9.118313</td>\n",
       "      <td>10.004852</td>\n",
       "      <td>4.484415</td>\n",
       "      <td>9.614701</td>\n",
       "      <td>12.031267</td>\n",
       "      <td>9.813063</td>\n",
       "      <td>10.092770</td>\n",
       "      <td>8.819269</td>\n",
       "      <td>0.000000</td>\n",
       "    </tr>\n",
       "    <tr>\n",
       "      <th>797</th>\n",
       "      <td>0.0</td>\n",
       "      <td>3.942955</td>\n",
       "      <td>4.453807</td>\n",
       "      <td>6.346597</td>\n",
       "      <td>10.056868</td>\n",
       "      <td>0.0</td>\n",
       "      <td>7.320331</td>\n",
       "      <td>0.000000</td>\n",
       "      <td>0.0</td>\n",
       "      <td>0.0</td>\n",
       "      <td>...</td>\n",
       "      <td>6.371876</td>\n",
       "      <td>9.623335</td>\n",
       "      <td>9.823921</td>\n",
       "      <td>6.555327</td>\n",
       "      <td>9.064002</td>\n",
       "      <td>11.633422</td>\n",
       "      <td>10.317266</td>\n",
       "      <td>8.745983</td>\n",
       "      <td>9.659081</td>\n",
       "      <td>0.000000</td>\n",
       "    </tr>\n",
       "    <tr>\n",
       "      <th>798</th>\n",
       "      <td>0.0</td>\n",
       "      <td>3.249582</td>\n",
       "      <td>3.707492</td>\n",
       "      <td>8.185901</td>\n",
       "      <td>9.504082</td>\n",
       "      <td>0.0</td>\n",
       "      <td>7.536589</td>\n",
       "      <td>1.811101</td>\n",
       "      <td>0.0</td>\n",
       "      <td>0.0</td>\n",
       "      <td>...</td>\n",
       "      <td>5.719386</td>\n",
       "      <td>8.610704</td>\n",
       "      <td>10.485517</td>\n",
       "      <td>3.589763</td>\n",
       "      <td>9.350636</td>\n",
       "      <td>12.180944</td>\n",
       "      <td>10.681194</td>\n",
       "      <td>9.466711</td>\n",
       "      <td>4.677458</td>\n",
       "      <td>0.586693</td>\n",
       "    </tr>\n",
       "    <tr>\n",
       "      <th>799</th>\n",
       "      <td>0.0</td>\n",
       "      <td>2.590339</td>\n",
       "      <td>2.787976</td>\n",
       "      <td>7.318624</td>\n",
       "      <td>9.987136</td>\n",
       "      <td>0.0</td>\n",
       "      <td>9.213464</td>\n",
       "      <td>0.000000</td>\n",
       "      <td>0.0</td>\n",
       "      <td>0.0</td>\n",
       "      <td>...</td>\n",
       "      <td>5.785237</td>\n",
       "      <td>8.605387</td>\n",
       "      <td>11.004677</td>\n",
       "      <td>4.745888</td>\n",
       "      <td>9.626383</td>\n",
       "      <td>11.198279</td>\n",
       "      <td>10.335513</td>\n",
       "      <td>10.400581</td>\n",
       "      <td>5.718751</td>\n",
       "      <td>0.000000</td>\n",
       "    </tr>\n",
       "    <tr>\n",
       "      <th>800</th>\n",
       "      <td>0.0</td>\n",
       "      <td>2.325242</td>\n",
       "      <td>3.805932</td>\n",
       "      <td>6.530246</td>\n",
       "      <td>9.560367</td>\n",
       "      <td>0.0</td>\n",
       "      <td>7.957027</td>\n",
       "      <td>0.000000</td>\n",
       "      <td>0.0</td>\n",
       "      <td>0.0</td>\n",
       "      <td>...</td>\n",
       "      <td>6.403075</td>\n",
       "      <td>8.594354</td>\n",
       "      <td>10.243079</td>\n",
       "      <td>9.139459</td>\n",
       "      <td>10.102934</td>\n",
       "      <td>11.641081</td>\n",
       "      <td>10.607358</td>\n",
       "      <td>9.844794</td>\n",
       "      <td>4.550716</td>\n",
       "      <td>0.000000</td>\n",
       "    </tr>\n",
       "  </tbody>\n",
       "</table>\n",
       "<p>801 rows × 20531 columns</p>\n",
       "</div>"
      ],
      "text/plain": [
       "     gene_0    gene_1    gene_2    gene_3     gene_4  gene_5    gene_6  \\\n",
       "0       0.0  2.017209  3.265527  5.478487  10.431999     0.0  7.175175   \n",
       "1       0.0  0.592732  1.588421  7.586157   9.623011     0.0  6.816049   \n",
       "2       0.0  3.511759  4.327199  6.881787   9.870730     0.0  6.972130   \n",
       "3       0.0  3.663618  4.507649  6.659068  10.196184     0.0  7.843375   \n",
       "4       0.0  2.655741  2.821547  6.539454   9.738265     0.0  6.566967   \n",
       "..      ...       ...       ...       ...        ...     ...       ...   \n",
       "796     0.0  1.865642  2.718197  7.350099  10.006003     0.0  6.764792   \n",
       "797     0.0  3.942955  4.453807  6.346597  10.056868     0.0  7.320331   \n",
       "798     0.0  3.249582  3.707492  8.185901   9.504082     0.0  7.536589   \n",
       "799     0.0  2.590339  2.787976  7.318624   9.987136     0.0  9.213464   \n",
       "800     0.0  2.325242  3.805932  6.530246   9.560367     0.0  7.957027   \n",
       "\n",
       "       gene_7  gene_8  gene_9  ...  gene_20521  gene_20522  gene_20523  \\\n",
       "0    0.591871     0.0     0.0  ...    4.926711    8.210257    9.723516   \n",
       "1    0.000000     0.0     0.0  ...    4.593372    7.323865    9.740931   \n",
       "2    0.452595     0.0     0.0  ...    5.125213    8.127123   10.908640   \n",
       "3    0.434882     0.0     0.0  ...    6.076566    8.792959   10.141520   \n",
       "4    0.360982     0.0     0.0  ...    5.996032    8.891425   10.373790   \n",
       "..        ...     ...     ...  ...         ...         ...         ...   \n",
       "796  0.496922     0.0     0.0  ...    6.088133    9.118313   10.004852   \n",
       "797  0.000000     0.0     0.0  ...    6.371876    9.623335    9.823921   \n",
       "798  1.811101     0.0     0.0  ...    5.719386    8.610704   10.485517   \n",
       "799  0.000000     0.0     0.0  ...    5.785237    8.605387   11.004677   \n",
       "800  0.000000     0.0     0.0  ...    6.403075    8.594354   10.243079   \n",
       "\n",
       "     gene_20524  gene_20525  gene_20526  gene_20527  gene_20528  gene_20529  \\\n",
       "0      7.220030    9.119813   12.003135    9.650743    8.921326    5.286759   \n",
       "1      6.256586    8.381612   12.674552   10.517059    9.397854    2.094168   \n",
       "2      5.401607    9.911597    9.045255    9.788359   10.090470    1.683023   \n",
       "3      8.942805    9.601208   11.392682    9.694814    9.684365    3.292001   \n",
       "4      7.181162    9.846910   11.922439    9.217749    9.461191    5.110372   \n",
       "..          ...         ...         ...         ...         ...         ...   \n",
       "796    4.484415    9.614701   12.031267    9.813063   10.092770    8.819269   \n",
       "797    6.555327    9.064002   11.633422   10.317266    8.745983    9.659081   \n",
       "798    3.589763    9.350636   12.180944   10.681194    9.466711    4.677458   \n",
       "799    4.745888    9.626383   11.198279   10.335513   10.400581    5.718751   \n",
       "800    9.139459   10.102934   11.641081   10.607358    9.844794    4.550716   \n",
       "\n",
       "     gene_20530  \n",
       "0      0.000000  \n",
       "1      0.000000  \n",
       "2      0.000000  \n",
       "3      0.000000  \n",
       "4      0.000000  \n",
       "..          ...  \n",
       "796    0.000000  \n",
       "797    0.000000  \n",
       "798    0.586693  \n",
       "799    0.000000  \n",
       "800    0.000000  \n",
       "\n",
       "[801 rows x 20531 columns]"
      ]
     },
     "execution_count": 58,
     "metadata": {},
     "output_type": "execute_result"
    }
   ],
   "source": [
    "gene_df = pd.read_csv(\"data/genes/data.csv\")\n",
    "gene_df = gene_df[gene_df.columns[1:]]\n",
    "gene_df"
   ]
  },
  {
   "cell_type": "code",
   "execution_count": 6,
   "id": "2201887c",
   "metadata": {},
   "outputs": [
    {
     "data": {
      "text/html": [
       "<div>\n",
       "<style scoped>\n",
       "    .dataframe tbody tr th:only-of-type {\n",
       "        vertical-align: middle;\n",
       "    }\n",
       "\n",
       "    .dataframe tbody tr th {\n",
       "        vertical-align: top;\n",
       "    }\n",
       "\n",
       "    .dataframe thead th {\n",
       "        text-align: right;\n",
       "    }\n",
       "</style>\n",
       "<table border=\"1\" class=\"dataframe\">\n",
       "  <thead>\n",
       "    <tr style=\"text-align: right;\">\n",
       "      <th></th>\n",
       "      <th>Class</th>\n",
       "    </tr>\n",
       "  </thead>\n",
       "  <tbody>\n",
       "    <tr>\n",
       "      <th>0</th>\n",
       "      <td>PRAD</td>\n",
       "    </tr>\n",
       "    <tr>\n",
       "      <th>1</th>\n",
       "      <td>LUAD</td>\n",
       "    </tr>\n",
       "    <tr>\n",
       "      <th>2</th>\n",
       "      <td>PRAD</td>\n",
       "    </tr>\n",
       "    <tr>\n",
       "      <th>3</th>\n",
       "      <td>PRAD</td>\n",
       "    </tr>\n",
       "    <tr>\n",
       "      <th>4</th>\n",
       "      <td>BRCA</td>\n",
       "    </tr>\n",
       "    <tr>\n",
       "      <th>...</th>\n",
       "      <td>...</td>\n",
       "    </tr>\n",
       "    <tr>\n",
       "      <th>796</th>\n",
       "      <td>BRCA</td>\n",
       "    </tr>\n",
       "    <tr>\n",
       "      <th>797</th>\n",
       "      <td>LUAD</td>\n",
       "    </tr>\n",
       "    <tr>\n",
       "      <th>798</th>\n",
       "      <td>COAD</td>\n",
       "    </tr>\n",
       "    <tr>\n",
       "      <th>799</th>\n",
       "      <td>PRAD</td>\n",
       "    </tr>\n",
       "    <tr>\n",
       "      <th>800</th>\n",
       "      <td>PRAD</td>\n",
       "    </tr>\n",
       "  </tbody>\n",
       "</table>\n",
       "<p>801 rows × 1 columns</p>\n",
       "</div>"
      ],
      "text/plain": [
       "    Class\n",
       "0    PRAD\n",
       "1    LUAD\n",
       "2    PRAD\n",
       "3    PRAD\n",
       "4    BRCA\n",
       "..    ...\n",
       "796  BRCA\n",
       "797  LUAD\n",
       "798  COAD\n",
       "799  PRAD\n",
       "800  PRAD\n",
       "\n",
       "[801 rows x 1 columns]"
      ]
     },
     "execution_count": 6,
     "metadata": {},
     "output_type": "execute_result"
    }
   ],
   "source": [
    "gene_labels = pd.read_csv(\"data/genes/labels.csv\")\n",
    "gene_labels = gene_labels[gene_labels.columns[1:]]\n",
    "gene_labels"
   ]
  },
  {
   "cell_type": "markdown",
   "id": "3603375c",
   "metadata": {},
   "source": [
    "The goal is to model the distribution with a $k$ component graph, in order to cluster the data into $k$ classes. As there are $k=5$ classes in reality, we try the algorithm with this value.\n",
    "\n",
    "We also normalize the expression of the genes before computing the covariance matrix."
   ]
  },
  {
   "cell_type": "code",
   "execution_count": 65,
   "id": "c8f7d3e5",
   "metadata": {},
   "outputs": [
    {
     "name": "stdout",
     "output_type": "stream",
     "text": [
      "3.539319903710887\n",
      "25.249934271451885\n"
     ]
    }
   ],
   "source": [
    "l=gene_df.values\n",
    "print(np.max(l))\n",
    "to_keep = l[]\n",
    "l-=np.expand_dims(np.mean(l,axis=0),axis=0)\n",
    "l/=np.expand_dims(np.std(l,axis=0)+10**-9,axis=0)\n",
    "C = np.cov(l)\n",
    "print(np.max(l))"
   ]
  },
  {
   "cell_type": "code",
   "execution_count": 66,
   "id": "311a10bb",
   "metadata": {},
   "outputs": [
    {
     "name": "stderr",
     "output_type": "stream",
     "text": [
      "100%|██████████████████████████████████████████████████████████████████████████████████████████████████████████████████████████████████████████████████████████████████| 2000/2000 [01:49<00:00, 18.31it/s]\n"
     ]
    }
   ],
   "source": [
    "res_genes = learn_k_component_graph(C, k=9, maxiter=2000) #2000 or more in reality"
   ]
  },
  {
   "cell_type": "markdown",
   "id": "3dda434c",
   "metadata": {},
   "source": [
    "Then, we reorganise the matrix according to their labels to see visually if the components that should be connected are effectively connected."
   ]
  },
  {
   "cell_type": "code",
   "execution_count": 67,
   "id": "11df2fbb",
   "metadata": {},
   "outputs": [],
   "source": [
    "id_genes = np.argsort(gene_labels.values.squeeze())"
   ]
  },
  {
   "cell_type": "code",
   "execution_count": 68,
   "id": "149a1164",
   "metadata": {},
   "outputs": [
    {
     "data": {
      "image/png": "[encoded data removed]",
      "text/plain": [
       "<Figure size 1440x1440 with 1 Axes>"
      ]
     },
     "metadata": {
      "needs_background": "light"
     },
     "output_type": "display_data"
    }
   ],
   "source": [
    "fig = plt.figure(figsize=(20, 20))\n",
    "l=(res_genes[\"Adjacency\"]>10**-3)\n",
    "plt.matshow(l[id_genes][:, id_genes], fignum=0)\n",
    "plt.show()"
   ]
  },
  {
   "cell_type": "markdown",
   "id": "4c5b3ef0",
   "metadata": {},
   "source": [
    "On this representation of the matrix $\\mathbb{1}_{A_{ij}>\\epsilon}$ with $A$ the adjacency matrix and $\\epsilon=10^{-3}$ reorganised according to the true labels, we see that the algorithm learns somehow the main components."
   ]
  },
  {
   "cell_type": "code",
   "execution_count": 24,
   "id": "c256eb15",
   "metadata": {},
   "outputs": [
    {
     "name": "stdout",
     "output_type": "stream",
     "text": [
      "[-4.78772854e-16 -2.68570814e-16 -2.10157449e-16 -8.29008899e-17\n",
      " -6.76015860e-17  3.75644657e-17  4.44894643e-17  3.76982631e-16\n",
      "  1.27586958e-15  5.07715514e-03  8.34779223e-03  1.11165920e-02\n",
      "  2.19178130e-02  7.13269532e-02  1.77822767e-01  2.05431716e-01\n",
      "  2.09233520e-01  2.33507155e-01  2.45545777e-01  2.46854702e-01\n",
      "  2.69364141e-01  2.87362635e-01  2.97952052e-01  3.08898985e-01\n",
      "  3.09976606e-01  3.27475653e-01  3.34302930e-01  3.49768842e-01\n",
      "  3.52891737e-01  3.86704108e-01  3.88368562e-01  3.99885839e-01\n",
      "  4.01055751e-01  4.08965423e-01  4.16526650e-01  4.35100630e-01\n",
      "  4.40900686e-01  4.45979217e-01  4.51561080e-01  4.56330514e-01\n",
      "  4.61242548e-01  4.71458547e-01  4.72687763e-01  4.78391135e-01\n",
      "  4.83779537e-01  4.86310818e-01  4.87908921e-01  4.95157471e-01\n",
      "  4.98756921e-01  4.99582216e-01  5.05569157e-01  5.11642895e-01\n",
      "  5.21967959e-01  5.30314693e-01  5.35816020e-01  5.37468048e-01\n",
      "  5.47140856e-01  5.47889820e-01  5.51807260e-01  5.54893892e-01\n",
      "  5.62317606e-01  5.71791531e-01  5.72394496e-01  5.80142862e-01\n",
      "  5.84927761e-01  5.89814474e-01  5.97131247e-01  5.99610786e-01\n",
      "  6.04718574e-01  6.07077838e-01  6.16876966e-01  6.19083318e-01\n",
      "  6.22910692e-01  6.25513945e-01  6.29594790e-01  6.34828130e-01\n",
      "  6.35817841e-01  6.38349104e-01  6.43581208e-01  6.48860088e-01\n",
      "  6.49885338e-01  6.52919421e-01  6.58563342e-01  6.61158760e-01\n",
      "  6.65366990e-01  6.69963682e-01  6.70933693e-01  6.73448500e-01\n",
      "  6.77235563e-01  6.81409457e-01  6.86957493e-01  6.89661876e-01\n",
      "  6.94567147e-01  6.96881741e-01  6.99419059e-01  7.02978790e-01\n",
      "  7.05736045e-01  7.09281381e-01  7.10736819e-01  7.11927253e-01\n",
      "  7.15368900e-01  7.17793151e-01  7.20443432e-01  7.26216381e-01\n",
      "  7.32158397e-01  7.34168230e-01  7.37326389e-01  7.41356980e-01\n",
      "  7.41816682e-01  7.43598636e-01  7.44328106e-01  7.50701228e-01\n",
      "  7.53737871e-01  7.56710082e-01  7.59084218e-01  7.61858041e-01\n",
      "  7.64254645e-01  7.69481053e-01  7.75201373e-01  7.78308401e-01\n",
      "  7.81723412e-01  7.84017442e-01  7.86322450e-01  7.88500015e-01\n",
      "  7.94356314e-01  7.96404987e-01  7.97565916e-01  7.99439937e-01\n",
      "  8.00485729e-01  8.03438083e-01  8.06193407e-01  8.10717689e-01\n",
      "  8.12871691e-01  8.14616912e-01  8.15659272e-01  8.18843572e-01\n",
      "  8.22238361e-01  8.27098698e-01  8.27381688e-01  8.28152081e-01\n",
      "  8.36491074e-01  8.38373407e-01  8.40894554e-01  8.47409178e-01\n",
      "  8.49508682e-01  8.50705902e-01  8.54720713e-01  8.55582473e-01\n",
      "  8.60475359e-01  8.61340045e-01  8.62539178e-01  8.62995509e-01\n",
      "  8.65470893e-01  8.67958990e-01  8.68950815e-01  8.70565382e-01\n",
      "  8.72168019e-01  8.78224969e-01  8.79525786e-01  8.82578007e-01\n",
      "  8.84029929e-01  8.86785190e-01  8.87699697e-01  8.89219636e-01\n",
      "  8.97206280e-01  9.01553109e-01  9.03055509e-01  9.04633896e-01\n",
      "  9.07613269e-01  9.10592746e-01  9.16747663e-01  9.18941089e-01\n",
      "  9.19800663e-01  9.22290930e-01  9.23992789e-01  9.24898797e-01\n",
      "  9.26734143e-01  9.30196477e-01  9.30979681e-01  9.32087009e-01\n",
      "  9.33213768e-01  9.33472409e-01  9.36270743e-01  9.39054785e-01\n",
      "  9.39103186e-01  9.41063045e-01  9.42362799e-01  9.47525384e-01\n",
      "  9.50625231e-01  9.54868464e-01  9.56288019e-01  9.58984993e-01\n",
      "  9.59690311e-01  9.63953696e-01  9.69008666e-01  9.70915728e-01\n",
      "  9.72146427e-01  9.77593525e-01  9.77859812e-01  9.79461601e-01\n",
      "  9.84186535e-01  9.87196667e-01  9.88730223e-01  9.92153390e-01\n",
      "  9.93890867e-01  9.97028177e-01  9.97404796e-01  9.98015121e-01\n",
      "  1.00201122e+00  1.00463312e+00  1.00613402e+00  1.00739604e+00\n",
      "  1.01193617e+00  1.01240494e+00  1.01906567e+00  1.02306015e+00\n",
      "  1.02471462e+00  1.02730330e+00  1.02792262e+00  1.02955622e+00\n",
      "  1.03063760e+00  1.03329217e+00  1.03629973e+00  1.04107302e+00\n",
      "  1.04487590e+00  1.04633991e+00  1.04697540e+00  1.05061963e+00\n",
      "  1.05305512e+00  1.05358033e+00  1.05540002e+00  1.05943316e+00\n",
      "  1.06026241e+00  1.06209920e+00  1.06365624e+00  1.06864559e+00\n",
      "  1.07016240e+00  1.07298016e+00  1.07391146e+00  1.07867101e+00\n",
      "  1.08075186e+00  1.08386334e+00  1.08504978e+00  1.09081518e+00\n",
      "  1.09195160e+00  1.09300815e+00  1.09518503e+00  1.09596420e+00\n",
      "  1.09774694e+00  1.10060877e+00  1.10347244e+00  1.10607290e+00\n",
      "  1.10674734e+00  1.10892271e+00  1.11085509e+00  1.11249738e+00\n",
      "  1.11470826e+00  1.11899435e+00  1.12035409e+00  1.12623068e+00\n",
      "  1.12857407e+00  1.13110606e+00  1.13310016e+00  1.13674210e+00\n",
      "  1.13793136e+00  1.13911818e+00  1.14250968e+00  1.14398876e+00\n",
      "  1.14812993e+00  1.15075362e+00  1.15247044e+00  1.15640809e+00\n",
      "  1.15918856e+00  1.16131371e+00  1.16278240e+00  1.16692594e+00\n",
      "  1.16833632e+00  1.16950212e+00  1.17155456e+00  1.17253246e+00\n",
      "  1.17295097e+00  1.17705099e+00  1.17846138e+00  1.18304328e+00\n",
      "  1.18417354e+00  1.18686650e+00  1.19327431e+00  1.19553737e+00\n",
      "  1.19675059e+00  1.19766133e+00  1.20024706e+00  1.20432081e+00\n",
      "  1.20642323e+00  1.20780293e+00  1.20932598e+00  1.21053927e+00\n",
      "  1.21708849e+00  1.21956785e+00  1.22020748e+00  1.22191836e+00\n",
      "  1.22414974e+00  1.22480101e+00  1.22779936e+00  1.22931177e+00\n",
      "  1.23134133e+00  1.23431830e+00  1.23708287e+00  1.23934005e+00\n",
      "  1.24573626e+00  1.24646357e+00  1.25040810e+00  1.25206724e+00\n",
      "  1.25261250e+00  1.25403938e+00  1.25516391e+00  1.25945722e+00\n",
      "  1.26160391e+00  1.26296838e+00  1.26394316e+00  1.26511648e+00\n",
      "  1.27184190e+00  1.27359205e+00  1.27589794e+00  1.27694251e+00\n",
      "  1.27866029e+00  1.28065415e+00  1.28136310e+00  1.28494846e+00\n",
      "  1.29173837e+00  1.29267952e+00  1.29526151e+00  1.29762842e+00\n",
      "  1.29926267e+00  1.30100749e+00  1.30645903e+00  1.30868985e+00\n",
      "  1.30907934e+00  1.31260483e+00  1.31433402e+00  1.31585435e+00\n",
      "  1.32391751e+00  1.32755507e+00  1.33143343e+00  1.33302792e+00\n",
      "  1.33502960e+00  1.33527657e+00  1.33876984e+00  1.34181091e+00\n",
      "  1.34681841e+00  1.34744086e+00  1.34852074e+00  1.35143790e+00\n",
      "  1.35197791e+00  1.35654001e+00  1.35804509e+00  1.35880131e+00\n",
      "  1.36164615e+00  1.36353969e+00  1.36637240e+00  1.36771779e+00\n",
      "  1.37001008e+00  1.37380095e+00  1.37541507e+00  1.37851877e+00\n",
      "  1.38049694e+00  1.38507718e+00  1.38671010e+00  1.39097267e+00\n",
      "  1.39284374e+00  1.39637493e+00  1.39654819e+00  1.39899007e+00\n",
      "  1.39995602e+00  1.40140584e+00  1.40198473e+00  1.40421415e+00\n",
      "  1.40539324e+00  1.40600461e+00  1.41181280e+00  1.41461297e+00\n",
      "  1.41734387e+00  1.41827000e+00  1.42012764e+00  1.42473913e+00\n",
      "  1.42634138e+00  1.43027855e+00  1.43431182e+00  1.43560294e+00\n",
      "  1.43781882e+00  1.44020295e+00  1.44044738e+00  1.44197612e+00\n",
      "  1.44317978e+00  1.44612045e+00  1.44809210e+00  1.45224060e+00\n",
      "  1.45472896e+00  1.45675707e+00  1.46035105e+00  1.46084023e+00\n",
      "  1.46627992e+00  1.46679998e+00  1.46893063e+00  1.47278679e+00\n",
      "  1.47668265e+00  1.47772191e+00  1.47964290e+00  1.48033940e+00\n",
      "  1.48158100e+00  1.48390623e+00  1.48581288e+00  1.48822160e+00\n",
      "  1.49160754e+00  1.49358002e+00  1.49684696e+00  1.50305303e+00\n",
      "  1.50481543e+00  1.50868075e+00  1.50946222e+00  1.51102404e+00\n",
      "  1.51526971e+00  1.51802494e+00  1.51892658e+00  1.51918352e+00\n",
      "  1.52026982e+00  1.52198415e+00  1.52625968e+00  1.52878840e+00\n",
      "  1.53180280e+00  1.53434609e+00  1.53587771e+00  1.53906479e+00\n",
      "  1.54005094e+00  1.54128342e+00  1.54861146e+00  1.55079219e+00\n",
      "  1.55279523e+00  1.55604377e+00  1.55881409e+00  1.56034794e+00\n",
      "  1.56441804e+00  1.56619261e+00  1.57154483e+00  1.57299254e+00\n",
      "  1.57390502e+00  1.57607379e+00  1.57923950e+00  1.58029353e+00\n",
      "  1.58250089e+00  1.58377520e+00  1.59229671e+00  1.59513753e+00\n",
      "  1.59968607e+00  1.60075440e+00  1.60230620e+00  1.60740953e+00\n",
      "  1.60822396e+00  1.61234651e+00  1.61288631e+00  1.61415490e+00\n",
      "  1.61877766e+00  1.62003186e+00  1.62148232e+00  1.62457472e+00\n",
      "  1.62533801e+00  1.63194915e+00  1.63826774e+00  1.63903367e+00\n",
      "  1.64237753e+00  1.64376278e+00  1.64454462e+00  1.64665773e+00\n",
      "  1.65042837e+00  1.65636155e+00  1.66116420e+00  1.66865582e+00\n",
      "  1.66912618e+00  1.67309705e+00  1.67365693e+00  1.67700717e+00\n",
      "  1.68412413e+00  1.68815063e+00  1.68949404e+00  1.69024069e+00\n",
      "  1.69365474e+00  1.69540424e+00  1.69735852e+00  1.69871875e+00\n",
      "  1.70290588e+00  1.70716040e+00  1.70837839e+00  1.71168065e+00\n",
      "  1.71395705e+00  1.71784075e+00  1.72057939e+00  1.72562339e+00\n",
      "  1.72659814e+00  1.72794139e+00  1.73275706e+00  1.73370229e+00\n",
      "  1.73588532e+00  1.74121260e+00  1.74174033e+00  1.74454379e+00\n",
      "  1.74525911e+00  1.74882366e+00  1.75049317e+00  1.75432739e+00\n",
      "  1.75666528e+00  1.75766558e+00  1.75967926e+00  1.76407142e+00\n",
      "  1.76776556e+00  1.77020081e+00  1.77097221e+00  1.77538450e+00\n",
      "  1.78002841e+00  1.78100215e+00  1.78250729e+00  1.78459300e+00\n",
      "  1.78580235e+00  1.78781331e+00  1.79233706e+00  1.79575993e+00\n",
      "  1.79671946e+00  1.79896917e+00  1.81029626e+00  1.81152280e+00\n",
      "  1.81736550e+00  1.81916466e+00  1.82168276e+00  1.82613968e+00\n",
      "  1.82755098e+00  1.82838722e+00  1.83196777e+00  1.83945843e+00\n",
      "  1.84146991e+00  1.84668926e+00  1.84973499e+00  1.85346453e+00\n",
      "  1.85432902e+00  1.85621061e+00  1.85801942e+00  1.85898305e+00\n",
      "  1.86314536e+00  1.86472003e+00  1.86983993e+00  1.87374023e+00\n",
      "  1.87845477e+00  1.88095955e+00  1.88206311e+00  1.88592659e+00\n",
      "  1.89085397e+00  1.89355657e+00  1.89673393e+00  1.89734472e+00\n",
      "  1.89881414e+00  1.91029399e+00  1.91104258e+00  1.91907040e+00\n",
      "  1.92202297e+00  1.92767625e+00  1.92821739e+00  1.93103369e+00\n",
      "  1.93281639e+00  1.93339551e+00  1.93687680e+00  1.93848577e+00\n",
      "  1.94183051e+00  1.94298776e+00  1.94857993e+00  1.96396813e+00\n",
      "  1.96452123e+00  1.96665796e+00  1.96919157e+00  1.97414125e+00\n",
      "  1.97559572e+00  1.97624646e+00  1.98186004e+00  1.99431102e+00\n",
      "  1.99587003e+00  2.00021616e+00  2.00263118e+00  2.00486958e+00\n",
      "  2.00583328e+00  2.00902730e+00  2.00967309e+00  2.01423644e+00\n",
      "  2.02002331e+00  2.02535223e+00  2.02623543e+00  2.03042581e+00\n",
      "  2.03270726e+00  2.03439416e+00  2.03830825e+00  2.04319310e+00\n",
      "  2.04898016e+00  2.05453758e+00  2.06520087e+00  2.06549153e+00\n",
      "  2.07151924e+00  2.07630186e+00  2.07882217e+00  2.08530436e+00\n",
      "  2.08938149e+00  2.08967543e+00  2.09807672e+00  2.09879148e+00\n",
      "  2.10185650e+00  2.10653458e+00  2.10917291e+00  2.10966305e+00\n",
      "  2.11134324e+00  2.11379984e+00  2.12324366e+00  2.12824841e+00\n",
      "  2.13465280e+00  2.13519789e+00  2.14202081e+00  2.15422581e+00\n",
      "  2.15596247e+00  2.17010675e+00  2.17116724e+00  2.17497128e+00\n",
      "  2.17938596e+00  2.19027139e+00  2.19351919e+00  2.19409111e+00\n",
      "  2.19906114e+00  2.19959834e+00  2.20070793e+00  2.20206343e+00\n",
      "  2.20977900e+00  2.21580363e+00  2.22346496e+00  2.22760746e+00\n",
      "  2.22772665e+00  2.24738169e+00  2.24788443e+00  2.25106826e+00\n",
      "  2.26279225e+00  2.26336443e+00  2.26524023e+00  2.27551762e+00\n",
      "  2.27630335e+00  2.27945938e+00  2.28117108e+00  2.28588759e+00\n",
      "  2.29081980e+00  2.29215286e+00  2.29764884e+00  2.29895572e+00\n",
      "  2.31617851e+00  2.32189366e+00  2.32293254e+00  2.33123446e+00\n",
      "  2.33851173e+00  2.34198301e+00  2.34284432e+00  2.34751738e+00\n",
      "  2.34847185e+00  2.35176867e+00  2.35781875e+00  2.35858290e+00\n",
      "  2.37936969e+00  2.38461329e+00  2.38725696e+00  2.39377111e+00\n",
      "  2.39629221e+00  2.40074794e+00  2.41089554e+00  2.41380793e+00\n",
      "  2.41512498e+00  2.41821661e+00  2.42874687e+00  2.43259331e+00\n",
      "  2.43390520e+00  2.44158173e+00  2.44562880e+00  2.45299994e+00\n",
      "  2.45664781e+00  2.45841981e+00  2.47389807e+00  2.47402023e+00\n",
      "  2.49077669e+00  2.49176322e+00  2.50098750e+00  2.51249056e+00\n",
      "  2.51264620e+00  2.51506713e+00  2.54161989e+00  2.54204142e+00\n",
      "  2.54240961e+00  2.54352305e+00  2.55236554e+00  2.56021267e+00\n",
      "  2.56529434e+00  2.56568616e+00  2.57223200e+00  2.57688614e+00\n",
      "  2.57963176e+00  2.58078536e+00  2.60390675e+00  2.60558493e+00\n",
      "  2.61457517e+00  2.62191038e+00  2.63766713e+00  2.64314599e+00\n",
      "  2.64974878e+00  2.65833604e+00  2.66927727e+00  2.68219063e+00\n",
      "  2.68257565e+00  2.68659774e+00  2.68839369e+00  2.70169651e+00\n",
      "  2.71075407e+00  2.71342339e+00  2.71754044e+00  2.72040786e+00\n",
      "  2.72549087e+00  2.73488686e+00  2.73999994e+00  2.75335603e+00\n",
      "  2.77112592e+00  2.78173358e+00  2.78294672e+00  2.79769678e+00\n",
      "  2.80053362e+00  2.82052994e+00  2.83049043e+00  2.83733990e+00\n",
      "  2.84819364e+00  2.85224772e+00  2.86133840e+00  2.87716907e+00\n",
      "  2.88031438e+00  2.89380363e+00  2.90883986e+00  2.91654766e+00\n",
      "  2.91998789e+00  2.93355542e+00  2.94151578e+00  2.94439092e+00\n",
      "  2.95793280e+00  2.97539919e+00  2.97745768e+00  2.97772401e+00\n",
      "  2.99937061e+00  3.01208467e+00  3.03079571e+00  3.03845757e+00\n",
      "  3.05135714e+00  3.06211160e+00  3.06803064e+00  3.07539588e+00\n",
      "  3.08589611e+00  3.09262435e+00  3.09495953e+00  3.11598931e+00\n",
      "  3.12972613e+00  3.14793117e+00  3.14978985e+00  3.16682190e+00\n",
      "  3.18413554e+00  3.20893056e+00  3.23017311e+00  3.25539941e+00\n",
      "  3.26893624e+00  3.31104633e+00  3.31470356e+00  3.36295058e+00\n",
      "  3.36983163e+00  3.38557656e+00  3.42054172e+00  3.45076772e+00\n",
      "  3.46121201e+00  3.49066946e+00  3.52142405e+00  3.56983277e+00\n",
      "  3.66326653e+00  3.69892336e+00  3.71134657e+00  3.73703049e+00\n",
      "  3.77391458e+00  3.78728644e+00  3.79588308e+00  3.88048506e+00\n",
      "  3.93957312e+00  3.96772588e+00  3.98433583e+00  4.01203585e+00\n",
      "  4.04887842e+00  4.20875337e+00  4.22111793e+00  4.29528936e+00\n",
      "  4.35577145e+00  4.38477508e+00  4.73418480e+00  4.79742484e+00\n",
      "  4.94909148e+00]\n"
     ]
    }
   ],
   "source": [
    "print(np.sort(np.linalg.eigh(res_genes[\"Laplacian\"])[0]))"
   ]
  },
  {
   "cell_type": "code",
   "execution_count": 19,
   "id": "84ddfcc1",
   "metadata": {},
   "outputs": [],
   "source": [
    "def connected_component(A):\n",
    "    n=A.shape[0]\n",
    "    cc=[-1]*n\n",
    "    nbcc=0\n",
    "    def parc(u,i,n):\n",
    "        cc[u]=i\n",
    "        for v in range(n):\n",
    "            if A[u][v]>10**-7 and cc[v]==-1:\n",
    "                parc(v,i,n)\n",
    "    for u in range(n):\n",
    "        if cc[u]==-1:\n",
    "            parc(u,nbcc,n)\n",
    "            nbcc+=1\n",
    "    return cc        "
   ]
  },
  {
   "cell_type": "code",
   "execution_count": 63,
   "id": "635f18f6",
   "metadata": {},
   "outputs": [],
   "source": [
    "cc=connected_component(l)"
   ]
  },
  {
   "cell_type": "code",
   "execution_count": 64,
   "id": "6fd582b1",
   "metadata": {},
   "outputs": [
    {
     "name": "stdout",
     "output_type": "stream",
     "text": [
      "[0 0 0 0 0 0 0 0 0 0 0 0 0 0 0 0 0 0 0 0 0 0 0 0 0 0 0 0 0 8 0 0 0 0 0 0 0\n",
      " 0 0 0 0 0 0 0 0 0 0 0 0 0 0 0 0 0 0 0 0 0 0 0 0 0 0 0 0 0 0 0 0 0 0 0 0 0\n",
      " 0 0 0 0 0 0 0 0 0 0 0 0 0 0 0 0 0 0 0 0 0 0 0 0 0 0 0 0 0 0 0 0 0 0 0 0 0\n",
      " 0 0 0 0 0 0 0 0 0 0 0 0 0 0 0 0 0 0 0 0 0 0 0 0 0 0 0 0 0 0 0 0 0 0 0 0 0\n",
      " 0 0 0 0 0 0 0 0 0 0 0 0 0 0 0 0 7 0 0 0 0 0 0 0 0 0 0 0 0 0 0 0 0 0 0 0 0\n",
      " 0 0 0 0 0 0 0 0 0 0 0 0 0 0 0 0 0 0 0 0 0 0 0 0 0 0 0 0 0 0 0 0 0 0 0 0 0\n",
      " 0 0 0 0 0 0 0 0 0 0 0 0 0 0 0 0 0 0 0 0 0 0 0 0 0 0 0 0 6 0 0 0 0 0 0 0 0\n",
      " 0 0 0 0 0 0 0 0 0 0 0 0 0 0 0 0 0 0 0 0 0 0 0 0 0 0 0 0 0 0 0 0 0 0 0 0 0\n",
      " 0 0 0 0 0 0 0 0 0 0 0 0 0 0 0 0 0 0 0 0 0 0 0 0 0 0 5 0 0 0 0 0 0 0 0 0 0\n",
      " 0 0 0 0 0 0 0 0 0 0 0 0 0 0 0 0 0 0 0 0 0 0 0 0 0 0 0 0 0 0 0 0 0 0 0 0 0\n",
      " 0 0 0 0 0 0 0 0 0 0 0 0 0 0 0 0 0 0 0 0 0 0 0 0 0 0 0 0 0 0 0 0 0 0 0 0 4\n",
      " 0 0 0 3 0 0 0 0 0 0 0 0 0 0 0 0 0 0 0 0 0 0 0 0 0 0 0 0 0 0 0 0 0 0 0 0 0\n",
      " 0 0 0 0 0 0 0 0 0 0 0 0 0 0 0 0 0 0 0 0 0 0 0 0 0 0 0 0 0 0 0 0 0 0 0 0 0\n",
      " 0 0 0 0 0 0 0 0 0 0 0 0 0 0 0 0 0 0 0 0 0 0 0 0 0 0 0 0 0 0 0 0 0 0 0 0 0\n",
      " 0 0 0 0 0 0 0 0 0 0 0 0 0 0 0 0 0 0 0 0 0 0 0 0 0 0 0 0 0 0 0 0 0 0 0 0 0\n",
      " 0 0 0 0 0 0 0 0 0 0 0 0 0 0 0 0 0 0 0 0 0 0 0 0 0 0 0 0 0 0 0 0 0 0 0 0 0\n",
      " 0 0 0 0 0 0 0 2 0 0 0 0 0 0 0 0 0 0 0 0 0 0 0 0 0 0 0 0 0 0 0 0 0 0 0 0 0\n",
      " 0 0 0 0 0 0 0 0 0 0 0 0 0 0 0 0 0 0 0 0 0 0 0 0 0 0 0 0 0 0 0 0 0 0 0 0 0\n",
      " 0 0 0 0 0 0 0 0 0 0 0 0 0 0 0 0 0 0 0 0 0 0 0 0 0 0 0 0 0 0 0 0 0 0 0 0 0\n",
      " 0 0 0 0 0 0 0 0 0 0 0 0 0 0 0 0 0 0 0 0 0 0 0 0 0 0 0 0 0 0 0 0 0 0 0 0 0\n",
      " 0 0 0 0 0 0 0 0 0 0 0 0 0 0 0 0 0 0 0 0 0 0 0 0 0 0 0 0 0 0 0 0 0 0 0 0 0\n",
      " 0 0 0 0 0 0 0 0 0 0 0 0 1 0 0 0 0 0 0 0 0 0 0 0]\n",
      "[-0.         -0.         -0.         -0.         -0.         -0.\n",
      " -0.         -0.          8.32262573  8.66288389  8.83413691  9.4917338\n",
      "  9.56655802  9.78768593 10.14104823 10.19544906 10.20153156 10.20856079\n",
      " 10.3306333  10.44896124 10.67240004 10.7725556  10.82072224 10.82765926\n",
      " 10.89516255 10.94865871 11.17240075 11.19763608 11.21565585 11.29096064\n",
      " 11.36393538 11.41058561 11.50741025 11.61175411 11.66058463 11.73216832\n",
      " 11.91278374 12.05133583 12.07975067 12.13574274 12.22411738 12.23962144\n",
      " 12.25475542 12.30046347 12.44702025 12.46448557 12.49251698 12.53942831\n",
      " 12.72598542 12.90197781 12.91677424 12.97359981 13.10498754 13.17811483\n",
      " 13.28432757 13.28473775 13.37363161 13.3990309  13.69230827 13.69864263\n",
      " 13.77322911 13.89262411 13.95343044 14.01591281 14.09569101 14.21113913\n",
      " 14.27795272 14.27816384 14.28018242 14.28125195 14.3086415  14.3120382\n",
      " 14.33226765 14.40301699 14.40467452 14.49986911 14.50228227 14.63555142\n",
      " 14.73234999 14.82923244 14.86188327 14.88786746 14.94357672 15.01326373\n",
      " 15.04582079 15.09088543 15.1190901  15.27451111 15.31374232 15.35238015\n",
      " 15.36768568 15.42594461 15.46743564 15.47384467 15.57154595 15.68928846\n",
      " 15.70044436 15.71703852 15.79120855 15.85728567 15.86630315 15.87717184\n",
      " 15.91283387 15.9302363  15.93662675 15.95877693 16.02219244 16.06438445\n",
      " 16.13010116 16.14124932 16.25627063 16.28847649 16.3256036  16.33321036\n",
      " 16.34863036 16.35765973 16.41949297 16.4325259  16.47307588 16.47325738\n",
      " 16.521303   16.52249326 16.53143865 16.56200283 16.57185703 16.59211174\n",
      " 16.60431541 16.60641129 16.61161493 16.61361561 16.62322376 16.64057655\n",
      " 16.6556082  16.6934188  16.70093439 16.73656196 16.78767019 16.86439453\n",
      " 16.89740559 16.97188885 16.99454527 17.01386964 17.0511978  17.24100867\n",
      " 17.24438768 17.25965658 17.2611046  17.42136107 17.457576   17.50311992\n",
      " 17.56040721 17.57269203 17.60261628 17.66299539 17.69487117 17.73820419\n",
      " 17.74825915 17.77300824 17.81776142 17.8281888  17.85912392 17.88941077\n",
      " 17.9115749  17.94622689 17.98237451 18.07845313 18.10463095 18.10555724\n",
      " 18.15522015 18.18283196 18.20956788 18.21554991 18.29624271 18.30399304\n",
      " 18.32827954 18.39477961 18.41435412 18.42812994 18.42874222 18.44537988\n",
      " 18.46258492 18.49685347 18.54839544 18.56127967 18.58681264 18.58783138\n",
      " 18.63220672 18.67321709 18.69419722 18.69914049 18.7418205  18.79794665\n",
      " 18.80187592 18.82454144 18.84075266 18.8589448  18.89718845 19.08676994\n",
      " 19.09945302 19.12301842 19.15665539 19.17519607 19.1798379  19.2747063\n",
      " 19.30707829 19.32117429 19.37649122 19.39746437 19.44146779 19.46058753\n",
      " 19.47786036 19.48129355 19.50964038 19.52313179 19.52868832 19.64143042\n",
      " 19.68330504 19.69305545 19.72126143 19.72483528 19.74903734 19.75168368\n",
      " 19.78539387 19.78880192 19.87568016 19.94109883 19.94245877 19.99229912\n",
      " 20.0186614  20.03157879 20.05255524 20.06724529 20.08804377 20.16054236\n",
      " 20.16417711 20.1770961  20.1792539  20.1942786  20.20281389 20.30648429\n",
      " 20.30665829 20.31787759 20.31935212 20.33719649 20.3371988  20.3714862\n",
      " 20.4279289  20.43194228 20.43484941 20.45088822 20.48870374 20.50162083\n",
      " 20.53140184 20.57465445 20.59189051 20.60350399 20.63098148 20.64861525\n",
      " 20.66831485 20.7144612  20.71574416 20.7400359  20.74322436 20.74946645\n",
      " 20.75836908 20.83709423 20.94042446 20.95984449 20.96202864 20.96980389\n",
      " 21.00683537 21.00828339 21.03836749 21.08873119 21.09589368 21.09982842\n",
      " 21.10046041 21.10109299 21.15574664 21.21677292 21.23314605 21.28044726\n",
      " 21.29015403 21.29815456 21.32015177 21.32578395 21.35574812 21.37055069\n",
      " 21.4370852  21.44952128 21.4525879  21.47442775 21.48883567 21.55985818\n",
      " 21.56292395 21.61993182 21.66331829 21.70762388 21.72894554 21.76072851\n",
      " 21.77398147 21.77772014 21.78869781 21.7912607  21.79686954 21.80059389\n",
      " 21.80099889 21.8342964  21.87409995 21.89294415 21.92495394 21.99316539\n",
      " 22.03033891 22.04321915 22.06250174 22.1079665  22.10815607 22.11204796\n",
      " 22.12224855 22.13680419 22.13935333 22.14034464 22.16808015 22.20831519\n",
      " 22.31604121 22.31841913 22.3345249  22.38572495 22.48620845 22.49731343\n",
      " 22.51562782 22.53438448 22.59314776 22.61553003 22.64485065 22.65865756\n",
      " 22.67480032 22.72175685 22.72630851 22.78366674 22.8150197  22.81584808\n",
      " 22.82847003 22.87375599 22.92208581 23.02254698 23.08971756 23.09781715\n",
      " 23.10198179 23.16110071 23.16246094 23.18571108 23.23832806 23.2979741\n",
      " 23.31690697 23.41060446 23.41451606 23.42807436 23.44834688 23.45259329\n",
      " 23.47268814 23.48887776 23.49011343 23.49570528 23.5165251  23.51965848\n",
      " 23.66010045 23.6715437  23.67688509 23.68309153 23.68454172 23.69674909\n",
      " 23.74750905 23.75729577 23.76534837 23.79525751 23.79810982 23.85345209\n",
      " 23.85625169 23.86954027 23.90497704 23.98631602 23.98935057 24.02864693\n",
      " 24.1209811  24.14026261 24.16450003 24.22546958 24.22722185 24.31975143\n",
      " 24.32394536 24.35157352 24.54164543 24.56849656 24.58025745 24.58503931\n",
      " 24.63301084 24.66668225 24.68813966 24.72877336 24.73439859 24.91183875\n",
      " 24.92591702 24.95801111 24.97938463 25.03156213 25.0377206  25.08569707\n",
      " 25.10417799 25.11789302 25.23138783 25.24173032 25.24910559 25.25225833\n",
      " 25.25507438 25.26059108 25.26180981 25.30630939 25.36282091 25.38588667\n",
      " 25.42657384 25.49567456 25.50586688 25.53428018 25.54674704 25.55035014\n",
      " 25.55639953 25.59107591 25.65261877 25.65273117 25.65586659 25.70820431\n",
      " 25.81285128 25.82185448 25.85542394 25.85988369 25.87186163 25.89591103\n",
      " 25.92135327 25.93191177 25.96508041 25.99068264 26.14839065 26.22665389\n",
      " 26.25314555 26.28855024 26.29723703 26.30650334 26.36105791 26.36584096\n",
      " 26.38523125 26.4473564  26.49358216 26.50497648 26.50532864 26.55126704\n",
      " 26.56166731 26.57081403 26.60087836 26.64431727 26.64877708 26.66746092\n",
      " 26.69110312 26.70980207 26.73368983 26.75133748 26.75468869 26.79662318\n",
      " 26.80241451 26.86139993 26.91985261 27.0040394  27.13453435 27.17958031\n",
      " 27.2284873  27.23833767 27.28863898 27.29294888 27.31026884 27.34414966\n",
      " 27.41343674 27.42057447 27.43124528 27.45972468 27.46895908 27.47461251\n",
      " 27.482701   27.54476828 27.60953559 27.64933631 27.68886793 27.79834271\n",
      " 27.80777915 27.83396542 27.86987721 27.90060985 27.90675032 27.91656332\n",
      " 27.93475895 27.9702399  27.99544824 28.0342228  28.12656471 28.15493083\n",
      " 28.20260501 28.23455476 28.38720732 28.4022117  28.44775721 28.49724702\n",
      " 28.56495347 28.6352996  28.67267194 28.71515572 28.74220947 28.75132327\n",
      " 28.76379159 28.77854715 28.78331328 28.79626615 28.84695054 28.89275545\n",
      " 28.99934101 29.01038262 29.03682803 29.07450612 29.11857413 29.16874793\n",
      " 29.21688718 29.2255285  29.22619823 29.29877318 29.46221512 29.5519417\n",
      " 29.58703748 29.61596638 29.64683505 29.65458716 29.7124801  29.75331969\n",
      " 29.76236227 29.77923283 29.81230712 29.82933116 29.86641758 29.90907162\n",
      " 29.99027703 30.07150729 30.11214505 30.13950188 30.23576499 30.28998643\n",
      " 30.29201127 30.31610312 30.35099057 30.3556654  30.379957   30.38824824\n",
      " 30.40140327 30.43120153 30.47010941 30.48489681 30.50039504 30.50439898\n",
      " 30.52467077 30.52694827 30.56586167 30.60137397 30.61012823 30.67730874\n",
      " 30.7310211  30.76785676 30.8019666  30.86176691 30.8618412  30.87738102\n",
      " 30.88578977 30.94062956 30.97904119 31.00574949 31.10548416 31.10655426\n",
      " 31.14033939 31.20943239 31.35035858 31.40543557 31.48440743 31.48621094\n",
      " 31.53457282 31.59690572 31.61422982 31.6920718  31.79518801 31.98872783\n",
      " 32.03108735 32.07873879 32.09707388 32.10392616 32.13555418 32.24460541\n",
      " 32.30131301 32.32958776 32.33225239 32.36884285 32.39220915 32.43881982\n",
      " 32.45117639 32.52374554 32.57687182 32.73879526 32.74891483 32.75645415\n",
      " 32.78446088 33.02514176 33.06162262 33.0814248  33.11545635 33.12576175\n",
      " 33.13917099 33.22024414 33.48623255 33.52623056 33.52746971 33.58638438\n",
      " 33.58886742 33.61671837 33.7335469  33.73615708 33.76451792 33.77749423\n",
      " 33.79211849 33.8322047  33.90503394 33.91215584 33.91567114 33.95598694\n",
      " 34.113874   34.25655297 34.26008878 34.26904453 34.29660095 34.37810556\n",
      " 34.40274212 34.41015576 34.43010359 34.48182545 34.50268654 34.54839524\n",
      " 34.5487459  34.55881857 34.57422054 34.65242821 34.78324616 34.78789703\n",
      " 34.79434402 34.82042858 34.82298202 34.87269355 34.89605303 35.15866263\n",
      " 35.16129352 35.20496768 35.27471344 35.30138605 35.47991795 35.49757809\n",
      " 35.59909086 35.60500149 35.63222335 35.86480562 35.92368385 35.97358247\n",
      " 35.98277816 36.05253547 36.07621506 36.13378354 36.1554487  36.18801362\n",
      " 36.30500079 36.31136526 36.38102561 36.39091218 36.46537944 36.65381689\n",
      " 36.67879733 36.69867058 36.70936538 36.83177128 36.87511465 36.89337482\n",
      " 36.90660089 36.99922747 37.11296065 37.12961988 37.32122899 37.42316053\n",
      " 37.50936742 37.50999857 37.55260549 37.71429242 37.72096944 37.72332983\n",
      " 37.94370514 38.10514461 38.16334    38.16365341 38.29549891 38.31566725\n",
      " 38.33410327 38.40123088 38.51046622 38.78926793 38.91322463 38.99637042\n",
      " 39.06243864 39.24392092 39.24500866 39.24747515 39.3235113  39.49892427\n",
      " 39.5822357  39.60927771 39.63967597 40.00753823 40.195858   40.41150142\n",
      " 40.61888615 40.70310035 40.96625273 41.01339407 41.07160089 41.12487081\n",
      " 41.1533751  41.22136922 41.29372435 41.32222258 41.36938908 41.41756074\n",
      " 41.57485112 41.63825936 42.10383407 42.13043947 42.33980342 42.54039883\n",
      " 42.55522983 42.66649647 42.75090609 42.90439269 43.27673829 43.38068772\n",
      " 43.51595444 44.01597756 44.10727845 44.1205852  44.22459099 44.26924227\n",
      " 44.39246377 44.45158369 44.66667992 44.8830644  44.91628017 44.96834704\n",
      " 45.08066771 45.15835849 45.35076366 45.35516202 45.36117324 45.42554714\n",
      " 45.82891091 46.31380971 46.72465196 47.20170893 47.25401394 47.46553634\n",
      " 47.5676922  47.57075478 47.78070003 47.90298793 48.35148818 49.01232797\n",
      " 49.80745821 50.80836186 50.95591496 50.96493926 51.04001081 51.44349416\n",
      " 52.01301191 52.12608711 52.992777   53.84581828 54.4799716  54.71097789\n",
      " 55.95073897 57.07662668 57.80180065 58.69545692 58.95599302 59.96918949\n",
      " 60.5796754  62.11139016 62.39623437]\n"
     ]
    }
   ],
   "source": [
    "print(np.array(cc))\n",
    "D=np.diagonal(res_genes[\"Laplacian\"])\n",
    "print(np.sort(D))"
   ]
  },
  {
   "cell_type": "markdown",
   "id": "b429c539",
   "metadata": {},
   "source": [
    "Unfortunately, as the sorted values of the laplacian diagonal show, these components correspond to single nodes, connected to no other node in the dataset."
   ]
  },
  {
   "cell_type": "markdown",
   "id": "a96a140f",
   "metadata": {},
   "source": [
    "## Realistic sensor displacement benchmark dataset"
   ]
  },
  {
   "cell_type": "markdown",
   "id": "efe7d4be",
   "metadata": {},
   "source": [
    "This part contains the experiments about the multivariate times series measuring body movements.\n",
    "\n",
    "The data is available at https://archive.ics.uci.edu/ml/machine-learning-databases/00305/\n",
    "\n",
    "To make the code work, download the dataset, extract it and save data and labels in the folder ./data/realistic_sensor_displacement/"
   ]
  },
  {
   "cell_type": "code",
   "execution_count": 153,
   "id": "c9960873",
   "metadata": {},
   "outputs": [],
   "source": [
    "from os import listdir\n",
    "location = \"data/realistic_sensor_displacement\"\n",
    "for filename in listdir(location)[:1]:\n",
    "    file=(pd.read_csv(location+'/'+filename, skiprows=0, sep='\\s+'))"
   ]
  },
  {
   "cell_type": "code",
   "execution_count": 154,
   "id": "1a0c4a55",
   "metadata": {},
   "outputs": [
    {
     "name": "stdout",
     "output_type": "stream",
     "text": [
      "(208477, 120)\n"
     ]
    }
   ],
   "source": [
    "l=file.values\n",
    "\n",
    "print(l.shape)"
   ]
  },
  {
   "cell_type": "code",
   "execution_count": 155,
   "id": "d0aecd3c",
   "metadata": {},
   "outputs": [],
   "source": [
    "l=l[:,2:-1]"
   ]
  },
  {
   "cell_type": "markdown",
   "id": "7e2daf2a",
   "metadata": {},
   "source": [
    "We try to learn a laplacian while enforcing a $k$ components structure for its associated graph."
   ]
  },
  {
   "cell_type": "code",
   "execution_count": 166,
   "id": "acd629e5",
   "metadata": {},
   "outputs": [
    {
     "name": "stderr",
     "output_type": "stream",
     "text": [
      "100%|██████████████████████████████████████████████████████████████████████████████| 1000/1000 [00:12<00:00, 80.96it/s]\n"
     ]
    }
   ],
   "source": [
    "di=learn_k_component_graph(l.T,k=5,maxiter=1000)"
   ]
  },
  {
   "cell_type": "markdown",
   "id": "a8702c5a",
   "metadata": {},
   "source": [
    "Then, we plot the adjecency matrix, reorganised according to the coefficients of the second eigenvector of the laplacian, which could give a (very) rough estimation of the learned classes, according to spectral graph theory."
   ]
  },
  {
   "cell_type": "code",
   "execution_count": 167,
   "id": "ed72c834",
   "metadata": {},
   "outputs": [],
   "source": [
    "V=np.linalg.eigh(di[\"Laplacian\"])[1]"
   ]
  },
  {
   "cell_type": "code",
   "execution_count": 311,
   "id": "b3cd7f27",
   "metadata": {},
   "outputs": [],
   "source": [
    "ordre=np.argsort(V.T[1,:])"
   ]
  },
  {
   "cell_type": "code",
   "execution_count": 169,
   "id": "26df1275",
   "metadata": {},
   "outputs": [
    {
     "data": {
      "image/png": "[encoded data removed]",
      "text/plain": [
       "<Figure size 1440x1440 with 1 Axes>"
      ]
     },
     "metadata": {
      "needs_background": "light"
     },
     "output_type": "display_data"
    }
   ],
   "source": [
    "fig = plt.figure(figsize=(20, 20))\n",
    "plt.matshow(di[\"Adjacency\"][ordre][:,ordre], fignum=0)\n",
    "plt.show()"
   ]
  },
  {
   "cell_type": "markdown",
   "id": "76cdfce4",
   "metadata": {},
   "source": [
    "We do not see any meaningful pattern in the matrix, showing that the graph learning has probably failed."
   ]
  },
  {
   "cell_type": "code",
   "execution_count": 170,
   "id": "b6bc1274",
   "metadata": {},
   "outputs": [
    {
     "name": "stdout",
     "output_type": "stream",
     "text": [
      "False\n"
     ]
    }
   ],
   "source": [
    "print(di[\"convergence\"])"
   ]
  },
  {
   "cell_type": "code",
   "execution_count": 171,
   "id": "ba79f941",
   "metadata": {},
   "outputs": [
    {
     "name": "stdout",
     "output_type": "stream",
     "text": [
      "[-1.99140023e-17  7.19441936e-03  1.47883016e-02  1.72820150e-02\n",
      "  2.48847420e-02  4.07676981e-02  5.04537015e-02  9.73172694e-02\n",
      "  1.58505807e-01  1.74132604e-01]\n"
     ]
    }
   ],
   "source": [
    "print(np.sort(np.linalg.eigh(di[\"Laplacian\"])[0])[:10])"
   ]
  },
  {
   "cell_type": "markdown",
   "id": "ebf95329",
   "metadata": {},
   "source": [
    "We see that indeed, the algorithm didn't converge and the laplacian has only one zero eigenvalue.\n",
    "\n",
    "Then, we try to use thresholding to enforce the smalest coefficients to go to zero and increase the number of components of the graph."
   ]
  },
  {
   "cell_type": "code",
   "execution_count": 2,
   "id": "bbf295d3",
   "metadata": {},
   "outputs": [],
   "source": [
    "def A_to_L(A):\n",
    "    D=np.diag(np.sum(A,axis=0))\n",
    "    return D-A"
   ]
  },
  {
   "cell_type": "code",
   "execution_count": 174,
   "id": "4df7dfe9",
   "metadata": {},
   "outputs": [],
   "source": [
    "A=(di[\"Adjacency\"])*(abs(di[\"Adjacency\"])>10**-3)"
   ]
  },
  {
   "cell_type": "code",
   "execution_count": 175,
   "id": "dca29875",
   "metadata": {},
   "outputs": [],
   "source": [
    "L=A_to_L(A)"
   ]
  },
  {
   "cell_type": "code",
   "execution_count": 176,
   "id": "8ee9ea10",
   "metadata": {},
   "outputs": [
    {
     "name": "stdout",
     "output_type": "stream",
     "text": [
      "[-6.86334169e-16  7.18240137e-03  1.47880355e-02  1.72797103e-02\n",
      "  2.48739809e-02  4.07514418e-02  5.04470107e-02  9.72309643e-02\n",
      "  1.58438741e-01  1.74044009e-01]\n"
     ]
    }
   ],
   "source": [
    "print(np.sort(np.linalg.eigh(L)[0])[:10])"
   ]
  },
  {
   "cell_type": "markdown",
   "id": "0ab4202c",
   "metadata": {},
   "source": [
    "Unfortunately, the trick didn't work. We think that one explanation of this is because the data was not adapted to $k$-components graph learning "
   ]
  }
 ],
 "metadata": {
  "kernelspec": {
   "display_name": "Python 3 (ipykernel)",
   "language": "python",
   "name": "python3"
  },
  "language_info": {
   "codemirror_mode": {
    "name": "ipython",
    "version": 3
   },
   "file_extension": ".py",
   "mimetype": "text/x-python",
   "name": "python",
   "nbconvert_exporter": "python",
   "pygments_lexer": "ipython3",
   "version": "3.8.5"
  }
 },
 "nbformat": 4,
 "nbformat_minor": 5
}
