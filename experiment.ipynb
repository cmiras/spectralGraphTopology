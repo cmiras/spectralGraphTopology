{
 "cells": [
  {
   "cell_type": "markdown",
   "id": "e46380b4",
   "metadata": {},
   "source": [
    "# ML for Time Series\n",
    "\n",
    "## A Unified Framework for Structured Graph Learning via Spectral Constraints\n",
    "\n",
    "Baptiste Collet - Cyril Miras\n",
    "\n",
    "## Experiments"
   ]
  },
  {
   "cell_type": "markdown",
   "id": "49252c5d",
   "metadata": {},
   "source": [
    "### Setup"
   ]
  },
  {
   "cell_type": "code",
   "execution_count": 1,
   "id": "b6284b40",
   "metadata": {},
   "outputs": [],
   "source": [
    "import numpy as np\n",
    "import pandas as pd\n",
    "import matplotlib.pyplot as plt\n",
    "import sklearn.datasets as skd\n",
    "import sklearn.metrics as skm\n",
    "from learnGraphTopology import *"
   ]
  },
  {
   "cell_type": "markdown",
   "id": "d7cddf5e",
   "metadata": {},
   "source": [
    "## Denoising a multi-component graph"
   ]
  },
  {
   "cell_type": "code",
   "execution_count": 237,
   "id": "068bdccf",
   "metadata": {},
   "outputs": [],
   "source": [
    "n_class_feats = 5\n",
    "n_classes = 4\n",
    "n_feats = n_classes * n_class_feats\n",
    "prob_intra = 1\n",
    "prob_extra = 0.3\n",
    "max_weight_intra = 1\n",
    "max_weight_extra = 0.3"
   ]
  },
  {
   "cell_type": "code",
   "execution_count": 256,
   "id": "ea6cf134",
   "metadata": {},
   "outputs": [
    {
     "data": {
      "image/png": "[encoded data removed]",
      "text/plain": [
       "<Figure size 288x288 with 1 Axes>"
      ]
     },
     "metadata": {
      "needs_background": "light"
     },
     "output_type": "display_data"
    }
   ],
   "source": [
    "adj = np.zeros((n_feats, n_feats))\n",
    "for i in range(n_classes):\n",
    "    i_start = i * n_class_feats\n",
    "    i_end = i_start + n_class_feats\n",
    "    for ii in range(i_start, i_end):\n",
    "        for jj in range(ii+1, i_end):\n",
    "            adj[ii, jj] = np.random.binomial(n=1, p=prob_intra) * np.random.uniform(high=max_weight_intra)\n",
    "plt.matshow(adj+adj.T)\n",
    "plt.title(\"Original matrix\")\n",
    "plt.show()"
   ]
  },
  {
   "cell_type": "code",
   "execution_count": 257,
   "id": "79bfce60",
   "metadata": {},
   "outputs": [
    {
     "data": {
      "image/png": "[encoded data removed]",
      "text/plain": [
       "<Figure size 288x288 with 1 Axes>"
      ]
     },
     "metadata": {
      "needs_background": "light"
     },
     "output_type": "display_data"
    }
   ],
   "source": [
    "for i in range(n_feats):\n",
    "    for j in range(i+1, n_feats):\n",
    "        adj[i, j] += np.random.binomial(n=1, p=prob_extra) * np.random.uniform(high=max_weight_extra)\n",
    "adj = adj + adj.T\n",
    "plt.matshow(adj)\n",
    "plt.title(\"Noisy matrix\")\n",
    "plt.show()"
   ]
  },
  {
   "cell_type": "code",
   "execution_count": 272,
   "id": "79741356",
   "metadata": {},
   "outputs": [],
   "source": [
    "n_samples = 5 * n_feats\n",
    "# compute the laplacian and correlation matrices\n",
    "lap = np.diag(adj.sum(axis=0)) - adj\n",
    "theta = np.linalg.pinv(lap)\n",
    "# generate samples\n",
    "x = np.random.multivariate_normal(np.zeros(n_feats), theta, size=n_samples).T"
   ]
  },
  {
   "cell_type": "code",
   "execution_count": 273,
   "id": "236c06d2",
   "metadata": {},
   "outputs": [
    {
     "name": "stderr",
     "output_type": "stream",
     "text": [
      " 72%|██████████████████████████████████████████████████████▊                     | 7215/10000 [00:09<00:03, 775.17it/s]"
     ]
    },
    {
     "name": "stdout",
     "output_type": "stream",
     "text": [
      "The optimization converged!\n"
     ]
    },
    {
     "name": "stderr",
     "output_type": "stream",
     "text": [
      "\n"
     ]
    }
   ],
   "source": [
    "# learn the laplacian and adjacency matrices\n",
    "res_denoising = learn_k_component_graph(x, k=4, maxiter=10000)\n",
    "if res_denoising['convergence']: print(\"The optimization converged!\")"
   ]
  },
  {
   "cell_type": "code",
   "execution_count": 274,
   "id": "d5f394a8",
   "metadata": {},
   "outputs": [
    {
     "data": {
      "image/png": "[encoded data removed]",
      "text/plain": [
       "<Figure size 288x288 with 1 Axes>"
      ]
     },
     "metadata": {
      "needs_background": "light"
     },
     "output_type": "display_data"
    },
    {
     "name": "stdout",
     "output_type": "stream",
     "text": [
      "relative error:  0.7448109135163131\n",
      "naive relative error:  0.6828634954680337\n"
     ]
    }
   ],
   "source": [
    "plt.matshow(res_denoising[\"Adjacency\"])\n",
    "plt.title(\"recovered adjacency matrix\")\n",
    "plt.show()\n",
    "print('relative error: ', np.linalg.norm(res_denoising[\"Laplacian\"] - lap)/np.linalg.norm(lap))\n",
    "print('naive relative error: ', np.linalg.norm(np.linalg.pinv(np.cov(x)) - lap)/np.linalg.norm(lap))"
   ]
  },
  {
   "cell_type": "markdown",
   "id": "f3b9c3b5",
   "metadata": {},
   "source": [
    "# Denoising a bipartite graph"
   ]
  },
  {
   "cell_type": "code",
   "execution_count": 3,
   "id": "d787a2a0",
   "metadata": {},
   "outputs": [],
   "source": [
    "halfnodes=20\n",
    "nodes=2*halfnodes\n",
    "A = np.zeros([halfnodes*2,halfnodes*2])\n",
    "\n",
    "A[halfnodes:,:halfnodes] = 1\n",
    "\n",
    "A+=np.random.rand(nodes,nodes)*0.1\n",
    "for k in range(nodes):\n",
    "    A[k][k]=0\n",
    "A+=A.T\n",
    "L=A_to_L(A)"
   ]
  },
  {
   "cell_type": "code",
   "execution_count": 4,
   "id": "7c2933cf",
   "metadata": {},
   "outputs": [
    {
     "name": "stderr",
     "output_type": "stream",
     "text": [
      "  0%|                                                                                                                                                                            | 0/10000 [00:00<?, ?it/s]/home/bcollet/Documents/spectralGraphTopology/ObjectiveFunction.py:18: RuntimeWarning: invalid value encountered in log\n",
      "  return np.sum(-np.log(np.linalg.eigh(Lw+J)[0]+eps)+np.diagonal(K@Lw))\n",
      "  0%|                                                                                                                                                                  | 1/10000 [00:00<1:10:33,  2.36it/s]/home/bcollet/Documents/spectralGraphTopology/ObjectiveFunction.py:18: RuntimeWarning: invalid value encountered in log\n",
      "  return np.sum(-np.log(np.linalg.eigh(Lw+J)[0]+eps)+np.diagonal(K@Lw))\n",
      "/home/bcollet/Documents/spectralGraphTopology/ObjectiveFunction.py:18: RuntimeWarning: invalid value encountered in log\n",
      "  return np.sum(-np.log(np.linalg.eigh(Lw+J)[0]+eps)+np.diagonal(K@Lw))\n",
      "/home/bcollet/Documents/spectralGraphTopology/ObjectiveFunction.py:18: RuntimeWarning: divide by zero encountered in log\n",
      "  return np.sum(-np.log(np.linalg.eigh(Lw+J)[0]+eps)+np.diagonal(K@Lw))\n",
      "/home/bcollet/Documents/spectralGraphTopology/ObjectiveFunction.py:18: RuntimeWarning: invalid value encountered in log\n",
      "  return np.sum(-np.log(np.linalg.eigh(Lw+J)[0]+eps)+np.diagonal(K@Lw))\n",
      "/home/bcollet/Documents/spectralGraphTopology/ObjectiveFunction.py:18: RuntimeWarning: invalid value encountered in log\n",
      "  return np.sum(-np.log(np.linalg.eigh(Lw+J)[0]+eps)+np.diagonal(K@Lw))\n",
      "/home/bcollet/Documents/spectralGraphTopology/ObjectiveFunction.py:18: RuntimeWarning: invalid value encountered in log\n",
      "  return np.sum(-np.log(np.linalg.eigh(Lw+J)[0]+eps)+np.diagonal(K@Lw))\n",
      "/home/bcollet/Documents/spectralGraphTopology/ObjectiveFunction.py:18: RuntimeWarning: invalid value encountered in log\n",
      "  return np.sum(-np.log(np.linalg.eigh(Lw+J)[0]+eps)+np.diagonal(K@Lw))\n",
      "/home/bcollet/Documents/spectralGraphTopology/ObjectiveFunction.py:18: RuntimeWarning: invalid value encountered in log\n",
      "  return np.sum(-np.log(np.linalg.eigh(Lw+J)[0]+eps)+np.diagonal(K@Lw))\n",
      "/home/bcollet/Documents/spectralGraphTopology/ObjectiveFunction.py:18: RuntimeWarning: invalid value encountered in log\n",
      "  return np.sum(-np.log(np.linalg.eigh(Lw+J)[0]+eps)+np.diagonal(K@Lw))\n",
      "/home/bcollet/Documents/spectralGraphTopology/ObjectiveFunction.py:18: RuntimeWarning: invalid value encountered in log\n",
      "  return np.sum(-np.log(np.linalg.eigh(Lw+J)[0]+eps)+np.diagonal(K@Lw))\n",
      "/home/bcollet/Documents/spectralGraphTopology/ObjectiveFunction.py:18: RuntimeWarning: invalid value encountered in log\n",
      "  return np.sum(-np.log(np.linalg.eigh(Lw+J)[0]+eps)+np.diagonal(K@Lw))\n",
      "/home/bcollet/Documents/spectralGraphTopology/ObjectiveFunction.py:18: RuntimeWarning: invalid value encountered in log\n",
      "  return np.sum(-np.log(np.linalg.eigh(Lw+J)[0]+eps)+np.diagonal(K@Lw))\n",
      "/home/bcollet/Documents/spectralGraphTopology/ObjectiveFunction.py:18: RuntimeWarning: invalid value encountered in log\n",
      "  return np.sum(-np.log(np.linalg.eigh(Lw+J)[0]+eps)+np.diagonal(K@Lw))\n",
      "/home/bcollet/Documents/spectralGraphTopology/ObjectiveFunction.py:18: RuntimeWarning: invalid value encountered in log\n",
      "  return np.sum(-np.log(np.linalg.eigh(Lw+J)[0]+eps)+np.diagonal(K@Lw))\n",
      "/home/bcollet/Documents/spectralGraphTopology/ObjectiveFunction.py:18: RuntimeWarning: invalid value encountered in log\n",
      "  return np.sum(-np.log(np.linalg.eigh(Lw+J)[0]+eps)+np.diagonal(K@Lw))\n",
      "/home/bcollet/Documents/spectralGraphTopology/ObjectiveFunction.py:18: RuntimeWarning: invalid value encountered in log\n",
      "  return np.sum(-np.log(np.linalg.eigh(Lw+J)[0]+eps)+np.diagonal(K@Lw))\n",
      "/home/bcollet/Documents/spectralGraphTopology/ObjectiveFunction.py:18: RuntimeWarning: invalid value encountered in log\n",
      "  return np.sum(-np.log(np.linalg.eigh(Lw+J)[0]+eps)+np.diagonal(K@Lw))\n",
      "/home/bcollet/Documents/spectralGraphTopology/ObjectiveFunction.py:18: RuntimeWarning: invalid value encountered in log\n",
      "  return np.sum(-np.log(np.linalg.eigh(Lw+J)[0]+eps)+np.diagonal(K@Lw))\n",
      "/home/bcollet/Documents/spectralGraphTopology/ObjectiveFunction.py:18: RuntimeWarning: invalid value encountered in log\n",
      "  return np.sum(-np.log(np.linalg.eigh(Lw+J)[0]+eps)+np.diagonal(K@Lw))\n",
      "/home/bcollet/Documents/spectralGraphTopology/ObjectiveFunction.py:18: RuntimeWarning: invalid value encountered in log\n",
      "  return np.sum(-np.log(np.linalg.eigh(Lw+J)[0]+eps)+np.diagonal(K@Lw))\n",
      "/home/bcollet/Documents/spectralGraphTopology/ObjectiveFunction.py:18: RuntimeWarning: invalid value encountered in log\n",
      "  return np.sum(-np.log(np.linalg.eigh(Lw+J)[0]+eps)+np.diagonal(K@Lw))\n",
      "/home/bcollet/Documents/spectralGraphTopology/ObjectiveFunction.py:18: RuntimeWarning: invalid value encountered in log\n",
      "  return np.sum(-np.log(np.linalg.eigh(Lw+J)[0]+eps)+np.diagonal(K@Lw))\n",
      "/home/bcollet/Documents/spectralGraphTopology/ObjectiveFunction.py:18: RuntimeWarning: invalid value encountered in log\n",
      "  return np.sum(-np.log(np.linalg.eigh(Lw+J)[0]+eps)+np.diagonal(K@Lw))\n",
      "/home/bcollet/Documents/spectralGraphTopology/ObjectiveFunction.py:18: RuntimeWarning: invalid value encountered in log\n",
      "  return np.sum(-np.log(np.linalg.eigh(Lw+J)[0]+eps)+np.diagonal(K@Lw))\n",
      "/home/bcollet/Documents/spectralGraphTopology/ObjectiveFunction.py:18: RuntimeWarning: invalid value encountered in log\n",
      "  return np.sum(-np.log(np.linalg.eigh(Lw+J)[0]+eps)+np.diagonal(K@Lw))\n",
      "/home/bcollet/Documents/spectralGraphTopology/ObjectiveFunction.py:18: RuntimeWarning: invalid value encountered in log\n",
      "  return np.sum(-np.log(np.linalg.eigh(Lw+J)[0]+eps)+np.diagonal(K@Lw))\n",
      "/home/bcollet/Documents/spectralGraphTopology/ObjectiveFunction.py:18: RuntimeWarning: invalid value encountered in log\n",
      "  return np.sum(-np.log(np.linalg.eigh(Lw+J)[0]+eps)+np.diagonal(K@Lw))\n",
      "/home/bcollet/Documents/spectralGraphTopology/ObjectiveFunction.py:18: RuntimeWarning: invalid value encountered in log\n",
      "  return np.sum(-np.log(np.linalg.eigh(Lw+J)[0]+eps)+np.diagonal(K@Lw))\n",
      "/home/bcollet/Documents/spectralGraphTopology/ObjectiveFunction.py:18: RuntimeWarning: invalid value encountered in log\n",
      "  return np.sum(-np.log(np.linalg.eigh(Lw+J)[0]+eps)+np.diagonal(K@Lw))\n",
      "/home/bcollet/Documents/spectralGraphTopology/ObjectiveFunction.py:18: RuntimeWarning: invalid value encountered in log\n",
      "  return np.sum(-np.log(np.linalg.eigh(Lw+J)[0]+eps)+np.diagonal(K@Lw))\n",
      "/home/bcollet/Documents/spectralGraphTopology/ObjectiveFunction.py:18: RuntimeWarning: invalid value encountered in log\n",
      "  return np.sum(-np.log(np.linalg.eigh(Lw+J)[0]+eps)+np.diagonal(K@Lw))\n",
      "/home/bcollet/Documents/spectralGraphTopology/ObjectiveFunction.py:18: RuntimeWarning: invalid value encountered in log\n",
      "  return np.sum(-np.log(np.linalg.eigh(Lw+J)[0]+eps)+np.diagonal(K@Lw))\n",
      "/home/bcollet/Documents/spectralGraphTopology/ObjectiveFunction.py:18: RuntimeWarning: invalid value encountered in log\n",
      "  return np.sum(-np.log(np.linalg.eigh(Lw+J)[0]+eps)+np.diagonal(K@Lw))\n",
      "/home/bcollet/Documents/spectralGraphTopology/ObjectiveFunction.py:18: RuntimeWarning: invalid value encountered in log\n",
      "  return np.sum(-np.log(np.linalg.eigh(Lw+J)[0]+eps)+np.diagonal(K@Lw))\n",
      "/home/bcollet/Documents/spectralGraphTopology/ObjectiveFunction.py:18: RuntimeWarning: invalid value encountered in log\n",
      "  return np.sum(-np.log(np.linalg.eigh(Lw+J)[0]+eps)+np.diagonal(K@Lw))\n",
      "/home/bcollet/Documents/spectralGraphTopology/ObjectiveFunction.py:18: RuntimeWarning: invalid value encountered in log\n",
      "  return np.sum(-np.log(np.linalg.eigh(Lw+J)[0]+eps)+np.diagonal(K@Lw))\n",
      "/home/bcollet/Documents/spectralGraphTopology/ObjectiveFunction.py:18: RuntimeWarning: divide by zero encountered in log\n",
      "  return np.sum(-np.log(np.linalg.eigh(Lw+J)[0]+eps)+np.diagonal(K@Lw))\n",
      "/home/bcollet/Documents/spectralGraphTopology/ObjectiveFunction.py:18: RuntimeWarning: invalid value encountered in log\n",
      "  return np.sum(-np.log(np.linalg.eigh(Lw+J)[0]+eps)+np.diagonal(K@Lw))\n",
      "/home/bcollet/Documents/spectralGraphTopology/ObjectiveFunction.py:18: RuntimeWarning: invalid value encountered in log\n",
      "  return np.sum(-np.log(np.linalg.eigh(Lw+J)[0]+eps)+np.diagonal(K@Lw))\n",
      "/home/bcollet/Documents/spectralGraphTopology/ObjectiveFunction.py:18: RuntimeWarning: invalid value encountered in log\n",
      "  return np.sum(-np.log(np.linalg.eigh(Lw+J)[0]+eps)+np.diagonal(K@Lw))\n",
      "/home/bcollet/Documents/spectralGraphTopology/ObjectiveFunction.py:18: RuntimeWarning: invalid value encountered in log\n",
      "  return np.sum(-np.log(np.linalg.eigh(Lw+J)[0]+eps)+np.diagonal(K@Lw))\n",
      "/home/bcollet/Documents/spectralGraphTopology/ObjectiveFunction.py:18: RuntimeWarning: invalid value encountered in log\n",
      "  return np.sum(-np.log(np.linalg.eigh(Lw+J)[0]+eps)+np.diagonal(K@Lw))\n",
      "/home/bcollet/Documents/spectralGraphTopology/ObjectiveFunction.py:18: RuntimeWarning: invalid value encountered in log\n",
      "  return np.sum(-np.log(np.linalg.eigh(Lw+J)[0]+eps)+np.diagonal(K@Lw))\n",
      "/home/bcollet/Documents/spectralGraphTopology/ObjectiveFunction.py:18: RuntimeWarning: invalid value encountered in log\n",
      "  return np.sum(-np.log(np.linalg.eigh(Lw+J)[0]+eps)+np.diagonal(K@Lw))\n",
      "/home/bcollet/Documents/spectralGraphTopology/ObjectiveFunction.py:18: RuntimeWarning: invalid value encountered in log\n",
      "  return np.sum(-np.log(np.linalg.eigh(Lw+J)[0]+eps)+np.diagonal(K@Lw))\n",
      "/home/bcollet/Documents/spectralGraphTopology/ObjectiveFunction.py:18: RuntimeWarning: invalid value encountered in log\n",
      "  return np.sum(-np.log(np.linalg.eigh(Lw+J)[0]+eps)+np.diagonal(K@Lw))\n"
     ]
    },
    {
     "name": "stderr",
     "output_type": "stream",
     "text": [
      "  0%|▋                                                                                                                                                                 | 45/10000 [00:00<01:28, 112.64it/s]/home/bcollet/Documents/spectralGraphTopology/ObjectiveFunction.py:18: RuntimeWarning: invalid value encountered in log\n",
      "  return np.sum(-np.log(np.linalg.eigh(Lw+J)[0]+eps)+np.diagonal(K@Lw))\n",
      "/home/bcollet/Documents/spectralGraphTopology/ObjectiveFunction.py:18: RuntimeWarning: invalid value encountered in log\n",
      "  return np.sum(-np.log(np.linalg.eigh(Lw+J)[0]+eps)+np.diagonal(K@Lw))\n",
      "/home/bcollet/Documents/spectralGraphTopology/ObjectiveFunction.py:18: RuntimeWarning: invalid value encountered in log\n",
      "  return np.sum(-np.log(np.linalg.eigh(Lw+J)[0]+eps)+np.diagonal(K@Lw))\n",
      "/home/bcollet/Documents/spectralGraphTopology/ObjectiveFunction.py:18: RuntimeWarning: invalid value encountered in log\n",
      "  return np.sum(-np.log(np.linalg.eigh(Lw+J)[0]+eps)+np.diagonal(K@Lw))\n",
      "/home/bcollet/Documents/spectralGraphTopology/ObjectiveFunction.py:18: RuntimeWarning: invalid value encountered in log\n",
      "  return np.sum(-np.log(np.linalg.eigh(Lw+J)[0]+eps)+np.diagonal(K@Lw))\n",
      "/home/bcollet/Documents/spectralGraphTopology/ObjectiveFunction.py:18: RuntimeWarning: invalid value encountered in log\n",
      "  return np.sum(-np.log(np.linalg.eigh(Lw+J)[0]+eps)+np.diagonal(K@Lw))\n",
      "/home/bcollet/Documents/spectralGraphTopology/ObjectiveFunction.py:18: RuntimeWarning: invalid value encountered in log\n",
      "  return np.sum(-np.log(np.linalg.eigh(Lw+J)[0]+eps)+np.diagonal(K@Lw))\n",
      "/home/bcollet/Documents/spectralGraphTopology/ObjectiveFunction.py:18: RuntimeWarning: invalid value encountered in log\n",
      "  return np.sum(-np.log(np.linalg.eigh(Lw+J)[0]+eps)+np.diagonal(K@Lw))\n",
      "/home/bcollet/Documents/spectralGraphTopology/ObjectiveFunction.py:18: RuntimeWarning: invalid value encountered in log\n",
      "  return np.sum(-np.log(np.linalg.eigh(Lw+J)[0]+eps)+np.diagonal(K@Lw))\n",
      "/home/bcollet/Documents/spectralGraphTopology/ObjectiveFunction.py:18: RuntimeWarning: invalid value encountered in log\n",
      "  return np.sum(-np.log(np.linalg.eigh(Lw+J)[0]+eps)+np.diagonal(K@Lw))\n",
      "/home/bcollet/Documents/spectralGraphTopology/ObjectiveFunction.py:18: RuntimeWarning: invalid value encountered in log\n",
      "  return np.sum(-np.log(np.linalg.eigh(Lw+J)[0]+eps)+np.diagonal(K@Lw))\n",
      "/home/bcollet/Documents/spectralGraphTopology/ObjectiveFunction.py:18: RuntimeWarning: invalid value encountered in log\n",
      "  return np.sum(-np.log(np.linalg.eigh(Lw+J)[0]+eps)+np.diagonal(K@Lw))\n",
      "/home/bcollet/Documents/spectralGraphTopology/ObjectiveFunction.py:18: RuntimeWarning: invalid value encountered in log\n",
      "  return np.sum(-np.log(np.linalg.eigh(Lw+J)[0]+eps)+np.diagonal(K@Lw))\n",
      "/home/bcollet/Documents/spectralGraphTopology/ObjectiveFunction.py:18: RuntimeWarning: invalid value encountered in log\n",
      "  return np.sum(-np.log(np.linalg.eigh(Lw+J)[0]+eps)+np.diagonal(K@Lw))\n",
      "/home/bcollet/Documents/spectralGraphTopology/ObjectiveFunction.py:18: RuntimeWarning: invalid value encountered in log\n",
      "  return np.sum(-np.log(np.linalg.eigh(Lw+J)[0]+eps)+np.diagonal(K@Lw))\n",
      "/home/bcollet/Documents/spectralGraphTopology/ObjectiveFunction.py:18: RuntimeWarning: invalid value encountered in log\n",
      "  return np.sum(-np.log(np.linalg.eigh(Lw+J)[0]+eps)+np.diagonal(K@Lw))\n",
      "/home/bcollet/Documents/spectralGraphTopology/ObjectiveFunction.py:18: RuntimeWarning: invalid value encountered in log\n",
      "  return np.sum(-np.log(np.linalg.eigh(Lw+J)[0]+eps)+np.diagonal(K@Lw))\n",
      "/home/bcollet/Documents/spectralGraphTopology/ObjectiveFunction.py:18: RuntimeWarning: invalid value encountered in log\n",
      "  return np.sum(-np.log(np.linalg.eigh(Lw+J)[0]+eps)+np.diagonal(K@Lw))\n",
      "/home/bcollet/Documents/spectralGraphTopology/ObjectiveFunction.py:18: RuntimeWarning: divide by zero encountered in log\n",
      "  return np.sum(-np.log(np.linalg.eigh(Lw+J)[0]+eps)+np.diagonal(K@Lw))\n",
      "/home/bcollet/Documents/spectralGraphTopology/ObjectiveFunction.py:18: RuntimeWarning: invalid value encountered in log\n",
      "  return np.sum(-np.log(np.linalg.eigh(Lw+J)[0]+eps)+np.diagonal(K@Lw))\n",
      "/home/bcollet/Documents/spectralGraphTopology/ObjectiveFunction.py:18: RuntimeWarning: invalid value encountered in log\n",
      "  return np.sum(-np.log(np.linalg.eigh(Lw+J)[0]+eps)+np.diagonal(K@Lw))\n",
      "/home/bcollet/Documents/spectralGraphTopology/ObjectiveFunction.py:18: RuntimeWarning: invalid value encountered in log\n",
      "  return np.sum(-np.log(np.linalg.eigh(Lw+J)[0]+eps)+np.diagonal(K@Lw))\n",
      "/home/bcollet/Documents/spectralGraphTopology/ObjectiveFunction.py:18: RuntimeWarning: invalid value encountered in log\n",
      "  return np.sum(-np.log(np.linalg.eigh(Lw+J)[0]+eps)+np.diagonal(K@Lw))\n",
      "/home/bcollet/Documents/spectralGraphTopology/ObjectiveFunction.py:18: RuntimeWarning: invalid value encountered in log\n",
      "  return np.sum(-np.log(np.linalg.eigh(Lw+J)[0]+eps)+np.diagonal(K@Lw))\n",
      "/home/bcollet/Documents/spectralGraphTopology/ObjectiveFunction.py:18: RuntimeWarning: invalid value encountered in log\n",
      "  return np.sum(-np.log(np.linalg.eigh(Lw+J)[0]+eps)+np.diagonal(K@Lw))\n",
      "/home/bcollet/Documents/spectralGraphTopology/ObjectiveFunction.py:18: RuntimeWarning: divide by zero encountered in log\n",
      "  return np.sum(-np.log(np.linalg.eigh(Lw+J)[0]+eps)+np.diagonal(K@Lw))\n",
      "/home/bcollet/Documents/spectralGraphTopology/ObjectiveFunction.py:18: RuntimeWarning: invalid value encountered in log\n",
      "  return np.sum(-np.log(np.linalg.eigh(Lw+J)[0]+eps)+np.diagonal(K@Lw))\n",
      "/home/bcollet/Documents/spectralGraphTopology/ObjectiveFunction.py:18: RuntimeWarning: invalid value encountered in log\n",
      "  return np.sum(-np.log(np.linalg.eigh(Lw+J)[0]+eps)+np.diagonal(K@Lw))\n",
      "/home/bcollet/Documents/spectralGraphTopology/ObjectiveFunction.py:18: RuntimeWarning: invalid value encountered in log\n",
      "  return np.sum(-np.log(np.linalg.eigh(Lw+J)[0]+eps)+np.diagonal(K@Lw))\n",
      "/home/bcollet/Documents/spectralGraphTopology/ObjectiveFunction.py:18: RuntimeWarning: invalid value encountered in log\n",
      "  return np.sum(-np.log(np.linalg.eigh(Lw+J)[0]+eps)+np.diagonal(K@Lw))\n",
      "/home/bcollet/Documents/spectralGraphTopology/ObjectiveFunction.py:18: RuntimeWarning: invalid value encountered in log\n",
      "  return np.sum(-np.log(np.linalg.eigh(Lw+J)[0]+eps)+np.diagonal(K@Lw))\n",
      "/home/bcollet/Documents/spectralGraphTopology/ObjectiveFunction.py:18: RuntimeWarning: invalid value encountered in log\n",
      "  return np.sum(-np.log(np.linalg.eigh(Lw+J)[0]+eps)+np.diagonal(K@Lw))\n",
      "/home/bcollet/Documents/spectralGraphTopology/ObjectiveFunction.py:18: RuntimeWarning: invalid value encountered in log\n",
      "  return np.sum(-np.log(np.linalg.eigh(Lw+J)[0]+eps)+np.diagonal(K@Lw))\n",
      "/home/bcollet/Documents/spectralGraphTopology/ObjectiveFunction.py:18: RuntimeWarning: divide by zero encountered in log\n",
      "  return np.sum(-np.log(np.linalg.eigh(Lw+J)[0]+eps)+np.diagonal(K@Lw))\n",
      "/home/bcollet/Documents/spectralGraphTopology/ObjectiveFunction.py:18: RuntimeWarning: invalid value encountered in log\n",
      "  return np.sum(-np.log(np.linalg.eigh(Lw+J)[0]+eps)+np.diagonal(K@Lw))\n",
      "/home/bcollet/Documents/spectralGraphTopology/ObjectiveFunction.py:18: RuntimeWarning: invalid value encountered in log\n",
      "  return np.sum(-np.log(np.linalg.eigh(Lw+J)[0]+eps)+np.diagonal(K@Lw))\n",
      "/home/bcollet/Documents/spectralGraphTopology/ObjectiveFunction.py:18: RuntimeWarning: invalid value encountered in log\n",
      "  return np.sum(-np.log(np.linalg.eigh(Lw+J)[0]+eps)+np.diagonal(K@Lw))\n",
      "/home/bcollet/Documents/spectralGraphTopology/ObjectiveFunction.py:18: RuntimeWarning: invalid value encountered in log\n",
      "  return np.sum(-np.log(np.linalg.eigh(Lw+J)[0]+eps)+np.diagonal(K@Lw))\n",
      "/home/bcollet/Documents/spectralGraphTopology/ObjectiveFunction.py:18: RuntimeWarning: invalid value encountered in log\n",
      "  return np.sum(-np.log(np.linalg.eigh(Lw+J)[0]+eps)+np.diagonal(K@Lw))\n",
      "/home/bcollet/Documents/spectralGraphTopology/ObjectiveFunction.py:18: RuntimeWarning: invalid value encountered in log\n",
      "  return np.sum(-np.log(np.linalg.eigh(Lw+J)[0]+eps)+np.diagonal(K@Lw))\n",
      "/home/bcollet/Documents/spectralGraphTopology/ObjectiveFunction.py:18: RuntimeWarning: invalid value encountered in log\n",
      "  return np.sum(-np.log(np.linalg.eigh(Lw+J)[0]+eps)+np.diagonal(K@Lw))\n",
      "/home/bcollet/Documents/spectralGraphTopology/ObjectiveFunction.py:18: RuntimeWarning: invalid value encountered in log\n",
      "  return np.sum(-np.log(np.linalg.eigh(Lw+J)[0]+eps)+np.diagonal(K@Lw))\n",
      "/home/bcollet/Documents/spectralGraphTopology/ObjectiveFunction.py:18: RuntimeWarning: invalid value encountered in log\n",
      "  return np.sum(-np.log(np.linalg.eigh(Lw+J)[0]+eps)+np.diagonal(K@Lw))\n"
     ]
    },
    {
     "name": "stderr",
     "output_type": "stream",
     "text": [
      "/home/bcollet/Documents/spectralGraphTopology/ObjectiveFunction.py:18: RuntimeWarning: invalid value encountered in log\n",
      "  return np.sum(-np.log(np.linalg.eigh(Lw+J)[0]+eps)+np.diagonal(K@Lw))\n",
      "  1%|█▍                                                                                                                                                                | 86/10000 [00:00<00:51, 190.72it/s]/home/bcollet/Documents/spectralGraphTopology/ObjectiveFunction.py:18: RuntimeWarning: invalid value encountered in log\n",
      "  return np.sum(-np.log(np.linalg.eigh(Lw+J)[0]+eps)+np.diagonal(K@Lw))\n",
      "/home/bcollet/Documents/spectralGraphTopology/ObjectiveFunction.py:18: RuntimeWarning: invalid value encountered in log\n",
      "  return np.sum(-np.log(np.linalg.eigh(Lw+J)[0]+eps)+np.diagonal(K@Lw))\n",
      "/home/bcollet/Documents/spectralGraphTopology/ObjectiveFunction.py:18: RuntimeWarning: invalid value encountered in log\n",
      "  return np.sum(-np.log(np.linalg.eigh(Lw+J)[0]+eps)+np.diagonal(K@Lw))\n",
      "/home/bcollet/Documents/spectralGraphTopology/ObjectiveFunction.py:18: RuntimeWarning: divide by zero encountered in log\n",
      "  return np.sum(-np.log(np.linalg.eigh(Lw+J)[0]+eps)+np.diagonal(K@Lw))\n",
      "/home/bcollet/Documents/spectralGraphTopology/ObjectiveFunction.py:18: RuntimeWarning: invalid value encountered in log\n",
      "  return np.sum(-np.log(np.linalg.eigh(Lw+J)[0]+eps)+np.diagonal(K@Lw))\n",
      "/home/bcollet/Documents/spectralGraphTopology/ObjectiveFunction.py:18: RuntimeWarning: invalid value encountered in log\n",
      "  return np.sum(-np.log(np.linalg.eigh(Lw+J)[0]+eps)+np.diagonal(K@Lw))\n",
      "/home/bcollet/Documents/spectralGraphTopology/ObjectiveFunction.py:18: RuntimeWarning: invalid value encountered in log\n",
      "  return np.sum(-np.log(np.linalg.eigh(Lw+J)[0]+eps)+np.diagonal(K@Lw))\n",
      "/home/bcollet/Documents/spectralGraphTopology/ObjectiveFunction.py:18: RuntimeWarning: invalid value encountered in log\n",
      "  return np.sum(-np.log(np.linalg.eigh(Lw+J)[0]+eps)+np.diagonal(K@Lw))\n",
      "/home/bcollet/Documents/spectralGraphTopology/ObjectiveFunction.py:18: RuntimeWarning: invalid value encountered in log\n",
      "  return np.sum(-np.log(np.linalg.eigh(Lw+J)[0]+eps)+np.diagonal(K@Lw))\n",
      "/home/bcollet/Documents/spectralGraphTopology/ObjectiveFunction.py:18: RuntimeWarning: invalid value encountered in log\n",
      "  return np.sum(-np.log(np.linalg.eigh(Lw+J)[0]+eps)+np.diagonal(K@Lw))\n",
      "/home/bcollet/Documents/spectralGraphTopology/ObjectiveFunction.py:18: RuntimeWarning: invalid value encountered in log\n",
      "  return np.sum(-np.log(np.linalg.eigh(Lw+J)[0]+eps)+np.diagonal(K@Lw))\n",
      "/home/bcollet/Documents/spectralGraphTopology/ObjectiveFunction.py:18: RuntimeWarning: invalid value encountered in log\n",
      "  return np.sum(-np.log(np.linalg.eigh(Lw+J)[0]+eps)+np.diagonal(K@Lw))\n",
      "/home/bcollet/Documents/spectralGraphTopology/ObjectiveFunction.py:18: RuntimeWarning: divide by zero encountered in log\n",
      "  return np.sum(-np.log(np.linalg.eigh(Lw+J)[0]+eps)+np.diagonal(K@Lw))\n",
      "/home/bcollet/Documents/spectralGraphTopology/ObjectiveFunction.py:18: RuntimeWarning: invalid value encountered in log\n",
      "  return np.sum(-np.log(np.linalg.eigh(Lw+J)[0]+eps)+np.diagonal(K@Lw))\n",
      "/home/bcollet/Documents/spectralGraphTopology/ObjectiveFunction.py:18: RuntimeWarning: invalid value encountered in log\n",
      "  return np.sum(-np.log(np.linalg.eigh(Lw+J)[0]+eps)+np.diagonal(K@Lw))\n",
      "/home/bcollet/Documents/spectralGraphTopology/ObjectiveFunction.py:18: RuntimeWarning: invalid value encountered in log\n",
      "  return np.sum(-np.log(np.linalg.eigh(Lw+J)[0]+eps)+np.diagonal(K@Lw))\n",
      "/home/bcollet/Documents/spectralGraphTopology/ObjectiveFunction.py:18: RuntimeWarning: invalid value encountered in log\n",
      "  return np.sum(-np.log(np.linalg.eigh(Lw+J)[0]+eps)+np.diagonal(K@Lw))\n",
      "/home/bcollet/Documents/spectralGraphTopology/ObjectiveFunction.py:18: RuntimeWarning: invalid value encountered in log\n",
      "  return np.sum(-np.log(np.linalg.eigh(Lw+J)[0]+eps)+np.diagonal(K@Lw))\n",
      "/home/bcollet/Documents/spectralGraphTopology/ObjectiveFunction.py:18: RuntimeWarning: invalid value encountered in log\n",
      "  return np.sum(-np.log(np.linalg.eigh(Lw+J)[0]+eps)+np.diagonal(K@Lw))\n",
      "/home/bcollet/Documents/spectralGraphTopology/ObjectiveFunction.py:18: RuntimeWarning: invalid value encountered in log\n",
      "  return np.sum(-np.log(np.linalg.eigh(Lw+J)[0]+eps)+np.diagonal(K@Lw))\n",
      "/home/bcollet/Documents/spectralGraphTopology/ObjectiveFunction.py:18: RuntimeWarning: invalid value encountered in log\n",
      "  return np.sum(-np.log(np.linalg.eigh(Lw+J)[0]+eps)+np.diagonal(K@Lw))\n",
      "/home/bcollet/Documents/spectralGraphTopology/ObjectiveFunction.py:18: RuntimeWarning: invalid value encountered in log\n",
      "  return np.sum(-np.log(np.linalg.eigh(Lw+J)[0]+eps)+np.diagonal(K@Lw))\n",
      "/home/bcollet/Documents/spectralGraphTopology/ObjectiveFunction.py:18: RuntimeWarning: invalid value encountered in log\n",
      "  return np.sum(-np.log(np.linalg.eigh(Lw+J)[0]+eps)+np.diagonal(K@Lw))\n",
      "/home/bcollet/Documents/spectralGraphTopology/ObjectiveFunction.py:18: RuntimeWarning: invalid value encountered in log\n",
      "  return np.sum(-np.log(np.linalg.eigh(Lw+J)[0]+eps)+np.diagonal(K@Lw))\n",
      "/home/bcollet/Documents/spectralGraphTopology/ObjectiveFunction.py:18: RuntimeWarning: invalid value encountered in log\n",
      "  return np.sum(-np.log(np.linalg.eigh(Lw+J)[0]+eps)+np.diagonal(K@Lw))\n",
      "/home/bcollet/Documents/spectralGraphTopology/ObjectiveFunction.py:18: RuntimeWarning: divide by zero encountered in log\n",
      "  return np.sum(-np.log(np.linalg.eigh(Lw+J)[0]+eps)+np.diagonal(K@Lw))\n",
      "/home/bcollet/Documents/spectralGraphTopology/ObjectiveFunction.py:18: RuntimeWarning: invalid value encountered in log\n",
      "  return np.sum(-np.log(np.linalg.eigh(Lw+J)[0]+eps)+np.diagonal(K@Lw))\n",
      "/home/bcollet/Documents/spectralGraphTopology/ObjectiveFunction.py:18: RuntimeWarning: invalid value encountered in log\n",
      "  return np.sum(-np.log(np.linalg.eigh(Lw+J)[0]+eps)+np.diagonal(K@Lw))\n",
      "/home/bcollet/Documents/spectralGraphTopology/ObjectiveFunction.py:18: RuntimeWarning: invalid value encountered in log\n",
      "  return np.sum(-np.log(np.linalg.eigh(Lw+J)[0]+eps)+np.diagonal(K@Lw))\n",
      "/home/bcollet/Documents/spectralGraphTopology/ObjectiveFunction.py:18: RuntimeWarning: invalid value encountered in log\n",
      "  return np.sum(-np.log(np.linalg.eigh(Lw+J)[0]+eps)+np.diagonal(K@Lw))\n",
      "/home/bcollet/Documents/spectralGraphTopology/ObjectiveFunction.py:18: RuntimeWarning: invalid value encountered in log\n",
      "  return np.sum(-np.log(np.linalg.eigh(Lw+J)[0]+eps)+np.diagonal(K@Lw))\n",
      "/home/bcollet/Documents/spectralGraphTopology/ObjectiveFunction.py:18: RuntimeWarning: invalid value encountered in log\n",
      "  return np.sum(-np.log(np.linalg.eigh(Lw+J)[0]+eps)+np.diagonal(K@Lw))\n",
      "/home/bcollet/Documents/spectralGraphTopology/ObjectiveFunction.py:18: RuntimeWarning: invalid value encountered in log\n",
      "  return np.sum(-np.log(np.linalg.eigh(Lw+J)[0]+eps)+np.diagonal(K@Lw))\n",
      "/home/bcollet/Documents/spectralGraphTopology/ObjectiveFunction.py:18: RuntimeWarning: invalid value encountered in log\n",
      "  return np.sum(-np.log(np.linalg.eigh(Lw+J)[0]+eps)+np.diagonal(K@Lw))\n",
      "/home/bcollet/Documents/spectralGraphTopology/ObjectiveFunction.py:18: RuntimeWarning: divide by zero encountered in log\n",
      "  return np.sum(-np.log(np.linalg.eigh(Lw+J)[0]+eps)+np.diagonal(K@Lw))\n",
      "/home/bcollet/Documents/spectralGraphTopology/ObjectiveFunction.py:18: RuntimeWarning: invalid value encountered in log\n",
      "  return np.sum(-np.log(np.linalg.eigh(Lw+J)[0]+eps)+np.diagonal(K@Lw))\n",
      "/home/bcollet/Documents/spectralGraphTopology/ObjectiveFunction.py:18: RuntimeWarning: invalid value encountered in log\n",
      "  return np.sum(-np.log(np.linalg.eigh(Lw+J)[0]+eps)+np.diagonal(K@Lw))\n",
      "/home/bcollet/Documents/spectralGraphTopology/ObjectiveFunction.py:18: RuntimeWarning: invalid value encountered in log\n",
      "  return np.sum(-np.log(np.linalg.eigh(Lw+J)[0]+eps)+np.diagonal(K@Lw))\n",
      "/home/bcollet/Documents/spectralGraphTopology/ObjectiveFunction.py:18: RuntimeWarning: invalid value encountered in log\n",
      "  return np.sum(-np.log(np.linalg.eigh(Lw+J)[0]+eps)+np.diagonal(K@Lw))\n",
      "/home/bcollet/Documents/spectralGraphTopology/ObjectiveFunction.py:18: RuntimeWarning: invalid value encountered in log\n",
      "  return np.sum(-np.log(np.linalg.eigh(Lw+J)[0]+eps)+np.diagonal(K@Lw))\n",
      "/home/bcollet/Documents/spectralGraphTopology/ObjectiveFunction.py:18: RuntimeWarning: divide by zero encountered in log\n",
      "  return np.sum(-np.log(np.linalg.eigh(Lw+J)[0]+eps)+np.diagonal(K@Lw))\n",
      "/home/bcollet/Documents/spectralGraphTopology/ObjectiveFunction.py:18: RuntimeWarning: invalid value encountered in log\n",
      "  return np.sum(-np.log(np.linalg.eigh(Lw+J)[0]+eps)+np.diagonal(K@Lw))\n",
      "/home/bcollet/Documents/spectralGraphTopology/ObjectiveFunction.py:18: RuntimeWarning: invalid value encountered in log\n",
      "  return np.sum(-np.log(np.linalg.eigh(Lw+J)[0]+eps)+np.diagonal(K@Lw))\n",
      "/home/bcollet/Documents/spectralGraphTopology/ObjectiveFunction.py:18: RuntimeWarning: invalid value encountered in log\n",
      "  return np.sum(-np.log(np.linalg.eigh(Lw+J)[0]+eps)+np.diagonal(K@Lw))\n",
      "/home/bcollet/Documents/spectralGraphTopology/ObjectiveFunction.py:18: RuntimeWarning: invalid value encountered in log\n",
      "  return np.sum(-np.log(np.linalg.eigh(Lw+J)[0]+eps)+np.diagonal(K@Lw))\n",
      "/home/bcollet/Documents/spectralGraphTopology/ObjectiveFunction.py:18: RuntimeWarning: invalid value encountered in log\n",
      "  return np.sum(-np.log(np.linalg.eigh(Lw+J)[0]+eps)+np.diagonal(K@Lw))\n"
     ]
    },
    {
     "name": "stderr",
     "output_type": "stream",
     "text": [
      "  1%|██                                                                                                                                                               | 127/10000 [00:00<00:39, 250.28it/s]/home/bcollet/Documents/spectralGraphTopology/ObjectiveFunction.py:18: RuntimeWarning: divide by zero encountered in log\n",
      "  return np.sum(-np.log(np.linalg.eigh(Lw+J)[0]+eps)+np.diagonal(K@Lw))\n",
      "/home/bcollet/Documents/spectralGraphTopology/ObjectiveFunction.py:18: RuntimeWarning: invalid value encountered in log\n",
      "  return np.sum(-np.log(np.linalg.eigh(Lw+J)[0]+eps)+np.diagonal(K@Lw))\n",
      "/home/bcollet/Documents/spectralGraphTopology/ObjectiveFunction.py:18: RuntimeWarning: invalid value encountered in log\n",
      "  return np.sum(-np.log(np.linalg.eigh(Lw+J)[0]+eps)+np.diagonal(K@Lw))\n",
      "/home/bcollet/Documents/spectralGraphTopology/ObjectiveFunction.py:18: RuntimeWarning: invalid value encountered in log\n",
      "  return np.sum(-np.log(np.linalg.eigh(Lw+J)[0]+eps)+np.diagonal(K@Lw))\n",
      "/home/bcollet/Documents/spectralGraphTopology/ObjectiveFunction.py:18: RuntimeWarning: invalid value encountered in log\n",
      "  return np.sum(-np.log(np.linalg.eigh(Lw+J)[0]+eps)+np.diagonal(K@Lw))\n",
      "/home/bcollet/Documents/spectralGraphTopology/ObjectiveFunction.py:18: RuntimeWarning: invalid value encountered in log\n",
      "  return np.sum(-np.log(np.linalg.eigh(Lw+J)[0]+eps)+np.diagonal(K@Lw))\n",
      "/home/bcollet/Documents/spectralGraphTopology/ObjectiveFunction.py:18: RuntimeWarning: invalid value encountered in log\n",
      "  return np.sum(-np.log(np.linalg.eigh(Lw+J)[0]+eps)+np.diagonal(K@Lw))\n",
      "/home/bcollet/Documents/spectralGraphTopology/ObjectiveFunction.py:18: RuntimeWarning: invalid value encountered in log\n",
      "  return np.sum(-np.log(np.linalg.eigh(Lw+J)[0]+eps)+np.diagonal(K@Lw))\n",
      "/home/bcollet/Documents/spectralGraphTopology/ObjectiveFunction.py:18: RuntimeWarning: invalid value encountered in log\n",
      "  return np.sum(-np.log(np.linalg.eigh(Lw+J)[0]+eps)+np.diagonal(K@Lw))\n",
      "/home/bcollet/Documents/spectralGraphTopology/ObjectiveFunction.py:18: RuntimeWarning: invalid value encountered in log\n",
      "  return np.sum(-np.log(np.linalg.eigh(Lw+J)[0]+eps)+np.diagonal(K@Lw))\n",
      "/home/bcollet/Documents/spectralGraphTopology/ObjectiveFunction.py:18: RuntimeWarning: invalid value encountered in log\n",
      "  return np.sum(-np.log(np.linalg.eigh(Lw+J)[0]+eps)+np.diagonal(K@Lw))\n",
      "/home/bcollet/Documents/spectralGraphTopology/ObjectiveFunction.py:18: RuntimeWarning: invalid value encountered in log\n",
      "  return np.sum(-np.log(np.linalg.eigh(Lw+J)[0]+eps)+np.diagonal(K@Lw))\n",
      "/home/bcollet/Documents/spectralGraphTopology/ObjectiveFunction.py:18: RuntimeWarning: divide by zero encountered in log\n",
      "  return np.sum(-np.log(np.linalg.eigh(Lw+J)[0]+eps)+np.diagonal(K@Lw))\n",
      "/home/bcollet/Documents/spectralGraphTopology/ObjectiveFunction.py:18: RuntimeWarning: invalid value encountered in log\n",
      "  return np.sum(-np.log(np.linalg.eigh(Lw+J)[0]+eps)+np.diagonal(K@Lw))\n",
      "/home/bcollet/Documents/spectralGraphTopology/ObjectiveFunction.py:18: RuntimeWarning: invalid value encountered in log\n",
      "  return np.sum(-np.log(np.linalg.eigh(Lw+J)[0]+eps)+np.diagonal(K@Lw))\n",
      "/home/bcollet/Documents/spectralGraphTopology/ObjectiveFunction.py:18: RuntimeWarning: invalid value encountered in log\n",
      "  return np.sum(-np.log(np.linalg.eigh(Lw+J)[0]+eps)+np.diagonal(K@Lw))\n",
      "/home/bcollet/Documents/spectralGraphTopology/ObjectiveFunction.py:18: RuntimeWarning: invalid value encountered in log\n",
      "  return np.sum(-np.log(np.linalg.eigh(Lw+J)[0]+eps)+np.diagonal(K@Lw))\n",
      "/home/bcollet/Documents/spectralGraphTopology/ObjectiveFunction.py:18: RuntimeWarning: invalid value encountered in log\n",
      "  return np.sum(-np.log(np.linalg.eigh(Lw+J)[0]+eps)+np.diagonal(K@Lw))\n",
      "/home/bcollet/Documents/spectralGraphTopology/ObjectiveFunction.py:18: RuntimeWarning: invalid value encountered in log\n",
      "  return np.sum(-np.log(np.linalg.eigh(Lw+J)[0]+eps)+np.diagonal(K@Lw))\n",
      "/home/bcollet/Documents/spectralGraphTopology/ObjectiveFunction.py:18: RuntimeWarning: divide by zero encountered in log\n",
      "  return np.sum(-np.log(np.linalg.eigh(Lw+J)[0]+eps)+np.diagonal(K@Lw))\n",
      "/home/bcollet/Documents/spectralGraphTopology/ObjectiveFunction.py:18: RuntimeWarning: invalid value encountered in log\n",
      "  return np.sum(-np.log(np.linalg.eigh(Lw+J)[0]+eps)+np.diagonal(K@Lw))\n",
      "/home/bcollet/Documents/spectralGraphTopology/ObjectiveFunction.py:18: RuntimeWarning: invalid value encountered in log\n",
      "  return np.sum(-np.log(np.linalg.eigh(Lw+J)[0]+eps)+np.diagonal(K@Lw))\n",
      "/home/bcollet/Documents/spectralGraphTopology/ObjectiveFunction.py:18: RuntimeWarning: divide by zero encountered in log\n",
      "  return np.sum(-np.log(np.linalg.eigh(Lw+J)[0]+eps)+np.diagonal(K@Lw))\n",
      "/home/bcollet/Documents/spectralGraphTopology/ObjectiveFunction.py:18: RuntimeWarning: invalid value encountered in log\n",
      "  return np.sum(-np.log(np.linalg.eigh(Lw+J)[0]+eps)+np.diagonal(K@Lw))\n",
      "/home/bcollet/Documents/spectralGraphTopology/ObjectiveFunction.py:18: RuntimeWarning: invalid value encountered in log\n",
      "  return np.sum(-np.log(np.linalg.eigh(Lw+J)[0]+eps)+np.diagonal(K@Lw))\n",
      "/home/bcollet/Documents/spectralGraphTopology/ObjectiveFunction.py:18: RuntimeWarning: divide by zero encountered in log\n",
      "  return np.sum(-np.log(np.linalg.eigh(Lw+J)[0]+eps)+np.diagonal(K@Lw))\n",
      "/home/bcollet/Documents/spectralGraphTopology/ObjectiveFunction.py:18: RuntimeWarning: invalid value encountered in log\n",
      "  return np.sum(-np.log(np.linalg.eigh(Lw+J)[0]+eps)+np.diagonal(K@Lw))\n",
      "/home/bcollet/Documents/spectralGraphTopology/ObjectiveFunction.py:18: RuntimeWarning: invalid value encountered in log\n",
      "  return np.sum(-np.log(np.linalg.eigh(Lw+J)[0]+eps)+np.diagonal(K@Lw))\n",
      "/home/bcollet/Documents/spectralGraphTopology/ObjectiveFunction.py:18: RuntimeWarning: invalid value encountered in log\n",
      "  return np.sum(-np.log(np.linalg.eigh(Lw+J)[0]+eps)+np.diagonal(K@Lw))\n",
      "/home/bcollet/Documents/spectralGraphTopology/ObjectiveFunction.py:18: RuntimeWarning: invalid value encountered in log\n",
      "  return np.sum(-np.log(np.linalg.eigh(Lw+J)[0]+eps)+np.diagonal(K@Lw))\n",
      "/home/bcollet/Documents/spectralGraphTopology/ObjectiveFunction.py:18: RuntimeWarning: invalid value encountered in log\n",
      "  return np.sum(-np.log(np.linalg.eigh(Lw+J)[0]+eps)+np.diagonal(K@Lw))\n",
      "/home/bcollet/Documents/spectralGraphTopology/ObjectiveFunction.py:18: RuntimeWarning: divide by zero encountered in log\n",
      "  return np.sum(-np.log(np.linalg.eigh(Lw+J)[0]+eps)+np.diagonal(K@Lw))\n",
      "/home/bcollet/Documents/spectralGraphTopology/ObjectiveFunction.py:18: RuntimeWarning: invalid value encountered in log\n",
      "  return np.sum(-np.log(np.linalg.eigh(Lw+J)[0]+eps)+np.diagonal(K@Lw))\n",
      "/home/bcollet/Documents/spectralGraphTopology/ObjectiveFunction.py:18: RuntimeWarning: invalid value encountered in log\n",
      "  return np.sum(-np.log(np.linalg.eigh(Lw+J)[0]+eps)+np.diagonal(K@Lw))\n",
      "/home/bcollet/Documents/spectralGraphTopology/ObjectiveFunction.py:18: RuntimeWarning: invalid value encountered in log\n",
      "  return np.sum(-np.log(np.linalg.eigh(Lw+J)[0]+eps)+np.diagonal(K@Lw))\n",
      "  2%|██▍                                                                                                                                                              | 155/10000 [00:00<00:51, 192.38it/s]\n"
     ]
    },
    {
     "data": {
      "image/png": "[encoded data removed]",
      "text/plain": [
       "<Figure size 288x288 with 1 Axes>"
      ]
     },
     "metadata": {
      "needs_background": "light"
     },
     "output_type": "display_data"
    },
    {
     "name": "stdout",
     "output_type": "stream",
     "text": [
      "[[0.         0.         0.         ... 1.06340524 1.09761551 1.11031034]\n",
      " [0.         0.         0.         ... 1.13221688 1.15295102 1.04417919]\n",
      " [0.         0.         0.         ... 1.11655572 1.16056801 1.05876537]\n",
      " ...\n",
      " [1.06340524 1.13221688 1.11655572 ... 0.         0.         0.        ]\n",
      " [1.09761551 1.15295102 1.16056801 ... 0.         0.         0.        ]\n",
      " [1.11031034 1.04417919 1.05876537 ... 0.         0.         0.        ]]\n"
     ]
    }
   ],
   "source": [
    "di=learn_bipartite_graph(np.linalg.pinv(L),maxiter=10000)\n",
    "plt.matshow(di[\"Adjacency\"])\n",
    "plt.title(\"recovered adjacency matrix\")\n",
    "plt.show()\n",
    "print(di[\"Adjacency\"])"
   ]
  },
  {
   "cell_type": "markdown",
   "id": "51971216",
   "metadata": {},
   "source": [
    "## Popular synthetic datasets"
   ]
  },
  {
   "cell_type": "code",
   "execution_count": 121,
   "id": "092d6099",
   "metadata": {},
   "outputs": [],
   "source": [
    "def dist_mat_exp_kernel(x, sigma=1, eps=1, k=None):\n",
    "    n, d = x.shape\n",
    "    dist_mat = np.zeros((n, n))\n",
    "    for i in range(n):\n",
    "        dist_mat[i] = np.exp(-np.linalg.norm(x[i] - x, axis=1)/eps)\n",
    "    if not k is None:\n",
    "        for i in range(n):\n",
    "            k_th_nearest_dist = np.sort(dist_mat[i])[-k]\n",
    "            dist_mat[i][dist_mat[i] < k_th_nearest_dist] = 0\n",
    "        dist_mat = 0.5*(dist_mat + dist_mat.T)\n",
    "    else:\n",
    "        dist_mat[dist_mat<eps] = 0\n",
    "    return dist_mat"
   ]
  },
  {
   "cell_type": "markdown",
   "id": "1f975941",
   "metadata": {},
   "source": [
    "We load the \"two moons\" dataset"
   ]
  },
  {
   "cell_type": "code",
   "execution_count": 122,
   "id": "1facb309",
   "metadata": {},
   "outputs": [
    {
     "data": {
      "image/png": "[encoded data removed]",
      "text/plain": [
       "<Figure size 432x288 with 1 Axes>"
      ]
     },
     "metadata": {
      "needs_background": "light"
     },
     "output_type": "display_data"
    }
   ],
   "source": [
    "n_samples = 100\n",
    "moons_data, moons_labels = skd.make_moons(n_samples=n_samples)\n",
    "plt.scatter(moons_data.T[0], moons_data.T[1], c=moons_labels)\n",
    "plt.show()"
   ]
  },
  {
   "cell_type": "code",
   "execution_count": 123,
   "id": "cb6f845d",
   "metadata": {},
   "outputs": [],
   "source": [
    "C_moons = dist_mat_exp_kernel(moons_data, sigma=1, eps=0.1)"
   ]
  },
  {
   "cell_type": "code",
   "execution_count": 124,
   "id": "db730f26",
   "metadata": {},
   "outputs": [
    {
     "name": "stderr",
     "output_type": "stream",
     "text": [
      "100%|██████████████████████████████████████████████████████████████████████████████| 2000/2000 [00:20<00:00, 97.82it/s]\n"
     ]
    }
   ],
   "source": [
    "res_moons = learn_k_component_graph(C_moons, k=2, maxiter=2000) #2000 or more in reality"
   ]
  },
  {
   "cell_type": "code",
   "execution_count": 125,
   "id": "8ba0027b",
   "metadata": {},
   "outputs": [
    {
     "name": "stdout",
     "output_type": "stream",
     "text": [
      "AUC score of the spectral classifier 1.0\n"
     ]
    }
   ],
   "source": [
    "score_moons = np.linalg.eigh(res_moons[\"Laplacian\"])[1][:, 1]\n",
    "print(\"AUC score of the spectral classifier\", skm.roc_auc_score(moons_labels, score_moons))"
   ]
  },
  {
   "cell_type": "code",
   "execution_count": 126,
   "id": "b8710790",
   "metadata": {},
   "outputs": [
    {
     "data": {
      "image/png": "[encoded data removed]",
      "text/plain": [
       "<Figure size 1440x1440 with 1 Axes>"
      ]
     },
     "metadata": {
      "needs_background": "light"
     },
     "output_type": "display_data"
    }
   ],
   "source": [
    "id_moons = np.argsort(moons_labels)\n",
    "fig = plt.figure(figsize=(20, 20))\n",
    "plt.matshow(res_moons[\"Adjacency\"][id_moons][:, id_moons], fignum=0)\n",
    "plt.show()"
   ]
  },
  {
   "cell_type": "markdown",
   "id": "06b10f4d",
   "metadata": {},
   "source": [
    "We load the \"two circles\" dataset"
   ]
  },
  {
   "cell_type": "code",
   "execution_count": 127,
   "id": "2654f411",
   "metadata": {},
   "outputs": [],
   "source": [
    "def at_least_k_component(L,k):\n",
    "    la,M=np.linalg.eigh(L)\n",
    "    la[:k] = 0\n",
    "    return M@np.diag(la)@M.T"
   ]
  },
  {
   "cell_type": "code",
   "execution_count": 128,
   "id": "247c87c1",
   "metadata": {},
   "outputs": [
    {
     "data": {
      "image/png": "[encoded data removed]",
      "text/plain": [
       "<Figure size 432x288 with 1 Axes>"
      ]
     },
     "metadata": {
      "needs_background": "light"
     },
     "output_type": "display_data"
    }
   ],
   "source": [
    "n_samples = 100\n",
    "circles_data, circles_labels = skd.make_circles(n_samples=n_samples,noise=0.05,factor=0.5)\n",
    "plt.scatter(circles_data.T[0], circles_data.T[1], c=circles_labels)\n",
    "plt.show()"
   ]
  },
  {
   "cell_type": "code",
   "execution_count": 129,
   "id": "c5bcfce4",
   "metadata": {},
   "outputs": [
    {
     "name": "stderr",
     "output_type": "stream",
     "text": [
      " 19%|██████████████▌                                                              | 1886/10000 [00:20<01:28, 91.70it/s]\n"
     ]
    }
   ],
   "source": [
    "C_circles = dist_mat_exp_kernel(circles_data, k=7,sigma=0.1)\n",
    "res_circles = learn_k_component_graph(C_circles, k=2, maxiter=10000) #2000 or more in reality"
   ]
  },
  {
   "cell_type": "code",
   "execution_count": 130,
   "id": "f4cb6c6c",
   "metadata": {},
   "outputs": [
    {
     "name": "stdout",
     "output_type": "stream",
     "text": [
      "True\n"
     ]
    }
   ],
   "source": [
    "print(res_circles[\"convergence\"])"
   ]
  },
  {
   "cell_type": "code",
   "execution_count": 131,
   "id": "3886e6e5",
   "metadata": {},
   "outputs": [],
   "source": [
    "#res_circles[\"Laplacian\"]=at_least_k_component(res_circles[\"Laplacian\"],k=2)"
   ]
  },
  {
   "cell_type": "code",
   "execution_count": 132,
   "id": "f4fe36e5",
   "metadata": {},
   "outputs": [
    {
     "name": "stdout",
     "output_type": "stream",
     "text": [
      "1\n"
     ]
    }
   ],
   "source": [
    "print(nb_connected_component(res_circles[\"Laplacian\"]))"
   ]
  },
  {
   "cell_type": "code",
   "execution_count": 133,
   "id": "605c2827",
   "metadata": {},
   "outputs": [
    {
     "name": "stdout",
     "output_type": "stream",
     "text": [
      "[[0.3 0. ]\n",
      " [0.  0.3]]\n"
     ]
    },
    {
     "data": {
      "text/plain": [
       "8.502951702882746e-07"
      ]
     },
     "execution_count": 133,
     "metadata": {},
     "output_type": "execute_result"
    }
   ],
   "source": [
    "print(np.array([[0.3,0.02],[0.02,0.3]]).round(1))\n",
    "np.linalg.eigh(res_circles[\"Laplacian\"])[0][1]"
   ]
  },
  {
   "cell_type": "code",
   "execution_count": 134,
   "id": "1b2ee70f",
   "metadata": {},
   "outputs": [
    {
     "name": "stdout",
     "output_type": "stream",
     "text": [
      "AUC score of the spectral classifier 0.4884\n"
     ]
    }
   ],
   "source": [
    "score_circles = np.linalg.eigh(res_circles[\"Laplacian\"])[1][:, 1]\n",
    "print(\"AUC score of the spectral classifier\", skm.roc_auc_score(circles_labels, score_circles))"
   ]
  },
  {
   "cell_type": "code",
   "execution_count": 135,
   "id": "2dc8bdee",
   "metadata": {},
   "outputs": [
    {
     "data": {
      "text/plain": [
       "<matplotlib.collections.PathCollection at 0x232ed76e670>"
      ]
     },
     "execution_count": 135,
     "metadata": {},
     "output_type": "execute_result"
    },
    {
     "data": {
      "image/png": "[encoded data removed]",
      "text/plain": [
       "<Figure size 432x288 with 1 Axes>"
      ]
     },
     "metadata": {
      "needs_background": "light"
     },
     "output_type": "display_data"
    }
   ],
   "source": [
    "plt.scatter(score_circles, circles_labels)"
   ]
  },
  {
   "cell_type": "code",
   "execution_count": 136,
   "id": "976f33f9",
   "metadata": {},
   "outputs": [
    {
     "data": {
      "image/png": "[encoded data removed]",
      "text/plain": [
       "<Figure size 1440x1440 with 1 Axes>"
      ]
     },
     "metadata": {
      "needs_background": "light"
     },
     "output_type": "display_data"
    }
   ],
   "source": [
    "id_circles = np.argsort(circles_labels)\n",
    "fig = plt.figure(figsize=(20, 20))\n",
    "plt.matshow(res_circles[\"Adjacency\"][id_circles][:, id_circles], fignum=0)\n",
    "plt.show()"
   ]
  },
  {
   "cell_type": "code",
   "execution_count": 137,
   "id": "e4dea2b0",
   "metadata": {},
   "outputs": [
    {
     "name": "stdout",
     "output_type": "stream",
     "text": [
      "11.482179668074943 11.482179668074943\n",
      "77.27946943541146\n"
     ]
    }
   ],
   "source": [
    "A=res_circles[\"Adjacency\"][id_circles][:, id_circles]\n",
    "print(np.max(A[60:,:40]),np.max(A[:40,60:]))\n",
    "print(np.max(A))"
   ]
  },
  {
   "cell_type": "code",
   "execution_count": 138,
   "id": "1c12b329",
   "metadata": {},
   "outputs": [],
   "source": [
    "def helix_3D(n_samples, h=20, angle=np.pi/2):\n",
    "    labels=np.array([0]*(n_samples//2)+[1]*((n_samples+1)//2))\n",
    "    np.random.shuffle(labels)\n",
    "    ha = np.random.rand(n_samples)*h\n",
    "    return np.array([[np.cos(a+b),np.sin(a+b),a] for a,b in zip(ha,labels)]),labels"
   ]
  },
  {
   "cell_type": "code",
   "execution_count": 139,
   "id": "7cfc9eed",
   "metadata": {},
   "outputs": [],
   "source": [
    "def three_circles(n_samples,factor=0.5):\n",
    "    labels=np.zeros([n_samples])\n",
    "    labels[-n_samples//3:]=2\n",
    "    labels[n_samples//3:-n_samples//3]=1\n",
    "    np.random.shuffle(labels)\n",
    "    angles= np.random.rand(n_samples)*2*np.pi\n",
    "    print(angles,labels)\n",
    "    return np.array([[np.cos(a)*factor**b,np.sin(a)*factor**b] for a,b in zip(angles,labels)]),labels"
   ]
  },
  {
   "cell_type": "code",
   "execution_count": 140,
   "id": "680f59ca",
   "metadata": {},
   "outputs": [
    {
     "name": "stdout",
     "output_type": "stream",
     "text": [
      "[5.20253152 0.87298452 5.20277821 1.39174284 2.67058582 3.23010984] [0. 1. 2. 1. 0. 2.]\n",
      "(array([[ 0.47075165, -0.88226577],\n",
      "       [ 0.32127126,  0.38312501],\n",
      "       [ 0.11774232, -0.2205374 ],\n",
      "       [ 0.08904913,  0.49200635],\n",
      "       [-0.89111185,  0.45378372],\n",
      "       [-0.24902123, -0.02210041]]), array([0., 1., 2., 1., 0., 2.]))\n"
     ]
    }
   ],
   "source": [
    "print(three_circles(6))"
   ]
  },
  {
   "cell_type": "markdown",
   "id": "0257b2d9",
   "metadata": {},
   "source": [
    "## Gene dataset\n",
    "\n",
    "This dataset come from https://archive.ics.uci.edu/ml/datasets/gene+expression+cancer+RNA-Seq#\n",
    "\n",
    "It represents 801 patients with cancers of 5 different types\n",
    "\n",
    "The features of the data are RNA-Seq gene expression levels\n",
    "\n",
    "The label is the tumor type\n",
    "\n",
    "To make the code work, download the dataset,extract it and save data and labels in the folder ./data/genes/"
   ]
  },
  {
   "cell_type": "code",
   "execution_count": 5,
   "id": "16c20f9d",
   "metadata": {},
   "outputs": [
    {
     "data": {
      "text/html": [
       "<div>\n",
       "<style scoped>\n",
       "    .dataframe tbody tr th:only-of-type {\n",
       "        vertical-align: middle;\n",
       "    }\n",
       "\n",
       "    .dataframe tbody tr th {\n",
       "        vertical-align: top;\n",
       "    }\n",
       "\n",
       "    .dataframe thead th {\n",
       "        text-align: right;\n",
       "    }\n",
       "</style>\n",
       "<table border=\"1\" class=\"dataframe\">\n",
       "  <thead>\n",
       "    <tr style=\"text-align: right;\">\n",
       "      <th></th>\n",
       "      <th>gene_0</th>\n",
       "      <th>gene_1</th>\n",
       "      <th>gene_2</th>\n",
       "      <th>gene_3</th>\n",
       "      <th>gene_4</th>\n",
       "      <th>gene_5</th>\n",
       "      <th>gene_6</th>\n",
       "      <th>gene_7</th>\n",
       "      <th>gene_8</th>\n",
       "      <th>gene_9</th>\n",
       "      <th>...</th>\n",
       "      <th>gene_20521</th>\n",
       "      <th>gene_20522</th>\n",
       "      <th>gene_20523</th>\n",
       "      <th>gene_20524</th>\n",
       "      <th>gene_20525</th>\n",
       "      <th>gene_20526</th>\n",
       "      <th>gene_20527</th>\n",
       "      <th>gene_20528</th>\n",
       "      <th>gene_20529</th>\n",
       "      <th>gene_20530</th>\n",
       "    </tr>\n",
       "  </thead>\n",
       "  <tbody>\n",
       "    <tr>\n",
       "      <th>0</th>\n",
       "      <td>0.0</td>\n",
       "      <td>2.017209</td>\n",
       "      <td>3.265527</td>\n",
       "      <td>5.478487</td>\n",
       "      <td>10.431999</td>\n",
       "      <td>0.0</td>\n",
       "      <td>7.175175</td>\n",
       "      <td>0.591871</td>\n",
       "      <td>0.0</td>\n",
       "      <td>0.0</td>\n",
       "      <td>...</td>\n",
       "      <td>4.926711</td>\n",
       "      <td>8.210257</td>\n",
       "      <td>9.723516</td>\n",
       "      <td>7.220030</td>\n",
       "      <td>9.119813</td>\n",
       "      <td>12.003135</td>\n",
       "      <td>9.650743</td>\n",
       "      <td>8.921326</td>\n",
       "      <td>5.286759</td>\n",
       "      <td>0.000000</td>\n",
       "    </tr>\n",
       "    <tr>\n",
       "      <th>1</th>\n",
       "      <td>0.0</td>\n",
       "      <td>0.592732</td>\n",
       "      <td>1.588421</td>\n",
       "      <td>7.586157</td>\n",
       "      <td>9.623011</td>\n",
       "      <td>0.0</td>\n",
       "      <td>6.816049</td>\n",
       "      <td>0.000000</td>\n",
       "      <td>0.0</td>\n",
       "      <td>0.0</td>\n",
       "      <td>...</td>\n",
       "      <td>4.593372</td>\n",
       "      <td>7.323865</td>\n",
       "      <td>9.740931</td>\n",
       "      <td>6.256586</td>\n",
       "      <td>8.381612</td>\n",
       "      <td>12.674552</td>\n",
       "      <td>10.517059</td>\n",
       "      <td>9.397854</td>\n",
       "      <td>2.094168</td>\n",
       "      <td>0.000000</td>\n",
       "    </tr>\n",
       "    <tr>\n",
       "      <th>2</th>\n",
       "      <td>0.0</td>\n",
       "      <td>3.511759</td>\n",
       "      <td>4.327199</td>\n",
       "      <td>6.881787</td>\n",
       "      <td>9.870730</td>\n",
       "      <td>0.0</td>\n",
       "      <td>6.972130</td>\n",
       "      <td>0.452595</td>\n",
       "      <td>0.0</td>\n",
       "      <td>0.0</td>\n",
       "      <td>...</td>\n",
       "      <td>5.125213</td>\n",
       "      <td>8.127123</td>\n",
       "      <td>10.908640</td>\n",
       "      <td>5.401607</td>\n",
       "      <td>9.911597</td>\n",
       "      <td>9.045255</td>\n",
       "      <td>9.788359</td>\n",
       "      <td>10.090470</td>\n",
       "      <td>1.683023</td>\n",
       "      <td>0.000000</td>\n",
       "    </tr>\n",
       "    <tr>\n",
       "      <th>3</th>\n",
       "      <td>0.0</td>\n",
       "      <td>3.663618</td>\n",
       "      <td>4.507649</td>\n",
       "      <td>6.659068</td>\n",
       "      <td>10.196184</td>\n",
       "      <td>0.0</td>\n",
       "      <td>7.843375</td>\n",
       "      <td>0.434882</td>\n",
       "      <td>0.0</td>\n",
       "      <td>0.0</td>\n",
       "      <td>...</td>\n",
       "      <td>6.076566</td>\n",
       "      <td>8.792959</td>\n",
       "      <td>10.141520</td>\n",
       "      <td>8.942805</td>\n",
       "      <td>9.601208</td>\n",
       "      <td>11.392682</td>\n",
       "      <td>9.694814</td>\n",
       "      <td>9.684365</td>\n",
       "      <td>3.292001</td>\n",
       "      <td>0.000000</td>\n",
       "    </tr>\n",
       "    <tr>\n",
       "      <th>4</th>\n",
       "      <td>0.0</td>\n",
       "      <td>2.655741</td>\n",
       "      <td>2.821547</td>\n",
       "      <td>6.539454</td>\n",
       "      <td>9.738265</td>\n",
       "      <td>0.0</td>\n",
       "      <td>6.566967</td>\n",
       "      <td>0.360982</td>\n",
       "      <td>0.0</td>\n",
       "      <td>0.0</td>\n",
       "      <td>...</td>\n",
       "      <td>5.996032</td>\n",
       "      <td>8.891425</td>\n",
       "      <td>10.373790</td>\n",
       "      <td>7.181162</td>\n",
       "      <td>9.846910</td>\n",
       "      <td>11.922439</td>\n",
       "      <td>9.217749</td>\n",
       "      <td>9.461191</td>\n",
       "      <td>5.110372</td>\n",
       "      <td>0.000000</td>\n",
       "    </tr>\n",
       "    <tr>\n",
       "      <th>...</th>\n",
       "      <td>...</td>\n",
       "      <td>...</td>\n",
       "      <td>...</td>\n",
       "      <td>...</td>\n",
       "      <td>...</td>\n",
       "      <td>...</td>\n",
       "      <td>...</td>\n",
       "      <td>...</td>\n",
       "      <td>...</td>\n",
       "      <td>...</td>\n",
       "      <td>...</td>\n",
       "      <td>...</td>\n",
       "      <td>...</td>\n",
       "      <td>...</td>\n",
       "      <td>...</td>\n",
       "      <td>...</td>\n",
       "      <td>...</td>\n",
       "      <td>...</td>\n",
       "      <td>...</td>\n",
       "      <td>...</td>\n",
       "      <td>...</td>\n",
       "    </tr>\n",
       "    <tr>\n",
       "      <th>796</th>\n",
       "      <td>0.0</td>\n",
       "      <td>1.865642</td>\n",
       "      <td>2.718197</td>\n",
       "      <td>7.350099</td>\n",
       "      <td>10.006003</td>\n",
       "      <td>0.0</td>\n",
       "      <td>6.764792</td>\n",
       "      <td>0.496922</td>\n",
       "      <td>0.0</td>\n",
       "      <td>0.0</td>\n",
       "      <td>...</td>\n",
       "      <td>6.088133</td>\n",
       "      <td>9.118313</td>\n",
       "      <td>10.004852</td>\n",
       "      <td>4.484415</td>\n",
       "      <td>9.614701</td>\n",
       "      <td>12.031267</td>\n",
       "      <td>9.813063</td>\n",
       "      <td>10.092770</td>\n",
       "      <td>8.819269</td>\n",
       "      <td>0.000000</td>\n",
       "    </tr>\n",
       "    <tr>\n",
       "      <th>797</th>\n",
       "      <td>0.0</td>\n",
       "      <td>3.942955</td>\n",
       "      <td>4.453807</td>\n",
       "      <td>6.346597</td>\n",
       "      <td>10.056868</td>\n",
       "      <td>0.0</td>\n",
       "      <td>7.320331</td>\n",
       "      <td>0.000000</td>\n",
       "      <td>0.0</td>\n",
       "      <td>0.0</td>\n",
       "      <td>...</td>\n",
       "      <td>6.371876</td>\n",
       "      <td>9.623335</td>\n",
       "      <td>9.823921</td>\n",
       "      <td>6.555327</td>\n",
       "      <td>9.064002</td>\n",
       "      <td>11.633422</td>\n",
       "      <td>10.317266</td>\n",
       "      <td>8.745983</td>\n",
       "      <td>9.659081</td>\n",
       "      <td>0.000000</td>\n",
       "    </tr>\n",
       "    <tr>\n",
       "      <th>798</th>\n",
       "      <td>0.0</td>\n",
       "      <td>3.249582</td>\n",
       "      <td>3.707492</td>\n",
       "      <td>8.185901</td>\n",
       "      <td>9.504082</td>\n",
       "      <td>0.0</td>\n",
       "      <td>7.536589</td>\n",
       "      <td>1.811101</td>\n",
       "      <td>0.0</td>\n",
       "      <td>0.0</td>\n",
       "      <td>...</td>\n",
       "      <td>5.719386</td>\n",
       "      <td>8.610704</td>\n",
       "      <td>10.485517</td>\n",
       "      <td>3.589763</td>\n",
       "      <td>9.350636</td>\n",
       "      <td>12.180944</td>\n",
       "      <td>10.681194</td>\n",
       "      <td>9.466711</td>\n",
       "      <td>4.677458</td>\n",
       "      <td>0.586693</td>\n",
       "    </tr>\n",
       "    <tr>\n",
       "      <th>799</th>\n",
       "      <td>0.0</td>\n",
       "      <td>2.590339</td>\n",
       "      <td>2.787976</td>\n",
       "      <td>7.318624</td>\n",
       "      <td>9.987136</td>\n",
       "      <td>0.0</td>\n",
       "      <td>9.213464</td>\n",
       "      <td>0.000000</td>\n",
       "      <td>0.0</td>\n",
       "      <td>0.0</td>\n",
       "      <td>...</td>\n",
       "      <td>5.785237</td>\n",
       "      <td>8.605387</td>\n",
       "      <td>11.004677</td>\n",
       "      <td>4.745888</td>\n",
       "      <td>9.626383</td>\n",
       "      <td>11.198279</td>\n",
       "      <td>10.335513</td>\n",
       "      <td>10.400581</td>\n",
       "      <td>5.718751</td>\n",
       "      <td>0.000000</td>\n",
       "    </tr>\n",
       "    <tr>\n",
       "      <th>800</th>\n",
       "      <td>0.0</td>\n",
       "      <td>2.325242</td>\n",
       "      <td>3.805932</td>\n",
       "      <td>6.530246</td>\n",
       "      <td>9.560367</td>\n",
       "      <td>0.0</td>\n",
       "      <td>7.957027</td>\n",
       "      <td>0.000000</td>\n",
       "      <td>0.0</td>\n",
       "      <td>0.0</td>\n",
       "      <td>...</td>\n",
       "      <td>6.403075</td>\n",
       "      <td>8.594354</td>\n",
       "      <td>10.243079</td>\n",
       "      <td>9.139459</td>\n",
       "      <td>10.102934</td>\n",
       "      <td>11.641081</td>\n",
       "      <td>10.607358</td>\n",
       "      <td>9.844794</td>\n",
       "      <td>4.550716</td>\n",
       "      <td>0.000000</td>\n",
       "    </tr>\n",
       "  </tbody>\n",
       "</table>\n",
       "<p>801 rows × 20531 columns</p>\n",
       "</div>"
      ],
      "text/plain": [
       "     gene_0    gene_1    gene_2    gene_3     gene_4  gene_5    gene_6  \\\n",
       "0       0.0  2.017209  3.265527  5.478487  10.431999     0.0  7.175175   \n",
       "1       0.0  0.592732  1.588421  7.586157   9.623011     0.0  6.816049   \n",
       "2       0.0  3.511759  4.327199  6.881787   9.870730     0.0  6.972130   \n",
       "3       0.0  3.663618  4.507649  6.659068  10.196184     0.0  7.843375   \n",
       "4       0.0  2.655741  2.821547  6.539454   9.738265     0.0  6.566967   \n",
       "..      ...       ...       ...       ...        ...     ...       ...   \n",
       "796     0.0  1.865642  2.718197  7.350099  10.006003     0.0  6.764792   \n",
       "797     0.0  3.942955  4.453807  6.346597  10.056868     0.0  7.320331   \n",
       "798     0.0  3.249582  3.707492  8.185901   9.504082     0.0  7.536589   \n",
       "799     0.0  2.590339  2.787976  7.318624   9.987136     0.0  9.213464   \n",
       "800     0.0  2.325242  3.805932  6.530246   9.560367     0.0  7.957027   \n",
       "\n",
       "       gene_7  gene_8  gene_9  ...  gene_20521  gene_20522  gene_20523  \\\n",
       "0    0.591871     0.0     0.0  ...    4.926711    8.210257    9.723516   \n",
       "1    0.000000     0.0     0.0  ...    4.593372    7.323865    9.740931   \n",
       "2    0.452595     0.0     0.0  ...    5.125213    8.127123   10.908640   \n",
       "3    0.434882     0.0     0.0  ...    6.076566    8.792959   10.141520   \n",
       "4    0.360982     0.0     0.0  ...    5.996032    8.891425   10.373790   \n",
       "..        ...     ...     ...  ...         ...         ...         ...   \n",
       "796  0.496922     0.0     0.0  ...    6.088133    9.118313   10.004852   \n",
       "797  0.000000     0.0     0.0  ...    6.371876    9.623335    9.823921   \n",
       "798  1.811101     0.0     0.0  ...    5.719386    8.610704   10.485517   \n",
       "799  0.000000     0.0     0.0  ...    5.785237    8.605387   11.004677   \n",
       "800  0.000000     0.0     0.0  ...    6.403075    8.594354   10.243079   \n",
       "\n",
       "     gene_20524  gene_20525  gene_20526  gene_20527  gene_20528  gene_20529  \\\n",
       "0      7.220030    9.119813   12.003135    9.650743    8.921326    5.286759   \n",
       "1      6.256586    8.381612   12.674552   10.517059    9.397854    2.094168   \n",
       "2      5.401607    9.911597    9.045255    9.788359   10.090470    1.683023   \n",
       "3      8.942805    9.601208   11.392682    9.694814    9.684365    3.292001   \n",
       "4      7.181162    9.846910   11.922439    9.217749    9.461191    5.110372   \n",
       "..          ...         ...         ...         ...         ...         ...   \n",
       "796    4.484415    9.614701   12.031267    9.813063   10.092770    8.819269   \n",
       "797    6.555327    9.064002   11.633422   10.317266    8.745983    9.659081   \n",
       "798    3.589763    9.350636   12.180944   10.681194    9.466711    4.677458   \n",
       "799    4.745888    9.626383   11.198279   10.335513   10.400581    5.718751   \n",
       "800    9.139459   10.102934   11.641081   10.607358    9.844794    4.550716   \n",
       "\n",
       "     gene_20530  \n",
       "0      0.000000  \n",
       "1      0.000000  \n",
       "2      0.000000  \n",
       "3      0.000000  \n",
       "4      0.000000  \n",
       "..          ...  \n",
       "796    0.000000  \n",
       "797    0.000000  \n",
       "798    0.586693  \n",
       "799    0.000000  \n",
       "800    0.000000  \n",
       "\n",
       "[801 rows x 20531 columns]"
      ]
     },
     "execution_count": 5,
     "metadata": {},
     "output_type": "execute_result"
    }
   ],
   "source": [
    "gene_df = pd.read_csv(\"data/genes/data.csv\")\n",
    "gene_df = gene_df[gene_df.columns[1:]]\n",
    "gene_df"
   ]
  },
  {
   "cell_type": "code",
   "execution_count": 6,
   "id": "2201887c",
   "metadata": {},
   "outputs": [
    {
     "data": {
      "text/html": [
       "<div>\n",
       "<style scoped>\n",
       "    .dataframe tbody tr th:only-of-type {\n",
       "        vertical-align: middle;\n",
       "    }\n",
       "\n",
       "    .dataframe tbody tr th {\n",
       "        vertical-align: top;\n",
       "    }\n",
       "\n",
       "    .dataframe thead th {\n",
       "        text-align: right;\n",
       "    }\n",
       "</style>\n",
       "<table border=\"1\" class=\"dataframe\">\n",
       "  <thead>\n",
       "    <tr style=\"text-align: right;\">\n",
       "      <th></th>\n",
       "      <th>Class</th>\n",
       "    </tr>\n",
       "  </thead>\n",
       "  <tbody>\n",
       "    <tr>\n",
       "      <th>0</th>\n",
       "      <td>PRAD</td>\n",
       "    </tr>\n",
       "    <tr>\n",
       "      <th>1</th>\n",
       "      <td>LUAD</td>\n",
       "    </tr>\n",
       "    <tr>\n",
       "      <th>2</th>\n",
       "      <td>PRAD</td>\n",
       "    </tr>\n",
       "    <tr>\n",
       "      <th>3</th>\n",
       "      <td>PRAD</td>\n",
       "    </tr>\n",
       "    <tr>\n",
       "      <th>4</th>\n",
       "      <td>BRCA</td>\n",
       "    </tr>\n",
       "    <tr>\n",
       "      <th>...</th>\n",
       "      <td>...</td>\n",
       "    </tr>\n",
       "    <tr>\n",
       "      <th>796</th>\n",
       "      <td>BRCA</td>\n",
       "    </tr>\n",
       "    <tr>\n",
       "      <th>797</th>\n",
       "      <td>LUAD</td>\n",
       "    </tr>\n",
       "    <tr>\n",
       "      <th>798</th>\n",
       "      <td>COAD</td>\n",
       "    </tr>\n",
       "    <tr>\n",
       "      <th>799</th>\n",
       "      <td>PRAD</td>\n",
       "    </tr>\n",
       "    <tr>\n",
       "      <th>800</th>\n",
       "      <td>PRAD</td>\n",
       "    </tr>\n",
       "  </tbody>\n",
       "</table>\n",
       "<p>801 rows × 1 columns</p>\n",
       "</div>"
      ],
      "text/plain": [
       "    Class\n",
       "0    PRAD\n",
       "1    LUAD\n",
       "2    PRAD\n",
       "3    PRAD\n",
       "4    BRCA\n",
       "..    ...\n",
       "796  BRCA\n",
       "797  LUAD\n",
       "798  COAD\n",
       "799  PRAD\n",
       "800  PRAD\n",
       "\n",
       "[801 rows x 1 columns]"
      ]
     },
     "execution_count": 6,
     "metadata": {},
     "output_type": "execute_result"
    }
   ],
   "source": [
    "gene_labels = pd.read_csv(\"data/genes/labels.csv\")\n",
    "gene_labels = gene_labels[gene_labels.columns[1:]]\n",
    "gene_labels"
   ]
  },
  {
   "cell_type": "markdown",
   "id": "3603375c",
   "metadata": {},
   "source": [
    "The goal is to model the distribution with a $k$ component graph, in order to clusetr the data into $k$ classes. As there are $k=5$ classes in reality, we try the algorithm with this value."
   ]
  },
  {
   "cell_type": "code",
   "execution_count": 7,
   "id": "c8f7d3e5",
   "metadata": {},
   "outputs": [],
   "source": [
    "C = np.cov(gene_df.values)"
   ]
  },
  {
   "cell_type": "code",
   "execution_count": 8,
   "id": "311a10bb",
   "metadata": {},
   "outputs": [
    {
     "name": "stderr",
     "output_type": "stream",
     "text": [
      "100%|██████████████████████████████████████████████████████████████████████████████████████████████████████████████████████████████████████████████████████████████████| 2000/2000 [01:44<00:00, 19.13it/s]\n"
     ]
    }
   ],
   "source": [
    "res_genes = learn_k_component_graph(C, k=5, maxiter=2000) #2000 or more in reality"
   ]
  },
  {
   "cell_type": "markdown",
   "id": "3dda434c",
   "metadata": {},
   "source": [
    "Then, we reorganise the matrix according to their labels to see visually if the components that should be connected are effectively connected."
   ]
  },
  {
   "cell_type": "code",
   "execution_count": 9,
   "id": "11df2fbb",
   "metadata": {},
   "outputs": [],
   "source": [
    "id_genes = np.argsort(gene_labels.values.squeeze())"
   ]
  },
  {
   "cell_type": "code",
   "execution_count": 10,
   "id": "149a1164",
   "metadata": {},
   "outputs": [
    {
     "data": {
      "image/png": "[encoded data removed]",
      "text/plain": [
       "<Figure size 1440x1440 with 1 Axes>"
      ]
     },
     "metadata": {
      "needs_background": "light"
     },
     "output_type": "display_data"
    }
   ],
   "source": [
    "fig = plt.figure(figsize=(20, 20))\n",
    "plt.matshow(res_genes[\"Adjacency\"][id_genes][:, id_genes], fignum=0)\n",
    "plt.show()"
   ]
  },
  {
   "cell_type": "code",
   "execution_count": 11,
   "id": "c256eb15",
   "metadata": {},
   "outputs": [
    {
     "name": "stdout",
     "output_type": "stream",
     "text": [
      "[4.70513432e-18 4.01387939e-17 2.02153207e-16 5.35030498e-16\n",
      " 1.03713146e-15 5.14205657e-03 8.32408429e-03 1.11138719e-02\n",
      " 2.19243252e-02 6.84623548e-02 1.77883621e-01 1.90857229e-01\n",
      " 2.07263236e-01 2.28828434e-01 2.32370308e-01 2.45290063e-01\n",
      " 2.60273495e-01 2.67629548e-01 2.87556609e-01 2.97822793e-01\n",
      " 3.09004897e-01 3.26125721e-01 3.34110646e-01 3.40222187e-01\n",
      " 3.49498427e-01 3.82445743e-01 3.88065647e-01 3.97206370e-01\n",
      " 3.99068500e-01 4.02393957e-01 4.13682559e-01 4.16894823e-01\n",
      " 4.38327408e-01 4.44548216e-01 4.46224265e-01 4.53301958e-01\n",
      " 4.55733094e-01 4.63011723e-01 4.71120056e-01 4.72551672e-01\n",
      " 4.75732584e-01 4.81634017e-01 4.85649661e-01 4.90576130e-01\n",
      " 4.96848313e-01 4.98475371e-01 5.00137562e-01 5.04841524e-01\n",
      " 5.11229173e-01 5.16727881e-01 5.21237649e-01 5.31631602e-01\n",
      " 5.35150282e-01 5.39813703e-01 5.47285708e-01 5.50371415e-01\n",
      " 5.52451975e-01 5.60832441e-01 5.65106454e-01 5.71763808e-01\n",
      " 5.73407912e-01 5.82529260e-01 5.83937510e-01 5.87591950e-01\n",
      " 5.96068065e-01 6.01731130e-01 6.04190123e-01 6.07868345e-01\n",
      " 6.16737919e-01 6.18752519e-01 6.19855004e-01 6.24032558e-01\n",
      " 6.30404432e-01 6.32187372e-01 6.37895161e-01 6.42037850e-01\n",
      " 6.43362144e-01 6.43872118e-01 6.51750931e-01 6.53305730e-01\n",
      " 6.55011637e-01 6.60947721e-01 6.61335126e-01 6.67958210e-01\n",
      " 6.70644910e-01 6.73352504e-01 6.75821336e-01 6.80089655e-01\n",
      " 6.84042019e-01 6.87100160e-01 6.91272358e-01 6.94610595e-01\n",
      " 6.97232469e-01 7.01046261e-01 7.04080280e-01 7.09403898e-01\n",
      " 7.10422026e-01 7.11582197e-01 7.12771445e-01 7.15904945e-01\n",
      " 7.18713442e-01 7.20254544e-01 7.31215124e-01 7.33450986e-01\n",
      " 7.34520405e-01 7.36844125e-01 7.39055608e-01 7.42809171e-01\n",
      " 7.43461337e-01 7.49657677e-01 7.51104749e-01 7.54077726e-01\n",
      " 7.59062299e-01 7.60463988e-01 7.63545982e-01 7.70979179e-01\n",
      " 7.73892219e-01 7.78182144e-01 7.81512648e-01 7.83751206e-01\n",
      " 7.85326535e-01 7.87055666e-01 7.88697567e-01 7.95590279e-01\n",
      " 7.97054709e-01 7.99696689e-01 8.00095300e-01 8.02700143e-01\n",
      " 8.04486046e-01 8.09234160e-01 8.11204216e-01 8.14014545e-01\n",
      " 8.15538110e-01 8.18540541e-01 8.19011682e-01 8.22445216e-01\n",
      " 8.27889350e-01 8.30897384e-01 8.31420701e-01 8.35063395e-01\n",
      " 8.36952476e-01 8.39957904e-01 8.42634622e-01 8.47937663e-01\n",
      " 8.50187994e-01 8.51182036e-01 8.54679150e-01 8.60393670e-01\n",
      " 8.61524015e-01 8.62112278e-01 8.62936596e-01 8.64245584e-01\n",
      " 8.66047755e-01 8.69155210e-01 8.71471218e-01 8.77682599e-01\n",
      " 8.79223199e-01 8.81329171e-01 8.83047301e-01 8.86617161e-01\n",
      " 8.87943210e-01 8.88290590e-01 8.89983289e-01 8.97315211e-01\n",
      " 9.01618044e-01 9.03256518e-01 9.04740470e-01 9.06672706e-01\n",
      " 9.09897249e-01 9.13175557e-01 9.19060398e-01 9.19688649e-01\n",
      " 9.22520387e-01 9.23020052e-01 9.24850005e-01 9.28615509e-01\n",
      " 9.29806211e-01 9.31193364e-01 9.32444145e-01 9.33621798e-01\n",
      " 9.35977479e-01 9.36840409e-01 9.37487967e-01 9.38988976e-01\n",
      " 9.41625701e-01 9.42577448e-01 9.49947157e-01 9.50821849e-01\n",
      " 9.56276666e-01 9.58735831e-01 9.59485115e-01 9.63036439e-01\n",
      " 9.63743401e-01 9.66446974e-01 9.70383151e-01 9.72125269e-01\n",
      " 9.73141571e-01 9.77849778e-01 9.79197554e-01 9.81993271e-01\n",
      " 9.86198160e-01 9.88763350e-01 9.92269717e-01 9.93255010e-01\n",
      " 9.94013947e-01 9.97395943e-01 9.98054672e-01 9.98773606e-01\n",
      " 1.00210576e+00 1.00597030e+00 1.00706928e+00 1.00725810e+00\n",
      " 1.01191668e+00 1.01305104e+00 1.01924549e+00 1.02383676e+00\n",
      " 1.02520384e+00 1.02809165e+00 1.02915271e+00 1.02967512e+00\n",
      " 1.03113132e+00 1.03337595e+00 1.03660225e+00 1.04218855e+00\n",
      " 1.04524050e+00 1.04708152e+00 1.04836576e+00 1.05074809e+00\n",
      " 1.05316028e+00 1.05381230e+00 1.05581868e+00 1.05952601e+00\n",
      " 1.06182398e+00 1.06239099e+00 1.06486484e+00 1.06837510e+00\n",
      " 1.07322588e+00 1.07346007e+00 1.07557780e+00 1.07950992e+00\n",
      " 1.08156158e+00 1.08426042e+00 1.08513592e+00 1.09034737e+00\n",
      " 1.09222003e+00 1.09368467e+00 1.09556417e+00 1.09670894e+00\n",
      " 1.09753134e+00 1.10070271e+00 1.10551149e+00 1.10630023e+00\n",
      " 1.10884668e+00 1.11010923e+00 1.11169376e+00 1.11434939e+00\n",
      " 1.11609872e+00 1.11896932e+00 1.12201782e+00 1.12722017e+00\n",
      " 1.12825317e+00 1.13101766e+00 1.13319172e+00 1.13666228e+00\n",
      " 1.13837137e+00 1.13951448e+00 1.14252305e+00 1.14404400e+00\n",
      " 1.14826301e+00 1.15143046e+00 1.15206362e+00 1.15673144e+00\n",
      " 1.15914553e+00 1.16097292e+00 1.16279911e+00 1.16710496e+00\n",
      " 1.16817542e+00 1.16907396e+00 1.17168795e+00 1.17271021e+00\n",
      " 1.17358913e+00 1.17816966e+00 1.18080798e+00 1.18414227e+00\n",
      " 1.18534348e+00 1.18706302e+00 1.19296110e+00 1.19601299e+00\n",
      " 1.19651704e+00 1.19767613e+00 1.20031922e+00 1.20523304e+00\n",
      " 1.20644815e+00 1.20783886e+00 1.20906723e+00 1.21059627e+00\n",
      " 1.21640054e+00 1.21981155e+00 1.22023769e+00 1.22207090e+00\n",
      " 1.22451476e+00 1.22498080e+00 1.22768479e+00 1.22907597e+00\n",
      " 1.23136356e+00 1.23424152e+00 1.23719168e+00 1.23930268e+00\n",
      " 1.24620959e+00 1.24834243e+00 1.25113723e+00 1.25225695e+00\n",
      " 1.25301484e+00 1.25438486e+00 1.25573464e+00 1.25978837e+00\n",
      " 1.26137625e+00 1.26285336e+00 1.26379042e+00 1.26463982e+00\n",
      " 1.26788957e+00 1.27362357e+00 1.27584425e+00 1.27639214e+00\n",
      " 1.27848285e+00 1.28088109e+00 1.28228277e+00 1.28499091e+00\n",
      " 1.29146592e+00 1.29276535e+00 1.29496794e+00 1.29758245e+00\n",
      " 1.29875099e+00 1.30092718e+00 1.30632132e+00 1.30789972e+00\n",
      " 1.30885841e+00 1.31254094e+00 1.31425719e+00 1.31558401e+00\n",
      " 1.32389468e+00 1.32760527e+00 1.33152630e+00 1.33317944e+00\n",
      " 1.33505953e+00 1.33531500e+00 1.33868367e+00 1.34163070e+00\n",
      " 1.34689701e+00 1.34735031e+00 1.34852483e+00 1.35126665e+00\n",
      " 1.35183593e+00 1.35631454e+00 1.35768767e+00 1.35892657e+00\n",
      " 1.36183958e+00 1.36350886e+00 1.36605189e+00 1.36740610e+00\n",
      " 1.36961189e+00 1.37396466e+00 1.37521786e+00 1.37792425e+00\n",
      " 1.38003319e+00 1.38505987e+00 1.38661597e+00 1.39104946e+00\n",
      " 1.39251920e+00 1.39619983e+00 1.39643870e+00 1.39917799e+00\n",
      " 1.39988813e+00 1.40138597e+00 1.40196803e+00 1.40392399e+00\n",
      " 1.40544288e+00 1.40592027e+00 1.41188761e+00 1.41446759e+00\n",
      " 1.41737022e+00 1.41766968e+00 1.42016476e+00 1.42463235e+00\n",
      " 1.42627458e+00 1.43018919e+00 1.43390242e+00 1.43545956e+00\n",
      " 1.43780202e+00 1.44007172e+00 1.44023510e+00 1.44177289e+00\n",
      " 1.44305358e+00 1.44603363e+00 1.44779743e+00 1.45147646e+00\n",
      " 1.45451196e+00 1.45632738e+00 1.45797378e+00 1.46074856e+00\n",
      " 1.46634899e+00 1.46687132e+00 1.46886401e+00 1.47276615e+00\n",
      " 1.47637398e+00 1.47766155e+00 1.47963981e+00 1.47991120e+00\n",
      " 1.48128007e+00 1.48384000e+00 1.48572087e+00 1.48820421e+00\n",
      " 1.49059032e+00 1.49233492e+00 1.49622285e+00 1.50301090e+00\n",
      " 1.50443107e+00 1.50811465e+00 1.50896275e+00 1.51073941e+00\n",
      " 1.51506397e+00 1.51800813e+00 1.51878468e+00 1.51923217e+00\n",
      " 1.52003554e+00 1.52184224e+00 1.52605037e+00 1.52858170e+00\n",
      " 1.53152136e+00 1.53389706e+00 1.53575482e+00 1.53900989e+00\n",
      " 1.53987657e+00 1.54131307e+00 1.54854975e+00 1.55043800e+00\n",
      " 1.55269995e+00 1.55589381e+00 1.55868288e+00 1.55989641e+00\n",
      " 1.56437305e+00 1.56620579e+00 1.57132073e+00 1.57278786e+00\n",
      " 1.57376566e+00 1.57591940e+00 1.57913352e+00 1.57987980e+00\n",
      " 1.58245500e+00 1.58382818e+00 1.59224607e+00 1.59515254e+00\n",
      " 1.59824003e+00 1.60035589e+00 1.60236471e+00 1.60712416e+00\n",
      " 1.60794324e+00 1.61233317e+00 1.61274573e+00 1.61406511e+00\n",
      " 1.61863616e+00 1.61958010e+00 1.62142084e+00 1.62446217e+00\n",
      " 1.62528120e+00 1.63176193e+00 1.63810608e+00 1.63895914e+00\n",
      " 1.64230734e+00 1.64368684e+00 1.64436731e+00 1.64652824e+00\n",
      " 1.65016222e+00 1.65607873e+00 1.66102731e+00 1.66838892e+00\n",
      " 1.66884109e+00 1.67304501e+00 1.67344902e+00 1.67705784e+00\n",
      " 1.68376086e+00 1.68822854e+00 1.68947480e+00 1.69002072e+00\n",
      " 1.69356657e+00 1.69546363e+00 1.69742662e+00 1.69858145e+00\n",
      " 1.70324502e+00 1.70681511e+00 1.70833958e+00 1.71148330e+00\n",
      " 1.71401583e+00 1.71776227e+00 1.72044103e+00 1.72535385e+00\n",
      " 1.72660332e+00 1.72696959e+00 1.73277789e+00 1.73356669e+00\n",
      " 1.73591979e+00 1.74118178e+00 1.74145190e+00 1.74465262e+00\n",
      " 1.74506627e+00 1.74893036e+00 1.75034412e+00 1.75411508e+00\n",
      " 1.75653629e+00 1.75752795e+00 1.75954760e+00 1.76334114e+00\n",
      " 1.76779678e+00 1.77026537e+00 1.77094329e+00 1.77526776e+00\n",
      " 1.78000899e+00 1.78076616e+00 1.78226246e+00 1.78238052e+00\n",
      " 1.78599058e+00 1.78768199e+00 1.79145393e+00 1.79557935e+00\n",
      " 1.79654878e+00 1.79905339e+00 1.80929103e+00 1.81058703e+00\n",
      " 1.81769023e+00 1.81929921e+00 1.82154191e+00 1.82595912e+00\n",
      " 1.82741314e+00 1.82826373e+00 1.83214888e+00 1.83934570e+00\n",
      " 1.84109097e+00 1.84686574e+00 1.84944700e+00 1.85341126e+00\n",
      " 1.85425205e+00 1.85624026e+00 1.85781422e+00 1.85907614e+00\n",
      " 1.86281819e+00 1.86452709e+00 1.86971091e+00 1.87402694e+00\n",
      " 1.87832752e+00 1.88080586e+00 1.88189350e+00 1.88636952e+00\n",
      " 1.89077008e+00 1.89344170e+00 1.89670769e+00 1.89718486e+00\n",
      " 1.89871203e+00 1.91012539e+00 1.91110846e+00 1.91905102e+00\n",
      " 1.92181556e+00 1.92764404e+00 1.92809244e+00 1.93093778e+00\n",
      " 1.93249581e+00 1.93337690e+00 1.93658699e+00 1.93850246e+00\n",
      " 1.94128759e+00 1.94276007e+00 1.94853301e+00 1.96388853e+00\n",
      " 1.96455864e+00 1.96669090e+00 1.96945539e+00 1.97437800e+00\n",
      " 1.97544612e+00 1.97666483e+00 1.98143637e+00 1.99426361e+00\n",
      " 1.99593645e+00 2.00022839e+00 2.00271197e+00 2.00459572e+00\n",
      " 2.00540731e+00 2.00892538e+00 2.01006417e+00 2.01436278e+00\n",
      " 2.02017016e+00 2.02570610e+00 2.02640524e+00 2.03054219e+00\n",
      " 2.03285569e+00 2.03435937e+00 2.03877597e+00 2.04349255e+00\n",
      " 2.04882434e+00 2.05458596e+00 2.06459847e+00 2.06534848e+00\n",
      " 2.07154568e+00 2.07641749e+00 2.07883316e+00 2.08522944e+00\n",
      " 2.08937567e+00 2.08962286e+00 2.09790410e+00 2.09870812e+00\n",
      " 2.10212152e+00 2.10663005e+00 2.10942079e+00 2.10973031e+00\n",
      " 2.11124383e+00 2.11398520e+00 2.12311998e+00 2.12805503e+00\n",
      " 2.13439831e+00 2.13561450e+00 2.14202504e+00 2.15429391e+00\n",
      " 2.15606625e+00 2.17009492e+00 2.17115304e+00 2.17484475e+00\n",
      " 2.17955425e+00 2.19111097e+00 2.19318745e+00 2.19449543e+00\n",
      " 2.19937804e+00 2.19963217e+00 2.20099431e+00 2.20174720e+00\n",
      " 2.20998958e+00 2.21664435e+00 2.22285602e+00 2.22799172e+00\n",
      " 2.22807397e+00 2.24800193e+00 2.24846708e+00 2.25163748e+00\n",
      " 2.26317927e+00 2.26381981e+00 2.26653354e+00 2.27550277e+00\n",
      " 2.27691569e+00 2.27978719e+00 2.28152912e+00 2.28642038e+00\n",
      " 2.29146424e+00 2.29232697e+00 2.29848605e+00 2.29949846e+00\n",
      " 2.31668141e+00 2.32259576e+00 2.32281458e+00 2.33118542e+00\n",
      " 2.33909661e+00 2.34246160e+00 2.34351190e+00 2.34773073e+00\n",
      " 2.34846803e+00 2.35222296e+00 2.35824561e+00 2.35865647e+00\n",
      " 2.37976285e+00 2.38433373e+00 2.38802015e+00 2.39331568e+00\n",
      " 2.39604966e+00 2.40101989e+00 2.41118258e+00 2.41380283e+00\n",
      " 2.41513131e+00 2.41905004e+00 2.42910933e+00 2.43245132e+00\n",
      " 2.43417202e+00 2.44246978e+00 2.44673560e+00 2.45353116e+00\n",
      " 2.45707227e+00 2.45852744e+00 2.47373708e+00 2.47394768e+00\n",
      " 2.49072304e+00 2.49228737e+00 2.50106355e+00 2.51327422e+00\n",
      " 2.51359731e+00 2.51517426e+00 2.54195330e+00 2.54285688e+00\n",
      " 2.54323657e+00 2.54375831e+00 2.55256109e+00 2.56076913e+00\n",
      " 2.56521960e+00 2.56617230e+00 2.57208222e+00 2.57761320e+00\n",
      " 2.57967248e+00 2.58119243e+00 2.60511022e+00 2.60695992e+00\n",
      " 2.61462829e+00 2.62243378e+00 2.63816508e+00 2.64337433e+00\n",
      " 2.65077257e+00 2.65904194e+00 2.67053415e+00 2.68274701e+00\n",
      " 2.68305221e+00 2.68761535e+00 2.69048627e+00 2.70120975e+00\n",
      " 2.71200433e+00 2.71453426e+00 2.71900773e+00 2.72141946e+00\n",
      " 2.72623179e+00 2.73586349e+00 2.74092354e+00 2.75462804e+00\n",
      " 2.77050762e+00 2.78252740e+00 2.78428080e+00 2.79776035e+00\n",
      " 2.80168221e+00 2.82142542e+00 2.83063513e+00 2.83968100e+00\n",
      " 2.85013034e+00 2.85237785e+00 2.86219978e+00 2.87797645e+00\n",
      " 2.88246017e+00 2.89465184e+00 2.90970780e+00 2.91684569e+00\n",
      " 2.92154863e+00 2.93538963e+00 2.94287788e+00 2.94556017e+00\n",
      " 2.96004155e+00 2.97619192e+00 2.97840504e+00 2.98047025e+00\n",
      " 3.00139871e+00 3.01535034e+00 3.03240455e+00 3.04105162e+00\n",
      " 3.05144138e+00 3.06523465e+00 3.07036618e+00 3.07658502e+00\n",
      " 3.08860159e+00 3.09589420e+00 3.09661696e+00 3.11721440e+00\n",
      " 3.13099193e+00 3.14897991e+00 3.15120841e+00 3.16780338e+00\n",
      " 3.18836876e+00 3.21013617e+00 3.23109403e+00 3.25677024e+00\n",
      " 3.26959444e+00 3.31240272e+00 3.31855866e+00 3.36418191e+00\n",
      " 3.37310547e+00 3.38786092e+00 3.42269169e+00 3.45380548e+00\n",
      " 3.45990784e+00 3.49311510e+00 3.52638685e+00 3.57220767e+00\n",
      " 3.66573912e+00 3.70196790e+00 3.71551506e+00 3.74059338e+00\n",
      " 3.77538876e+00 3.78840720e+00 3.79669509e+00 3.88307053e+00\n",
      " 3.94084208e+00 3.96936803e+00 3.98576252e+00 4.01362961e+00\n",
      " 4.04791322e+00 4.21700798e+00 4.22709076e+00 4.29988118e+00\n",
      " 4.36431308e+00 4.39352369e+00 4.73933460e+00 4.79914671e+00\n",
      " 4.95525672e+00]\n"
     ]
    }
   ],
   "source": [
    "print(np.sort(np.linalg.eigh(res_genes[\"Laplacian\"])[0]))"
   ]
  },
  {
   "cell_type": "code",
   "execution_count": 19,
   "id": "6637503f",
   "metadata": {},
   "outputs": [],
   "source": [
    "def connected_component(A):\n",
    "    n=A.shape[0]\n",
    "    cc=[-1]*n\n",
    "    nbcc=0\n",
    "    def parc(u,i,n):\n",
    "        cc[u]=i\n",
    "        for v in range(n):\n",
    "            if A[u][v]>10**-7 and cc[v]==-1:\n",
    "                parc(v,i,n)\n",
    "    for u in range(n):\n",
    "        if cc[u]==-1:\n",
    "            parc(u,nbcc,n)\n",
    "            nbcc+=1\n",
    "    return cc        "
   ]
  },
  {
   "cell_type": "code",
   "execution_count": 20,
   "id": "c5836cee",
   "metadata": {},
   "outputs": [],
   "source": [
    "cc=connected_component(res_genes[\"Adjacency\"])"
   ]
  },
  {
   "cell_type": "code",
   "execution_count": 22,
   "id": "8e73afaa",
   "metadata": {},
   "outputs": [
    {
     "name": "stdout",
     "output_type": "stream",
     "text": [
      "[0 0 0 0 0 0 0 0 0 0 0 0 0 0 0 0 0 0 0 0 0 0 0 0 0 0 0 0 0 0 0 0 0 0 0 0 0\n",
      " 0 0 0 0 0 0 0 0 0 0 0 0 0 0 0 0 0 0 0 0 0 0 0 0 0 0 0 0 0 0 0 0 0 0 0 0 0\n",
      " 0 0 0 0 0 0 0 0 0 0 0 0 0 0 0 0 0 0 0 0 0 0 0 0 0 0 0 0 0 0 0 0 0 0 0 0 0\n",
      " 0 0 0 0 0 0 0 0 0 0 0 0 0 0 0 0 0 0 0 0 0 0 0 0 0 0 0 0 0 0 0 0 0 0 0 0 0\n",
      " 0 0 0 0 0 0 0 0 0 0 0 0 0 0 0 0 4 0 0 0 0 0 0 0 0 0 0 0 0 0 0 0 0 0 0 0 0\n",
      " 0 0 0 0 0 0 0 0 0 0 0 0 0 0 0 0 0 0 0 0 0 0 0 0 0 0 0 0 0 0 0 0 0 0 0 0 0\n",
      " 0 0 0 0 0 0 0 0 0 0 0 0 0 0 0 0 0 0 0 0 0 0 0 0 0 0 0 0 3 0 0 0 0 0 0 0 0\n",
      " 0 0 0 0 0 0 0 0 0 0 0 0 0 0 0 0 0 0 0 0 0 0 0 0 0 0 0 0 0 0 0 0 0 0 0 0 0\n",
      " 0 0 0 0 0 0 0 0 0 0 0 0 0 0 0 0 0 0 0 0 0 0 0 0 0 0 0 0 0 0 0 0 0 0 0 0 0\n",
      " 0 0 0 0 0 0 0 0 0 0 0 0 0 0 0 0 0 0 0 0 0 0 0 0 0 0 0 0 0 0 0 0 0 0 0 0 0\n",
      " 0 0 0 0 0 0 0 0 0 0 0 0 0 0 0 0 0 0 0 0 0 0 0 0 0 0 0 0 0 0 0 0 0 0 0 0 0\n",
      " 0 0 0 0 0 0 0 0 0 0 0 0 0 0 0 0 0 0 0 0 0 0 0 0 0 0 0 0 0 0 0 0 0 0 0 0 0\n",
      " 0 0 0 0 0 0 0 0 0 0 0 0 0 0 0 0 0 0 0 0 0 0 0 0 0 0 0 0 0 0 0 0 0 0 0 0 0\n",
      " 0 0 0 0 0 0 0 0 0 0 0 0 0 0 0 0 0 0 0 0 0 0 0 0 0 0 0 0 0 0 0 0 0 0 0 0 0\n",
      " 0 0 0 0 0 0 0 0 0 0 0 0 0 0 0 0 0 0 0 0 0 0 0 0 0 0 0 0 0 0 0 0 0 0 0 0 0\n",
      " 0 0 0 0 0 0 0 0 0 0 0 0 0 0 0 0 0 0 0 0 0 0 0 0 0 0 0 0 0 0 0 0 0 0 0 0 0\n",
      " 0 0 0 0 0 0 0 2 0 0 0 0 0 0 0 0 0 0 0 0 0 0 0 0 0 0 0 0 0 0 0 0 0 0 0 0 0\n",
      " 0 0 0 0 0 0 0 0 0 0 0 0 0 0 0 0 0 0 0 0 0 0 0 0 0 0 0 0 0 0 0 0 0 0 0 0 0\n",
      " 0 0 0 0 0 0 0 0 0 0 0 0 0 0 0 0 0 0 0 0 0 0 0 0 0 0 0 0 0 0 0 0 0 0 0 0 0\n",
      " 0 0 0 0 0 0 0 0 0 0 0 0 0 0 0 0 0 0 0 0 0 0 0 0 0 0 0 0 0 0 0 0 0 0 0 0 0\n",
      " 0 0 0 0 0 0 0 0 0 0 0 0 0 0 0 0 0 0 0 0 0 0 0 0 0 0 0 0 0 0 0 0 0 0 0 0 0\n",
      " 0 0 0 0 0 0 0 0 0 0 0 0 1 0 0 0 0 0 0 0 0 0 0 0]\n",
      "[-0.         -0.         -0.         -0.          0.49242259  0.5159594\n",
      "  0.52362978  0.52364603  0.53223721  0.55820668  0.55909738  0.56619931\n",
      "  0.5679473   0.58194585  0.59117026  0.61339552  0.61653192  0.62223729\n",
      "  0.63207441  0.64692756  0.64800275  0.65280637  0.66579716  0.67047116\n",
      "  0.67245198  0.67394533  0.67578542  0.67607306  0.67827818  0.67924933\n",
      "  0.69092287  0.69576083  0.70415222  0.70453755  0.71243961  0.71271682\n",
      "  0.7210268   0.72265009  0.72279966  0.72699123  0.72860664  0.73154276\n",
      "  0.74108611  0.74531307  0.75023738  0.75270605  0.75558493  0.75722034\n",
      "  0.75778194  0.77810423  0.78455722  0.78655802  0.7870023   0.78840428\n",
      "  0.78911984  0.80855016  0.80859192  0.81593412  0.82726332  0.82782777\n",
      "  0.82849944  0.8292587   0.83015067  0.83540299  0.83688713  0.83752695\n",
      "  0.84207772  0.8449962   0.84759836  0.84849255  0.85318846  0.85465825\n",
      "  0.85615057  0.8651654   0.86697599  0.87161584  0.88326648  0.88556748\n",
      "  0.88951917  0.89301284  0.89779429  0.89794562  0.89871258  0.89882181\n",
      "  0.90136262  0.90281574  0.90616494  0.90749586  0.90878264  0.90902511\n",
      "  0.91238652  0.91283087  0.91340265  0.9199923   0.92507569  0.92839924\n",
      "  0.9320756   0.93588439  0.93754162  0.9418535   0.94316742  0.94648247\n",
      "  0.95094878  0.95589356  0.95593888  0.95620692  0.96094095  0.9635563\n",
      "  0.96416139  0.96446762  0.96630676  0.97005392  0.97601974  0.97931991\n",
      "  0.98024163  0.9837106   0.98482876  0.9853939   0.98706279  0.98858147\n",
      "  0.99195341  0.99229332  0.99306044  0.99366714  0.99388548  0.99444991\n",
      "  0.99566285  0.99655534  1.00068476  1.00504234  1.01060994  1.01154637\n",
      "  1.01185672  1.01311141  1.02028344  1.02051648  1.02162976  1.02273962\n",
      "  1.02677253  1.02684984  1.02767095  1.02843248  1.03040948  1.03044391\n",
      "  1.0361131   1.03632992  1.03731885  1.03770944  1.03988594  1.04064489\n",
      "  1.04137152  1.04537205  1.04849334  1.04870855  1.05093583  1.05280496\n",
      "  1.05335577  1.07187818  1.07293657  1.07672717  1.0791875   1.07927763\n",
      "  1.08239413  1.08441227  1.08568949  1.08654666  1.08822358  1.08972805\n",
      "  1.09078025  1.09133836  1.09280963  1.0939865   1.09694293  1.09780789\n",
      "  1.10125558  1.10194826  1.10278945  1.10568794  1.11011982  1.11232186\n",
      "  1.11758567  1.11803546  1.11916885  1.1196691   1.12537146  1.12543307\n",
      "  1.12786317  1.12850271  1.13028405  1.13231408  1.13835944  1.14129184\n",
      "  1.14254311  1.14283119  1.14670085  1.14726031  1.14816636  1.1490766\n",
      "  1.14932846  1.15082565  1.15104499  1.15240885  1.15436551  1.15750881\n",
      "  1.16027055  1.16067438  1.16153055  1.16154861  1.16161358  1.1621742\n",
      "  1.16342034  1.16465079  1.16581582  1.17168218  1.17190481  1.1773518\n",
      "  1.17848221  1.18303976  1.18346655  1.18487101  1.18558031  1.18831698\n",
      "  1.18899909  1.19380974  1.19925435  1.20108808  1.20327522  1.2041027\n",
      "  1.20434612  1.20490817  1.20966273  1.21132914  1.21143917  1.212054\n",
      "  1.21387539  1.22001314  1.22140094  1.22171407  1.22237779  1.22281264\n",
      "  1.22596159  1.22728824  1.22916945  1.23137936  1.23317661  1.2351424\n",
      "  1.23655098  1.23700041  1.23764722  1.23955915  1.23968195  1.23999073\n",
      "  1.24210015  1.24413281  1.24923736  1.25057417  1.25099844  1.25422019\n",
      "  1.25480286  1.25496123  1.25572727  1.25681384  1.25729138  1.25971808\n",
      "  1.26211038  1.26351761  1.26681699  1.2690667   1.26960487  1.2698973\n",
      "  1.27003469  1.27064498  1.27112217  1.27202845  1.27257411  1.27310395\n",
      "  1.27321512  1.27337436  1.276191    1.27739234  1.27954368  1.2848225\n",
      "  1.28541089  1.28671688  1.28788999  1.28827059  1.28878047  1.28933779\n",
      "  1.29101973  1.29152878  1.29267808  1.29288963  1.29344159  1.29516982\n",
      "  1.29725668  1.29851643  1.29941019  1.30367351  1.3085264   1.31040736\n",
      "  1.31349236  1.31893561  1.32343972  1.32462372  1.32706223  1.33294104\n",
      "  1.33536514  1.33836576  1.33886601  1.33945489  1.34019103  1.34411063\n",
      "  1.34411113  1.344607    1.34610293  1.34785181  1.34904591  1.35335519\n",
      "  1.35398763  1.35411887  1.35438065  1.35675945  1.3578384   1.3607354\n",
      "  1.36125878  1.36333352  1.36339503  1.36530072  1.36675549  1.37478908\n",
      "  1.37561541  1.376384    1.37685486  1.37739363  1.37842172  1.3796831\n",
      "  1.38219053  1.38410022  1.38427665  1.38482894  1.38491186  1.38852768\n",
      "  1.38995613  1.39098018  1.39143125  1.39194673  1.39321528  1.39891041\n",
      "  1.39913802  1.40048216  1.40515929  1.40611627  1.40961323  1.41137947\n",
      "  1.41520565  1.41554694  1.41684721  1.41892962  1.42046882  1.42422041\n",
      "  1.42555396  1.4257344   1.42770478  1.43162926  1.43481007  1.43496821\n",
      "  1.43549678  1.43877596  1.43949563  1.44004719  1.44133044  1.44223697\n",
      "  1.44340413  1.45145471  1.45268719  1.45777574  1.45790102  1.45826103\n",
      "  1.46209987  1.46407737  1.46549343  1.47005192  1.4728592   1.47475222\n",
      "  1.47893917  1.479218    1.48148952  1.48298433  1.48355866  1.48479722\n",
      "  1.48492273  1.48627769  1.49083285  1.49464411  1.49650966  1.50172289\n",
      "  1.50285982  1.50323664  1.50573926  1.50821129  1.50878298  1.50901297\n",
      "  1.5125461   1.51479357  1.51504379  1.51654813  1.52136264  1.52201739\n",
      "  1.52314226  1.5264595   1.52978055  1.53763645  1.53970821  1.54018625\n",
      "  1.54182753  1.54244234  1.54707613  1.55052225  1.55156428  1.55787907\n",
      "  1.55897902  1.56264794  1.564122    1.56429856  1.56496302  1.5657357\n",
      "  1.56738611  1.570967    1.57189874  1.57483974  1.57848595  1.57928587\n",
      "  1.57963719  1.58181384  1.58429967  1.58435844  1.58436581  1.58444475\n",
      "  1.58543259  1.58547728  1.58681187  1.58961209  1.59106535  1.59119527\n",
      "  1.59177611  1.59574123  1.59633232  1.59660392  1.59757504  1.59770773\n",
      "  1.59793351  1.59853965  1.60438526  1.605022    1.60874657  1.61354975\n",
      "  1.61536157  1.61650926  1.61660931  1.61683305  1.61757774  1.61825871\n",
      "  1.619693    1.62957835  1.63464212  1.6346971   1.63472093  1.6370987\n",
      "  1.64091649  1.64132466  1.64194592  1.64527314  1.64575896  1.64633465\n",
      "  1.64852466  1.65155257  1.65444889  1.65654893  1.65793551  1.65829752\n",
      "  1.65910728  1.66253641  1.66524838  1.66592663  1.67679484  1.67701749\n",
      "  1.67939126  1.68006496  1.68032417  1.68199002  1.6984925   1.69988683\n",
      "  1.70153647  1.70273015  1.70641881  1.7067301   1.7114889   1.71315528\n",
      "  1.72103866  1.72591305  1.72802522  1.7315243   1.73438179  1.73500821\n",
      "  1.73910219  1.74155576  1.74362333  1.74465115  1.74486669  1.75229067\n",
      "  1.75279864  1.75323506  1.75396462  1.75445466  1.75835258  1.7601367\n",
      "  1.7601796   1.76170858  1.76823819  1.76880613  1.76976633  1.7746806\n",
      "  1.77747085  1.78115216  1.78192212  1.78294589  1.78584706  1.78706103\n",
      "  1.78759636  1.7879775   1.79073728  1.79449576  1.79462546  1.79637545\n",
      "  1.79986759  1.80013204  1.80348352  1.80626917  1.80703964  1.81083801\n",
      "  1.81252439  1.81261007  1.81306745  1.81604542  1.81682344  1.81755345\n",
      "  1.8201721   1.82056453  1.82743815  1.83190243  1.83235539  1.83488782\n",
      "  1.83539307  1.83625086  1.8368746   1.83799101  1.84517279  1.84529134\n",
      "  1.84761544  1.84976772  1.85028781  1.85073968  1.85337704  1.85446342\n",
      "  1.856906    1.8613605   1.86322623  1.86911906  1.87105288  1.87152106\n",
      "  1.88366443  1.88379089  1.88410961  1.88577081  1.8866714   1.88751241\n",
      "  1.89105466  1.8928813   1.89457669  1.89908648  1.90354701  1.90549901\n",
      "  1.9061213   1.91005278  1.91832495  1.92272253  1.92272282  1.93131506\n",
      "  1.93441494  1.93993551  1.94136067  1.94867776  1.95036269  1.95799768\n",
      "  1.95910968  1.96222178  1.96415956  1.96566271  1.97067255  1.97378528\n",
      "  1.97622832  1.98202141  1.98205221  1.98702904  1.98811966  1.98915175\n",
      "  1.99588933  1.99601732  1.99642109  1.99796627  2.00233468  2.00859151\n",
      "  2.01763481  2.02482497  2.02580651  2.02591368  2.02596371  2.02723033\n",
      "  2.02883262  2.03049274  2.03600447  2.03714655  2.04439649  2.04490702\n",
      "  2.04799964  2.05123778  2.05611521  2.05874367  2.05876131  2.06124969\n",
      "  2.06351118  2.06357862  2.07218652  2.0737882   2.07389014  2.07752446\n",
      "  2.08629908  2.08791108  2.09181219  2.0936697   2.09707142  2.09832778\n",
      "  2.1006885   2.10609554  2.10964445  2.11220611  2.11251313  2.11450185\n",
      "  2.1156533   2.12295674  2.1288041   2.13262135  2.13599649  2.14156307\n",
      "  2.14160806  2.14177473  2.14776914  2.15159221  2.15240412  2.15244598\n",
      "  2.15250322  2.16428087  2.16686095  2.17172213  2.17347881  2.17472608\n",
      "  2.17627459  2.17684678  2.17760963  2.18935668  2.18978958  2.19109921\n",
      "  2.1916759   2.19505339  2.20204145  2.20343428  2.21387532  2.21443057\n",
      "  2.21958774  2.22139305  2.22285893  2.23042118  2.23238173  2.23953109\n",
      "  2.24037676  2.24533361  2.24989477  2.2583201   2.25904684  2.26022115\n",
      "  2.26049911  2.26568012  2.26609563  2.27102238  2.27109922  2.27360428\n",
      "  2.27692442  2.27877636  2.27986477  2.28447686  2.29331986  2.30051612\n",
      "  2.31466999  2.31807764  2.31828633  2.33402411  2.34125762  2.3494946\n",
      "  2.35792497  2.3595963   2.36738368  2.39653934  2.39752915  2.40019513\n",
      "  2.40442792  2.40659843  2.40680467  2.40712027  2.4141277   2.41433595\n",
      "  2.42197759  2.42604654  2.42835954  2.43280419  2.43345017  2.43969979\n",
      "  2.4438813   2.44666653  2.4467832   2.4603154   2.46952686  2.4720167\n",
      "  2.47306298  2.48285588  2.50125166  2.51199102  2.52172615  2.53150299\n",
      "  2.55189046  2.55870646  2.58160462  2.58363652  2.60098534  2.60301774\n",
      "  2.60443254  2.61692578  2.62567252  2.62977459  2.64973207  2.66144099\n",
      "  2.67662721  2.68122922  2.68682673  2.69577224  2.6987793   2.7001752\n",
      "  2.70894987  2.72146546  2.73972679  2.75038341  2.76348031  2.77664978\n",
      "  2.788719    2.80556439  2.81045891  2.81701483  2.82082693  2.82919485\n",
      "  2.8462765   2.85109375  2.87714144  2.89610983  2.89676992  2.90074714\n",
      "  2.91560946  2.92642866  2.94776842  2.96732925  3.00772734  3.01512108\n",
      "  3.03083819  3.05166267  3.06821167  3.08951835  3.09886316  3.14993857\n",
      "  3.16602431  3.18093307  3.21263866  3.27231869  3.28308304  3.42974665\n",
      "  3.49046007  3.53540214  3.58293416  3.6614901   3.6820105   3.69890784\n",
      "  3.72748282  3.91679179  3.92929142]\n"
     ]
    }
   ],
   "source": [
    "print(np.array(cc))\n",
    "D=np.diagonal(res_genes[\"Laplacian\"])\n",
    "print(np.sort(D))"
   ]
  },
  {
   "cell_type": "markdown",
   "id": "b0e16342",
   "metadata": {},
   "source": [
    "# keyword dataset"
   ]
  },
  {
   "cell_type": "code",
   "execution_count": 149,
   "id": "6eba9f93",
   "metadata": {},
   "outputs": [],
   "source": [
    "act_df = pd.read_csv('data/keyword_activity/ALL.csv', skiprows=9, sep=';')"
   ]
  },
  {
   "cell_type": "code",
   "execution_count": 150,
   "id": "d92be533",
   "metadata": {},
   "outputs": [
    {
     "name": "stdout",
     "output_type": "stream",
     "text": [
      "       # activity_0   activity_1   activity_2   activity_3   activity_4  \\\n",
      "0            1002.0        925.0       1105.0        973.0        889.0   \n",
      "1             805.0        805.0       1143.0       1121.0        954.0   \n",
      "2             542.0        473.0        504.0        626.0        647.0   \n",
      "3            1406.0        947.0        363.0        180.0         92.0   \n",
      "4             100.0        184.0         79.0        162.0         99.0   \n",
      "...             ...          ...          ...          ...          ...   \n",
      "76342         772.0        359.0        884.0        529.0        838.0   \n",
      "76343         819.0        708.0        753.0        845.0        780.0   \n",
      "76344         538.0        600.0        603.0        583.0        660.0   \n",
      "76345         582.0        743.0       1002.0       1031.0        981.0   \n",
      "76346         863.0        983.0        900.0       1168.0          0.0   \n",
      "\n",
      "        activity_5   activity_6   number_of_users_0   number_of_users_1  \\\n",
      "0            939.0        960.0               661.0               587.0   \n",
      "1            911.0        777.0               503.0               478.0   \n",
      "2            795.0        832.0               414.0               351.0   \n",
      "3             99.0        196.0              1162.0               589.0   \n",
      "4             98.0        264.0                73.0               144.0   \n",
      "...            ...          ...                 ...                 ...   \n",
      "76342        729.0        896.0               555.0               292.0   \n",
      "76343        852.0        651.0               512.0               482.0   \n",
      "76344        823.0        445.0               472.0               510.0   \n",
      "76345        814.0        703.0               532.0               608.0   \n",
      "76346       1427.0       1307.0               555.0               817.0   \n",
      "\n",
      "        number_of_users_2  ...   attention_level_number_of_users_6  \\\n",
      "0                   767.0  ...                            0.000757   \n",
      "1                   788.0  ...                            0.000637   \n",
      "2                   384.0  ...                            0.000729   \n",
      "3                   296.0  ...                            0.000490   \n",
      "4                    73.0  ...                            0.000890   \n",
      "...                   ...  ...                                 ...   \n",
      "76342               711.0  ...                            0.001185   \n",
      "76343               652.0  ...                            0.000954   \n",
      "76344               546.0  ...                            0.000699   \n",
      "76345               848.0  ...                            0.001015   \n",
      "76346               783.0  ...                            0.001919   \n",
      "\n",
      "        attention_level_activity_0   attention_level_activity_1  \\\n",
      "0                         0.000535                     0.000506   \n",
      "1                         0.000435                     0.000437   \n",
      "2                         0.000301                     0.000275   \n",
      "3                         0.000798                     0.000548   \n",
      "4                         0.000159                     0.000372   \n",
      "...                            ...                          ...   \n",
      "76342                     0.000711                     0.000342   \n",
      "76343                     0.000705                     0.000588   \n",
      "76344                     0.000442                     0.000481   \n",
      "76345                     0.000492                     0.000599   \n",
      "76346                     0.000727                     0.000798   \n",
      "\n",
      "        attention_level_activity_2   attention_level_activity_3  \\\n",
      "0                         0.000559                     0.000487   \n",
      "1                         0.000577                     0.000556   \n",
      "2                         0.000282                     0.000331   \n",
      "3                         0.000206                     0.000300   \n",
      "4                         0.000139                     0.000272   \n",
      "...                            ...                          ...   \n",
      "76342                     0.000670                     0.000424   \n",
      "76343                     0.000573                     0.000636   \n",
      "76344                     0.000455                     0.000500   \n",
      "76345                     0.000758                     0.000787   \n",
      "76346                     0.000692                     0.000886   \n",
      "\n",
      "        attention_level_activity_4   attention_level_activity_5  \\\n",
      "0                         0.000449                     0.000473   \n",
      "1                         0.000476                     0.000455   \n",
      "2                         0.000336                     0.000412   \n",
      "3                         0.000136                     0.000152   \n",
      "4                         0.000163                     0.000160   \n",
      "...                            ...                          ...   \n",
      "76342                     0.000669                     0.000580   \n",
      "76343                     0.000588                     0.000629   \n",
      "76344                     0.000568                     0.000638   \n",
      "76345                     0.000753                     0.000652   \n",
      "76346                     0.000000                     0.001082   \n",
      "\n",
      "        attention_level_activity_6   Absolute time identifier    Rank  \n",
      "0                         0.000490                        0.0   737.0  \n",
      "1                         0.000395                        7.0   821.0  \n",
      "2                         0.000434                       14.0   594.0  \n",
      "3                         0.000305                       21.0   900.0  \n",
      "4                         0.000432                       28.0  1128.0  \n",
      "...                            ...                        ...     ...  \n",
      "76342                     0.000686                      322.0   322.0  \n",
      "76343                     0.000486                      329.0   392.0  \n",
      "76344                     0.000354                      336.0   366.0  \n",
      "76345                     0.000572                      343.0   269.0  \n",
      "76346                     0.001008                      350.0   322.0  \n",
      "\n",
      "[76347 rows x 37 columns]\n"
     ]
    }
   ],
   "source": [
    "print(act_df)"
   ]
  },
  {
   "cell_type": "markdown",
   "id": "f8f35300",
   "metadata": {},
   "source": [
    "# sensor displacement"
   ]
  },
  {
   "cell_type": "markdown",
   "id": "efe7d4be",
   "metadata": {},
   "source": [
    "data available at https://archive.ics.uci.edu/ml/machine-learning-databases/00305/"
   ]
  },
  {
   "cell_type": "code",
   "execution_count": 153,
   "id": "c9960873",
   "metadata": {},
   "outputs": [],
   "source": [
    "from os import listdir\n",
    "location = \"data/realistic_sensor_displacement\"\n",
    "for filename in listdir(location)[:1]:\n",
    "    file=(pd.read_csv(location+'/'+filename, skiprows=0, sep='\\s+'))"
   ]
  },
  {
   "cell_type": "code",
   "execution_count": 154,
   "id": "1a0c4a55",
   "metadata": {},
   "outputs": [
    {
     "name": "stdout",
     "output_type": "stream",
     "text": [
      "(208477, 120)\n"
     ]
    }
   ],
   "source": [
    "l=file.values\n",
    "\n",
    "print(l.shape)"
   ]
  },
  {
   "cell_type": "code",
   "execution_count": 155,
   "id": "d0aecd3c",
   "metadata": {},
   "outputs": [],
   "source": [
    "l=l[:,2:-1]"
   ]
  },
  {
   "cell_type": "code",
   "execution_count": 166,
   "id": "acd629e5",
   "metadata": {},
   "outputs": [
    {
     "name": "stderr",
     "output_type": "stream",
     "text": [
      "100%|██████████████████████████████████████████████████████████████████████████████| 1000/1000 [00:12<00:00, 80.96it/s]\n"
     ]
    }
   ],
   "source": [
    "di=learn_k_component_graph(l.T,k=5,maxiter=1000)"
   ]
  },
  {
   "cell_type": "code",
   "execution_count": 167,
   "id": "ed72c834",
   "metadata": {},
   "outputs": [],
   "source": [
    "V=np.linalg.eigh(di[\"Laplacian\"])[1]"
   ]
  },
  {
   "cell_type": "code",
   "execution_count": 168,
   "id": "b3cd7f27",
   "metadata": {},
   "outputs": [
    {
     "name": "stdout",
     "output_type": "stream",
     "text": [
      "(117,)\n",
      "[  0  52  51  22  79  12  35 103  77  24 116  64  87  90  37  11  93  80\n",
      " 100  61  66   2  54  14  89   1  15 102   9  76  28  36  41  32  19  74\n",
      "  92   5 105  45  18  71 110  59 115  46  27  84  97 113  10  48  33  23\n",
      "  25 112  73   8  57  44  55  16  43  31 108  42  95  82  29  83 109  30\n",
      "  69  56  96   3  21 107  81  17  68  70  94   4  88  34 101  50  58  63\n",
      "  62  75  49 114  38   6  85  47 111  98  72  67   7  60  20  86  99 106\n",
      "  40  53  39  13  26  65 104  91  78]\n"
     ]
    }
   ],
   "source": [
    "ordre=np.argsort(V.T[1,:])\n",
    "print(ordre.shape)\n",
    "print(ordre)"
   ]
  },
  {
   "cell_type": "code",
   "execution_count": 169,
   "id": "26df1275",
   "metadata": {},
   "outputs": [
    {
     "data": {
      "image/png": "[encoded data removed]",
      "text/plain": [
       "<Figure size 1440x1440 with 1 Axes>"
      ]
     },
     "metadata": {
      "needs_background": "light"
     },
     "output_type": "display_data"
    }
   ],
   "source": [
    "fig = plt.figure(figsize=(20, 20))\n",
    "plt.matshow(di[\"Adjacency\"][ordre][:,ordre], fignum=0)\n",
    "plt.show()"
   ]
  },
  {
   "cell_type": "code",
   "execution_count": 170,
   "id": "b6bc1274",
   "metadata": {},
   "outputs": [
    {
     "name": "stdout",
     "output_type": "stream",
     "text": [
      "False\n"
     ]
    }
   ],
   "source": [
    "print(di[\"convergence\"])"
   ]
  },
  {
   "cell_type": "code",
   "execution_count": 171,
   "id": "ba79f941",
   "metadata": {},
   "outputs": [
    {
     "name": "stdout",
     "output_type": "stream",
     "text": [
      "[-1.99140023e-17  7.19441936e-03  1.47883016e-02  1.72820150e-02\n",
      "  2.48847420e-02  4.07676981e-02  5.04537015e-02  9.73172694e-02\n",
      "  1.58505807e-01  1.74132604e-01]\n"
     ]
    }
   ],
   "source": [
    "print(np.sort(np.linalg.eigh(di[\"Laplacian\"])[0])[:10])"
   ]
  },
  {
   "cell_type": "code",
   "execution_count": 172,
   "id": "b66e0d79",
   "metadata": {},
   "outputs": [
    {
     "name": "stdout",
     "output_type": "stream",
     "text": [
      "3.3411801723713066\n"
     ]
    }
   ],
   "source": [
    "print(np.max(di[\"Laplacian\"]))"
   ]
  },
  {
   "cell_type": "code",
   "execution_count": 2,
   "id": "bbf295d3",
   "metadata": {},
   "outputs": [],
   "source": [
    "def A_to_L(A):\n",
    "    D=np.diag(np.sum(A,axis=0))\n",
    "    return D-A"
   ]
  },
  {
   "cell_type": "code",
   "execution_count": 174,
   "id": "4df7dfe9",
   "metadata": {},
   "outputs": [],
   "source": [
    "A=(di[\"Adjacency\"])*(abs(di[\"Adjacency\"])>10**-3)"
   ]
  },
  {
   "cell_type": "code",
   "execution_count": 175,
   "id": "dca29875",
   "metadata": {},
   "outputs": [],
   "source": [
    "L=A_to_L(A)"
   ]
  },
  {
   "cell_type": "code",
   "execution_count": 176,
   "id": "8ee9ea10",
   "metadata": {},
   "outputs": [
    {
     "name": "stdout",
     "output_type": "stream",
     "text": [
      "[-6.86334169e-16  7.18240137e-03  1.47880355e-02  1.72797103e-02\n",
      "  2.48739809e-02  4.07514418e-02  5.04470107e-02  9.72309643e-02\n",
      "  1.58438741e-01  1.74044009e-01]\n"
     ]
    }
   ],
   "source": [
    "print(np.sort(np.linalg.eigh(L)[0])[:10])"
   ]
  },
  {
   "cell_type": "code",
   "execution_count": null,
   "id": "2eadb5b6",
   "metadata": {},
   "outputs": [],
   "source": []
  }
 ],
 "metadata": {
  "kernelspec": {
   "display_name": "Python 3 (ipykernel)",
   "language": "python",
   "name": "python3"
  },
  "language_info": {
   "codemirror_mode": {
    "name": "ipython",
    "version": 3
   },
   "file_extension": ".py",
   "mimetype": "text/x-python",
   "name": "python",
   "nbconvert_exporter": "python",
   "pygments_lexer": "ipython3",
   "version": "3.9.7"
  }
 },
 "nbformat": 4,
 "nbformat_minor": 5
}
